{
  "cells": [
    {
      "cell_type": "markdown",
      "metadata": {
        "id": "1-aRiOgl4nHg"
      },
      "source": [
        "------\n",
        "**You cannot save any changes you make to this file, so please make sure to save it on your Google Colab drive or download it as a .ipynb file.**\n",
        "\n",
        "------\n",
        "\n",
        " "
      ]
    },
    {
      "cell_type": "markdown",
      "metadata": {
        "id": "lIZrAUx57vsM"
      },
      "source": [
        "Practical 1: Sentiment Detection in Movie Reviews\n",
        "========================================\n",
        "\n"
      ]
    },
    {
      "cell_type": "markdown",
      "metadata": {
        "id": "J4kXPMhyngZW"
      },
      "source": [
        "This practical concerns detecting sentiment in movie reviews. This is a typical NLP classification task.\n",
        "In [this file](https://gist.githubusercontent.com/bastings/d47423301cca214e3930061a5a75e177/raw/5113687382919e22b1f09ce71a8fecd1687a5760/reviews.json) (80MB) you will find 1000 positive and 1000 negative **movie reviews**.\n",
        "Each review is a **document** and consists of one or more sentences.\n",
        "\n",
        "To prepare yourself for this practical, you should\n",
        "have a look at a few of these texts to understand the difficulties of\n",
        "the task: how might one go about classifying the texts? You will write\n",
        "code that decides whether a movie review conveys positive or\n",
        "negative sentiment.\n",
        "\n",
        "Please make sure you have read the following paper:\n",
        "\n",
        ">   Bo Pang, Lillian Lee, and Shivakumar Vaithyanathan\n",
        "(2002). \n",
        "[Thumbs up? Sentiment Classification using Machine Learning\n",
        "Techniques](https://dl.acm.org/citation.cfm?id=1118704). EMNLP.\n",
        "\n",
        "Bo Pang et al. introduced the movie review sentiment\n",
        "classification task, and the above paper was one of the first papers on\n",
        "the topic. The first version of your sentiment classifier will do\n",
        "something similar to Pang et al.'s system. If you have questions about it,\n",
        "you should resolve you doubts as soon as possible with your TA.\n"
      ]
    },
    {
      "cell_type": "markdown",
      "metadata": {
        "id": "cb7errgRASzZ"
      },
      "source": [
        "**Advice**\n",
        "\n",
        "Please read through the entire practical and familiarise\n",
        "yourself with all requirements before you start coding or otherwise\n",
        "solving the tasks. Writing clean and concise code can make the difference\n",
        "between solving the assignment in a matter of hours, and taking days to\n",
        "run all experiments.\n",
        "\n",
        "## Environment\n",
        "\n",
        "All code should be written in **Python 3**. \n",
        "This is the default in Google Colab."
      ]
    },
    {
      "cell_type": "code",
      "execution_count": null,
      "metadata": {
        "colab": {
          "background_save": true
        },
        "id": "SaZnxptMJiD7",
        "outputId": "d9051c79-ff9f-406a-d01e-6e5d2aca319c"
      },
      "outputs": [
        {
          "name": "stdout",
          "output_type": "stream",
          "text": [
            "Python 3.7.15\n"
          ]
        }
      ],
      "source": [
        "!python --version"
      ]
    },
    {
      "cell_type": "markdown",
      "metadata": {
        "id": "BYZyIF7lJnGn"
      },
      "source": [
        "If you want to run code on your own computer, then download this notebook through `File -> Download .ipynb`.\n",
        "The easiest way to\n",
        "install Python is through downloading\n",
        "[Anaconda](https://www.anaconda.com/download). \n",
        "After installation, you can start the notebook by typing `jupyter notebook filename.ipynb`.\n",
        "You can also use an IDE\n",
        "such as [PyCharm](https://www.jetbrains.com/pycharm/download/) to make\n",
        "coding and debugging easier. It is good practice to create a [virtual\n",
        "environment](https://docs.python.org/3/tutorial/venv.html) for this\n",
        "project, so that any Python packages don’t interfere with other\n",
        "projects. \n",
        " \n",
        "\n",
        "**Learning Python 3**\n",
        "\n",
        "If you are new to Python 3, you may want to check out a few of these resources:\n",
        "- https://learnxinyminutes.com/docs/python3/\n",
        "- https://www.learnpython.org/\n",
        "- https://docs.python.org/3/tutorial/"
      ]
    },
    {
      "cell_type": "code",
      "execution_count": null,
      "metadata": {
        "colab": {
          "background_save": true
        },
        "id": "hok-BFu9lGoK"
      },
      "outputs": [],
      "source": [
        "import math\n",
        "import os\n",
        "import sys\n",
        "from subprocess import call\n",
        "from nltk import FreqDist\n",
        "from nltk.util import ngrams\n",
        "from nltk.stem.porter import PorterStemmer\n",
        "import sklearn as sk\n",
        "from google.colab import drive\n",
        "import pickle\n",
        "import json\n",
        "from collections import Counter\n",
        "import requests\n",
        "import matplotlib.pyplot as plt\n",
        "import numpy as np"
      ]
    },
    {
      "cell_type": "markdown",
      "metadata": {
        "id": "bXWyGHwE-ieQ"
      },
      "source": [
        "## Loading the data\n",
        "\n",
        "**Download the sentiment lexicon and the movie reviews dataset.**"
      ]
    },
    {
      "cell_type": "code",
      "execution_count": null,
      "metadata": {
        "colab": {
          "background_save": true
        },
        "id": "lm-rakqtlMOT",
        "outputId": "38afb649-ef9c-4c05-b313-b2f78066f8dd"
      },
      "outputs": [
        {
          "name": "stdout",
          "output_type": "stream",
          "text": [
            "--2022-11-16 22:52:16--  https://gist.githubusercontent.com/bastings/d6f99dcb6c82231b94b013031356ba05/raw/f80a0281eba8621b122012c89c8b5e2200b39fd6/sent_lexicon\n",
            "Resolving gist.githubusercontent.com (gist.githubusercontent.com)... 185.199.108.133, 185.199.109.133, 185.199.110.133, ...\n",
            "Connecting to gist.githubusercontent.com (gist.githubusercontent.com)|185.199.108.133|:443... connected.\n",
            "HTTP request sent, awaiting response... 200 OK\n",
            "Length: 662577 (647K) [text/plain]\n",
            "Saving to: ‘sent_lexicon.3’\n",
            "\n",
            "sent_lexicon.3      100%[===================>] 647.05K  --.-KB/s    in 0.005s  \n",
            "\n",
            "2022-11-16 22:52:16 (125 MB/s) - ‘sent_lexicon.3’ saved [662577/662577]\n",
            "\n",
            "--2022-11-16 22:52:17--  https://gist.githubusercontent.com/bastings/d47423301cca214e3930061a5a75e177/raw/5113687382919e22b1f09ce71a8fecd1687a5760/reviews.json\n",
            "Resolving gist.githubusercontent.com (gist.githubusercontent.com)... 185.199.108.133, 185.199.109.133, 185.199.110.133, ...\n",
            "Connecting to gist.githubusercontent.com (gist.githubusercontent.com)|185.199.108.133|:443... connected.\n",
            "HTTP request sent, awaiting response... 200 OK\n",
            "Length: 83503869 (80M) [text/plain]\n",
            "Saving to: ‘reviews.json.3’\n",
            "\n",
            "reviews.json.3      100%[===================>]  79.63M   453MB/s    in 0.2s    \n",
            "\n",
            "2022-11-16 22:52:17 (453 MB/s) - ‘reviews.json.3’ saved [83503869/83503869]\n",
            "\n"
          ]
        }
      ],
      "source": [
        "# download sentiment lexicon\n",
        "!wget https://gist.githubusercontent.com/bastings/d6f99dcb6c82231b94b013031356ba05/raw/f80a0281eba8621b122012c89c8b5e2200b39fd6/sent_lexicon\n",
        "# download review data\n",
        "!wget https://gist.githubusercontent.com/bastings/d47423301cca214e3930061a5a75e177/raw/5113687382919e22b1f09ce71a8fecd1687a5760/reviews.json"
      ]
    },
    {
      "cell_type": "markdown",
      "metadata": {
        "id": "AkPwuHp5LSuQ"
      },
      "source": [
        "**Load the movie reviews.**\n",
        "\n",
        "Each word in a review comes with its part-of-speech tag. For documentation on POS-tags, see https://catalog.ldc.upenn.edu/docs/LDC99T42/tagguid1.pdf.\n"
      ]
    },
    {
      "cell_type": "code",
      "execution_count": null,
      "metadata": {
        "colab": {
          "background_save": true
        },
        "id": "careEKj-mRpl",
        "outputId": "14d7f42e-8028-4034-fb2f-bc056a1b9afa"
      },
      "outputs": [
        {
          "name": "stdout",
          "output_type": "stream",
          "text": [
            "Total number of reviews: 2000 \n",
            "\n",
            "0 NEG 29\n",
            "Two/CD teen/JJ couples/NNS go/VBP to/TO a/DT church/NN party/NN ,/, drink/NN and/CC then/RB drive/NN ./.\n",
            "1 NEG 11\n",
            "Damn/JJ that/IN Y2K/CD bug/NN ./.\n",
            "2 NEG 24\n",
            "It/PRP is/VBZ movies/NNS like/IN these/DT that/WDT make/VBP a/DT jaded/JJ movie/NN viewer/NN thankful/JJ for/IN the/DT invention/NN of/IN the/DT Timex/NNP IndiGlo/NNP watch/NN ./.\n",
            "3 NEG 19\n",
            "QUEST/NN FOR/IN CAMELOT/NNP ``/`` Quest/NNP for/IN Camelot/NNP ''/'' is/VBZ Warner/NNP Bros./NNP '/POS first/JJ feature-length/JJ ,/, fully-animated/JJ attempt/NN to/TO steal/VB clout/NN from/IN Disney/NNP 's/POS cartoon/NN empire/NN ,/, but/CC the/DT mouse/NN has/VBZ no/DT reason/NN to/TO be/VB worried/VBN ./.\n",
            "4 NEG 38\n",
            "Synopsis/NNPS :/: A/DT mentally/RB unstable/JJ man/NN undergoing/VBG psychotherapy/NN saves/VBZ a/DT boy/NN from/IN a/DT potentially/RB fatal/JJ accident/NN and/CC then/RB falls/VBZ in/IN love/NN with/IN the/DT boy/NN 's/POS mother/NN ,/, a/DT fledgling/NN restauranteur/NN ./.\n",
            "\n",
            "Number of word types: 47743\n",
            "Number of word tokens: 1512359\n",
            "\n",
            "Most common tokens:\n",
            "         , :    77842\n",
            "       the :    75948\n",
            "         . :    59027\n",
            "         a :    37583\n",
            "       and :    35235\n",
            "        of :    33864\n",
            "        to :    31601\n",
            "        is :    25972\n",
            "        in :    21563\n",
            "        's :    18043\n",
            "        it :    15904\n",
            "      that :    15820\n",
            "     -rrb- :    11768\n",
            "     -lrb- :    11670\n",
            "        as :    11312\n",
            "      with :    10739\n",
            "       for :     9816\n",
            "       his :     9542\n",
            "      this :     9497\n",
            "      film :     9404\n"
          ]
        }
      ],
      "source": [
        "# file structure:\n",
        "# [\n",
        "#  {\"cv\": integer, \"sentiment\": str, \"content\": list} \n",
        "#  {\"cv\": integer, \"sentiment\": str, \"content\": list} \n",
        "#   ..\n",
        "# ]\n",
        "# where `content` is a list of sentences, \n",
        "# with a sentence being a list of (token, pos_tag) pairs.\n",
        "\n",
        "\n",
        "with open(\"reviews.json\", mode=\"r\", encoding=\"utf-8\") as f:\n",
        "  reviews = json.load(f)\n",
        "  \n",
        "print(\"Total number of reviews:\", len(reviews), '\\n')\n",
        "\n",
        "def print_sentence_with_pos(s):\n",
        "  print(\" \".join(\"%s/%s\" % (token, pos_tag) for token, pos_tag in s))\n",
        "\n",
        "for i, r in enumerate(reviews):\n",
        "  print(r[\"cv\"], r[\"sentiment\"], len(r[\"content\"]))  # cv, sentiment, num sents\n",
        "  print_sentence_with_pos(r[\"content\"][0])\n",
        "  if i == 4: \n",
        "    break\n",
        "    \n",
        "c = Counter()\n",
        "for review in reviews:\n",
        "  for sentence in review[\"content\"]:\n",
        "    for token, pos_tag in sentence:\n",
        "      c[token.lower()] += 1\n",
        "      \n",
        "print(\"\\nNumber of word types:\", len(c))\n",
        "print(\"Number of word tokens:\", sum(c.values()))\n",
        "\n",
        "print(\"\\nMost common tokens:\")\n",
        "for token, count in c.most_common(20):\n",
        "  print(\"%10s : %8d\" % (token, count))\n",
        "  "
      ]
    },
    {
      "cell_type": "markdown",
      "metadata": {
        "id": "E6PWaEoh8B34"
      },
      "source": [
        "#(1) Lexicon-based approach (3.5pts)\n",
        "\n"
      ]
    },
    {
      "cell_type": "markdown",
      "metadata": {
        "id": "JsTSMb6ma4E8"
      },
      "source": [
        "A traditional approach to classify documents according to their sentiment is the lexicon-based approach. To implement this approach, you need a **sentiment lexicon**, i.e., a list of words annotated with a sentiment label (e.g., positive and negative, or a score from 0 to 5).\n",
        "\n",
        "In this practical, you will use the sentiment\n",
        "lexicon released by Wilson et al. (2005).\n",
        "\n",
        "> Theresa Wilson, Janyce Wiebe, and Paul Hoffmann\n",
        "(2005). [Recognizing Contextual Polarity in Phrase-Level Sentiment\n",
        "Analysis](http://www.aclweb.org/anthology/H/H05/H05-1044.pdf). HLT-EMNLP.\n",
        "\n",
        "Pay attention to all the information available in the sentiment lexicon. The field *word1* contains the lemma, *priorpolarity* contains the sentiment label (positive, negative, both, or neutral), *type* gives you the magnitude of the word's sentiment (strong or weak), and *pos1* gives you the part-of-speech tag of the lemma. Some lemmas can have multiple part-of-speech tags and thus multiple entries in the lexicon. The path of the lexicon file is `\"sent_lexicon\"`.\n"
      ]
    },
    {
      "cell_type": "code",
      "execution_count": null,
      "metadata": {
        "colab": {
          "background_save": true
        },
        "id": "Ogq0Eq2hQglh",
        "outputId": "85e48594-cf65-4ec6-b77a-ba1cf4a79a16"
      },
      "outputs": [
        {
          "name": "stdout",
          "output_type": "stream",
          "text": [
            "type=weaksubj len=1 word1=abandoned pos1=adj stemmed1=n priorpolarity=negative\n",
            "type=weaksubj len=1 word1=abandonment pos1=noun stemmed1=n priorpolarity=negative\n",
            "type=weaksubj len=1 word1=abandon pos1=verb stemmed1=y priorpolarity=negative\n",
            "type=strongsubj len=1 word1=abase pos1=verb stemmed1=y priorpolarity=negative\n",
            "type=strongsubj len=1 word1=abasement pos1=anypos stemmed1=y priorpolarity=negative\n"
          ]
        }
      ],
      "source": [
        "with open(\"sent_lexicon\", mode=\"r\", encoding=\"utf-8\") as f:\n",
        "  line_cnt = 0\n",
        "  for line in f:\n",
        "    print(line.strip())\n",
        "    line_cnt += 1\n",
        "    if line_cnt > 4:\n",
        "      break"
      ]
    },
    {
      "cell_type": "markdown",
      "metadata": {
        "id": "Mml4nOtIUBhn"
      },
      "source": [
        "Lexica such as this can be used to solve\n",
        "the classification task without using Machine Learning. For example, one might look up every word $w_1 ... w_n$ in a document, and compute a **binary score**\n",
        "$S_{binary}$ by counting how many words have a positive or a\n",
        "negative label in the sentiment lexicon $SLex$.\n",
        "\n",
        "$$S_{binary}(w_1 w_2 ... w_n) = \\sum_{i = 1}^{n}\\text{sign}(SLex\\big[w_i\\big])$$\n",
        "\n",
        "where $\\text{sign}(SLex\\big[w_i\\big])$ refers to the polarity of $w_i$.\n",
        "\n",
        "**Threshold.** On average, there are more positive than negative words per review (~7.13 more positive than negative per review) to take this bias into account you should use a threshold of **8** (roughly the bias itself) to make it harder to classify as positive.\n",
        "\n",
        "$$\n",
        "\\text{classify}(S_{binary}(w_1 w_2 ... w_n)) = \\bigg\\{\\begin{array}{ll}\n",
        "        \\text{positive} & \\text{if } S_{binary}(w_1w_2...w_n) > threshold\\\\\n",
        "        \\text{negative} & \\text{otherwise}\n",
        "        \\end{array}\n",
        "$$\n"
      ]
    },
    {
      "cell_type": "markdown",
      "metadata": {
        "id": "tOFnMvbeeZrc"
      },
      "source": [
        "#### (Q1.1) Implement this approach and report its classification accuracy. (1 pt)"
      ]
    },
    {
      "cell_type": "code",
      "execution_count": null,
      "metadata": {
        "colab": {
          "background_save": true
        },
        "id": "_zvJTzcN015I"
      },
      "outputs": [],
      "source": [
        "# First reformat the lexicon into an easy to use dictionary containing all the information\n",
        "\n",
        "# In this dictionary the keys are the words and the values are the information such as type and pos1\n",
        "\n",
        "# Import a library that helps us split a string conveniently\n",
        "import re"
      ]
    },
    {
      "cell_type": "code",
      "execution_count": null,
      "metadata": {
        "colab": {
          "background_save": true
        },
        "id": "zXNg5Dqg03Hq",
        "outputId": "13d97d3e-bebd-4c18-d199-f5b5f0258819"
      },
      "outputs": [
        {
          "name": "stdout",
          "output_type": "stream",
          "text": [
            "The lexicon dictionary looks as follows:  {'abandoned': ('weaksubj', '1', 'adj', 'n', 'negative'), 'abandonment': ('weaksubj', '1', 'noun', 'n', 'negative'), 'abandon': ('weaksubj', '1', 'verb', 'y', 'negative'), 'abase': ('strongsubj', '1', 'verb', 'y', 'negative'), 'abasement': ('strongsubj', '1', 'anypos', 'y', 'negative'), 'abash': ('strongsubj', '1', 'verb', 'y', 'negative'), 'abate': ('weaksubj', '1', 'verb', 'y', 'negative'), 'abdicate': ('weaksubj', '1', 'verb', 'y', 'negative'), 'aberration': ('strongsubj', '1', 'noun', 'n', 'negative'), 'abhor': ('strongsubj', '1', 'verb', 'y', 'negative'), 'abhorred': ('strongsubj', '1', 'adj', 'n', 'negative'), 'abhorrence': ('strongsubj', '1', 'noun', 'n', 'negative'), 'abhorrent': ('strongsubj', '1', 'adj', 'n', 'negative'), 'abhorrently': ('strongsubj', '1', 'anypos', 'n', 'negative'), 'abhors': ('strongsubj', '1', 'noun', 'n', 'negative'), 'abidance': ('strongsubj', '1', 'noun', 'n', 'positive'), 'abide': ('strongsubj', '1', 'anypos', 'y', 'positive'), 'abject': ('strongsubj', '1', 'adj', 'n', 'negative'), 'abjectly': ('strongsubj', '1', 'adverb', 'n', 'negative'), 'abjure': ('weaksubj', '1', 'verb', 'y', 'negative'), 'abilities': ('weaksubj', '1', 'noun', 'n', 'positive'), 'ability': ('weaksubj', '1', 'noun', 'n', 'positive'), 'able': ('weaksubj', '1', 'adj', 'n', 'positive'), 'abnormal': ('weaksubj', '1', 'adj', 'n', 'negative'), 'abolish': ('weaksubj', '1', 'verb', 'y', 'negative'), 'abominable': ('strongsubj', '1', 'adj', 'n', 'negative'), 'abominably': ('strongsubj', '1', 'anypos', 'n', 'negative'), 'abominate': ('strongsubj', '1', 'verb', 'y', 'negative'), 'abomination': ('strongsubj', '1', 'noun', 'n', 'negative'), 'above': ('weaksubj', '1', 'anypos', 'n', 'positive'), 'above-average': ('weaksubj', '1', 'adj', 'n', 'positive'), 'abound': ('weaksubj', '1', 'verb', 'y', 'positive'), 'abrade': ('weaksubj', '1', 'verb', 'y', 'negative'), 'abrasive': ('strongsubj', '1', 'adj', 'n', 'negative'), 'abrupt': ('weaksubj', '1', 'adj', 'n', 'negative'), 'abscond': ('strongsubj', '1', 'verb', 'y', 'negative'), 'absence': ('weaksubj', '1', 'noun', 'n', 'negative'), 'absentee': ('weaksubj', '1', 'anypos', 'y', 'negative'), 'absent-minded': ('strongsubj', '1', 'adj', 'n', 'negative'), 'absolve': ('strongsubj', '1', 'verb', 'y', 'positive'), 'absolute': ('strongsubj', '1', 'adj', 'n', 'neutral'), 'absolutely': ('strongsubj', '1', 'adj', 'n', 'neutral'), 'absorbed': ('weaksubj', '1', 'verb', 'n', 'neutral'), 'absurd': ('strongsubj', '1', 'adj', 'n', 'negative'), 'absurdity': ('strongsubj', '1', 'noun', 'n', 'negative'), 'absurdly': ('strongsubj', '1', 'anypos', 'n', 'negative'), 'absurdness': ('strongsubj', '1', 'noun', 'n', 'negative'), 'abundant': ('weaksubj', '1', 'adj', 'n', 'positive'), 'abundance': ('weaksubj', '1', 'noun', 'n', 'positive'), 'abuse': ('strongsubj', '1', 'verb', 'y', 'negative'), 'abuses': ('weaksubj', '1', 'noun', 'n', 'negative'), 'abusive': ('strongsubj', '1', 'adj', 'n', 'negative'), 'abysmal': ('strongsubj', '1', 'adj', 'n', 'negative'), 'abysmally': ('strongsubj', '1', 'anypos', 'n', 'negative'), 'abyss': ('strongsubj', '1', 'noun', 'n', 'negative'), 'accede': ('strongsubj', '1', 'verb', 'y', 'positive'), 'accentuate': ('strongsubj', '1', 'verb', 'y', 'neutral'), 'accept': ('weaksubj', '1', 'verb', 'y', 'positive'), 'acceptance': ('weaksubj', '1', 'noun', 'n', 'positive'), 'acceptable': ('weaksubj', '1', 'adj', 'n', 'positive'), 'accessible': ('weaksubj', '1', 'adj', 'n', 'positive'), 'accidental': ('weaksubj', '1', 'adj', 'n', 'negative'), 'acclaim': ('strongsubj', '1', 'verb', 'y', 'positive'), 'acclaimed': ('strongsubj', '1', 'adj', 'n', 'positive'), 'acclamation': ('strongsubj', '1', 'anypos', 'y', 'positive'), 'accolade': ('strongsubj', '1', 'noun', 'n', 'positive'), 'accolades': ('strongsubj', '1', 'noun', 'n', 'positive'), 'accommodative': ('weaksubj', '1', 'adj', 'n', 'positive'), 'accomplish': ('weaksubj', '1', 'verb', 'y', 'positive'), 'accomplishment': ('weaksubj', '1', 'noun', 'n', 'positive'), 'accomplishments': ('weaksubj', '1', 'noun', 'n', 'positive'), 'accord': ('weaksubj', '1', 'verb', 'y', 'positive'), 'accordance': ('weaksubj', '1', 'noun', 'n', 'positive'), 'accordantly': ('weaksubj', '1', 'adverb', 'n', 'positive'), 'accost': ('weaksubj', '1', 'verb', 'y', 'negative'), 'accountable': ('weaksubj', '1', 'adj', 'n', 'negative'), 'accurate': ('weaksubj', '1', 'adj', 'n', 'positive'), 'accurately': ('weaksubj', '1', 'adj', 'n', 'positive'), 'accursed': ('strongsubj', '1', 'adj', 'n', 'negative'), 'accusation': ('strongsubj', '1', 'noun', 'n', 'negative'), 'accusations': ('strongsubj', '1', 'noun', 'n', 'negative'), 'accuse': ('strongsubj', '1', 'verb', 'y', 'negative'), 'accuses': ('strongsubj', '1', 'verb', 'n', 'negative'), 'accusing': ('strongsubj', '1', 'anypos', 'n', 'negative'), 'accusingly': ('strongsubj', '1', 'anypos', 'n', 'negative'), 'acerbate': ('strongsubj', '1', 'verb', 'y', 'negative'), 'acerbic': ('strongsubj', '1', 'adj', 'n', 'negative'), 'acerbically': ('strongsubj', '1', 'adverb', 'n', 'negative'), 'ache': ('strongsubj', '1', 'verb', 'y', 'negative'), 'achievable': ('weaksubj', '1', 'adj', 'n', 'positive'), 'achieve': ('weaksubj', '1', 'verb', 'y', 'positive'), 'achievement': ('weaksubj', '1', 'anypos', 'n', 'positive'), 'achievements': ('weaksubj', '1', 'anypos', 'n', 'positive'), 'acknowledge': ('weaksubj', '1', 'verb', 'y', 'positive'), 'acknowledgement': ('weaksubj', '1', 'noun', 'n', 'positive'), 'acquit': ('weaksubj', '1', 'verb', 'y', 'positive'), 'acrid': ('strongsubj', '1', 'adj', 'n', 'negative'), 'acridly': ('strongsubj', '1', 'anypos', 'n', 'negative'), 'acridness': ('strongsubj', '1', 'noun', 'n', 'negative'), 'acrimonious': ('strongsubj', '1', 'adj', 'n', 'negative'), 'acrimoniously': ('strongsubj', '1', 'anypos', 'n', 'negative'), 'acrimony': ('strongsubj', '1', 'noun', 'n', 'negative'), 'active': ('weaksubj', '1', 'adj', 'n', 'positive'), 'activist': ('strongsubj', '1', 'noun', 'n', 'neutral'), 'actual': ('strongsubj', '1', 'anypos', 'n', 'neutral'), 'actuality': ('strongsubj', '1', 'anypos', 'n', 'neutral'), 'actually': ('strongsubj', '1', 'anypos', 'n', 'neutral'), 'acumen': ('strongsubj', '1', 'noun', 'n', 'positive'), 'adamant': ('strongsubj', '1', 'adj', 'n', 'negative'), 'adamantly': ('strongsubj', '1', 'anypos', 'n', 'negative'), 'adaptable': ('weaksubj', '1', 'adj', 'n', 'positive'), 'adaptability': ('weaksubj', '1', 'noun', 'n', 'positive'), 'adaptive': ('weaksubj', '1', 'adj', 'n', 'positive'), 'addict': ('weaksubj', '1', 'noun', 'n', 'negative'), 'addiction': ('weaksubj', '1', 'noun', 'n', 'negative'), 'adept': ('weaksubj', '1', 'adj', 'n', 'positive'), 'adeptly': ('weaksubj', '1', 'adverb', 'n', 'positive'), 'adequate': ('weaksubj', '1', 'adj', 'n', 'positive'), 'adherence': ('weaksubj', '1', 'noun', 'n', 'positive'), 'adherent': ('weaksubj', '1', 'adj', 'n', 'positive'), 'adhesion': ('weaksubj', '1', 'noun', 'n', 'positive'), 'admirable': ('strongsubj', '1', 'anypos', 'n', 'positive'), 'admirer': ('strongsubj', '1', 'noun', 'n', 'positive'), 'admirably': ('strongsubj', '1', 'anypos', 'n', 'positive'), 'admiration': ('strongsubj', '1', 'noun', 'n', 'positive'), 'admire': ('strongsubj', '1', 'verb', 'y', 'positive'), 'admiring': ('strongsubj', '1', 'adj', 'n', 'positive'), 'admiringly': ('strongsubj', '1', 'adj', 'n', 'positive'), 'admission': ('weaksubj', '1', 'noun', 'n', 'positive'), 'admit': ('strongsubj', '1', 'verb', 'y', 'positive'), 'admittedly': ('strongsubj', '1', 'anypos', 'y', 'positive'), 'admonish': ('strongsubj', '1', 'verb', 'y', 'negative'), 'admonisher': ('strongsubj', '1', 'anypos', 'y', 'negative'), 'admonishingly': ('strongsubj', '1', 'anypos', 'y', 'negative'), 'admonishment': ('strongsubj', '1', 'anypos', 'y', 'negative'), 'admonition': ('strongsubj', '1', 'noun', 'n', 'negative'), 'adolescents': ('strongsubj', '1', 'noun', 'n', 'neutral'), 'adorable': ('strongsubj', '1', 'adj', 'n', 'positive'), 'adore': ('strongsubj', '1', 'verb', 'y', 'positive'), 'adored': ('strongsubj', '1', 'adj', 'n', 'positive'), 'adorer': ('strongsubj', '1', 'noun', 'n', 'positive'), 'adoring': ('strongsubj', '1', 'adj', 'n', 'positive'), 'adoringly': ('strongsubj', '1', 'anypos', 'n', 'positive'), 'adrift': ('weaksubj', '1', 'anypos', 'n', 'negative'), 'adroit': ('strongsubj', '1', 'adj', 'n', 'positive'), 'adroitly': ('strongsubj', '1', 'adj', 'n', 'positive'), 'adulate': ('strongsubj', '1', 'verb', 'y', 'positive'), 'adulation': ('strongsubj', '1', 'anypos', 'y', 'positive'), 'adulatory': ('strongsubj', '1', 'adj', 'n', 'positive'), 'adulterate': ('strongsubj', '1', 'verb', 'y', 'negative'), 'adulterated': ('strongsubj', '1', 'anypos', 'n', 'negative'), 'adulteration': ('strongsubj', '1', 'noun', 'n', 'negative'), 'advanced': ('weaksubj', '1', 'adj', 'n', 'positive'), 'advantage': ('weaksubj', '1', 'noun', 'n', 'positive'), 'advantageous': ('strongsubj', '1', 'adj', 'n', 'positive'), 'advantages': ('weaksubj', '1', 'noun', 'n', 'positive'), 'adventure': ('weaksubj', '1', 'noun', 'n', 'positive'), 'adventuresome': ('strongsubj', '1', 'noun', 'n', 'positive'), 'adventurism': ('strongsubj', '1', 'noun', 'n', 'positive'), 'adventurous': ('weaksubj', '1', 'adj', 'n', 'positive'), 'adversarial': ('weaksubj', '1', 'adj', 'n', 'negative'), 'adversary': ('weaksubj', '1', 'noun', 'y', 'negative'), 'adverse': ('weaksubj', '1', 'adj', 'n', 'negative'), 'adversity': ('strongsubj', '1', 'noun', 'n', 'negative'), 'advice': ('weaksubj', '1', 'noun', 'n', 'positive'), 'advisable': ('weaksubj', '1', 'noun', 'n', 'positive'), 'advocate': ('strongsubj', '1', 'verb', 'y', 'positive'), 'advocacy': ('strongsubj', '1', 'noun', 'n', 'positive'), 'affable': ('strongsubj', '1', 'adj', 'n', 'positive'), 'affability': ('weaksubj', '1', 'noun', 'n', 'positive'), 'affably': ('weaksubj', '1', 'adverb', 'n', 'positive'), 'affect': ('weaksubj', '1', 'verb', 'y', 'neutral'), 'affectation': ('weaksubj', '1', 'noun', 'n', 'negative'), 'affected': ('strongsubj', '1', 'adj', 'n', 'neutral'), 'affection': ('strongsubj', '1', 'noun', 'n', 'positive'), 'affectionate': ('strongsubj', '1', 'adj', 'n', 'positive'), 'affinity': ('weaksubj', '1', 'noun', 'n', 'positive'), 'affirm': ('strongsubj', '1', 'verb', 'y', 'positive'), 'affirmation': ('strongsubj', '1', 'noun', 'n', 'positive'), 'affirmative': ('weaksubj', '1', 'noun', 'n', 'positive'), 'afflict': ('weaksubj', '1', 'verb', 'y', 'negative'), 'affliction': ('weaksubj', '1', 'noun', 'n', 'negative'), 'afflictive': ('strongsubj', '1', 'adj', 'n', 'negative'), 'affluent': ('weaksubj', '1', 'adj', 'n', 'positive'), 'affluence': ('weaksubj', '1', 'noun', 'n', 'positive'), 'afford': ('weaksubj', '1', 'verb', 'y', 'positive'), 'affordable': ('weaksubj', '1', 'adj', 'n', 'positive'), 'affront': ('strongsubj', '1', 'verb', 'y', 'negative'), 'afloat': ('weaksubj', '1', 'adj', 'n', 'positive'), 'afraid': ('strongsubj', '1', 'adj', 'n', 'negative'), 'against': ('weaksubj', '1', 'anypos', 'n', 'negative'), 'aggravate': ('strongsubj', '1', 'verb', 'y', 'negative'), 'aggravating': ('strongsubj', '1', 'adj', 'n', 'negative'), 'aggravation': ('strongsubj', '1', 'noun', 'n', 'negative'), 'aggression': ('strongsubj', '1', 'noun', 'n', 'negative'), 'aggressive': ('strongsubj', '1', 'anypos', 'y', 'negative'), 'aggressiveness': ('strongsubj', '1', 'noun', 'n', 'negative'), 'aggressor': ('strongsubj', '1', 'noun', 'n', 'negative'), 'aggrieve': ('strongsubj', '1', 'verb', 'y', 'negative'), 'aggrieved': ('strongsubj', '1', 'adj', 'n', 'negative'), 'aghast': ('strongsubj', '1', 'adj', 'n', 'negative'), 'agile': ('weaksubj', '1', 'adj', 'n', 'positive'), 'agilely': ('weaksubj', '1', 'adverb', 'n', 'positive'), 'agility': ('weaksubj', '1', 'noun', 'n', 'positive'), 'agitate': ('strongsubj', '1', 'verb', 'y', 'negative'), 'agitated': ('strongsubj', '1', 'adj', 'n', 'negative'), 'agitation': ('strongsubj', '1', 'noun', 'n', 'negative'), 'agitator': ('strongsubj', '1', 'noun', 'n', 'negative'), 'agonies': ('strongsubj', '1', 'noun', 'n', 'negative'), 'agonize': ('strongsubj', '1', 'verb', 'y', 'negative'), 'agonizing': ('strongsubj', '1', 'anypos', 'y', 'negative'), 'agonizingly': ('strongsubj', '1', 'anypos', 'n', 'negative'), 'agony': ('strongsubj', '1', 'noun', 'n', 'negative'), 'agree': ('strongsubj', '1', 'verb', 'y', 'positive'), 'agreeability': ('strongsubj', '1', 'anypos', 'y', 'positive'), 'agreeable': ('strongsubj', '1', 'anypos', 'y', 'positive'), 'agreeableness': ('strongsubj', '1', 'anypos', 'y', 'positive'), 'agreeably': ('strongsubj', '1', 'anypos', 'y', 'positive'), 'agreement': ('weaksubj', '1', 'noun', 'n', 'positive'), 'aha': ('strongsubj', '1', 'anypos', 'y', 'neutral'), 'ail': ('weaksubj', '1', 'verb', 'y', 'negative'), 'ailment': ('weaksubj', '1', 'noun', 'n', 'negative'), 'aimless': ('strongsubj', '1', 'adj', 'n', 'negative'), 'air': ('strongsubj', '1', 'verb', 'y', 'neutral'), 'airs': ('weaksubj', '1', 'noun', 'n', 'negative'), 'alarm': ('weaksubj', '1', 'verb', 'y', 'negative'), 'alarmed': ('strongsubj', '1', 'adj', 'n', 'negative'), 'alarming': ('strongsubj', '1', 'adj', 'n', 'negative'), 'alarmingly': ('strongsubj', '1', 'anypos', 'n', 'negative'), 'alas': ('strongsubj', '1', 'anypos', 'y', 'negative'), 'alert': ('weaksubj', '1', 'adj', 'n', 'neutral'), 'alienate': ('weaksubj', '1', 'verb', 'y', 'negative'), 'alienated': ('weaksubj', '1', 'adj', 'n', 'negative'), 'alienation': ('weaksubj', '1', 'noun', 'n', 'negative'), 'all-time': ('weaksubj', '1', 'noun', 'n', 'neutral'), 'allay': ('strongsubj', '1', 'verb', 'y', 'positive'), 'allegation': ('strongsubj', '1', 'anypos', 'n', 'negative'), 'allegations': ('strongsubj', '1', 'noun', 'n', 'negative'), 'allege': ('weaksubj', '1', 'verb', 'n', 'negative'), 'allegorize': ('strongsubj', '1', 'verb', 'y', 'neutral'), 'allergic': ('weaksubj', '1', 'adj', 'n', 'negative'), 'alleviate': ('weaksubj', '1', 'verb', 'y', 'positive'), 'alliance': ('strongsubj', '1', 'anypos', 'n', 'neutral'), 'alliances': ('strongsubj', '1', 'noun', 'n', 'neutral'), 'allow': ('weaksubj', '1', 'verb', 'y', 'positive'), 'allowable': ('weaksubj', '1', 'adj', 'n', 'positive'), 'allure': ('strongsubj', '1', 'noun', 'n', 'positive'), 'alluring': ('strongsubj', '1', 'anypos', 'n', 'positive'), 'alluringly': ('strongsubj', '1', 'anypos', 'n', 'positive'), 'allusion': ('strongsubj', '1', 'noun', 'n', 'neutral'), 'allusions': ('strongsubj', '1', 'anypos', 'n', 'neutral'), 'ally': ('strongsubj', '1', 'noun', 'y', 'positive'), 'almighty': ('strongsubj', '1', 'adj', 'n', 'positive'), 'aloof': ('strongsubj', '1', 'adj', 'n', 'negative'), 'altercation': ('weaksubj', '1', 'noun', 'n', 'negative'), 'although': ('weaksubj', '1', 'anypos', 'y', 'negative'), 'altogether': ('strongsubj', '1', 'anypos', 'n', 'neutral'), 'altruist': ('strongsubj', '1', 'noun', 'n', 'positive'), 'altruistic': ('strongsubj', '1', 'adj', 'n', 'positive'), 'altruistically': ('strongsubj', '1', 'adj', 'n', 'positive'), 'amaze': ('strongsubj', '1', 'verb', 'y', 'positive'), 'amazed': ('strongsubj', '1', 'adj', 'n', 'positive'), 'amazement': ('strongsubj', '1', 'noun', 'n', 'positive'), 'amazing': ('strongsubj', '1', 'anypos', 'y', 'positive'), 'amazingly': ('strongsubj', '1', 'anypos', 'n', 'positive'), 'ambiguous': ('strongsubj', '1', 'adj', 'n', 'negative'), 'ambiguity': ('strongsubj', '1', 'noun', 'n', 'negative'), 'ambitious': ('weaksubj', '1', 'noun', 'n', 'positive'), 'ambitiously': ('weaksubj', '1', 'anypos', 'y', 'positive'), 'ambivalence': ('strongsubj', '1', 'anypos', 'y', 'negative'), 'ambivalent': ('strongsubj', '1', 'noun', 'n', 'negative'), 'ambush': ('weaksubj', '1', 'verb', 'y', 'negative'), 'ameliorate': ('strongsubj', '1', 'verb', 'y', 'positive'), 'amenable': ('strongsubj', '1', 'adj', 'n', 'positive'), 'amenity': ('weaksubj', '1', 'noun', 'n', 'positive'), 'amiability': ('strongsubj', '1', 'noun', 'n', 'positive'), 'amiabily': ('strongsubj', '1', 'adverb', 'n', 'positive'), 'amiable': ('strongsubj', '1', 'adj', 'n', 'positive'), 'amicability': ('strongsubj', '1', 'noun', 'n', 'positive'), 'amicable': ('strongsubj', '1', 'adj', 'n', 'positive'), 'amicably': ('strongsubj', '1', 'adverb', 'n', 'positive'), 'amiss': ('strongsubj', '1', 'anypos', 'n', 'negative'), 'amity': ('weaksubj', '1', 'noun', 'n', 'positive'), 'amnesty': ('weaksubj', '1', 'noun', 'n', 'positive'), 'amour': ('strongsubj', '1', 'noun', 'n', 'positive'), 'ample': ('weaksubj', '1', 'adj', 'n', 'positive'), 'amply': ('weaksubj', '1', 'adverb', 'n', 'positive'), 'amplify': ('weaksubj', '1', 'verb', 'y', 'neutral'), 'amputate': ('weaksubj', '1', 'verb', 'y', 'negative'), 'amuse': ('strongsubj', '1', 'verb', 'y', 'positive'), 'amusement': ('strongsubj', '1', 'noun', 'n', 'positive'), 'amusing': ('strongsubj', '1', 'anypos', 'y', 'positive'), 'amusingly': ('strongsubj', '1', 'anypos', 'y', 'positive'), 'analytical': ('weaksubj', '1', 'adj', 'n', 'neutral'), 'anarchism': ('strongsubj', '1', 'noun', 'n', 'negative'), 'anarchist': ('strongsubj', '1', 'noun', 'n', 'negative'), 'anarchistic': ('strongsubj', '1', 'adj', 'n', 'negative'), 'anarchy': ('strongsubj', '1', 'noun', 'n', 'negative'), 'anemic': ('weaksubj', '1', 'adj', 'n', 'negative'), 'angel': ('weaksubj', '1', 'noun', 'n', 'positive'), 'angelic': ('strongsubj', '1', 'adj', 'n', 'positive'), 'anger': ('strongsubj', '1', 'verb', 'y', 'negative'), 'angrily': ('strongsubj', '1', 'anypos', 'y', 'negative'), 'angriness': ('strongsubj', '1', 'anypos', 'y', 'negative'), 'angry': ('strongsubj', '1', 'adj', 'n', 'negative'), 'anguish': ('strongsubj', '1', 'verb', 'y', 'negative'), 'annihilate': ('strongsubj', '1', 'verb', 'y', 'negative'), 'annihilation': ('strongsubj', '1', 'noun', 'n', 'negative'), 'animated': ('weaksubj', '1', 'adj', 'n', 'positive'), 'animosity': ('strongsubj', '1', 'noun', 'n', 'negative'), 'annoy': ('strongsubj', '1', 'verb', 'y', 'negative'), 'annoyance': ('strongsubj', '1', 'noun', 'n', 'negative'), 'annoyed': ('strongsubj', '1', 'adj', 'n', 'negative'), 'annoying': ('strongsubj', '1', 'anypos', 'y', 'negative'), 'annoyingly': ('strongsubj', '1', 'anypos', 'n', 'negative'), 'anomalous': ('weaksubj', '1', 'adj', 'n', 'negative'), 'anomaly': ('weaksubj', '1', 'noun', 'n', 'negative'), 'antagonism': ('strongsubj', '1', 'noun', 'n', 'negative'), 'antagonist': ('weaksubj', '1', 'noun', 'n', 'negative'), 'antagonistic': ('strongsubj', '1', 'adj', 'n', 'negative'), 'antagonize': ('strongsubj', '1', 'verb', 'y', 'negative'), 'anti-': ('strongsubj', '1', 'noun', 'n', 'negative'), 'anti-American': ('strongsubj', '1', 'noun', 'n', 'negative'), 'anti-Israeli': ('strongsubj', '1', 'noun', 'n', 'negative'), 'anti-Semites': ('strongsubj', '1', 'noun', 'n', 'negative'), 'anti-US': ('strongsubj', '1', 'noun', 'n', 'negative'), 'anti-occupation': ('strongsubj', '1', 'noun', 'n', 'negative'), 'anti-proliferation': ('strongsubj', '1', 'noun', 'n', 'negative'), 'anti-social': ('strongsubj', '1', 'adj', 'n', 'negative'), 'anti-white': ('strongsubj', '1', 'noun', 'n', 'negative'), 'antipathy': ('strongsubj', '1', 'noun', 'n', 'negative'), 'antiquated': ('strongsubj', '1', 'adj', 'n', 'negative'), 'antithetical': ('strongsubj', '1', 'noun', 'n', 'negative'), 'anxieties': ('strongsubj', '1', 'noun', 'n', 'negative'), 'anxiety': ('strongsubj', '1', 'noun', 'n', 'negative'), 'anxious': ('strongsubj', '1', 'anypos', 'n', 'negative'), 'anxiously': ('strongsubj', '1', 'anypos', 'n', 'negative'), 'anxiousness': ('strongsubj', '1', 'noun', 'n', 'negative'), 'anyhow': ('strongsubj', '1', 'anypos', 'y', 'neutral'), 'anyway': ('strongsubj', '1', 'anypos', 'y', 'neutral'), 'anyways': ('strongsubj', '1', 'anypos', 'y', 'neutral'), 'apathetic': ('strongsubj', '1', 'noun', 'n', 'negative'), 'apathetically': ('strongsubj', '1', 'adverb', 'n', 'negative'), 'apathy': ('strongsubj', '1', 'noun', 'n', 'negative'), 'ape': ('strongsubj', '1', 'verb', 'y', 'negative'), 'apocalypse': ('strongsubj', '1', 'noun', 'n', 'negative'), 'apocalyptic': ('strongsubj', '1', 'adj', 'n', 'negative'), 'apologist': ('strongsubj', '1', 'noun', 'n', 'negative'), 'apologists': ('strongsubj', '1', 'noun', 'n', 'negative'), 'apostle': ('strongsubj', '1', 'noun', 'n', 'positive'), 'apotheosis': ('strongsubj', '1', 'noun', 'n', 'positive'), 'appal': ('strongsubj', '1', 'verb', 'y', 'negative'), 'appall': ('strongsubj', '1', 'verb', 'y', 'negative'), 'appalled': ('strongsubj', '1', 'adj', 'n', 'negative'), 'appalling': ('strongsubj', '1', 'adj', 'n', 'negative'), 'appallingly': ('strongsubj', '1', 'anypos', 'n', 'negative'), 'apparent': ('weaksubj', '1', 'anypos', 'y', 'neutral'), 'apparently': ('weaksubj', '1', 'anypos', 'y', 'neutral'), 'appeal': ('weaksubj', '1', 'verb', 'y', 'positive'), 'appealing': ('strongsubj', '1', 'adj', 'n', 'positive'), 'appear': ('weaksubj', '1', 'anypos', 'y', 'neutral'), 'appearance': ('weaksubj', '1', 'noun', 'n', 'neutral'), 'appease': ('weaksubj', '1', 'verb', 'y', 'positive'), 'applaud': ('strongsubj', '1', 'verb', 'y', 'positive'), 'appreciable': ('weaksubj', '1', 'adj', 'n', 'positive'), 'appreciate': ('strongsubj', '1', 'verb', 'y', 'positive'), 'appreciation': ('strongsubj', '1', 'noun', 'n', 'positive'), 'appreciative': ('strongsubj', '1', 'anypos', 'n', 'positive'), 'appreciatively': ('strongsubj', '1', 'anypos', 'y', 'positive'), 'appreciativeness': ('strongsubj', '1', 'anypos', 'y', 'positive'), 'apprehend': ('weaksubj', '1', 'verb', 'y', 'neutral'), 'apprehension': ('strongsubj', '1', 'noun', 'n', 'negative'), 'apprehensions': ('strongsubj', '1', 'noun', 'n', 'negative'), 'apprehensive': ('strongsubj', '1', 'noun', 'n', 'negative'), 'apprehensively': ('strongsubj', '1', 'anypos', 'y', 'negative'), 'appropriate': ('weaksubj', '1', 'adj', 'n', 'positive'), 'approval': ('weaksubj', '1', 'noun', 'n', 'positive'), 'approve': ('weaksubj', '1', 'verb', 'y', 'positive'), 'apt': ('weaksubj', '1', 'adj', 'n', 'positive'), 'aptly': ('weaksubj', '1', 'adverb', 'n', 'positive'), 'aptitude': ('weaksubj', '1', 'noun', 'n', 'positive'), 'arbitrary': ('strongsubj', '1', 'adj', 'n', 'negative'), 'arcane': ('strongsubj', '1', 'adj', 'n', 'negative'), 'archaic': ('strongsubj', '1', 'adj', 'n', 'negative'), 'ardent': ('strongsubj', '1', 'adj', 'n', 'positive'), 'ardently': ('strongsubj', '1', 'anypos', 'n', 'positive'), 'ardor': ('strongsubj', '1', 'noun', 'n', 'positive'), 'arduous': ('strongsubj', '1', 'adj', 'n', 'negative'), 'arduously': ('strongsubj', '1', 'anypos', 'n', 'negative'), 'aristocratic': ('weaksubj', '1', 'adj', 'n', 'positive'), 'argue': ('strongsubj', '1', 'verb', 'y', 'negative'), 'argument': ('weaksubj', '1', 'noun', 'n', 'negative'), 'argumentative': ('strongsubj', '1', 'anypos', 'y', 'negative'), 'arguments': ('weaksubj', '1', 'noun', 'n', 'negative'), 'arousal': ('strongsubj', '1', 'anypos', 'y', 'positive'), 'arouse': ('strongsubj', '1', 'verb', 'y', 'positive'), 'arousing': ('strongsubj', '1', 'anypos', 'y', 'positive'), 'arresting': ('strongsubj', '1', 'adj', 'n', 'positive'), 'arrogance': ('strongsubj', '1', 'noun', 'n', 'negative'), 'arrogant': ('strongsubj', '1', 'anypos', 'y', 'negative'), 'arrogantly': ('strongsubj', '1', 'anypos', 'y', 'negative'), 'articulate': ('strongsubj', '1', 'adj', 'n', 'positive'), 'artificial': ('weaksubj', '1', 'adj', 'n', 'negative'), 'ascendant': ('strongsubj', '1', 'noun', 'n', 'positive'), 'ascertainable': ('strongsubj', '1', 'noun', 'n', 'positive'), 'ashamed': ('strongsubj', '1', 'adj', 'n', 'negative'), 'asinine': ('strongsubj', '1', 'adj', 'n', 'negative'), 'asininely': ('strongsubj', '1', 'adverb', 'n', 'negative'), 'asinininity': ('strongsubj', '1', 'noun', 'n', 'negative'), 'askance': ('strongsubj', '1', 'adverb', 'n', 'negative'), 'asperse': ('strongsubj', '1', 'verb', 'y', 'negative'), 'aspersion': ('strongsubj', '1', 'noun', 'n', 'negative'), 'aspersions': ('strongsubj', '1', 'noun', 'n', 'negative'), 'aspiration': ('strongsubj', '1', 'noun', 'n', 'positive'), 'aspirations': ('strongsubj', '1', 'noun', 'n', 'positive'), 'aspire': ('strongsubj', '1', 'verb', 'y', 'positive'), 'assail': ('weaksubj', '1', 'verb', 'y', 'negative'), 'assassinate': ('weaksubj', '1', 'verb', 'y', 'negative'), 'assassin': ('strongsubj', '1', 'noun', 'n', 'negative'), 'assault': ('weaksubj', '1', 'noun', 'n', 'negative'), 'assent': ('strongsubj', '1', 'verb', 'y', 'positive'), 'assertions': ('strongsubj', '1', 'noun', 'n', 'positive'), 'assertive': ('weaksubj', '1', 'adj', 'n', 'positive'), 'assess': ('strongsubj', '1', 'verb', 'y', 'neutral'), 'assessment': ('weaksubj', '1', 'noun', 'n', 'neutral'), 'assessments': ('weaksubj', '1', 'noun', 'n', 'neutral'), 'asset': ('weaksubj', '1', 'noun', 'n', 'positive'), 'assiduous': ('strongsubj', '1', 'adj', 'n', 'positive'), 'assiduously': ('strongsubj', '1', 'adverb', 'n', 'positive'), 'assuage': ('weaksubj', '1', 'verb', 'y', 'positive'), 'assumption': ('weaksubj', '1', 'noun', 'n', 'neutral'), 'assurance': ('weaksubj', '1', 'noun', 'n', 'positive'), 'assurances': ('weaksubj', '1', 'noun', 'n', 'positive'), 'assure': ('strongsubj', '1', 'verb', 'y', 'positive'), 'assuredly': ('strongsubj', '1', 'anypos', 'n', 'positive'), 'astonish': ('strongsubj', '1', 'verb', 'y', 'positive'), 'astonished': ('strongsubj', '1', 'adj', 'n', 'positive'), 'astonishing': ('strongsubj', '1', 'anypos', 'y', 'positive'), 'astonishingly': ('strongsubj', '1', 'anypos', 'n', 'positive'), 'astonishment': ('strongsubj', '1', 'noun', 'n', 'positive'), 'astound': ('strongsubj', '1', 'verb', 'y', 'positive'), 'astounded': ('strongsubj', '1', 'adj', 'n', 'positive'), 'astounding': ('strongsubj', '1', 'anypos', 'y', 'positive'), 'astoundingly': ('strongsubj', '1', 'anypos', 'n', 'positive'), 'astray': ('weaksubj', '1', 'adj', 'n', 'negative'), 'astronomic': ('strongsubj', '1', 'adj', 'n', 'neutral'), 'astronomical': ('strongsubj', '1', 'adj', 'n', 'neutral'), 'astronomically': ('strongsubj', '1', 'anypos', 'n', 'neutral'), 'astute': ('strongsubj', '1', 'adj', 'n', 'positive'), 'astutely': ('strongsubj', '1', 'adverb', 'n', 'positive'), 'asunder': ('strongsubj', '1', 'anypos', 'n', 'negative'), 'asylum': ('weaksubj', '1', 'noun', 'n', 'positive'), 'atrocious': ('strongsubj', '1', 'adj', 'n', 'negative'), 'atrocities': ('strongsubj', '1', 'noun', 'n', 'negative'), 'atrocity': ('strongsubj', '1', 'noun', 'n', 'negative'), 'atrophy': ('strongsubj', '1', 'verb', 'y', 'negative'), 'attack': ('weaksubj', '1', 'verb', 'y', 'negative'), 'attain': ('weaksubj', '1', 'verb', 'y', 'positive'), 'attainable': ('weaksubj', '1', 'adj', 'n', 'positive'), 'attentive': ('strongsubj', '1', 'adj', 'n', 'positive'), 'attest': ('strongsubj', '1', 'verb', 'y', 'positive'), 'attitude': ('strongsubj', '1', 'noun', 'n', 'neutral'), 'attitudes': ('weaksubj', '1', 'noun', 'n', 'neutral'), 'attraction': ('strongsubj', '1', 'noun', 'n', 'positive'), 'attractive': ('strongsubj', '1', 'noun', 'n', 'positive'), 'attractively': ('strongsubj', '1', 'anypos', 'y', 'positive'), 'attune': ('weaksubj', '1', 'adj', 'n', 'positive'), 'audacious': ('strongsubj', '1', 'adj', 'n', 'negative'), 'audaciously': ('strongsubj', '1', 'anypos', 'n', 'negative'), 'audaciousness': ('strongsubj', '1', 'noun', 'n', 'negative'), 'audacity': ('strongsubj', '1', 'noun', 'n', 'negative'), 'auspicious': ('strongsubj', '1', 'adj', 'n', 'positive'), 'austere': ('strongsubj', '1', 'adj', 'n', 'negative'), 'authentic': ('weaksubj', '1', 'adj', 'n', 'positive'), 'authoritarian': ('weaksubj', '1', 'adj', 'n', 'negative'), 'authoritative': ('weaksubj', '1', 'adj', 'n', 'positive'), 'autocrat': ('strongsubj', '1', 'noun', 'n', 'negative'), 'autocratic': ('strongsubj', '1', 'noun', 'n', 'negative'), 'award': ('weaksubj', '1', 'verb', 'y', 'positive'), 'awareness': ('strongsubj', '1', 'noun', 'n', 'neutral'), 'aware': ('strongsubj', '1', 'adj', 'n', 'neutral'), 'autonomous': ('weaksubj', '1', 'adj', 'n', 'positive'), 'avalanche': ('strongsubj', '1', 'noun', 'n', 'negative'), 'avarice': ('strongsubj', '1', 'noun', 'n', 'negative'), 'avaricious': ('strongsubj', '1', 'adj', 'n', 'negative'), 'avariciously': ('strongsubj', '1', 'adj', 'n', 'negative'), 'avenge': ('strongsubj', '1', 'verb', 'y', 'negative'), 'aver': ('strongsubj', '1', 'verb', 'y', 'positive'), 'averse': ('strongsubj', '1', 'anypos', 'n', 'negative'), 'aversion': ('strongsubj', '1', 'noun', 'n', 'negative'), 'avid': ('strongsubj', '1', 'adj', 'n', 'positive'), 'avidly': ('strongsubj', '1', 'anypos', 'n', 'positive'), 'avoid': ('weaksubj', '1', 'verb', 'y', 'negative'), 'avoidance': ('weaksubj', '1', 'noun', 'n', 'negative'), 'awe': ('strongsubj', '1', 'verb', 'y', 'positive'), 'awed': ('strongsubj', '1', 'adj', 'n', 'positive'), 'awesome': ('strongsubj', '1', 'anypos', 'y', 'positive'), 'awesomely': ('strongsubj', '1', 'anypos', 'n', 'positive'), 'awesomeness': ('strongsubj', '1', 'noun', 'n', 'positive'), 'awestruck': ('strongsubj', '1', 'adj', 'n', 'positive'), 'awful': ('strongsubj', '1', 'anypos', 'n', 'negative'), 'awfully': ('strongsubj', '1', 'anypos', 'n', 'negative'), 'awfulness': ('strongsubj', '1', 'noun', 'n', 'negative'), 'awkward': ('strongsubj', '1', 'adj', 'n', 'negative'), 'awkwardness': ('strongsubj', '1', 'noun', 'n', 'negative'), 'ax': ('strongsubj', '1', 'verb', 'y', 'negative'), 'babble': ('strongsubj', '1', 'verb', 'y', 'negative'), 'baby': ('strongsubj', '1', 'noun', 'n', 'neutral'), 'back': ('weaksubj', '1', 'verb', 'y', 'positive'), 'backbite': ('strongsubj', '1', 'verb', 'y', 'negative'), 'backbiting': ('strongsubj', '1', 'anypos', 'n', 'negative'), 'backbone': ('weaksubj', '1', 'noun', 'n', 'positive'), 'backward': ('strongsubj', '1', 'adj', 'n', 'negative'), 'backwardness': ('strongsubj', '1', 'noun', 'n', 'negative'), 'bad': ('strongsubj', '1', 'adj', 'n', 'negative'), 'badly': ('strongsubj', '1', 'adj', 'n', 'negative'), 'baffle': ('strongsubj', '1', 'verb', 'y', 'negative'), 'baffled': ('strongsubj', '1', 'adj', 'n', 'negative'), 'bafflement': ('strongsubj', '1', 'noun', 'n', 'negative'), 'baffling': ('strongsubj', '1', 'anypos', 'n', 'negative'), 'bait': ('strongsubj', '1', 'verb', 'y', 'negative'), 'balanced': ('weaksubj', '1', 'adj', 'n', 'positive'), 'balk': ('strongsubj', '1', 'verb', 'y', 'negative'), 'banal': ('strongsubj', '1', 'anypos', 'y', 'negative'), 'banalize': ('strongsubj', '1', 'verb', 'y', 'negative'), 'bane': ('strongsubj', '1', 'noun', 'n', 'negative'), 'banish': ('strongsubj', '1', 'verb', 'y', 'negative'), 'banishment': ('strongsubj', '1', 'noun', 'n', 'negative'), 'bankrupt': ('weaksubj', '1', 'verb', 'y', 'negative'), 'bar': ('weaksubj', '1', 'verb', 'y', 'negative'), 'barbarian': ('strongsubj', '1', 'noun', 'n', 'negative'), 'barbaric': ('strongsubj', '1', 'adj', 'n', 'negative'), 'barbarically': ('strongsubj', '1', 'anypos', 'n', 'negative'), 'barbarity': ('strongsubj', '1', 'noun', 'n', 'negative'), 'barbarous': ('strongsubj', '1', 'anypos', 'y', 'negative'), 'barbarously': ('strongsubj', '1', 'anypos', 'n', 'negative'), 'barely': ('weaksubj', '1', 'anypos', 'y', 'negative'), 'bargain': ('strongsubj', '1', 'adj', 'n', 'positive'), 'barren': ('strongsubj', '1', 'adj', 'n', 'negative'), 'baseless': ('strongsubj', '1', 'adj', 'n', 'negative'), 'bashful': ('strongsubj', '1', 'adj', 'n', 'negative'), 'basic': ('weaksubj', '1', 'adj', 'n', 'positive'), 'basically': ('weaksubj', '1', 'anypos', 'n', 'neutral'), 'bask': ('weaksubj', '1', 'verb', 'y', 'positive'), 'bastard': ('strongsubj', '1', 'noun', 'n', 'negative'), 'batons': ('weaksubj', '1', 'noun', 'n', 'neutral'), 'battered': ('weaksubj', '1', 'adj', 'n', 'negative'), 'battering': ('weaksubj', '1', 'noun', 'n', 'negative'), 'battle': ('weaksubj', '1', 'verb', 'y', 'negative'), 'battle-lines': ('strongsubj', '1', 'noun', 'n', 'negative'), 'battlefield': ('weaksubj', '1', 'noun', 'n', 'negative'), 'battleground': ('strongsubj', '1', 'noun', 'n', 'negative'), 'batty': ('strongsubj', '1', 'adj', 'n', 'negative'), 'beacon': ('weaksubj', '1', 'noun', 'n', 'positive'), 'bearish': ('weaksubj', '1', 'adj', 'n', 'negative'), 'beast': ('strongsubj', '1', 'noun', 'n', 'negative'), 'beastly': ('strongsubj', '1', 'adj', 'n', 'negative'), 'beatify': ('strongsubj', '1', 'verb', 'y', 'positive'), 'beauteous': ('strongsubj', '1', 'adj', 'n', 'positive'), 'beautiful': ('strongsubj', '1', 'anypos', 'y', 'positive'), 'beautifully': ('strongsubj', '1', 'anypos', 'n', 'positive'), 'beautify': ('strongsubj', '1', 'verb', 'y', 'positive'), 'beauty': ('strongsubj', '1', 'noun', 'n', 'positive'), 'bedlam': ('strongsubj', '1', 'noun', 'n', 'negative'), 'bedlamite': ('strongsubj', '1', 'noun', 'n', 'negative'), 'befit': ('strongsubj', '1', 'verb', 'y', 'positive'), 'befitting': ('strongsubj', '1', 'adj', 'n', 'positive'), 'befoul': ('strongsubj', '1', 'verb', 'y', 'negative'), 'befriend': ('strongsubj', '1', 'verb', 'y', 'positive'), 'beg': ('strongsubj', '1', 'verb', 'y', 'negative'), 'beggar': ('weaksubj', '1', 'noun', 'n', 'negative'), 'beggarly': ('strongsubj', '1', 'adj', 'n', 'negative'), 'begging': ('strongsubj', '1', 'noun', 'n', 'negative'), 'beguile': ('strongsubj', '1', 'verb', 'y', 'negative'), 'belated': ('weaksubj', '1', 'adj', 'n', 'negative'), 'belabor': ('strongsubj', '1', 'verb', 'y', 'negative'), 'beleaguer': ('strongsubj', '1', 'verb', 'y', 'negative'), 'belie': ('strongsubj', '1', 'verb', 'y', 'negative'), 'belief': ('strongsubj', '1', 'noun', 'n', 'neutral'), 'beliefs': ('weaksubj', '1', 'noun', 'n', 'neutral'), 'believable': ('strongsubj', '1', 'adj', 'n', 'positive'), 'believe': ('strongsubj', '1', 'verb', 'y', 'neutral'), 'belittle': ('strongsubj', '1', 'verb', 'y', 'negative'), 'belittled': ('strongsubj', '1', 'adj', 'n', 'negative'), 'belittling': ('strongsubj', '1', 'anypos', 'y', 'negative'), 'bellicose': ('strongsubj', '1', 'noun', 'n', 'negative'), 'belligerence': ('strongsubj', '1', 'noun', 'n', 'negative'), 'belligerent': ('strongsubj', '1', 'anypos', 'y', 'negative'), 'belligerently': ('strongsubj', '1', 'anypos', 'n', 'negative'), 'beloved': ('strongsubj', '1', 'adj', 'n', 'positive'), 'bemoan': ('strongsubj', '1', 'verb', 'y', 'negative'), 'bemoaning': ('strongsubj', '1', 'adj', 'n', 'negative'), 'bemused': ('strongsubj', '1', 'adj', 'n', 'negative'), 'benefactor': ('weaksubj', '1', 'noun', 'n', 'positive'), 'beneficial': ('strongsubj', '1', 'anypos', 'y', 'positive'), 'beneficent': ('strongsubj', '1', 'adj', 'n', 'positive'), 'beneficially': ('strongsubj', '1', 'anypos', 'y', 'positive'), 'beneficiary': ('strongsubj', '1', 'noun', 'n', 'positive'), 'benefit': ('weaksubj', '1', 'noun', 'n', 'positive'), 'benefits': ('weaksubj', '1', 'noun', 'n', 'positive'), 'benevolence': ('strongsubj', '1', 'noun', 'n', 'positive'), 'benevolent': ('strongsubj', '1', 'adj', 'n', 'positive'), 'benign': ('weaksubj', '1', 'adj', 'n', 'positive'), 'bent': ('weaksubj', '1', 'adj', 'n', 'negative'), 'berate': ('strongsubj', '1', 'verb', 'y', 'negative'), 'bereave': ('strongsubj', '1', 'verb', 'y', 'negative'), 'bereavement': ('strongsubj', '1', 'noun', 'n', 'negative'), 'bereft': ('strongsubj', '1', 'anypos', 'n', 'negative'), 'berserk': ('strongsubj', '1', 'adj', 'n', 'negative'), 'beseech': ('strongsubj', '1', 'verb', 'y', 'negative'), 'beset': ('weaksubj', '1', 'adj', 'n', 'negative'), 'besides': ('strongsubj', '1', 'anypos', 'y', 'neutral'), 'besiege': ('weaksubj', '1', 'verb', 'y', 'negative'), 'besmirch': ('strongsubj', '1', 'verb', 'y', 'negative'), 'best': ('strongsubj', '1', 'anypos', 'y', 'positive'), 'best-known': ('strongsubj', '1', 'adj', 'n', 'positive'), 'best-performing': ('strongsubj', '1', 'adj', 'n', 'positive'), 'best-selling': ('weaksubj', '1', 'adj', 'n', 'positive'), 'bestial': ('strongsubj', '1', 'adj', 'n', 'negative'), 'betray': ('strongsubj', '1', 'verb', 'y', 'negative'), 'betrayal': ('strongsubj', '1', 'noun', 'n', 'negative'), 'betrayals': ('strongsubj', '1', 'noun', 'n', 'negative'), 'betrayer': ('strongsubj', '1', 'noun', 'n', 'negative'), 'better': ('weaksubj', '1', 'anypos', 'y', 'positive'), 'better-known': ('strongsubj', '1', 'adj', 'n', 'positive'), 'better-than-expected': ('strongsubj', '1', 'adj', 'n', 'positive'), 'bewail': ('strongsubj', '1', 'verb', 'y', 'negative'), 'beware': ('weaksubj', '1', 'verb', 'y', 'negative'), 'bewilder': ('strongsubj', '1', 'verb', 'y', 'negative'), 'bewildered': ('strongsubj', '1', 'adj', 'n', 'negative'), 'bewildering': ('strongsubj', '1', 'anypos', 'n', 'negative'), 'bewilderingly': ('strongsubj', '1', 'anypos', 'n', 'negative'), 'bewilderment': ('strongsubj', '1', 'noun', 'n', 'negative'), 'bewitch': ('strongsubj', '1', 'verb', 'y', 'negative'), 'bias': ('strongsubj', '1', 'verb', 'y', 'negative'), 'biased': ('strongsubj', '1', 'noun', 'n', 'negative'), 'biases': ('strongsubj', '1', 'noun', 'n', 'negative'), 'bicker': ('strongsubj', '1', 'verb', 'y', 'negative'), 'bickering': ('strongsubj', '1', 'anypos', 'n', 'negative'), 'bid-rigging': ('weaksubj', '1', 'adj', 'n', 'negative'), 'big': ('weaksubj', '1', 'adj', 'n', 'neutral'), 'bitch': ('strongsubj', '1', 'verb', 'y', 'negative'), 'bitchy': ('strongsubj', '1', 'adj', 'n', 'negative'), 'biting': ('strongsubj', '1', 'adj', 'n', 'negative'), 'bitingly': ('strongsubj', '1', 'anypos', 'n', 'negative'), 'bitter': ('strongsubj', '1', 'adj', 'n', 'negative'), 'bitterly': ('strongsubj', '1', 'anypos', 'n', 'negative'), 'bitterness': ('strongsubj', '1', 'noun', 'n', 'negative'), 'bizarre': ('strongsubj', '1', 'adj', 'n', 'negative'), 'blab': ('strongsubj', '1', 'verb', 'y', 'negative'), 'blabber': ('strongsubj', '1', 'verb', 'y', 'negative'), 'black': ('weaksubj', '1', 'adj', 'n', 'negative'), 'blackmail': ('weaksubj', '1', 'verb', 'y', 'negative'), 'blah': ('strongsubj', '1', 'anypos', 'y', 'negative'), 'blame': ('strongsubj', '1', 'verb', 'y', 'negative'), 'blameless': ('strongsubj', '1', 'adj', 'n', 'positive'), 'blameworthy': ('strongsubj', '1', 'adj', 'n', 'negative'), 'bland': ('strongsubj', '1', 'adj', 'n', 'negative'), 'blandish': ('strongsubj', '1', 'verb', 'y', 'negative'), 'blaspheme': ('strongsubj', '1', 'verb', 'y', 'negative'), 'blasphemous': ('strongsubj', '1', 'anypos', 'y', 'negative'), 'blasphemy': ('strongsubj', '1', 'noun', 'n', 'negative'), 'blast': ('weaksubj', '1', 'anypos', 'y', 'negative'), 'blasted': ('strongsubj', '1', 'anypos', 'y', 'negative'), 'blatant': ('strongsubj', '1', 'adj', 'n', 'negative'), 'blatantly': ('strongsubj', '1', 'adj', 'n', 'negative'), 'blather': ('strongsubj', '1', 'verb', 'y', 'negative'), 'bleak': ('strongsubj', '1', 'adj', 'n', 'negative'), 'bleakly': ('strongsubj', '1', 'anypos', 'n', 'negative'), 'bleakness': ('strongsubj', '1', 'noun', 'n', 'negative'), 'bleed': ('weaksubj', '1', 'verb', 'y', 'negative'), 'blemish': ('weaksubj', '1', 'verb', 'y', 'negative'), 'bless': ('strongsubj', '1', 'verb', 'y', 'positive'), 'blessing': ('strongsubj', '1', 'noun', 'n', 'positive'), 'blind': ('weaksubj', '1', 'anypos', 'n', 'negative'), 'blinding': ('strongsubj', '1', 'anypos', 'y', 'negative'), 'blindingly': ('strongsubj', '1', 'adj', 'n', 'negative'), 'blindness': ('weaksubj', '1', 'adj', 'n', 'negative'), 'blindside': ('strongsubj', '1', 'verb', 'y', 'negative'), 'bliss': ('strongsubj', '1', 'noun', 'n', 'positive'), 'blissful': ('strongsubj', '1', 'adj', 'n', 'positive'), 'blissfully': ('strongsubj', '1', 'adverb', 'n', 'positive'), 'blister': ('strongsubj', '1', 'verb', 'y', 'negative'), 'blistering': ('strongsubj', '1', 'adj', 'n', 'negative'), 'blithe': ('strongsubj', '1', 'adj', 'n', 'positive'), 'bloated': ('strongsubj', '1', 'adj', 'n', 'negative'), 'block': ('weaksubj', '1', 'verb', 'y', 'negative'), 'blockhead': ('strongsubj', '1', 'adj', 'n', 'negative'), 'blood': ('weaksubj', '1', 'noun', 'n', 'negative'), 'bloodshed': ('strongsubj', '1', 'noun', 'n', 'negative'), 'bloodthirsty': ('strongsubj', '1', 'adj', 'n', 'negative'), 'bloody': ('weaksubj', '1', 'adj', 'n', 'negative'), 'bloom': ('weaksubj', '1', 'verb', 'y', 'positive'), 'blossom': ('weaksubj', '1', 'verb', 'y', 'positive'), 'blow': ('weaksubj', '1', 'noun', 'n', 'negative'), 'blunder': ('strongsubj', '1', 'noun', 'n', 'negative'), 'blundering': ('strongsubj', '1', 'anypos', 'n', 'negative'), 'blunders': ('strongsubj', '1', 'anypos', 'n', 'negative'), 'blunt': ('strongsubj', '1', 'adj', 'n', 'negative'), 'blur': ('weaksubj', '1', 'verb', 'y', 'negative'), 'blurt': ('strongsubj', '1', 'verb', 'y', 'negative'), 'boast': ('strongsubj', '1', 'verb', 'y', 'negative'), 'boastful': ('strongsubj', '1', 'adj', 'n', 'negative'), 'boggle': ('strongsubj', '1', 'verb', 'y', 'negative'), 'bogus': ('strongsubj', '1', 'adj', 'n', 'negative'), 'boil': ('strongsubj', '1', 'verb', 'y', 'negative'), 'boiling': ('strongsubj', '1', 'adverb', 'n', 'negative'), 'boisterous': ('strongsubj', '1', 'adj', 'n', 'negative'), 'bold': ('strongsubj', '1', 'adj', 'n', 'positive'), 'boldly': ('strongsubj', '1', 'adverb', 'n', 'positive'), 'boldness': ('strongsubj', '1', 'noun', 'n', 'positive'), 'bolster': ('strongsubj', '1', 'verb', 'y', 'positive'), 'bombard': ('weaksubj', '1', 'verb', 'y', 'negative'), 'bomb': ('weaksubj', '1', 'verb', 'y', 'negative'), 'bombardment': ('strongsubj', '1', 'noun', 'n', 'negative'), 'bombastic': ('strongsubj', '1', 'adj', 'n', 'negative'), 'bondage': ('strongsubj', '1', 'noun', 'n', 'negative'), 'bonkers': ('strongsubj', '1', 'noun', 'n', 'negative'), 'bonny': ('strongsubj', '1', 'adj', 'n', 'positive'), 'bonus': ('weaksubj', '1', 'noun', 'n', 'positive'), 'boom': ('weaksubj', '1', 'noun', 'n', 'positive'), 'booming': ('weaksubj', '1', 'adj', 'n', 'positive'), 'boost': ('weaksubj', '1', 'verb', 'y', 'positive'), 'bore': ('strongsubj', '1', 'verb', 'y', 'negative'), 'boredom': ('strongsubj', '1', 'noun', 'n', 'negative'), 'boring': ('strongsubj', '1', 'anypos', 'y', 'negative'), 'botch': ('strongsubj', '1', 'verb', 'y', 'negative'), 'bother': ('strongsubj', '1', 'verb', 'y', 'negative'), 'bothersome': ('strongsubj', '1', 'adj', 'n', 'negative'), 'boundless': ('strongsubj', '1', 'adj', 'n', 'positive'), 'bountiful': ('strongsubj', '1', 'adj', 'n', 'positive'), 'bowdlerize': ('strongsubj', '1', 'verb', 'y', 'negative'), 'boycott': ('weaksubj', '1', 'noun', 'n', 'negative'), 'brag': ('strongsubj', '1', 'verb', 'y', 'both'), 'braggart': ('strongsubj', '1', 'noun', 'n', 'negative'), 'bragger': ('strongsubj', '1', 'noun', 'n', 'negative'), 'brains': ('strongsubj', '1', 'noun', 'n', 'positive'), 'brainwash': ('strongsubj', '1', 'verb', 'y', 'negative'), 'brainy': ('strongsubj', '1', 'adj', 'n', 'positive'), 'brash': ('strongsubj', '1', 'adj', 'n', 'negative'), 'brashly': ('strongsubj', '1', 'anypos', 'n', 'negative'), 'brashness': ('strongsubj', '1', 'noun', 'n', 'negative'), 'brat': ('strongsubj', '1', 'noun', 'n', 'negative'), 'bravado': ('strongsubj', '1', 'noun', 'n', 'negative'), 'brave': ('strongsubj', '1', 'verb', 'y', 'positive'), 'bravery': ('strongsubj', '1', 'noun', 'n', 'positive'), 'brazen': ('strongsubj', '1', 'anypos', 'n', 'negative'), 'brazenly': ('strongsubj', '1', 'anypos', 'n', 'negative'), 'brazenness': ('strongsubj', '1', 'noun', 'n', 'negative'), 'breach': ('weaksubj', '1', 'noun', 'n', 'negative'), 'break': ('weaksubj', '1', 'verb', 'y', 'negative'), 'break-point': ('strongsubj', '1', 'noun', 'n', 'negative'), 'breakdown': ('weaksubj', '1', 'verb', 'y', 'negative'), 'breakthrough': ('weaksubj', '1', 'noun', 'n', 'positive'), 'breakthroughs': ('weaksubj', '1', 'noun', 'n', 'positive'), 'breathlessness': ('strongsubj', '1', 'noun', 'n', 'positive'), 'breathtaking': ('strongsubj', '1', 'adj', 'n', 'positive'), 'breathtakingly': ('strongsubj', '1', 'anypos', 'n', 'positive'), 'bright': ('weaksubj', '1', 'adj', 'n', 'positive'), 'brighten': ('weaksubj', '1', 'anypos', 'y', 'positive'), 'brightness': ('weaksubj', '1', 'noun', 'n', 'positive'), 'brilliance': ('weaksubj', '1', 'noun', 'n', 'positive'), 'brilliant': ('strongsubj', '1', 'anypos', 'y', 'positive'), 'brilliantly': ('strongsubj', '1', 'anypos', 'n', 'positive'), 'brimstone': ('strongsubj', '1', 'noun', 'n', 'negative'), 'brisk': ('weaksubj', '1', 'adj', 'n', 'positive'), 'bristle': ('strongsubj', '1', 'verb', 'y', 'negative'), 'brittle': ('weaksubj', '1', 'adj', 'n', 'negative'), 'broad': ('weaksubj', '1', 'adj', 'n', 'positive'), 'broad-based': ('weaksubj', '1', 'adj', 'n', 'neutral'), 'broke': ('weaksubj', '1', 'adj', 'n', 'negative'), 'broken-hearted': ('strongsubj', '1', 'adj', 'n', 'negative'), 'brood': ('strongsubj', '1', 'verb', 'y', 'negative'), 'brook': ('strongsubj', '1', 'verb', 'y', 'positive'), 'brotherly': ('weaksubj', '1', 'adj', 'n', 'positive'), 'browbeat': ('strongsubj', '1', 'verb', 'y', 'negative'), 'bruise': ('weaksubj', '1', 'noun', 'n', 'negative'), 'brusque': ('strongsubj', '1', 'adj', 'n', 'negative'), 'brutal': ('strongsubj', '1', 'adj', 'n', 'negative'), 'brutalising': ('strongsubj', '1', 'noun', 'n', 'negative'), 'brutalities': ('strongsubj', '1', 'noun', 'n', 'negative'), 'brutality': ('strongsubj', '1', 'noun', 'n', 'negative'), 'brutalize': ('strongsubj', '1', 'verb', 'y', 'negative'), 'brutalizing': ('strongsubj', '1', 'adj', 'n', 'negative'), 'brutally': ('strongsubj', '1', 'anypos', 'n', 'negative'), 'brute': ('strongsubj', '1', 'noun', 'n', 'negative'), 'brutish': ('strongsubj', '1', 'adj', 'n', 'negative'), 'bug': ('weaksubj', '1', 'verb', 'y', 'negative'), 'buckle': ('weaksubj', '1', 'verb', 'y', 'negative'), 'bulky': ('weaksubj', '1', 'adj', 'n', 'negative'), 'bull': ('weaksubj', '1', 'noun', 'n', 'positive'), 'bullies': ('strongsubj', '1', 'noun', 'n', 'negative'), 'bullish': ('weaksubj', '1', 'noun', 'n', 'positive'), 'bully': ('strongsubj', '1', 'noun', 'n', 'negative'), 'bullyingly': ('strongsubj', '1', 'anypos', 'n', 'negative'), 'bum': ('weaksubj', '1', 'noun', 'n', 'negative'), 'bumpy': ('weaksubj', '1', 'adj', 'n', 'negative'), 'bungle': ('strongsubj', '1', 'verb', 'y', 'negative'), 'bungler': ('strongsubj', '1', 'anypos', 'y', 'negative'), 'bunk': ('weaksubj', '1', 'noun', 'n', 'negative'), 'buoyant': ('weaksubj', '1', 'adj', 'n', 'positive'), 'burden': ('strongsubj', '1', 'noun', 'n', 'negative'), 'burdensome': ('strongsubj', '1', 'anypos', 'y', 'negative'), 'burdensomely': ('strongsubj', '1', 'anypos', 'y', 'negative'), 'burn': ('strongsubj', '1', 'verb', 'y', 'negative'), 'busy': ('weaksubj', '1', 'adj', 'n', 'negative'), 'busybody': ('strongsubj', '1', 'noun', 'n', 'negative'), 'butcher': ('weaksubj', '1', 'verb', 'y', 'negative'), 'butchery': ('strongsubj', '1', 'noun', 'n', 'negative'), 'byzantine': ('strongsubj', '1', 'adj', 'n', 'negative'), 'cackle': ('strongsubj', '1', 'verb', 'y', 'negative'), 'cajole': ('strongsubj', '1', 'verb', 'y', 'negative'), 'calamities': ('strongsubj', '1', 'noun', 'n', 'negative'), 'calamitous': ('strongsubj', '1', 'adj', 'n', 'negative'), 'calamitously': ('strongsubj', '1', 'anypos', 'n', 'negative'), 'calamity': ('strongsubj', '1', 'noun', 'n', 'negative'), 'callous': ('strongsubj', '1', 'adj', 'n', 'negative'), 'calm': ('weaksubj', '1', 'verb', 'y', 'positive'), 'calming': ('strongsubj', '1', 'anypos', 'y', 'positive'), 'calmness': ('weaksubj', '1', 'noun', 'n', 'positive'), 'calumniate': ('strongsubj', '1', 'verb', 'y', 'negative'), 'calumniation': ('strongsubj', '1', 'noun', 'n', 'negative'), 'calumnies': ('strongsubj', '1', 'noun', 'n', 'negative'), 'calumnious': ('strongsubj', '1', 'adj', 'n', 'negative'), 'calumniously': ('strongsubj', '1', 'anypos', 'n', 'negative'), 'calumny': ('strongsubj', '1', 'noun', 'n', 'negative'), 'cancer': ('weaksubj', '1', 'noun', 'n', 'negative'), 'cancerous': ('weaksubj', '1', 'adj', 'n', 'negative'), 'candid': ('strongsubj', '1', 'adj', 'n', 'positive'), 'candor': ('strongsubj', '1', 'noun', 'n', 'positive'), 'cannibal': ('strongsubj', '1', 'noun', 'n', 'negative'), 'cannibalize': ('strongsubj', '1', 'verb', 'y', 'negative'), 'capable': ('weaksubj', '1', 'adj', 'n', 'positive'), 'capability': ('weaksubj', '1', 'noun', 'n', 'positive'), 'capably': ('weaksubj', '1', 'adj', 'n', 'positive'), 'capitalize': ('weaksubj', '1', 'verb', 'y', 'positive'), 'capitulate': ('weaksubj', '1', 'verb', 'y', 'negative'), 'capricious': ('strongsubj', '1', 'adj', 'n', 'negative'), 'capriciously': ('strongsubj', '1', 'anypos', 'n', 'negative'), 'capriciousness': ('strongsubj', '1', 'noun', 'n', 'negative'), 'capsize': ('weaksubj', '1', 'verb', 'y', 'negative'), 'captivate': ('strongsubj', '1', 'verb', 'y', 'positive'), 'captivating': ('strongsubj', '1', 'adj', 'n', 'positive'), 'captivation': ('strongsubj', '1', 'noun', 'n', 'positive'), 'captive': ('weaksubj', '1', 'adj', 'n', 'negative'), 'care': ('weaksubj', '1', 'verb', 'y', 'positive'), 'carefree': ('strongsubj', '1', 'adj', 'n', 'positive'), 'careful': ('weaksubj', '1', 'adj', 'n', 'positive'), 'careless': ('strongsubj', '1', 'adj', 'n', 'negative'), 'carelessness': ('strongsubj', '1', 'noun', 'n', 'negative'), 'caricature': ('strongsubj', '1', 'verb', 'y', 'negative'), 'carnage': ('strongsubj', '1', 'noun', 'n', 'negative'), 'carp': ('strongsubj', '1', 'verb', 'y', 'negative'), 'cartoon': ('weaksubj', '1', 'noun', 'n', 'negative'), 'cartoonish': ('strongsubj', '1', 'anypos', 'y', 'negative'), 'cash-strapped': ('weaksubj', '1', 'adj', 'n', 'negative'), 'castigate': ('strongsubj', '1', 'verb', 'y', 'negative'), 'casualty': ('weaksubj', '1', 'noun', 'y', 'negative'), 'cataclysm': ('strongsubj', '1', 'noun', 'n', 'negative'), 'cataclysmal': ('strongsubj', '1', 'adj', 'n', 'negative'), 'cataclysmic': ('strongsubj', '1', 'adj', 'n', 'negative'), 'cataclysmically': ('strongsubj', '1', 'anypos', 'n', 'negative'), 'catalyst': ('strongsubj', '1', 'noun', 'n', 'positive'), 'catastrophe': ('strongsubj', '1', 'noun', 'n', 'negative'), 'catastrophes': ('strongsubj', '1', 'noun', 'n', 'negative'), 'catastrophic': ('strongsubj', '1', 'anypos', 'y', 'negative'), 'catastrophically': ('strongsubj', '1', 'anypos', 'n', 'negative'), 'catchy': ('strongsubj', '1', 'adj', 'n', 'positive'), 'caustic': ('strongsubj', '1', 'adj', 'n', 'negative'), 'caustically': ('strongsubj', '1', 'anypos', 'n', 'negative'), 'cautionary': ('strongsubj', '1', 'adj', 'n', 'negative'), 'cautious': ('weaksubj', '1', 'adj', 'n', 'negative'), 'cave': ('weaksubj', '1', 'verb', 'y', 'negative'), 'ceaseless': ('weaksubj', '1', 'adj', 'n', 'neutral'), 'celebrate': ('strongsubj', '1', 'verb', 'y', 'positive'), 'celebrated': ('strongsubj', '1', 'adj', 'n', 'positive'), 'celebration': ('strongsubj', '1', 'noun', 'n', 'positive'), 'celebratory': ('strongsubj', '1', 'anypos', 'y', 'positive'), 'celebrity': ('weaksubj', '1', 'noun', 'n', 'positive'), 'censure': ('strongsubj', '1', 'verb', 'y', 'negative'), 'central': ('weaksubj', '1', 'adj', 'n', 'neutral'), 'certain': ('weaksubj', '1', 'anypos', 'y', 'neutral'), 'certainly': ('strongsubj', '1', 'anypos', 'n', 'neutral'), 'certified': ('weaksubj', '1', 'adj', 'n', 'neutral'), 'chafe': ('strongsubj', '1', 'verb', 'y', 'negative'), 'chaff': ('strongsubj', '1', 'verb', 'y', 'negative'), 'chagrin': ('strongsubj', '1', 'verb', 'y', 'negative'), 'challenge': ('weaksubj', '1', 'verb', 'y', 'negative'), 'challenging': ('weaksubj', '1', 'adj', 'n', 'negative'), 'champion': ('weaksubj', '1', 'noun', 'n', 'positive'), 'champ': ('weaksubj', '1', 'noun', 'n', 'positive'), 'chant': ('weaksubj', '1', 'noun', 'n', 'neutral'), 'chaos': ('strongsubj', '1', 'noun', 'n', 'negative'), 'chaotic': ('strongsubj', '1', 'adj', 'n', 'negative'), 'charisma': ('strongsubj', '1', 'noun', 'n', 'negative'), 'charismatic': ('strongsubj', '1', 'adj', 'n', 'positive'), 'charitable': ('weaksubj', '1', 'noun', 'n', 'positive'), 'charity': ('weaksubj', '1', 'noun', 'n', 'positive'), 'charm': ('strongsubj', '1', 'verb', 'y', 'positive'), 'charming': ('strongsubj', '1', 'anypos', 'n', 'positive'), 'charmingly': ('strongsubj', '1', 'adj', 'n', 'positive'), 'chaste': ('strongsubj', '1', 'adj', 'n', 'positive'), 'chasten': ('strongsubj', '1', 'verb', 'y', 'negative'), 'chastise': ('strongsubj', '1', 'verb', 'y', 'negative'), 'chastisement': ('strongsubj', '1', 'anypos', 'y', 'negative'), 'chatter': ('strongsubj', '1', 'verb', 'y', 'negative'), 'chatterbox': ('strongsubj', '1', 'anypos', 'y', 'negative'), 'cheapen': ('strongsubj', '1', 'verb', 'y', 'negative'), 'cheap': ('strongsubj', '1', 'adj', 'n', 'negative'), 'cheat': ('strongsubj', '1', 'verb', 'y', 'negative'), 'cheater': ('strongsubj', '1', 'anypos', 'y', 'negative'), 'cheer': ('strongsubj', '1', 'verb', 'y', 'positive'), 'cheery': ('strongsubj', '1', 'adj', 'n', 'positive'), 'cheerful': ('strongsubj', '1', 'adj', 'n', 'positive'), 'cheerless': ('strongsubj', '1', 'adj', 'n', 'negative'), 'cherish': ('strongsubj', '1', 'verb', 'y', 'positive'), 'cherished': ('strongsubj', '1', 'adj', 'n', 'positive'), 'cherub': ('strongsubj', '1', 'noun', 'n', 'positive'), 'chic': ('strongsubj', '1', 'adj', 'n', 'positive'), 'chide': ('strongsubj', '1', 'verb', 'y', 'negative'), 'childish': ('strongsubj', '1', 'adj', 'n', 'negative'), 'chill': ('weaksubj', '1', 'verb', 'y', 'negative'), 'chilly': ('weaksubj', '1', 'adj', 'n', 'negative'), 'chit': ('strongsubj', '1', 'anypos', 'y', 'negative'), 'chivalry': ('strongsubj', '1', 'noun', 'n', 'positive'), 'chivalrous': ('strongsubj', '1', 'adj', 'n', 'positive'), 'choppy': ('weaksubj', '1', 'adj', 'n', 'negative'), 'choke': ('weaksubj', '1', 'verb', 'y', 'negative'), 'chore': ('weaksubj', '1', 'noun', 'n', 'negative'), 'chronic': ('weaksubj', '1', 'adj', 'n', 'negative'), 'chum': ('weaksubj', '1', 'noun', 'n', 'positive'), 'civility': ('strongsubj', '1', 'noun', 'n', 'positive'), 'civilization': ('weaksubj', '1', 'noun', 'n', 'positive'), 'civilize': ('weaksubj', '1', 'verb', 'y', 'positive'), 'civil': ('weaksubj', '1', 'adj', 'n', 'positive'), 'claim': ('weaksubj', '1', 'anypos', 'y', 'neutral'), 'clamor': ('weaksubj', '1', 'noun', 'n', 'negative'), 'clamorous': ('weaksubj', '1', 'adj', 'n', 'negative'), 'clandestine': ('weaksubj', '1', 'adj', 'n', 'neutral'), 'clarity': ('weaksubj', '1', 'adj', 'n', 'positive'), 'clash': ('weaksubj', '1', 'noun', 'n', 'negative'), 'classic': ('weaksubj', '1', 'noun', 'n', 'positive'), 'clean': ('weaksubj', '1', 'adj', 'n', 'positive'), 'cleanliness': ('weaksubj', '1', 'noun', 'n', 'positive'), 'cleanse': ('weaksubj', '1', 'verb', 'n', 'positive'), 'clear': ('weaksubj', '1', 'anypos', 'y', 'positive'), 'clear-cut': ('strongsubj', '1', 'adj', 'n', 'positive'), 'clearer': ('strongsubj', '1', 'noun', 'n', 'positive'), 'clearly': ('strongsubj', '1', 'anypos', 'n', 'positive'), 'clever': ('strongsubj', '1', 'adj', 'n', 'positive'), 'cliche': ('strongsubj', '1', 'anypos', 'n', 'negative'), 'cliched': ('strongsubj', '1', 'anypos', 'n', 'negative'), 'clique': ('weaksubj', '1', 'noun', 'n', 'negative'), 'clog': ('weaksubj', '1', 'verb', 'y', 'negative'), 'close': ('weaksubj', '1', 'adj', 'n', 'negative'), 'closeness': ('strongsubj', '1', 'noun', 'n', 'positive'), 'cloud': ('strongsubj', '1', 'verb', 'y', 'negative'), 'clout': ('strongsubj', '1', 'noun', 'n', 'positive'), 'clumsy': ('strongsubj', '1', 'adj', 'n', 'negative'), 'co-operation': ('weaksubj', '1', 'noun', 'n', 'positive'), 'coarse': ('weaksubj', '1', 'adj', 'n', 'negative'), 'coax': ('strongsubj', '1', 'verb', 'y', 'positive'), 'cocky': ('strongsubj', '1', 'adj', 'n', 'negative'), 'coddle': ('weaksubj', '1', 'verb', 'y', 'positive'), 'coerce': ('strongsubj', '1', 'verb', 'y', 'negative'), 'coercion': ('strongsubj', '1', 'noun', 'n', 'negative'), 'coercive': ('strongsubj', '1', 'adj', 'n', 'negative'), 'cogent': ('strongsubj', '1', 'adj', 'n', 'positive'), 'cohesive': ('weaksubj', '1', 'adj', 'n', 'positive'), 'cogitate': ('strongsubj', '1', 'verb', 'y', 'neutral'), 'cognizance': ('weaksubj', '1', 'noun', 'n', 'neutral'), 'cognizant': ('strongsubj', '1', 'noun', 'n', 'neutral'), 'cohere': ('weaksubj', '1', 'verb', 'y', 'positive'), 'coherence': ('strongsubj', '1', 'noun', 'n', 'positive'), 'coherent': ('weaksubj', '1', 'adj', 'n', 'positive'), 'cohesion': ('weaksubj', '1', 'noun', 'n', 'positive'), 'cold': ('weaksubj', '1', 'adj', 'n', 'negative'), 'coldly': ('strongsubj', '1', 'adverb', 'n', 'negative'), 'collapse': ('weaksubj', '1', 'verb', 'y', 'negative'), 'collide': ('weaksubj', '1', 'verb', 'y', 'negative'), 'collude': ('strongsubj', '1', 'verb', 'y', 'negative'), 'collusion': ('strongsubj', '1', 'noun', 'n', 'negative'), 'colorful': ('weaksubj', '1', 'adj', 'n', 'positive'), 'colossal': ('weaksubj', '1', 'adj', 'n', 'positive'), 'combative': ('weaksubj', '1', 'adj', 'n', 'negative'), 'comeback': ('weaksubj', '1', 'noun', 'n', 'positive'), 'comedy': ('weaksubj', '1', 'adj', 'n', 'negative'), 'comely': ('strongsubj', '1', 'adj', 'n', 'positive'), 'comfort': ('weaksubj', '1', 'verb', 'y', 'positive'), 'comfortable': ('weaksubj', '1', 'noun', 'n', 'positive'), 'comfortably': ('weaksubj', '1', 'adverb', 'n', 'positive'), 'comforting': ('strongsubj', '1', 'anypos', 'n', 'positive'), 'comical': ('weaksubj', '1', 'adj', 'n', 'negative'), 'commend': ('strongsubj', '1', 'verb', 'y', 'positive'), 'commendable': ('strongsubj', '1', 'adj', 'n', 'positive'), 'commendably': ('strongsubj', '1', 'adverb', 'n', 'positive'), 'commensurate': ('weaksubj', '1', 'adj', 'n', 'positive'), 'commonsense': ('weaksubj', '1', 'noun', 'n', 'positive'), 'commonsensible': ('weaksubj', '1', 'adj', 'n', 'positive'), 'commonsensibly': ('weaksubj', '1', 'adverb', 'n', 'positive'), 'commonsensical': ('weaksubj', '1', 'adj', 'n', 'positive'), 'comment': ('weaksubj', '1', 'noun', 'n', 'neutral'), 'commentator': ('weaksubj', '1', 'noun', 'n', 'neutral'), 'commodious': ('weaksubj', '1', 'adj', 'n', 'positive'), 'commiserate': ('strongsubj', '1', 'verb', 'y', 'negative'), 'commitment': ('weaksubj', '1', 'noun', 'n', 'positive'), 'commonplace': ('weaksubj', '1', 'adj', 'n', 'negative'), 'commotion': ('strongsubj', '1', 'noun', 'n', 'negative'), 'compact': ('weaksubj', '1', 'adj', 'n', 'positive'), 'compassion': ('strongsubj', '1', 'noun', 'n', 'positive'), 'compassionate': ('strongsubj', '1', 'adj', 'n', 'positive'), 'compatible': ('weaksubj', '1', 'noun', 'n', 'positive'), 'compel': ('strongsubj', '1', 'verb', 'y', 'negative'), 'compelling': ('strongsubj', '1', 'noun', 'n', 'positive'), 'compensate': ('strongsubj', '1', 'verb', 'y', 'positive'), 'competent': ('weaksubj', '1', 'adj', 'n', 'positive'), 'competence': ('weaksubj', '1', 'noun', 'n', 'positive'), 'competency': ('weaksubj', '1', 'noun', 'n', 'positive'), 'competitive': ('weaksubj', '1', 'noun', 'n', 'positive'), 'competitiveness': ('weaksubj', '1', 'anypos', 'n', 'positive'), 'complacent': ('strongsubj', '1', 'noun', 'n', 'negative'), 'complain': ('strongsubj', '1', 'verb', 'y', 'negative'), 'complaining': ('strongsubj', '1', 'noun', 'n', 'negative'), 'complaint': ('strongsubj', '1', 'noun', 'n', 'negative'), 'complaints': ('strongsubj', '1', 'noun', 'n', 'negative'), 'complement': ('weaksubj', '1', 'verb', 'y', 'positive'), 'complete': ('weaksubj', '1', 'adj', 'n', 'neutral'), 'completely': ('weaksubj', '1', 'adverb', 'y', 'neutral'), 'complex': ('weaksubj', '1', 'adj', 'n', 'negative'), 'compliant': ('strongsubj', '1', 'noun', 'n', 'positive'), 'complicate': ('weaksubj', '1', 'verb', 'y', 'negative'), 'complicated': ('weaksubj', '1', 'adj', 'n', 'negative'), 'complication': ('weaksubj', '1', 'noun', 'n', 'negative'), 'complicit': ('strongsubj', '1', 'adj', 'n', 'negative'), 'compliment': ('strongsubj', '1', 'verb', 'y', 'positive'), 'complimentary': ('strongsubj', '1', 'anypos', 'n', 'positive'), 'comprehend': ('strongsubj', '1', 'verb', 'y', 'neutral'), 'comprehensive': ('weaksubj', '1', 'adj', 'n', 'positive'), 'compromise': ('weaksubj', '1', 'verb', 'y', 'positive'), 'compromises': ('weaksubj', '1', 'noun', 'n', 'positive'), 'compulsion': ('strongsubj', '1', 'noun', 'n', 'negative'), 'compulsive': ('strongsubj', '1', 'adj', 'n', 'negative'), 'compulsory': ('weaksubj', '1', 'adj', 'n', 'negative'), 'comrades': ('strongsubj', '1', 'noun', 'n', 'positive'), 'concede': ('strongsubj', '1', 'verb', 'y', 'negative'), 'conceit': ('strongsubj', '1', 'noun', 'n', 'negative'), 'conceited': ('strongsubj', '1', 'adj', 'n', 'negative'), 'conceivable': ('strongsubj', '1', 'noun', 'n', 'positive'), 'concern': ('weaksubj', '1', 'verb', 'y', 'negative'), 'concerned': ('strongsubj', '1', 'anypos', 'y', 'negative'), 'concerning': ('weaksubj', '1', 'noun', 'n', 'neutral'), 'concerns': ('strongsubj', '1', 'noun', 'n', 'negative'), 'concerted': ('weaksubj', '1', 'adj', 'n', 'neutral'), 'concession': ('weaksubj', '1', 'noun', 'n', 'negative'), 'concessions': ('weaksubj', '1', 'noun', 'n', 'negative'), 'conciliate': ('strongsubj', '1', 'verb', 'y', 'positive'), 'conciliatory': ('strongsubj', '1', 'adj', 'n', 'positive'), 'conclusive': ('weaksubj', '1', 'adj', 'n', 'positive'), 'concrete': ('weaksubj', '1', 'adj', 'n', 'positive'), 'concur': ('strongsubj', '1', 'verb', 'y', 'positive'), 'condescend': ('strongsubj', '1', 'verb', 'y', 'negative'), 'condescending': ('strongsubj', '1', 'adj', 'n', 'negative'), 'condescendingly': ('strongsubj', '1', 'adverb', 'n', 'negative'), 'condescension': ('strongsubj', '1', 'noun', 'n', 'negative'), 'condemn': ('strongsubj', '1', 'verb', 'y', 'negative'), 'condemnable': ('strongsubj', '1', 'adj', 'n', 'negative'), 'condemnation': ('strongsubj', '1', 'noun', 'n', 'negative'), 'condolence': ('strongsubj', '1', 'noun', 'n', 'negative'), 'condolences': ('strongsubj', '1', 'noun', 'n', 'negative'), 'condone': ('strongsubj', '1', 'verb', 'y', 'positive'), 'conducive': ('weaksubj', '1', 'noun', 'n', 'positive'), 'confer': ('weaksubj', '1', 'verb', 'y', 'positive'), 'confess': ('strongsubj', '1', 'verb', 'y', 'negative'), 'confession': ('strongsubj', '1', 'noun', 'n', 'negative'), 'confessions': ('strongsubj', '1', 'noun', 'n', 'negative'), 'confide': ('strongsubj', '1', 'verb', 'y', 'neutral'), 'confidence': ('strongsubj', '1', 'noun', 'n', 'positive'), 'confident': ('strongsubj', '1', 'adj', 'n', 'positive'), 'conflict': ('weaksubj', '1', 'noun', 'n', 'negative'), 'confound': ('weaksubj', '1', 'verb', 'y', 'negative'), 'confounded': ('weaksubj', '1', 'anypos', 'y', 'negative'), 'confounding': ('weaksubj', '1', 'anypos', 'y', 'negative'), 'confront': ('weaksubj', '1', 'verb', 'y', 'negative'), 'confrontation': ('strongsubj', '1', 'noun', 'n', 'negative'), 'confrontational': ('weaksubj', '1', 'adj', 'n', 'negative'), 'confuse': ('strongsubj', '1', 'verb', 'y', 'negative'), 'confused': ('strongsubj', '1', 'anypos', 'y', 'negative'), 'confusing': ('strongsubj', '1', 'anypos', 'y', 'negative'), 'confusion': ('strongsubj', '1', 'noun', 'n', 'negative'), 'confute': ('strongsubj', '1', 'verb', 'y', 'positive'), 'congenial': ('strongsubj', '1', 'adj', 'n', 'positive'), 'congested': ('weaksubj', '1', 'adj', 'n', 'negative'), 'congestion': ('weaksubj', '1', 'noun', 'n', 'negative'), 'congratulate': ('strongsubj', '1', 'verb', 'y', 'positive'), 'congratulations': ('strongsubj', '1', 'noun', 'n', 'positive'), 'congratulatory': ('strongsubj', '1', 'anypos', 'y', 'positive'), 'conjecture': ('strongsubj', '1', 'verb', 'y', 'neutral'), 'conquer': ('weaksubj', '1', 'verb', 'y', 'positive'), 'conscience': ('weaksubj', '1', 'noun', 'n', 'positive'), 'conscientious': ('strongsubj', '1', 'adj', 'n', 'positive'), 'consciousness': ('weaksubj', '1', 'noun', 'n', 'neutral'), 'consensus': ('strongsubj', '1', 'noun', 'n', 'positive'), 'consent': ('strongsubj', '1', 'verb', 'y', 'positive'), 'consequently': ('strongsubj', '1', 'anypos', 'y', 'neutral'), 'consider': ('strongsubj', '1', 'verb', 'y', 'neutral'), 'considerable': ('strongsubj', '1', 'adj', 'n', 'neutral'), 'considerably': ('strongsubj', '1', 'anypos', 'n', 'neutral'), 'considerate': ('strongsubj', '1', 'adj', 'n', 'positive'), 'consideration': ('weaksubj', '1', 'noun', 'n', 'neutral'), 'consistent': ('weaksubj', '1', 'adj', 'n', 'positive'), 'console': ('weaksubj', '1', 'verb', 'y', 'positive'), 'conspicuous': ('strongsubj', '1', 'noun', 'n', 'negative'), 'conspicuously': ('strongsubj', '1', 'anypos', 'y', 'negative'), 'conspiracies': ('weaksubj', '1', 'noun', 'n', 'negative'), 'conspiracy': ('weaksubj', '1', 'noun', 'n', 'negative'), 'conspirator': ('strongsubj', '1', 'noun', 'n', 'negative'), 'conspiratorial': ('strongsubj', '1', 'anypos', 'n', 'negative'), 'conspire': ('strongsubj', '1', 'verb', 'y', 'negative'), 'constancy': ('strongsubj', '1', 'noun', 'n', 'positive'), 'consternation': ('strongsubj', '1', 'noun', 'n', 'negative'), 'constitutions': ('weaksubj', '1', 'noun', 'n', 'neutral'), 'constrain': ('weaksubj', '1', 'verb', 'y', 'negative'), 'constraint': ('weaksubj', '1', 'noun', 'n', 'negative'), 'constructive': ('weaksubj', '1', 'noun', 'n', 'positive'), 'consume': ('weaksubj', '1', 'verb', 'y', 'negative'), 'consummate': ('strongsubj', '1', 'adj', 'n', 'positive'), 'contagious': ('weaksubj', '1', 'adj', 'n', 'negative'), 'contaminate': ('weaksubj', '1', 'verb', 'y', 'negative'), 'contamination': ('weaksubj', '1', 'noun', 'n', 'negative'), 'contemplate': ('strongsubj', '1', 'verb', 'y', 'neutral'), 'contempt': ('strongsubj', '1', 'noun', 'n', 'negative'), 'contemptible': ('strongsubj', '1', 'adj', 'n', 'negative'), 'contemptuous': ('strongsubj', '1', 'adj', 'n', 'negative'), 'contemptuously': ('strongsubj', '1', 'anypos', 'n', 'negative'), 'contend': ('strongsubj', '1', 'verb', 'y', 'negative'), 'content': ('weaksubj', '1', 'verb', 'y', 'positive'), 'contention': ('strongsubj', '1', 'noun', 'n', 'negative'), 'contentment': ('strongsubj', '1', 'noun', 'n', 'positive'), 'contentious': ('strongsubj', '1', 'noun', 'n', 'negative'), 'continuity': ('weaksubj', '1', 'noun', 'n', 'positive'), 'continuous': ('weaksubj', '1', 'adj', 'n', 'neutral'), 'contort': ('strongsubj', '1', 'verb', 'y', 'negative'), 'contortions': ('strongsubj', '1', 'noun', 'n', 'negative'), 'contradict': ('strongsubj', '1', 'verb', 'y', 'negative'), 'contradiction': ('strongsubj', '1', 'noun', 'n', 'negative'), 'contradictory': ('strongsubj', '1', 'adj', 'n', 'negative'), 'contrariness': ('strongsubj', '1', 'anypos', 'n', 'negative'), 'contrary': ('strongsubj', '1', 'adj', 'n', 'negative'), 'contravene': ('strongsubj', '1', 'verb', 'y', 'negative'), 'contribution': ('weaksubj', '1', 'noun', 'n', 'positive'), 'contrive': ('strongsubj', '1', 'verb', 'y', 'negative'), 'contrived': ('strongsubj', '1', 'anypos', 'n', 'negative'), 'controversial': ('weaksubj', '1', 'noun', 'n', 'negative'), 'controversy': ('weaksubj', '1', 'noun', 'n', 'negative'), 'convenient': ('strongsubj', '1', 'anypos', 'n', 'positive'), 'conveniently': ('strongsubj', '1', 'anypos', 'y', 'positive'), 'conviction': ('weaksubj', '1', 'noun', 'n', 'positive'), 'convince': ('weaksubj', '1', 'verb', 'y', 'positive'), 'convincing': ('strongsubj', '1', 'noun', 'n', 'positive'), 'convincingly': ('strongsubj', '1', 'anypos', 'n', 'positive'), 'convoluted': ('strongsubj', '1', 'adj', 'n', 'negative'), 'cooperate': ('weaksubj', '1', 'verb', 'y', 'positive'), 'cooperation': ('weaksubj', '1', 'noun', 'n', 'positive'), 'cooperative': ('weaksubj', '1', 'adj', 'n', 'positive'), 'cooperatively': ('weaksubj', '1', 'adverb', 'n', 'positive'), 'coping': ('weaksubj', '1', 'noun', 'n', 'negative'), 'cordial': ('weaksubj', '1', 'adj', 'n', 'positive'), 'cornerstone': ('strongsubj', '1', 'noun', 'n', 'positive'), 'correct': ('weaksubj', '1', 'anypos', 'y', 'positive'), 'corrective': ('weaksubj', '1', 'adj', 'n', 'neutral'), 'correctly': ('strongsubj', '1', 'anypos', 'y', 'positive'), 'corrode': ('weaksubj', '1', 'verb', 'y', 'negative'), 'corrosion': ('weaksubj', '1', 'noun', 'n', 'negative'), 'corrosive': ('weaksubj', '1', 'adj', 'n', 'negative'), 'corrupt': ('strongsubj', '1', 'verb', 'y', 'negative'), 'corruption': ('strongsubj', '1', 'noun', 'n', 'negative'), 'cost-effective': ('weaksubj', '1', 'adj', 'n', 'positive'), 'cost-saving': ('weaksubj', '1', 'adj', 'n', 'positive'), 'costly': ('weaksubj', '1', 'adj', 'n', 'negative'), 'could': ('weaksubj', '1', 'anypos', 'y', 'neutral'), 'counterproductive': ('strongsubj', '1', 'adj', 'n', 'negative'), 'coupists': ('strongsubj', '1', 'noun', 'n', 'negative'), 'courage': ('strongsubj', '1', 'noun', 'n', 'positive'), 'courageous': ('strongsubj', '1', 'adj', 'n', 'positive'), 'courageously': ('strongsubj', '1', 'anypos', 'n', 'positive'), 'courageousness': ('strongsubj', '1', 'noun', 'n', 'positive'), 'court': ('strongsubj', '1', 'verb', 'y', 'positive'), 'courteous': ('strongsubj', '1', 'adj', 'n', 'positive'), 'courtesy': ('strongsubj', '1', 'noun', 'n', 'positive'), 'courtly': ('strongsubj', '1', 'adj', 'n', 'positive'), 'covenant': ('weaksubj', '1', 'noun', 'n', 'positive'), 'covert': ('weaksubj', '1', 'adj', 'n', 'neutral'), 'covet': ('strongsubj', '1', 'verb', 'y', 'both'), 'coveting': ('strongsubj', '1', 'adj', 'n', 'both'), 'covetingly': ('strongsubj', '1', 'anypos', 'n', 'both'), 'covetous': ('strongsubj', '1', 'anypos', 'n', 'negative'), 'covetously': ('strongsubj', '1', 'anypos', 'n', 'both'), 'cow': ('weaksubj', '1', 'verb', 'y', 'negative'), 'coward': ('strongsubj', '1', 'noun', 'n', 'negative'), 'cowardly': ('strongsubj', '1', 'anypos', 'n', 'negative'), 'cozy': ('strongsubj', '1', 'adj', 'n', 'positive'), 'crackdown': ('weaksubj', '1', 'noun', 'n', 'negative'), 'crafty': ('strongsubj', '1', 'adj', 'n', 'negative'), 'cramped': ('weaksubj', '1', 'adj', 'n', 'negative'), 'cranky': ('strongsubj', '1', 'adj', 'n', 'negative'), 'crass': ('strongsubj', '1', 'adj', 'n', 'negative'), 'crave': ('strongsubj', '1', 'verb', 'y', 'positive'), 'craven': ('strongsubj', '1', 'anypos', 'y', 'negative'), 'cravenly': ('strongsubj', '1', 'anypos', 'n', 'negative'), 'craving': ('strongsubj', '1', 'noun', 'n', 'positive'), 'craze': ('strongsubj', '1', 'noun', 'n', 'negative'), 'crazily': ('strongsubj', '1', 'anypos', 'n', 'negative'), 'craziness': ('strongsubj', '1', 'noun', 'n', 'negative'), 'crazy': ('strongsubj', '1', 'anypos', 'n', 'negative'), 'creative': ('strongsubj', '1', 'adj', 'n', 'positive'), 'credence': ('strongsubj', '1', 'noun', 'n', 'positive'), 'credible': ('strongsubj', '1', 'adj', 'n', 'positive'), 'credulous': ('strongsubj', '1', 'adj', 'n', 'negative'), 'crime': ('weaksubj', '1', 'noun', 'n', 'negative'), 'criminal': ('weaksubj', '1', 'noun', 'n', 'negative'), 'cringe': ('strongsubj', '1', 'verb', 'y', 'negative'), 'cripple': ('strongsubj', '1', 'verb', 'y', 'negative'), 'crippling': ('strongsubj', '1', 'adj', 'n', 'negative'), 'crisis': ('weaksubj', '1', 'noun', 'n', 'negative'), 'crisp': ('weaksubj', '1', 'adj', 'n', 'positive'), 'critic': ('strongsubj', '1', 'noun', 'n', 'negative'), 'critical': ('strongsubj', '1', 'anypos', 'y', 'negative'), 'criticism': ('strongsubj', '1', 'noun', 'n', 'negative'), 'criticisms': ('strongsubj', '1', 'noun', 'n', 'negative'), 'criticize': ('strongsubj', '1', 'verb', 'y', 'negative'), 'critics': ('strongsubj', '1', 'noun', 'n', 'negative'), 'crook': ('strongsubj', '1', 'noun', 'n', 'negative'), 'crooked': ('strongsubj', '1', 'adj', 'n', 'negative'), 'cross': ('strongsubj', '1', 'adj', 'n', 'negative'), 'crowded': ('weaksubj', '1', 'adj', 'n', 'negative'), 'crude': ('weaksubj', '1', 'adj', 'n', 'negative'), 'cruel': ('strongsubj', '1', 'adj', 'n', 'negative'), 'cruelties': ('strongsubj', '1', 'noun', 'n', 'negative'), 'cruelty': ('strongsubj', '1', 'noun', 'n', 'negative'), 'crumble': ('weaksubj', '1', 'verb', 'y', 'negative'), 'crumple': ('weaksubj', '1', 'verb', 'y', 'negative'), 'crusade': ('strongsubj', '1', 'noun', 'n', 'positive'), 'crusader': ('strongsubj', '1', 'noun', 'n', 'positive'), 'crush': ('weaksubj', '1', 'verb', 'y', 'negative'), 'crushing': ('weaksubj', '1', 'adj', 'n', 'negative'), 'cry': ('strongsubj', '1', 'verb', 'y', 'negative'), 'culpable': ('strongsubj', '1', 'adj', 'n', 'negative'), 'cuplrit': ('strongsubj', '1', 'noun', 'n', 'negative'), 'cumbersome': ('strongsubj', '1', 'adj', 'n', 'negative'), 'cure-all': ('strongsubj', '1', 'noun', 'n', 'positive'), 'curious': ('strongsubj', '1', 'anypos', 'y', 'positive'), 'curiously': ('strongsubj', '1', 'anypos', 'y', 'positive'), 'curse': ('strongsubj', '1', 'verb', 'y', 'negative'), 'cursed': ('strongsubj', '1', 'anypos', 'n', 'negative'), 'curses': ('strongsubj', '1', 'noun', 'n', 'negative'), 'cursory': ('weaksubj', '1', 'adj', 'n', 'negative'), 'curt': ('weaksubj', '1', 'adj', 'n', 'negative'), 'cuss': ('strongsubj', '1', 'verb', 'y', 'negative'), 'cut': ('weaksubj', '1', 'verb', 'y', 'negative'), 'cute': ('strongsubj', '1', 'adj', 'n', 'positive'), 'cutthroat': ('strongsubj', '1', 'adj', 'n', 'negative'), 'cynical': ('strongsubj', '1', 'adj', 'n', 'negative'), 'cynicism': ('strongsubj', '1', 'noun', 'n', 'negative'), 'damage': ('weaksubj', '1', 'verb', 'n', 'negative'), 'damaging': ('weaksubj', '1', 'adj', 'n', 'negative'), 'damn': ('strongsubj', '1', 'verb', 'y', 'negative'), 'damnable': ('strongsubj', '1', 'anypos', 'n', 'negative'), 'damnably': ('strongsubj', '1', 'anypos', 'n', 'negative'), 'damnation': ('strongsubj', '1', 'anypos', 'n', 'negative'), 'damned': ('strongsubj', '1', 'anypos', 'n', 'negative'), 'damning': ('strongsubj', '1', 'anypos', 'n', 'negative'), 'dance': ('weaksubj', '1', 'verb', 'y', 'positive'), 'danger': ('weaksubj', '1', 'noun', 'n', 'negative'), 'dangerous': ('weaksubj', '1', 'adj', 'n', 'negative'), 'dangerousness': ('strongsubj', '1', 'noun', 'n', 'negative'), 'dangle': ('strongsubj', '1', 'verb', 'y', 'negative'), 'dare': ('strongsubj', '1', 'verb', 'y', 'positive'), 'daring': ('strongsubj', '1', 'anypos', 'n', 'positive'), 'daringly': ('strongsubj', '1', 'anypos', 'n', 'positive'), 'dark': ('weaksubj', '1', 'adj', 'n', 'negative'), 'darken': ('weaksubj', '1', 'verb', 'y', 'negative'), 'darkness': ('weaksubj', '1', 'noun', 'n', 'negative'), 'darling': ('strongsubj', '1', 'anypos', 'y', 'positive'), 'darn': ('strongsubj', '1', 'anypos', 'y', 'negative'), 'dash': ('weaksubj', '1', 'verb', 'y', 'negative'), 'dashing': ('strongsubj', '1', 'adj', 'n', 'positive'), 'dastard': ('strongsubj', '1', 'noun', 'n', 'negative'), 'dastardly': ('strongsubj', '1', 'anypos', 'y', 'negative'), 'daunt': ('strongsubj', '1', 'verb', 'y', 'negative'), 'daunting': ('strongsubj', '1', 'anypos', 'n', 'negative'), 'dauntingly': ('strongsubj', '1', 'anypos', 'n', 'negative'), 'dauntless': ('strongsubj', '1', 'adj', 'n', 'positive'), 'dawdle': ('strongsubj', '1', 'verb', 'y', 'negative'), 'dawn': ('weaksubj', '1', 'verb', 'y', 'positive'), 'daydream': ('strongsubj', '1', 'verb', 'y', 'positive'), 'daydreamer': ('strongsubj', '1', 'anypos', 'y', 'positive'), 'daze': ('strongsubj', '1', 'verb', 'y', 'negative'), 'dazed': ('strongsubj', '1', 'adj', 'n', 'negative'), 'dazzle': ('strongsubj', '1', 'verb', 'y', 'positive'), 'dazzled': ('strongsubj', '1', 'adj', 'n', 'positive'), 'dazzling': ('strongsubj', '1', 'anypos', 'n', 'positive'), 'dead': ('weaksubj', '1', 'adj', 'n', 'negative'), 'deadbeat': ('strongsubj', '1', 'adj', 'n', 'negative'), 'deadlock': ('strongsubj', '1', 'verb', 'y', 'negative'), 'deadly': ('weaksubj', '1', 'adj', 'n', 'negative'), 'deadweight': ('strongsubj', '1', 'adj', 'n', 'negative'), 'deaf': ('weaksubj', '1', 'adj', 'n', 'negative'), 'deal': ('weaksubj', '1', 'noun', 'n', 'positive'), 'dear': ('strongsubj', '1', 'adj', 'n', 'positive'), 'dearth': ('strongsubj', '1', 'noun', 'n', 'negative'), 'death': ('weaksubj', '1', 'noun', 'n', 'negative'), 'debacle': ('strongsubj', '1', 'noun', 'n', 'negative'), 'debase': ('strongsubj', '1', 'verb', 'y', 'negative'), 'debasement': ('strongsubj', '1', 'noun', 'n', 'negative'), 'debaser': ('strongsubj', '1', 'noun', 'n', 'negative'), 'debatable': ('strongsubj', '1', 'anypos', 'n', 'negative'), 'debate': ('strongsubj', '1', 'verb', 'y', 'negative'), 'debauch': ('strongsubj', '1', 'verb', 'y', 'negative'), 'debaucher': ('strongsubj', '1', 'noun', 'n', 'negative'), 'debauchery': ('strongsubj', '1', 'noun', 'n', 'negative'), 'debilitate': ('weaksubj', '1', 'verb', 'y', 'negative'), 'debilitating': ('weaksubj', '1', 'adj', 'n', 'negative'), 'debility': ('weaksubj', '1', 'noun', 'n', 'negative'), 'decadence': ('strongsubj', '1', 'noun', 'n', 'negative'), 'decadent': ('strongsubj', '1', 'adj', 'n', 'negative'), 'decay': ('strongsubj', '1', 'verb', 'y', 'negative'), 'decayed': ('strongsubj', '1', 'anypos', 'n', 'negative'), 'deceit': ('strongsubj', '1', 'noun', 'n', 'negative'), 'deceitful': ('strongsubj', '1', 'anypos', 'n', 'negative'), 'deceitfully': ('strongsubj', '1', 'anypos', 'n', 'negative'), 'deceitfulness': ('strongsubj', '1', 'anypos', 'n', 'negative'), 'deceiving': ('strongsubj', '1', 'adj', 'n', 'negative'), 'deceive': ('strongsubj', '1', 'verb', 'y', 'negative'), 'deceiver': ('strongsubj', '1', 'noun', 'n', 'negative'), 'deceivers': ('strongsubj', '1', 'noun', 'n', 'negative'), 'decent': ('weaksubj', '1', 'adj', 'n', 'positive'), 'decency': ('weaksubj', '1', 'noun', 'n', 'positive'), 'deception': ('strongsubj', '1', 'noun', 'n', 'negative'), 'deceptive': ('strongsubj', '1', 'noun', 'n', 'negative'), 'deceptively': ('strongsubj', '1', 'anypos', 'n', 'negative'), 'decide': ('weaksubj', '1', 'verb', 'y', 'neutral'), 'decisive': ('weaksubj', '1', 'adj', 'n', 'positive'), 'decisiveness': ('weaksubj', '1', 'noun', 'n', 'positive'), 'declaim': ('strongsubj', '1', 'verb', 'y', 'negative'), 'decline': ('weaksubj', '1', 'verb', 'y', 'negative'), 'declining': ('weaksubj', '1', 'adj', 'n', 'negative'), 'decrease': ('weaksubj', '1', 'verb', 'y', 'negative'), 'decreasing': ('weaksubj', '1', 'adj', 'n', 'negative'), 'decrement': ('weaksubj', '1', 'noun', 'n', 'negative'), 'decrepit': ('strongsubj', '1', 'adj', 'n', 'negative'), 'decrepitude': ('strongsubj', '1', 'noun', 'n', 'negative'), 'decry': ('strongsubj', '1', 'verb', 'y', 'negative'), 'dedicated': ('strongsubj', '1', 'adj', 'n', 'positive'), 'deduce': ('strongsubj', '1', 'verb', 'y', 'neutral'), 'deep': ('weaksubj', '1', 'noun', 'n', 'negative'), 'deeply': ('strongsubj', '1', 'anypos', 'n', 'neutral'), 'deepening': ('strongsubj', '1', 'noun', 'n', 'negative'), 'defamation': ('strongsubj', '1', 'noun', 'n', 'negative'), 'defamations': ('strongsubj', '1', 'noun', 'n', 'negative'), 'defamatory': ('strongsubj', '1', 'anypos', 'n', 'negative'), 'defame': ('strongsubj', '1', 'verb', 'y', 'negative'), 'defeat': ('weaksubj', '1', 'verb', 'y', 'negative'), 'defect': ('weaksubj', '1', 'noun', 'n', 'negative'), 'defective': ('strongsubj', '1', 'adj', 'n', 'negative'), 'defend': ('weaksubj', '1', 'verb', 'y', 'positive'), 'defender': ('strongsubj', '1', 'noun', 'n', 'positive'), 'defensive': ('weaksubj', '1', 'adj', 'n', 'negative'), 'deference': ('strongsubj', '1', 'noun', 'n', 'positive'), 'defense': ('weaksubj', '1', 'noun', 'n', 'positive'), 'defiance': ('strongsubj', '1', 'noun', 'n', 'negative'), 'defiant': ('strongsubj', '1', 'adj', 'n', 'negative'), 'defiantly': ('strongsubj', '1', 'anypos', 'n', 'negative'), 'deficiency': ('weaksubj', '1', 'noun', 'n', 'negative'), 'deficient': ('weaksubj', '1', 'adj', 'n', 'negative'), 'defile': ('strongsubj', '1', 'verb', 'y', 'negative'), 'defiler': ('strongsubj', '1', 'noun', 'n', 'negative'), 'definite': ('weaksubj', '1', 'adj', 'n', 'positive'), 'definitely': ('weaksubj', '1', 'anypos', 'y', 'positive'), 'definitive': ('weaksubj', '1', 'noun', 'n', 'positive'), 'definitively': ('strongsubj', '1', 'anypos', 'n', 'positive'), 'deflationary': ('weaksubj', '1', 'adj', 'n', 'positive'), 'deform': ('weaksubj', '1', 'verb', 'y', 'negative'), 'deformed': ('weaksubj', '1', 'adj', 'n', 'negative'), 'defrauding': ('strongsubj', '1', 'noun', 'n', 'negative'), 'deft': ('strongsubj', '1', 'adj', 'n', 'positive'), 'defunct': ('strongsubj', '1', 'adj', 'n', 'negative'), 'defy': ('strongsubj', '1', 'verb', 'y', 'negative'), 'degenerate': ('strongsubj', '1', 'verb', 'y', 'negative'), 'degenerately': ('strongsubj', '1', 'anypos', 'n', 'negative'), 'degeneration': ('strongsubj', '1', 'noun', 'n', 'negative'), 'degradation': ('strongsubj', '1', 'noun', 'n', 'negative'), 'degrade': ('strongsubj', '1', 'verb', 'y', 'negative'), 'degrading': ('strongsubj', '1', 'adj', 'n', 'negative'), 'degradingly': ('strongsubj', '1', 'anypos', 'n', 'negative'), 'dehumanization': ('strongsubj', '1', 'noun', 'n', 'negative'), 'dehumanize': ('strongsubj', '1', 'verb', 'y', 'negative'), 'deign': ('strongsubj', '1', 'verb', 'y', 'negative'), 'deject': ('strongsubj', '1', 'verb', 'y', 'negative'), 'dejected': ('strongsubj', '1', 'adj', 'n', 'negative'), 'dejectedly': ('strongsubj', '1', 'adj', 'n', 'negative'), 'dejection': ('strongsubj', '1', 'noun', 'n', 'negative'), 'delectable': ('strongsubj', '1', 'adj', 'n', 'positive'), 'delicacy': ('weaksubj', '1', 'noun', 'n', 'positive'), 'delicate': ('weaksubj', '1', 'adj', 'n', 'positive'), 'delicious': ('strongsubj', '1', 'adj', 'n', 'positive'), 'delight': ('strongsubj', '1', 'verb', 'y', 'positive'), 'delighted': ('strongsubj', '1', 'adj', 'n', 'positive'), 'delightful': ('strongsubj', '1', 'anypos', 'n', 'positive'), 'delightfully': ('strongsubj', '1', 'anypos', 'n', 'positive'), 'delightfulness': ('strongsubj', '1', 'noun', 'n', 'positive'), 'delinquency': ('weaksubj', '1', 'noun', 'n', 'negative'), 'delinquent': ('weaksubj', '1', 'adj', 'n', 'negative'), 'delirious': ('strongsubj', '1', 'adj', 'n', 'negative'), 'delirium': ('strongsubj', '1', 'noun', 'n', 'negative'), 'delude': ('strongsubj', '1', 'verb', 'y', 'negative'), 'deluded': ('strongsubj', '1', 'adj', 'n', 'negative'), 'deluge': ('weaksubj', '1', 'noun', 'n', 'negative'), 'delusion': ('strongsubj', '1', 'noun', 'n', 'negative'), 'delusional': ('strongsubj', '1', 'anypos', 'y', 'negative'), 'delusions': ('strongsubj', '1', 'noun', 'n', 'negative'), 'demand': ('strongsubj', '1', 'verb', 'n', 'both'), 'demands': ('weaksubj', '1', 'noun', 'n', 'both'), 'demean': ('strongsubj', '1', 'verb', 'y', 'negative'), 'demeaning': ('strongsubj', '1', 'adj', 'n', 'negative'), 'demise': ('strongsubj', '1', 'noun', 'n', 'negative'), 'democratic': ('weaksubj', '1', 'adj', 'n', 'positive'), 'demolish': ('weaksubj', '1', 'verb', 'y', 'negative'), 'demolisher': ('weaksubj', '1', 'noun', 'n', 'negative'), 'demon': ('strongsubj', '1', 'noun', 'n', 'negative'), 'demonic': ('strongsubj', '1', 'adj', 'n', 'negative'), 'demonize': ('strongsubj', '1', 'verb', 'y', 'negative'), 'demoralize': ('strongsubj', '1', 'verb', 'y', 'negative'), 'demoralizing': ('strongsubj', '1', 'anypos', 'n', 'negative'), 'demoralizingly': ('strongsubj', '1', 'anypos', 'n', 'negative'), 'demystify': ('strongsubj', '1', 'verb', 'y', 'positive'), 'denial': ('strongsubj', '1', 'noun', 'n', 'negative'), 'denigrate': ('strongsubj', '1', 'verb', 'y', 'negative'), 'deny': ('strongsubj', '1', 'verb', 'y', 'negative'), 'denounce': ('strongsubj', '1', 'verb', 'y', 'negative'), 'denunciate': ('strongsubj', '1', 'verb', 'y', 'negative'), 'denunciation': ('strongsubj', '1', 'noun', 'n', 'negative'), 'denunciations': ('strongsubj', '1', 'noun', 'n', 'negative'), 'dependable': ('weaksubj', '1', 'adj', 'n', 'positive'), 'dependent': ('weaksubj', '1', 'noun', 'n', 'neutral'), 'deplete': ('weaksubj', '1', 'verb', 'y', 'negative'), 'deplorable': ('strongsubj', '1', 'anypos', 'y', 'negative'), 'deplorably': ('strongsubj', '1', 'anypos', 'n', 'negative'), 'deplore': ('strongsubj', '1', 'verb', 'y', 'negative'), 'deploring': ('strongsubj', '1', 'adj', 'n', 'negative'), 'deploringly': ('strongsubj', '1', 'anypos', 'n', 'negative'), 'deprave': ('strongsubj', '1', 'verb', 'y', 'negative'), 'depraved': ('strongsubj', '1', 'adj', 'n', 'negative'), 'depravedly': ('strongsubj', '1', 'anypos', 'n', 'negative'), 'deprecate': ('strongsubj', '1', 'verb', 'y', 'negative'), 'depress': ('weaksubj', '1', 'verb', 'y', 'negative'), 'depressed': ('strongsubj', '1', 'adj', 'n', 'negative'), 'depressing': ('strongsubj', '1', 'anypos', 'n', 'negative'), 'depressingly': ('strongsubj', '1', 'anypos', 'y', 'negative'), 'depression': ('weaksubj', '1', 'noun', 'n', 'negative'), 'deprive': ('strongsubj', '1', 'verb', 'y', 'negative'), 'deprived': ('strongsubj', '1', 'adj', 'n', 'negative'), 'deride': ('strongsubj', '1', 'verb', 'y', 'negative'), 'derision': ('strongsubj', '1', 'noun', 'n', 'negative'), 'derisive': ('strongsubj', '1', 'anypos', 'n', 'negative'), 'derisively': ('strongsubj', '1', 'anypos', 'n', 'negative'), 'derisiveness': ('strongsubj', '1', 'anypos', 'n', 'negative'), 'derogatory': ('strongsubj', '1', 'adj', 'n', 'negative'), 'desecrate': ('strongsubj', '1', 'verb', 'y', 'negative'), 'deserve': ('strongsubj', '1', 'verb', 'y', 'positive'), 'deserved': ('strongsubj', '1', 'adj', 'n', 'positive'), 'deservedly': ('strongsubj', '1', 'adverb', 'n', 'positive'), 'deserving': ('strongsubj', '1', 'adj', 'n', 'positive'), 'desert': ('strongsubj', '1', 'verb', 'y', 'negative'), 'desertion': ('strongsubj', '1', 'noun', 'n', 'negative'), 'desiccate': ('strongsubj', '1', 'verb', 'n', 'negative'), 'desiccated': ('strongsubj', '1', 'adj', 'n', 'negative'), 'desirable': ('strongsubj', '1', 'adj', 'n', 'positive'), 'desire': ('strongsubj', '1', 'verb', 'y', 'positive'), 'desirous': ('strongsubj', '1', 'anypos', 'n', 'positive'), 'desolate': ('strongsubj', '1', 'adj', 'n', 'negative'), 'desolately': ('strongsubj', '1', 'anypos', 'n', 'negative'), 'desolation': ('strongsubj', '1', 'noun', 'n', 'negative'), 'despair': ('strongsubj', '1', 'verb', 'y', 'negative'), 'despairing': ('strongsubj', '1', 'adj', 'n', 'negative'), 'despairingly': ('strongsubj', '1', 'anypos', 'n', 'negative'), 'desperate': ('strongsubj', '1', 'adj', 'n', 'negative'), 'desperately': ('strongsubj', '1', 'anypos', 'y', 'negative'), 'desperation': ('strongsubj', '1', 'noun', 'n', 'negative'), 'despicable': ('strongsubj', '1', 'adj', 'n', 'negative'), 'despicably': ('strongsubj', '1', 'anypos', 'y', 'negative'), 'despise': ('strongsubj', '1', 'verb', 'y', 'negative'), 'despised': ('strongsubj', '1', 'anypos', 'n', 'negative'), 'despite': ('strongsubj', '1', 'anypos', 'n', 'negative'), 'despoil': ('strongsubj', '1', 'verb', 'y', 'negative'), 'despoiler': ('strongsubj', '1', 'noun', 'n', 'negative'), 'despondence': ('strongsubj', '1', 'noun', 'n', 'negative'), 'despondency': ('strongsubj', '1', 'noun', 'n', 'negative'), 'despondent': ('strongsubj', '1', 'adj', 'n', 'negative'), 'despondently': ('strongsubj', '1', 'anypos', 'n', 'negative'), 'despot': ('strongsubj', '1', 'noun', 'n', 'negative'), 'despotic': ('strongsubj', '1', 'adj', 'n', 'negative'), 'despotism': ('strongsubj', '1', 'noun', 'n', 'negative'), 'destabilisation': ('strongsubj', '1', 'noun', 'n', 'negative'), 'destine': ('weaksubj', '1', 'verb', 'y', 'positive'), 'destined': ('weaksubj', '1', 'adj', 'n', 'positive'), 'destinies': ('strongsubj', '1', 'noun', 'n', 'positive'), 'destiny': ('weaksubj', '1', 'noun', 'n', 'neutral'), 'destitute': ('strongsubj', '1', 'adj', 'n', 'negative'), 'destitution': ('strongsubj', '1', 'noun', 'n', 'negative'), 'destroy': ('weaksubj', '1', 'verb', 'y', 'negative'), 'destroyer': ('strongsubj', '1', 'noun', 'n', 'negative'), 'destruction': ('weaksubj', '1', 'noun', 'n', 'negative'), 'destructive': ('strongsubj', '1', 'adj', 'n', 'negative'), 'desultory': ('strongsubj', '1', 'adj', 'n', 'negative'), 'deter': ('weaksubj', '1', 'verb', 'y', 'negative'), 'deteriorate': ('weaksubj', '1', 'adj', 'n', 'negative'), 'deteriorating': ('weaksubj', '1', 'noun', 'n', 'negative'), 'deterioration': ('weaksubj', '1', 'noun', 'n', 'negative'), 'determination': ('strongsubj', '1', 'noun', 'n', 'positive'), 'deterrent': ('weaksubj', '1', 'anypos', 'n', 'negative'), 'detest': ('strongsubj', '1', 'verb', 'y', 'negative'), 'detestable': ('strongsubj', '1', 'anypos', 'n', 'negative'), 'detestably': ('strongsubj', '1', 'anypos', 'n', 'negative'), 'detract': ('weaksubj', '1', 'verb', 'y', 'negative'), 'detraction': ('weaksubj', '1', 'noun', 'n', 'negative'), 'detriment': ('strongsubj', '1', 'noun', 'n', 'negative'), 'detrimental': ('strongsubj', '1', 'adj', 'n', 'negative'), 'devastate': ('strongsubj', '1', 'anypos', 'y', 'negative'), 'devastated': ('strongsubj', '1', 'anypos', 'n', 'negative'), 'devastating': ('strongsubj', '1', 'anypos', 'n', 'negative'), 'devastatingly': ('strongsubj', '1', 'anypos', 'n', 'negative'), 'devastation': ('weaksubj', '1', 'noun', 'n', 'negative'), 'deviate': ('weaksubj', '1', 'verb', 'y', 'negative'), 'deviation': ('weaksubj', '1', 'noun', 'n', 'negative'), 'devil': ('strongsubj', '1', 'noun', 'n', 'negative'), 'devilish': ('strongsubj', '1', 'adj', 'n', 'negative'), 'devilishly': ('strongsubj', '1', 'anypos', 'n', 'negative'), 'devilment': ('strongsubj', '1', 'noun', 'n', 'negative'), 'devilry': ('strongsubj', '1', 'noun', 'n', 'negative'), 'devious': ('strongsubj', '1', 'anypos', 'n', 'negative'), 'deviously': ('strongsubj', '1', 'anypos', 'n', 'negative'), 'deviousness': ('strongsubj', '1', 'noun', 'n', 'negative'), 'devoid': ('strongsubj', '1', 'adj', 'n', 'negative'), 'devote': ('strongsubj', '1', 'verb', 'y', 'positive'), 'devoted': ('strongsubj', '1', 'adj', 'n', 'positive'), 'devotee': ('strongsubj', '1', 'noun', 'n', 'positive'), 'devotion': ('strongsubj', '1', 'noun', 'n', 'positive'), 'devout': ('weaksubj', '1', 'adj', 'n', 'positive'), 'dexterity': ('weaksubj', '1', 'noun', 'n', 'positive'), 'dexterous': ('strongsubj', '1', 'adj', 'n', 'positive'), 'dexterously': ('strongsubj', '1', 'adverb', 'n', 'positive'), 'dextrous': ('strongsubj', '1', 'adj', 'n', 'positive'), 'diabolic': ('strongsubj', '1', 'adj', 'n', 'negative'), 'diabolical': ('strongsubj', '1', 'adj', 'n', 'negative'), 'diabolically': ('strongsubj', '1', 'adverb', 'n', 'negative'), 'diametrically': ('strongsubj', '1', 'adverb', 'n', 'negative'), 'diatribe': ('strongsubj', '1', 'anypos', 'n', 'negative'), 'diatribes': ('strongsubj', '1', 'anypos', 'n', 'negative'), 'dictator': ('weaksubj', '1', 'noun', 'n', 'negative'), 'dictatorial': ('weaksubj', '1', 'adj', 'n', 'negative'), 'differ': ('weaksubj', '1', 'verb', 'y', 'negative'), 'difference': ('weaksubj', '1', 'noun', 'n', 'neutral'), 'difficult': ('weaksubj', '1', 'adj', 'n', 'negative'), 'difficulties': ('weaksubj', '1', 'noun', 'n', 'negative'), 'difficulty': ('strongsubj', '1', 'noun', 'n', 'negative'), 'diffidence': ('strongsubj', '1', 'noun', 'n', 'negative'), 'dig': ('weaksubj', '1', 'verb', 'y', 'positive'), 'dignified': ('strongsubj', '1', 'adj', 'n', 'positive'), 'dignify': ('weaksubj', '1', 'verb', 'y', 'positive'), 'dignity': ('strongsubj', '1', 'noun', 'n', 'positive'), 'digress': ('strongsubj', '1', 'verb', 'y', 'negative'), 'dilapidated': ('strongsubj', '1', 'adj', 'n', 'negative'), 'dilemma': ('weaksubj', '1', 'noun', 'n', 'negative'), 'diligence': ('weaksubj', '1', 'noun', 'n', 'positive'), 'diligent': ('weaksubj', '1', 'adj', 'n', 'positive'), 'diligently': ('weaksubj', '1', 'adverb', 'n', 'positive'), 'dilly-dally': ('strongsubj', '1', 'verb', 'y', 'negative'), 'dim': ('weaksubj', '1', 'anypos', 'y', 'negative'), 'diminish': ('weaksubj', '1', 'verb', 'y', 'negative'), 'diminishing': ('weaksubj', '1', 'adj', 'n', 'negative'), 'din': ('weaksubj', '1', 'noun', 'n', 'negative'), 'dinky': ('weaksubj', '1', 'adj', 'n', 'negative'), 'diplomacy': ('weaksubj', '1', 'noun', 'n', 'neutral'), 'diplomatic': ('weaksubj', '1', 'noun', 'n', 'positive'), 'dire': ('strongsubj', '1', 'adj', 'n', 'negative'), 'direct': ('weaksubj', '1', 'adj', 'n', 'neutral'), 'direly': ('strongsubj', '1', 'anypos', 'n', 'negative'), 'direness': ('strongsubj', '1', 'noun', 'n', 'negative'), 'dirt': ('weaksubj', '1', 'noun', 'n', 'negative'), 'dirty': ('weaksubj', '1', 'anypos', 'y', 'negative'), 'disable': ('weaksubj', '1', 'verb', 'y', 'negative'), 'disabled': ('weaksubj', '1', 'adj', 'n', 'negative'), 'disaccord': ('strongsubj', '1', 'noun', 'n', 'negative'), 'disadvantage': ('strongsubj', '1', 'noun', 'n', 'negative'), 'disadvantaged': ('weaksubj', '1', 'adj', 'n', 'negative'), 'disadvantageous': ('strongsubj', '1', 'noun', 'n', 'negative'), 'disaffect': ('strongsubj', '1', 'verb', 'y', 'negative'), 'disaffected': ('strongsubj', '1', 'adj', 'n', 'negative'), 'disaffirm': ('strongsubj', '1', 'verb', 'y', 'negative'), 'disagree': ('strongsubj', '1', 'verb', 'y', 'negative'), 'disagreeable': ('strongsubj', '1', 'anypos', 'y', 'negative'), 'disagreeably': ('strongsubj', '1', 'anypos', 'y', 'negative'), 'disagreement': ('strongsubj', '1', 'noun', 'n', 'negative'), 'disallow': ('strongsubj', '1', 'verb', 'y', 'negative'), 'disappoint': ('strongsubj', '1', 'verb', 'y', 'negative'), 'disappointed': ('strongsubj', '1', 'adj', 'n', 'negative'), 'disappointing': ('strongsubj', '1', 'anypos', 'n', 'negative'), 'disappointingly': ('strongsubj', '1', 'anypos', 'y', 'negative'), 'disappointment': ('strongsubj', '1', 'noun', 'n', 'negative'), 'disapprobation': ('strongsubj', '1', 'noun', 'n', 'negative'), 'disapproval': ('strongsubj', '1', 'noun', 'n', 'negative'), 'disapprove': ('strongsubj', '1', 'anypos', 'y', 'negative'), 'disapproving': ('strongsubj', '1', 'anypos', 'n', 'negative'), 'disarm': ('weaksubj', '1', 'verb', 'y', 'negative'), 'disarray': ('strongsubj', '1', 'noun', 'n', 'negative'), 'disaster': ('strongsubj', '1', 'noun', 'n', 'negative'), 'disastrous': ('strongsubj', '1', 'adj', 'n', 'negative'), 'disastrously': ('strongsubj', '1', 'anypos', 'n', 'negative'), 'disavow': ('strongsubj', '1', 'verb', 'y', 'negative'), 'disavowal': ('strongsubj', '1', 'noun', 'n', 'negative'), 'disbelief': ('strongsubj', '1', 'noun', 'n', 'negative'), 'disbelieve': ('strongsubj', '1', 'verb', 'y', 'negative'), 'disbeliever': ('strongsubj', '1', 'noun', 'n', 'negative'), 'discern': ('strongsubj', '1', 'verb', 'y', 'neutral'), 'discerning': ('strongsubj', '1', 'anypos', 'n', 'positive'), 'disclaim': ('strongsubj', '1', 'verb', 'y', 'negative'), 'discombobulate': ('strongsubj', '1', 'verb', 'y', 'negative'), 'discomfit': ('strongsubj', '1', 'verb', 'y', 'negative'), 'discomfititure': ('strongsubj', '1', 'noun', 'n', 'negative'), 'discomfort': ('weaksubj', '1', 'noun', 'n', 'negative'), 'discompose': ('weaksubj', '1', 'verb', 'y', 'negative'), 'disconcert': ('strongsubj', '1', 'verb', 'y', 'negative'), 'disconcerted': ('strongsubj', '1', 'adj', 'n', 'negative'), 'disconcerting': ('strongsubj', '1', 'anypos', 'n', 'negative'), 'disconcertingly': ('strongsubj', '1', 'anypos', 'n', 'negative'), 'disconsolate': ('strongsubj', '1', 'adj', 'n', 'negative'), 'disconsolately': ('strongsubj', '1', 'adverb', 'n', 'negative'), 'disconsolation': ('strongsubj', '1', 'noun', 'n', 'negative'), 'discontent': ('strongsubj', '1', 'noun', 'n', 'negative'), 'discontented': ('strongsubj', '1', 'adj', 'n', 'negative'), 'discontentedly': ('strongsubj', '1', 'adverb', 'n', 'negative'), 'discontinuity': ('strongsubj', '1', 'noun', 'n', 'negative'), 'discord': ('strongsubj', '1', 'noun', 'n', 'negative'), 'discordance': ('strongsubj', '1', 'noun', 'n', 'negative'), 'discordant': ('strongsubj', '1', 'adj', 'n', 'negative'), 'discountenance': ('strongsubj', '1', 'noun', 'n', 'negative'), 'discourage': ('strongsubj', '1', 'verb', 'y', 'negative'), 'discouragement': ('strongsubj', '1', 'noun', 'n', 'negative'), 'discouraging': ('strongsubj', '1', 'anypos', 'n', 'negative'), 'discouragingly': ('strongsubj', '1', 'anypos', 'n', 'negative'), 'discourteous': ('strongsubj', '1', 'adj', 'n', 'negative'), 'discourteously': ('strongsubj', '1', 'adj', 'n', 'negative'), 'discredit': ('strongsubj', '1', 'verb', 'y', 'negative'), 'discreet': ('weaksubj', '1', 'noun', 'n', 'positive'), 'discrepant': ('weaksubj', '1', 'adj', 'n', 'negative'), 'discretion': ('weaksubj', '1', 'noun', 'n', 'positive'), 'discriminate': ('weaksubj', '1', 'verb', 'y', 'negative'), 'discriminating': ('weaksubj', '1', 'adj', 'n', 'positive'), 'discriminatingly': ('weaksubj', '1', 'adverb', 'n', 'positive'), 'discrimination': ('weaksubj', '1', 'noun', 'n', 'negative'), 'discriminatory': ('strongsubj', '1', 'adj', 'n', 'negative'), 'disdain': ('strongsubj', '1', 'verb', 'y', 'negative'), 'disdainful': ('strongsubj', '1', 'anypos', 'n', 'negative'), 'disdainfully': ('strongsubj', '1', 'anypos', 'n', 'negative'), 'disease': ('weaksubj', '1', 'noun', 'n', 'negative'), 'diseased': ('weaksubj', '1', 'adj', 'n', 'negative'), 'disfavor': ('strongsubj', '1', 'verb', 'y', 'negative'), 'disgrace': ('strongsubj', '1', 'verb', 'y', 'negative'), 'disgraced': ('strongsubj', '1', 'adj', 'n', 'negative'), 'disgraceful': ('strongsubj', '1', 'anypos', 'n', 'negative'), 'disgracefully': ('strongsubj', '1', 'anypos', 'n', 'negative'), 'disgruntle': ('strongsubj', '1', 'verb', 'y', 'negative'), 'disgruntled': ('strongsubj', '1', 'adj', 'n', 'negative'), 'disgust': ('strongsubj', '1', 'verb', 'y', 'negative'), 'disgusted': ('strongsubj', '1', 'adj', 'n', 'negative'), 'disgustedly': ('strongsubj', '1', 'anypos', 'n', 'negative'), 'disgustful': ('strongsubj', '1', 'adj', 'n', 'negative'), 'disgustfully': ('strongsubj', '1', 'anypos', 'n', 'negative'), 'disgusting': ('strongsubj', '1', 'anypos', 'n', 'negative'), 'disgustingly': ('strongsubj', '1', 'anypos', 'n', 'negative'), 'dishearten': ('strongsubj', '1', 'verb', 'y', 'negative'), 'disheartening': ('strongsubj', '1', 'anypos', 'n', 'negative'), 'dishearteningly': ('strongsubj', '1', 'anypos', 'n', 'negative'), 'dishonest': ('strongsubj', '1', 'noun', 'n', 'negative'), 'dishonestly': ('strongsubj', '1', 'anypos', 'n', 'negative'), 'dishonesty': ('strongsubj', '1', 'noun', 'n', 'negative'), 'dishonor': ('strongsubj', '1', 'verb', 'y', 'negative'), 'dishonorable': ('strongsubj', '1', 'adj', 'n', 'negative'), 'dishonorablely': ('strongsubj', '1', 'adverb', 'n', 'negative'), 'disillusion': ('strongsubj', '1', 'verb', 'y', 'negative'), 'disillusioned': ('strongsubj', '1', 'adj', 'n', 'negative'), 'disinclination': ('strongsubj', '1', 'noun', 'n', 'negative'), 'disinclined': ('strongsubj', '1', 'anypos', 'n', 'negative'), 'disingenuous': ('strongsubj', '1', 'adj', 'n', 'negative'), 'disingenuously': ('strongsubj', '1', 'adverb', 'n', 'negative'), 'disintegrate': ('weaksubj', '1', 'verb', 'y', 'negative'), 'disinterested': ('strongsubj', '1', 'adj', 'n', 'negative'), 'disintegration': ('weaksubj', '1', 'noun', 'n', 'negative'), 'disinterest': ('strongsubj', '1', 'noun', 'n', 'negative'), 'dislike': ('strongsubj', '1', 'verb', 'y', 'negative'), 'dislocated': ('weaksubj', '1', 'adj', 'n', 'negative'), 'disloyal': ('strongsubj', '1', 'noun', 'n', 'negative'), 'disloyalty': ('strongsubj', '1', 'anypos', 'n', 'negative'), 'dismal': ('strongsubj', '1', 'adj', 'n', 'negative'), 'dismally': ('strongsubj', '1', 'anypos', 'n', 'negative'), 'dismalness': ('strongsubj', '1', 'noun', 'n', 'negative'), 'dismay': ('strongsubj', '1', 'verb', 'y', 'negative'), 'dismayed': ('strongsubj', '1', 'adj', 'n', 'negative'), 'dismaying': ('strongsubj', '1', 'anypos', 'n', 'negative'), 'dismayingly': ('strongsubj', '1', 'anypos', 'n', 'negative'), 'dismissive': ('strongsubj', '1', 'noun', 'n', 'negative'), 'dismissively': ('strongsubj', '1', 'anypos', 'n', 'negative'), 'disobedience': ('strongsubj', '1', 'noun', 'n', 'negative'), 'disobedient': ('strongsubj', '1', 'adj', 'n', 'negative'), 'disobey': ('strongsubj', '1', 'verb', 'y', 'negative'), 'disown': ('strongsubj', '1', 'verb', 'y', 'negative'), 'disorder': ('weaksubj', '1', 'verb', 'y', 'negative'), 'disordered': ('weaksubj', '1', 'adj', 'n', 'negative'), 'disorderly': ('weaksubj', '1', 'adj', 'n', 'negative'), 'disorganized': ('strongsubj', '1', 'adj', 'n', 'negative'), 'disorient': ('strongsubj', '1', 'verb', 'y', 'negative'), 'disoriented': ('strongsubj', '1', 'adj', 'n', 'negative'), 'disparage': ('strongsubj', '1', 'verb', 'y', 'negative'), 'disparaging': ('strongsubj', '1', 'adj', 'n', 'negative'), 'disparagingly': ('strongsubj', '1', 'anypos', 'n', 'negative'), 'dispensable': ('weaksubj', '1', 'adj', 'n', 'negative'), 'dispirit': ('strongsubj', '1', 'verb', 'y', 'negative'), 'dispirited': ('strongsubj', '1', 'adj', 'n', 'negative'), 'dispiritedly': ('strongsubj', '1', 'adverb', 'n', 'negative'), 'dispiriting': ('strongsubj', '1', 'anypos', 'y', 'negative'), 'displace': ('weaksubj', '1', 'verb', 'y', 'negative'), 'displaced': ('weaksubj', '1', 'adj', 'n', 'negative'), 'displease': ('strongsubj', '1', 'verb', 'y', 'negative'), 'displeasing': ('strongsubj', '1', 'adj', 'n', 'negative'), 'displeasure': ('strongsubj', '1', 'noun', 'n', 'negative'), 'disposition': ('strongsubj', '1', 'noun', 'n', 'neutral'), 'disproportionate': ('weaksubj', '1', 'adj', 'n', 'negative'), 'disprove': ('strongsubj', '1', 'verb', 'y', 'negative'), 'disputable': ('strongsubj', '1', 'anypos', 'n', 'negative'), 'dispute': ('strongsubj', '1', 'verb', 'y', 'negative'), 'disputed': ('strongsubj', '1', 'adj', 'n', 'negative'), 'disquiet': ('strongsubj', '1', 'verb', 'y', 'negative'), 'disquieting': ('strongsubj', '1', 'anypos', 'n', 'negative'), 'disquietingly': ('strongsubj', '1', 'anypos', 'n', 'negative'), 'disquietude': ('strongsubj', '1', 'noun', 'n', 'negative'), 'disregard': ('strongsubj', '1', 'noun', 'n', 'negative'), 'disregardful': ('strongsubj', '1', 'adj', 'n', 'negative'), 'disreputable': ('strongsubj', '1', 'adj', 'n', 'negative'), 'disrepute': ('strongsubj', '1', 'noun', 'n', 'negative'), 'disrespect': ('strongsubj', '1', 'verb', 'y', 'negative'), 'disrespectable': ('strongsubj', '1', 'adj', 'n', 'negative'), 'disrespectablity': ('strongsubj', '1', 'noun', 'n', 'negative'), 'disrespectful': ('strongsubj', '1', 'anypos', 'n', 'negative'), 'disrespectfully': ('strongsubj', '1', 'anypos', 'n', 'negative'), 'disrespectfulness': ('strongsubj', '1', 'noun', 'n', 'negative'), 'disrespecting': ('strongsubj', '1', 'noun', 'n', 'negative'), 'disrupt': ('strongsubj', '1', 'verb', 'y', 'negative'), 'disruption': ('strongsubj', '1', 'noun', 'n', 'negative'), 'disruptive': ('strongsubj', '1', 'adj', 'n', 'negative'), 'dissatisfaction': ('strongsubj', '1', 'noun', 'n', 'negative'), 'dissatisfactory': ('strongsubj', '1', 'adj', 'n', 'negative'), 'dissatisfied': ('strongsubj', '1', 'adj', 'n', 'negative'), 'dissatisfy': ('strongsubj', '1', 'verb', 'y', 'negative'), 'dissatisfying': ('strongsubj', '1', 'anypos', 'y', 'negative'), 'dissemble': ('strongsubj', '1', 'verb', 'y', 'negative'), 'dissembler': ('strongsubj', '1', 'noun', 'n', 'negative'), 'dissension': ('strongsubj', '1', 'noun', 'n', 'negative'), 'dissent': ('strongsubj', '1', 'noun', 'n', 'negative'), 'dissenter': ('strongsubj', '1', 'noun', 'n', 'negative'), 'dissention': ('strongsubj', '1', 'noun', 'n', 'negative'), 'disservice': ('strongsubj', '1', 'noun', 'n', 'negative'), 'dissidence': ('strongsubj', '1', 'noun', 'n', 'negative'), 'dissident': ('strongsubj', '1', 'noun', 'n', 'negative'), 'dissidents': ('strongsubj', '1', 'noun', 'n', 'negative'), 'dissocial': ('strongsubj', '1', 'adj', 'n', 'negative'), 'dissolute': ('strongsubj', '1', 'adj', 'n', 'negative'), 'dissolution': ('weaksubj', '1', 'noun', 'n', 'negative'), 'dissonance': ('strongsubj', '1', 'noun', 'n', 'negative'), 'dissonant': ('strongsubj', '1', 'adj', 'n', 'negative'), 'dissonantly': ('strongsubj', '1', 'adverb', 'n', 'negative'), 'dissuade': ('strongsubj', '1', 'verb', 'y', 'negative'), 'dissuasive': ('strongsubj', '1', 'adj', 'n', 'negative'), 'distaste': ('strongsubj', '1', 'noun', 'n', 'negative'), 'distasteful': ('strongsubj', '1', 'adj', 'n', 'negative'), 'distastefully': ('strongsubj', '1', 'adverb', 'n', 'negative'), 'distinct': ('weaksubj', '1', 'adj', 'n', 'positive'), 'distinction': ('weaksubj', '1', 'noun', 'n', 'positive'), 'distinctive': ('weaksubj', '1', 'noun', 'n', 'positive'), 'distinctly': ('weaksubj', '1', 'adj', 'n', 'neutral'), 'distinguish': ('weaksubj', '1', 'verb', 'y', 'positive'), 'distinguished': ('strongsubj', '1', 'adj', 'n', 'positive'), 'distort': ('strongsubj', '1', 'verb', 'y', 'negative'), 'distortion': ('strongsubj', '1', 'noun', 'n', 'negative'), 'distract': ('weaksubj', '1', 'verb', 'y', 'negative'), 'distracting': ('strongsubj', '1', 'adj', 'n', 'negative'), 'distraction': ('strongsubj', '1', 'noun', 'n', 'negative'), 'distraught': ('strongsubj', '1', 'adj', 'n', 'negative'), 'distraughtly': ('strongsubj', '1', 'anypos', 'n', 'negative'), 'distraughtness': ('strongsubj', '1', 'noun', 'n', 'negative'), 'distress': ('strongsubj', '1', 'verb', 'y', 'negative'), 'distressed': ('strongsubj', '1', 'adj', 'n', 'negative'), 'distressing': ('strongsubj', '1', 'adj', 'n', 'negative'), 'distressingly': ('strongsubj', '1', 'anypos', 'n', 'negative'), 'distrust': ('strongsubj', '1', 'verb', 'y', 'negative'), 'distrustful': ('strongsubj', '1', 'adj', 'n', 'negative'), 'distrusting': ('strongsubj', '1', 'anypos', 'n', 'negative'), 'disturb': ('strongsubj', '1', 'verb', 'y', 'negative'), 'disturbed': ('strongsubj', '1', 'adj', 'n', 'negative'), 'disturbed-let': ('strongsubj', '1', 'noun', 'n', 'negative'), 'disturbing': ('strongsubj', '1', 'anypos', 'n', 'negative'), 'disturbingly': ('strongsubj', '1', 'anypos', 'n', 'negative'), 'disunity': ('strongsubj', '1', 'noun', 'n', 'negative'), 'disvalue': ('strongsubj', '1', 'noun', 'n', 'negative'), 'divergent': ('weaksubj', '1', 'adj', 'n', 'negative'), 'diversified': ('weaksubj', '1', 'adj', 'n', 'positive'), 'divide': ('weaksubj', '1', 'verb', 'y', 'negative'), 'divided': ('weaksubj', '1', 'adj', 'n', 'negative'), 'divine': ('strongsubj', '1', 'anypos', 'y', 'positive'), 'divinely': ('strongsubj', '1', 'anypos', 'n', 'positive'), 'division': ('weaksubj', '1', 'noun', 'n', 'negative'), 'divisive': ('strongsubj', '1', 'adj', 'n', 'negative'), 'divisively': ('strongsubj', '1', 'adverb', 'n', 'negative'), 'divisiveness': ('strongsubj', '1', 'noun', 'n', 'negative'), 'divorce': ('weaksubj', '1', 'verb', 'y', 'negative'), 'divorced': ('weaksubj', '1', 'adj', 'n', 'negative'), 'dizzy': ('strongsubj', '1', 'adj', 'n', 'negative'), 'dizzing': ('strongsubj', '1', 'adj', 'n', 'negative'), 'dizzingly': ('strongsubj', '1', 'adverb', 'n', 'negative'), 'doddering': ('strongsubj', '1', 'adj', 'n', 'negative'), 'dodge': ('strongsubj', '1', 'noun', 'n', 'positive'), 'dodgey': ('strongsubj', '1', 'adj', 'n', 'negative'), 'dogged': ('strongsubj', '1', 'adj', 'n', 'negative'), 'doggedly': ('strongsubj', '1', 'adverb', 'n', 'negative'), 'dogmatic': ('strongsubj', '1', 'adj', 'n', 'negative'), 'doldrums': ('strongsubj', '1', 'noun', 'n', 'negative'), 'dominance': ('weaksubj', '1', 'noun', 'n', 'negative'), 'dominant': ('weaksubj', '1', 'noun', 'n', 'neutral'), 'dominate': ('weaksubj', '1', 'verb', 'y', 'negative'), 'domination': ('strongsubj', '1', 'noun', 'n', 'negative'), 'domineer': ('strongsubj', '1', 'verb', 'y', 'negative'), 'domineering': ('strongsubj', '1', 'noun', 'n', 'negative'), 'doom': ('strongsubj', '1', 'verb', 'y', 'negative'), 'doomsday': ('strongsubj', '1', 'noun', 'n', 'negative'), 'dope': ('weaksubj', '1', 'noun', 'n', 'negative'), 'dote': ('strongsubj', '1', 'verb', 'y', 'positive'), 'dotingly': ('strongsubj', '1', 'adverb', 'n', 'positive'), 'doubt': ('strongsubj', '1', 'verb', 'y', 'negative'), 'doubtful': ('strongsubj', '1', 'adj', 'n', 'negative'), 'doubtfully': ('strongsubj', '1', 'adverb', 'n', 'negative'), 'doubtless': ('strongsubj', '1', 'adverb', 'n', 'positive'), 'doubts': ('strongsubj', '1', 'noun', 'n', 'negative'), 'down': ('weaksubj', '1', 'noun', 'n', 'negative'), 'downbeat': ('strongsubj', '1', 'adj', 'n', 'negative'), 'downcast': ('strongsubj', '1', 'adj', 'n', 'negative'), 'downer': ('strongsubj', '1', 'noun', 'n', 'negative'), 'downfall': ('strongsubj', '1', 'noun', 'n', 'negative'), 'downfallen': ('strongsubj', '1', 'noun', 'n', 'negative'), 'downgrade': ('weaksubj', '1', 'verb', 'y', 'negative'), 'downhearted': ('strongsubj', '1', 'adj', 'n', 'negative'), 'downheartedly': ('strongsubj', '1', 'adverb', 'n', 'negative'), 'downright': ('strongsubj', '1', 'anypos', 'n', 'neutral'), 'downside': ('strongsubj', '1', 'noun', 'n', 'negative'), 'drab': ('strongsubj', '1', 'adj', 'n', 'negative'), 'draconian': ('strongsubj', '1', 'adj', 'n', 'negative'), 'draconic': ('strongsubj', '1', 'adj', 'n', 'negative'), 'dragon': ('strongsubj', '1', 'noun', 'n', 'negative'), 'dragons': ('strongsubj', '1', 'noun', 'n', 'negative'), 'dragoon': ('strongsubj', '1', 'verb', 'y', 'negative'), 'drain': ('strongsubj', '1', 'noun', 'n', 'negative'), 'drama': ('strongsubj', '1', 'noun', 'n', 'negative'), 'dramatic': ('strongsubj', '1', 'adj', 'n', 'neutral'), 'dramatically': ('strongsubj', '1', 'anypos', 'n', 'neutral'), 'drastic': ('strongsubj', '1', 'adj', 'n', 'negative'), 'drastically': ('strongsubj', '1', 'adj', 'n', 'negative'), 'dread': ('strongsubj', '1', 'verb', 'y', 'negative'), 'dreadful': ('strongsubj', '1', 'anypos', 'n', 'negative'), 'dreadfully': ('strongsubj', '1', 'anypos', 'n', 'negative'), 'dreadfulness': ('strongsubj', '1', 'noun', 'n', 'negative'), 'dream': ('strongsubj', '1', 'verb', 'y', 'positive'), 'dreamland': ('strongsubj', '1', 'noun', 'n', 'positive'), 'dreams': ('weaksubj', '1', 'noun', 'n', 'positive'), 'dreamy': ('weaksubj', '1', 'adj', 'n', 'positive'), 'dreary': ('strongsubj', '1', 'adj', 'n', 'negative'), 'drive': ('weaksubj', '1', 'noun', 'n', 'positive'), 'driven': ('weaksubj', '1', 'adj', 'n', 'positive'), 'drones': ('strongsubj', '1', 'noun', 'n', 'negative'), 'droop': ('weaksubj', '1', 'verb', 'y', 'negative'), 'drought': ('weaksubj', '1', 'noun', 'n', 'negative'), 'drowning': ('weaksubj', '1', 'anypos', 'n', 'negative'), 'drunk': ('strongsubj', '1', 'adj', 'n', 'negative'), 'drunkard': ('strongsubj', '1', 'noun', 'n', 'negative'), 'drunken': ('strongsubj', '1', 'adj', 'n', 'negative'), 'dubious': ('strongsubj', '1', 'adj', 'n', 'negative'), 'dubiously': ('strongsubj', '1', 'adverb', 'n', 'negative'), 'dubitable': ('strongsubj', '1', 'adj', 'n', 'negative'), 'dud': ('weaksubj', '1', 'anypos', 'n', 'negative'), 'dull': ('weaksubj', '1', 'adj', 'n', 'negative'), 'dullard': ('strongsubj', '1', 'noun', 'n', 'negative'), 'dumb': ('strongsubj', '1', 'noun', 'n', 'negative'), 'dumbfound': ('strongsubj', '1', 'verb', 'y', 'negative'), 'dumbfounded': ('strongsubj', '1', 'adj', 'n', 'negative'), 'dummy': ('strongsubj', '1', 'noun', 'n', 'negative'), 'dump': ('weaksubj', '1', 'noun', 'n', 'negative'), 'dunce': ('strongsubj', '1', 'noun', 'n', 'negative'), 'dungeon': ('strongsubj', '1', 'noun', 'n', 'negative'), 'dungeons': ('strongsubj', '1', 'noun', 'n', 'negative'), 'dupe': ('strongsubj', '1', 'verb', 'y', 'negative'), 'durable': ('weaksubj', '1', 'adj', 'n', 'positive'), 'durability': ('weaksubj', '1', 'noun', 'n', 'positive'), 'dusty': ('weaksubj', '1', 'adj', 'n', 'negative'), 'duty': ('weaksubj', '1', 'noun', 'n', 'neutral'), 'dwindle': ('weaksubj', '1', 'verb', 'y', 'negative'), 'dwindling': ('weaksubj', '1', 'adj', 'n', 'negative'), 'dynamic': ('weaksubj', '1', 'adj', 'n', 'positive'), 'dying': ('weaksubj', '1', 'anypos', 'n', 'negative'), 'eager': ('strongsubj', '1', 'adj', 'n', 'positive'), 'eagerly': ('strongsubj', '1', 'anypos', 'n', 'positive'), 'eagerness': ('strongsubj', '1', 'noun', 'n', 'positive'), 'earnest': ('strongsubj', '1', 'adj', 'n', 'positive'), 'earnestly': ('strongsubj', '1', 'anypos', 'n', 'positive'), 'earnestness': ('strongsubj', '1', 'anypos', 'n', 'positive'), 'earsplitting': ('strongsubj', '1', 'adj', 'n', 'negative'), 'ease': ('weaksubj', '1', 'verb', 'y', 'positive'), 'easier': ('weaksubj', '1', 'anypos', 'y', 'positive'), 'easiest': ('weaksubj', '1', 'anypos', 'y', 'positive'), 'easily': ('weaksubj', '1', 'anypos', 'y', 'positive'), 'easiness': ('weaksubj', '1', 'anypos', 'y', 'positive'), 'easy': ('weaksubj', '1', 'adj', 'n', 'positive'), 'easygoing': ('strongsubj', '1', 'adj', 'n', 'positive'), 'ebullience': ('strongsubj', '1', 'noun', 'n', 'positive'), 'ebullient': ('strongsubj', '1', 'adj', 'n', 'positive'), 'ebulliently': ('strongsubj', '1', 'anypos', 'n', 'positive'), 'eccentric': ('weaksubj', '1', 'adj', 'n', 'negative'), 'eccentricity': ('weaksubj', '1', 'noun', 'n', 'negative'), 'eclectic': ('strongsubj', '1', 'adj', 'n', 'positive'), 'economical': ('weaksubj', '1', 'adj', 'n', 'positive'), 'ecstasies': ('strongsubj', '1', 'noun', 'n', 'positive'), 'ecstasy': ('strongsubj', '1', 'noun', 'n', 'positive'), 'ecstatic': ('strongsubj', '1', 'adj', 'n', 'positive'), 'ecstatically': ('strongsubj', '1', 'anypos', 'n', 'positive'), 'edgy': ('strongsubj', '1', 'adj', 'n', 'negative'), 'edify': ('strongsubj', '1', 'verb', 'y', 'positive'), 'educable': ('weaksubj', '1', 'adj', 'n', 'positive'), 'educated': ('weaksubj', '1', 'adj', 'n', 'positive'), 'educational': ('weaksubj', '1', 'adj', 'n', 'positive'), 'effective': ('weaksubj', '1', 'adj', 'n', 'positive'), 'effectively': ('weaksubj', '1', 'adverb', 'n', 'neutral'), 'effectiveness': ('weaksubj', '1', 'noun', 'n', 'positive'), 'effectual': ('weaksubj', '1', 'adj', 'n', 'positive'), 'efficacious': ('weaksubj', '1', 'adj', 'n', 'positive'), 'efficiency': ('weaksubj', '1', 'noun', 'n', 'positive'), 'efficient': ('weaksubj', '1', 'adj', 'n', 'positive'), 'effigy': ('strongsubj', '1', 'noun', 'n', 'negative'), 'effortless': ('strongsubj', '1', 'adj', 'n', 'positive'), 'effortlessly': ('strongsubj', '1', 'adverb', 'n', 'positive'), 'effrontery': ('strongsubj', '1', 'anypos', 'n', 'negative'), 'effusion': ('strongsubj', '1', 'noun', 'n', 'positive'), 'effusive': ('strongsubj', '1', 'adj', 'n', 'positive'), 'effusively': ('strongsubj', '1', 'anypos', 'n', 'positive'), 'effusiveness': ('strongsubj', '1', 'noun', 'n', 'positive'), 'egalitarian': ('weaksubj', '1', 'adj', 'n', 'positive'), 'ego': ('strongsubj', '1', 'noun', 'n', 'negative'), 'egocentric': ('strongsubj', '1', 'adj', 'n', 'negative'), 'egomania': ('strongsubj', '1', 'noun', 'n', 'negative'), 'egotism': ('strongsubj', '1', 'noun', 'n', 'negative'), 'egotistical': ('strongsubj', '1', 'adj', 'n', 'negative'), 'egotistically': ('strongsubj', '1', 'adverb', 'n', 'negative'), 'egregious': ('strongsubj', '1', 'adj', 'n', 'negative'), 'egregiously': ('strongsubj', '1', 'anypos', 'n', 'negative'), 'ejaculate': ('strongsubj', '1', 'verb', 'y', 'negative'), 'elaborate': ('strongsubj', '1', 'adj', 'n', 'neutral'), 'elan': ('strongsubj', '1', 'noun', 'n', 'positive'), 'elate': ('weaksubj', '1', 'verb', 'y', 'positive'), 'elated': ('strongsubj', '1', 'adj', 'n', 'positive'), 'elatedly': ('strongsubj', '1', 'adverb', 'n', 'positive'), 'elation': ('strongsubj', '1', 'noun', 'n', 'positive'), 'election-rigger': ('strongsubj', '1', 'noun', 'n', 'negative'), 'electrification': ('strongsubj', '1', 'noun', 'n', 'positive'), 'electrify': ('weaksubj', '1', 'verb', 'y', 'positive'), 'elegance': ('strongsubj', '1', 'noun', 'n', 'positive'), 'elegant': ('strongsubj', '1', 'adj', 'n', 'positive'), 'elegantly': ('strongsubj', '1', 'adverb', 'n', 'positive'), 'elevate': ('weaksubj', '1', 'verb', 'y', 'positive'), 'elevated': ('weaksubj', '1', 'adj', 'n', 'positive'), 'eligible': ('weaksubj', '1', 'adj', 'n', 'positive'), 'eliminate': ('weaksubj', '1', 'verb', 'y', 'negative'), 'elimination': ('weaksubj', '1', 'noun', 'n', 'negative'), 'elite': ('weaksubj', '1', 'anypos', 'n', 'positive'), 'eloquence': ('strongsubj', '1', 'noun', 'n', 'positive'), 'eloquent': ('strongsubj', '1', 'adj', 'n', 'positive'), 'eloquently': ('strongsubj', '1', 'anypos', 'n', 'positive'), 'else': ('weaksubj', '1', 'anypos', 'y', 'neutral'), 'emaciated': ('strongsubj', '1', 'anypos', 'n', 'negative'), 'emancipate': ('weaksubj', '1', 'verb', 'y', 'positive'), 'emasculate': ('strongsubj', '1', 'verb', 'y', 'negative'), 'embarrass': ('strongsubj', '1', 'verb', 'y', 'negative'), 'embarrassing': ('strongsubj', '1', 'anypos', 'n', 'negative'), 'embarrassingly': ('strongsubj', '1', 'anypos', 'n', 'negative'), 'embarrassment': ('strongsubj', '1', 'noun', 'n', 'negative'), 'embattled': ('weaksubj', '1', 'adj', 'n', 'negative'), 'embellish': ('strongsubj', '1', 'verb', 'y', 'positive'), 'embodiment': ('strongsubj', '1', 'noun', 'n', 'neutral'), 'embolden': ('weaksubj', '1', 'verb', 'y', 'positive'), 'embrace': ('strongsubj', '1', 'verb', 'y', 'positive'), 'embroil': ('strongsubj', '1', 'verb', 'y', 'negative'), 'embroiled': ('strongsubj', '1', 'adj', 'n', 'negative'), 'embroilment': ('strongsubj', '1', 'noun', 'n', 'negative'), 'eminence': ('strongsubj', '1', 'noun', 'n', 'positive'), 'eminent': ('strongsubj', '1', 'adj', 'n', 'positive'), 'emotion': ('strongsubj', '1', 'noun', 'n', 'neutral'), 'emotional': ('strongsubj', '1', 'adj', 'n', 'negative'), 'emotions': ('weaksubj', '1', 'noun', 'n', 'neutral'), 'empathize': ('strongsubj', '1', 'verb', 'y', 'negative'), 'empathy': ('strongsubj', '1', 'noun', 'n', 'negative'), 'emphasise': ('weaksubj', '1', 'noun', 'n', 'neutral'), 'emphatic': ('strongsubj', '1', 'anypos', 'n', 'negative'), 'emphatically': ('strongsubj', '1', 'anypos', 'n', 'negative'), 'empower': ('weaksubj', '1', 'verb', 'y', 'positive'), 'empowerment': ('weaksubj', '1', 'noun', 'n', 'positive'), 'emptiness': ('strongsubj', '1', 'noun', 'n', 'negative'), 'empty': ('weaksubj', '1', 'adj', 'n', 'negative'), 'enable': ('weaksubj', '1', 'verb', 'y', 'positive'), 'enchant': ('strongsubj', '1', 'verb', 'y', 'positive'), 'enchanted': ('strongsubj', '1', 'anypos', 'n', 'positive'), 'enchanting': ('strongsubj', '1', 'anypos', 'n', 'positive'), 'enchantingly': ('strongsubj', '1', 'anypos', 'n', 'positive'), 'encourage': ('weaksubj', '1', 'verb', 'y', 'positive'), 'encouragement': ('strongsubj', '1', 'noun', 'n', 'positive'), 'encouraging': ('strongsubj', '1', 'noun', 'n', 'positive'), 'encouragingly': ('strongsubj', '1', 'anypos', 'n', 'positive'), 'encroach': ('weaksubj', '1', 'verb', 'y', 'negative'), 'encroachment': ('weaksubj', '1', 'noun', 'n', 'negative'), 'endanger': ('strongsubj', '1', 'verb', 'y', 'negative'), 'endear': ('strongsubj', '1', 'verb', 'y', 'positive'), 'endearing': ('strongsubj', '1', 'adj', 'n', 'positive'), 'endless': ('weaksubj', '1', 'adj', 'n', 'negative'), 'endorse': ('strongsubj', '1', 'verb', 'y', 'positive'), 'endorsement': ('strongsubj', '1', 'noun', 'n', 'positive'), 'endorser': ('strongsubj', '1', 'noun', 'n', 'positive'), 'endurable': ('strongsubj', '1', 'adj', 'n', 'positive'), 'endure': ('strongsubj', '1', 'verb', 'y', 'positive'), 'enduring': ('strongsubj', '1', 'adj', 'n', 'positive'), 'enemies': ('weaksubj', '1', 'noun', 'n', 'negative'), 'enemy': ('weaksubj', '1', 'noun', 'n', 'negative'), 'energetic': ('weaksubj', '1', 'noun', 'n', 'positive'), 'energize': ('weaksubj', '1', 'verb', 'y', 'positive'), 'enervate': ('strongsubj', '1', 'verb', 'y', 'negative'), 'enfeeble': ('strongsubj', '1', 'verb', 'y', 'negative'), 'enflame': ('strongsubj', '1', 'verb', 'y', 'negative'), 'engage': ('weaksubj', '1', 'verb', 'y', 'neutral'), 'engaging': ('strongsubj', '1', 'adj', 'n', 'positive'), 'engross': ('weaksubj', '1', 'verb', 'y', 'neutral'), 'engrossing': ('strongsubj', '1', 'anypos', 'n', 'positive'), 'engulf': ('weaksubj', '1', 'verb', 'y', 'negative'), 'enhance': ('weaksubj', '1', 'verb', 'y', 'positive'), 'enhanced': ('weaksubj', '1', 'adj', 'n', 'positive'), 'enhancement': ('weaksubj', '1', 'noun', 'n', 'positive'), 'enjoin': ('strongsubj', '1', 'verb', 'y', 'negative'), 'enjoy': ('weaksubj', '1', 'verb', 'y', 'positive'), 'enjoyable': ('strongsubj', '1', 'adj', 'n', 'positive'), 'enjoyably': ('strongsubj', '1', 'adverb', 'n', 'positive'), 'enjoyment': ('strongsubj', '1', 'noun', 'n', 'positive'), 'enlighten': ('weaksubj', '1', 'verb', 'y', 'positive'), 'enlightenment': ('weaksubj', '1', 'noun', 'n', 'positive'), 'enliven': ('weaksubj', '1', 'verb', 'y', 'positive'), 'enmity': ('strongsubj', '1', 'noun', 'n', 'negative'), 'ennoble': ('strongsubj', '1', 'verb', 'y', 'positive'), 'enormities': ('strongsubj', '1', 'noun', 'n', 'negative'), 'enormity': ('strongsubj', '1', 'noun', 'n', 'negative'), 'enormous': ('strongsubj', '1', 'anypos', 'n', 'negative'), 'enormously': ('strongsubj', '1', 'anypos', 'n', 'negative'), 'enough': ('weaksubj', '1', 'anypos', 'y', 'neutral'), 'enrage': ('strongsubj', '1', 'verb', 'y', 'negative'), 'enraged': ('strongsubj', '1', 'adj', 'n', 'negative'), 'enrapt': ('strongsubj', '1', 'adj', 'n', 'positive'), 'enrapture': ('weaksubj', '1', 'verb', 'y', 'positive'), 'enraptured': ('strongsubj', '1', 'anypos', 'y', 'positive'), 'enrich': ('weaksubj', '1', 'verb', 'y', 'positive'), 'enrichment': ('weaksubj', '1', 'noun', 'n', 'positive'), 'enslave': ('strongsubj', '1', 'verb', 'y', 'negative'), 'ensure': ('weaksubj', '1', 'verb', 'y', 'positive'), 'entangle': ('weaksubj', '1', 'verb', 'y', 'negative'), 'entanglement': ('weaksubj', '1', 'noun', 'n', 'negative'), 'enterprising': ('weaksubj', '1', 'adj', 'n', 'positive'), 'entertain': ('weaksubj', '1', 'verb', 'y', 'positive'), 'entertaining': ('strongsubj', '1', 'adj', 'n', 'positive'), 'enthral': ('strongsubj', '1', 'verb', 'y', 'positive'), 'enthrall': ('strongsubj', '1', 'verb', 'y', 'positive'), 'enthralled': ('strongsubj', '1', 'anypos', 'y', 'positive'), 'enthuse': ('strongsubj', '1', 'verb', 'y', 'positive'), 'enthusiasm': ('strongsubj', '1', 'noun', 'n', 'positive'), 'enthusiast': ('strongsubj', '1', 'noun', 'n', 'positive'), 'enthusiastic': ('strongsubj', '1', 'adj', 'n', 'positive'), 'enthusiastically': ('strongsubj', '1', 'adverb', 'n', 'positive'), 'entice': ('strongsubj', '1', 'verb', 'y', 'positive'), 'enticing': ('strongsubj', '1', 'anypos', 'n', 'positive'), 'enticingly': ('strongsubj', '1', 'anypos', 'n', 'positive'), 'entire': ('weaksubj', '1', 'anypos', 'n', 'neutral'), 'entirely': ('strongsubj', '1', 'anypos', 'n', 'neutral'), 'entrance': ('weaksubj', '1', 'verb', 'y', 'positive'), 'entranced': ('strongsubj', '1', 'anypos', 'y', 'positive'), 'entrancing': ('strongsubj', '1', 'adj', 'n', 'positive'), 'entrap': ('strongsubj', '1', 'verb', 'y', 'negative'), 'entrapment': ('strongsubj', '1', 'noun', 'n', 'negative'), 'entreat': ('strongsubj', '1', 'verb', 'y', 'positive'), 'entreatingly': ('strongsubj', '1', 'anypos', 'n', 'positive'), 'entrenchment': ('strongsubj', '1', 'noun', 'n', 'neutral'), 'entrust': ('weaksubj', '1', 'verb', 'y', 'positive'), 'enviable': ('strongsubj', '1', 'adj', 'n', 'positive'), 'enviably': ('strongsubj', '1', 'anypos', 'n', 'positive'), 'envious': ('strongsubj', '1', 'adj', 'n', 'negative'), 'enviously': ('strongsubj', '1', 'anypos', 'n', 'negative'), 'enviousness': ('strongsubj', '1', 'noun', 'n', 'negative'), 'envision': ('weaksubj', '1', 'verb', 'y', 'positive'), 'envisions': ('weaksubj', '1', 'noun', 'n', 'positive'), 'envy': ('strongsubj', '1', 'verb', 'y', 'negative'), 'epic': ('strongsubj', '1', 'adj', 'n', 'positive'), 'epidemic': ('weaksubj', '1', 'adj', 'n', 'negative'), 'epitome': ('strongsubj', '1', 'noun', 'n', 'positive'), 'equality': ('weaksubj', '1', 'noun', 'n', 'positive'), 'equitable': ('weaksubj', '1', 'adj', 'n', 'positive'), 'equivocal': ('strongsubj', '1', 'adj', 'n', 'negative'), 'eradicate': ('weaksubj', '1', 'verb', 'y', 'negative'), 'erase': ('weaksubj', '1', 'verb', 'y', 'negative'), 'erode': ('weaksubj', '1', 'verb', 'y', 'negative'), 'erosion': ('weaksubj', '1', 'noun', 'n', 'negative'), 'err': ('strongsubj', '1', 'verb', 'y', 'negative'), 'errant': ('weaksubj', '1', 'adj', 'n', 'negative'), 'erratic': ('strongsubj', '1', 'adj', 'n', 'negative'), 'erratically': ('strongsubj', '1', 'adverb', 'n', 'negative'), 'erroneous': ('strongsubj', '1', 'anypos', 'y', 'negative'), 'erroneously': ('strongsubj', '1', 'anypos', 'n', 'negative'), 'error': ('weaksubj', '1', 'noun', 'n', 'negative'), 'erudite': ('strongsubj', '1', 'adj', 'n', 'positive'), 'escapade': ('weaksubj', '1', 'noun', 'n', 'negative'), 'eschew': ('strongsubj', '1', 'verb', 'y', 'negative'), 'esoteric': ('weaksubj', '1', 'adj', 'n', 'negative'), 'essential': ('weaksubj', '1', 'adj', 'n', 'positive'), 'especially': ('strongsubj', '1', 'anypos', 'n', 'positive'), 'esteem': ('strongsubj', '1', 'verb', 'y', 'positive'), 'estranged': ('strongsubj', '1', 'adj', 'n', 'negative'), 'established': ('weaksubj', '1', 'adj', 'n', 'positive'), 'eternal': ('weaksubj', '1', 'adj', 'n', 'negative'), 'eternity': ('strongsubj', '1', 'noun', 'n', 'positive'), 'ethical': ('strongsubj', '1', 'adj', 'n', 'positive'), 'eulogize': ('strongsubj', '1', 'verb', 'y', 'positive'), 'euphoria': ('strongsubj', '1', 'noun', 'n', 'positive'), 'euphoric': ('strongsubj', '1', 'adj', 'n', 'positive'), 'euphorically': ('strongsubj', '1', 'anypos', 'n', 'positive'), 'evaluate': ('strongsubj', '1', 'verb', 'y', 'neutral'), 'evaluation': ('weaksubj', '1', 'noun', 'n', 'neutral'), 'evade': ('weaksubj', '1', 'verb', 'y', 'negative'), 'evasion': ('weaksubj', '1', 'noun', 'n', 'negative'), 'evasive': ('weaksubj', '1', 'adj', 'n', 'negative'), 'even': ('weaksubj', '1', 'adverb', 'n', 'positive'), 'evenly': ('weaksubj', '1', 'adverb', 'n', 'positive'), 'eventful': ('weaksubj', '1', 'adj', 'n', 'positive'), 'everlasting': ('strongsubj', '1', 'adj', 'n', 'positive'), 'evident': ('weaksubj', '1', 'anypos', 'y', 'positive'), 'evidently': ('strongsubj', '1', 'anypos', 'y', 'positive'), 'evil': ('strongsubj', '1', 'noun', 'n', 'negative'), 'evildoer': ('strongsubj', '1', 'noun', 'n', 'negative'), 'evils': ('strongsubj', '1', 'noun', 'n', 'negative'), 'eviscerate': ('strongsubj', '1', 'verb', 'y', 'negative'), 'evocative': ('strongsubj', '1', 'adj', 'n', 'positive'), 'exacerbate': ('strongsubj', '1', 'verb', 'y', 'negative'), 'exact': ('strongsubj', '1', 'adj', 'n', 'neutral'), 'exacting': ('weaksubj', '1', 'adj', 'n', 'negative'), 'exactly': ('strongsubj', '1', 'anypos', 'n', 'neutral'), 'exaggerate': ('strongsubj', '1', 'verb', 'y', 'negative'), 'exaggeration': ('strongsubj', '1', 'noun', 'n', 'negative'), 'exalt': ('strongsubj', '1', 'verb', 'y', 'positive'), 'exaltation': ('strongsubj', '1', 'noun', 'n', 'positive'), 'exalted': ('strongsubj', '1', 'adj', 'n', 'positive'), 'exaltedly': ('strongsubj', '1', 'adverb', 'n', 'positive'), 'exalting': ('strongsubj', '1', 'adj', 'n', 'positive'), 'exaltingly': ('strongsubj', '1', 'anypos', 'n', 'positive'), 'exasperate': ('strongsubj', '1', 'verb', 'y', 'negative'), 'exasperation': ('strongsubj', '1', 'noun', 'n', 'negative'), 'exasperating': ('strongsubj', '1', 'adj', 'n', 'negative'), 'exasperatingly': ('strongsubj', '1', 'anypos', 'y', 'negative'), 'exceed': ('strongsubj', '1', 'verb', 'y', 'positive'), 'exceeding': ('strongsubj', '1', 'adj', 'n', 'positive'), 'exceedingly': ('strongsubj', '1', 'anypos', 'n', 'positive'), 'excel': ('strongsubj', '1', 'verb', 'y', 'positive'), 'excellence': ('strongsubj', '1', 'noun', 'n', 'positive'), 'excellency': ('strongsubj', '1', 'noun', 'n', 'positive'), 'excellent': ('strongsubj', '1', 'anypos', 'n', 'positive'), 'excellently': ('strongsubj', '1', 'anypos', 'n', 'positive'), 'exceptional': ('strongsubj', '1', 'anypos', 'n', 'positive'), 'exceptionally': ('strongsubj', '1', 'anypos', 'n', 'positive'), 'excessive': ('strongsubj', '1', 'adj', 'n', 'negative'), 'excessively': ('strongsubj', '1', 'adj', 'n', 'negative'), 'excite': ('weaksubj', '1', 'verb', 'y', 'positive'), 'excited': ('strongsubj', '1', 'adj', 'n', 'positive'), 'excitedly': ('strongsubj', '1', 'anypos', 'n', 'positive'), 'excitedness': ('strongsubj', '1', 'noun', 'n', 'positive'), 'excitement': ('strongsubj', '1', 'noun', 'n', 'positive'), 'exciting': ('strongsubj', '1', 'adj', 'n', 'positive'), 'excitingly': ('strongsubj', '1', 'adverb', 'n', 'positive'), 'exclaim': ('strongsubj', '1', 'verb', 'y', 'negative'), 'exclude': ('weaksubj', '1', 'verb', 'y', 'negative'), 'exclusion': ('weaksubj', '1', 'noun', 'n', 'negative'), 'exclusive': ('weaksubj', '1', 'adj', 'n', 'positive'), 'exclusively': ('weaksubj', '1', 'adj', 'n', 'neutral'), 'excoriate': ('strongsubj', '1', 'verb', 'y', 'negative'), 'excruciating': ('strongsubj', '1', 'anypos', 'n', 'negative'), 'excruciatingly': ('strongsubj', '1', 'anypos', 'n', 'negative'), 'excusable': ('strongsubj', '1', 'noun', 'n', 'positive'), 'excuse': ('weaksubj', '1', 'verb', 'y', 'positive'), 'excuses': ('weaksubj', '1', 'noun', 'n', 'negative'), 'execrate': ('strongsubj', '1', 'verb', 'y', 'negative'), 'exemplar': ('strongsubj', '1', 'noun', 'n', 'positive'), 'exemplary': ('strongsubj', '1', 'adj', 'n', 'positive'), 'exhaust': ('weaksubj', '1', 'verb', 'y', 'negative'), 'exhaustion': ('weaksubj', '1', 'noun', 'n', 'negative'), 'exhaustive': ('weaksubj', '1', 'adj', 'n', 'positive'), 'exhaustively': ('weaksubj', '1', 'adverb', 'n', 'positive'), 'exhilarate': ('strongsubj', '1', 'verb', 'y', 'positive'), 'exhilarating': ('strongsubj', '1', 'anypos', 'n', 'positive'), 'exhilaratingly': ('strongsubj', '1', 'anypos', 'n', 'positive'), 'exhilaration': ('strongsubj', '1', 'noun', 'n', 'positive'), 'exhort': ('strongsubj', '1', 'verb', 'y', 'negative'), 'exile': ('weaksubj', '1', 'verb', 'y', 'negative'), 'exonerate': ('strongsubj', '1', 'verb', 'y', 'positive'), 'exorbitant': ('strongsubj', '1', 'adj', 'n', 'negative'), 'exorbitantance': ('strongsubj', '1', 'noun', 'n', 'negative'), 'exorbitantly': ('strongsubj', '1', 'anypos', 'n', 'negative'), 'expansive': ('strongsubj', '1', 'adj', 'n', 'positive'), 'expectation': ('weaksubj', '1', 'noun', 'n', 'neutral'), 'expedient': ('weaksubj', '1', 'adj', 'n', 'negative'), 'expediencies': ('weaksubj', '1', 'noun', 'n', 'negative'), 'expel': ('weaksubj', '1', 'verb', 'y', 'negative'), 'expensive': ('weaksubj', '1', 'noun', 'n', 'negative'), 'experienced': ('weaksubj', '1', 'adj', 'n', 'positive'), 'expert': ('weaksubj', '1', 'adj', 'n', 'positive'), 'expertly': ('strongsubj', '1', 'adverb', 'n', 'positive'), 'expire': ('strongsubj', '1', 'verb', 'y', 'negative'), 'explicit': ('strongsubj', '1', 'adj', 'n', 'positive'), 'explicitly': ('strongsubj', '1', 'adverb', 'n', 'positive'), 'explode': ('weaksubj', '1', 'verb', 'y', 'negative'), 'exploit': ('strongsubj', '1', 'verb', 'y', 'negative'), 'exploitation': ('strongsubj', '1', 'noun', 'n', 'negative'), 'expose': ('weaksubj', '1', 'verb', 'y', 'negative'), 'exposed': ('weaksubj', '1', 'adj', 'n', 'negative'), 'explosive': ('weaksubj', '1', 'adj', 'n', 'negative'), 'expound': ('weaksubj', '1', 'verb', 'y', 'neutral'), 'expression': ('weaksubj', '1', 'noun', 'n', 'neutral'), 'expressions': ('weaksubj', '1', 'noun', 'n', 'neutral'), 'expressive': ('weaksubj', '1', 'adj', 'n', 'positive'), 'expropriate': ('weaksubj', '1', 'noun', 'n', 'negative'), 'expropriation': ('weaksubj', '1', 'noun', 'n', 'negative'), 'expulse': ('weaksubj', '1', 'verb', 'y', 'negative'), 'expunge': ('strongsubj', '1', 'verb', 'y', 'negative'), 'exquisite': ('strongsubj', '1', 'adj', 'n', 'positive'), 'exquisitely': ('strongsubj', '1', 'adverb', 'n', 'positive'), 'extemporize': ('strongsubj', '1', 'verb', 'y', 'neutral'), 'extensive': ('weaksubj', '1', 'adj', 'n', 'neutral'), 'extensively': ('strongsubj', '1', 'anypos', 'y', 'neutral'), 'exterminate': ('strongsubj', '1', 'verb', 'y', 'negative'), 'extermination': ('strongsubj', '1', 'noun', 'n', 'negative'), 'extinguish': ('weaksubj', '1', 'verb', 'y', 'negative'), 'extol': ('strongsubj', '1', 'verb', 'y', 'positive'), 'extoll': ('strongsubj', '1', 'verb', 'y', 'positive'), 'extort': ('weaksubj', '1', 'verb', 'y', 'negative'), 'extortion': ('strongsubj', '1', 'noun', 'n', 'negative'), 'extraneous': ('weaksubj', '1', 'adj', 'n', 'negative'), 'extraordinarily': ('strongsubj', '1', 'anypos', 'n', 'positive'), 'extraordinary': ('strongsubj', '1', 'anypos', 'n', 'positive'), 'extravagance': ('strongsubj', '1', 'noun', 'n', 'negative'), 'extravagant': ('strongsubj', '1', 'adj', 'n', 'negative'), 'extravagantly': ('strongsubj', '1', 'anypos', 'n', 'negative'), 'extreme': ('strongsubj', '1', 'anypos', 'n', 'negative'), 'extremely': ('strongsubj', '1', 'anypos', 'n', 'negative'), 'extremism': ('weaksubj', '1', 'noun', 'n', 'negative'), 'extremist': ('weaksubj', '1', 'adj', 'n', 'negative'), 'extremists': ('weaksubj', '1', 'noun', 'n', 'negative'), 'exuberance': ('strongsubj', '1', 'noun', 'n', 'positive'), 'exuberant': ('strongsubj', '1', 'adj', 'n', 'positive'), 'exuberantly': ('strongsubj', '1', 'anypos', 'n', 'positive'), 'exult': ('strongsubj', '1', 'verb', 'y', 'positive'), 'exultation': ('strongsubj', '1', 'noun', 'n', 'positive'), 'exultingly': ('strongsubj', '1', 'anypos', 'n', 'positive'), 'eyebrows': ('weaksubj', '1', 'noun', 'n', 'neutral'), 'fabricate': ('weaksubj', '1', 'verb', 'y', 'negative'), 'fabrication': ('strongsubj', '1', 'noun', 'n', 'negative'), 'fabulous': ('strongsubj', '1', 'adj', 'n', 'positive'), 'fabulously': ('strongsubj', '1', 'anypos', 'n', 'positive'), 'facetious': ('strongsubj', '1', 'adj', 'n', 'negative'), 'facetiously': ('strongsubj', '1', 'adverb', 'n', 'negative'), 'facilitate': ('weaksubj', '1', 'verb', 'y', 'positive'), 'fact': ('strongsubj', '1', 'anypos', 'n', 'neutral'), 'facts': ('strongsubj', '1', 'anypos', 'n', 'neutral'), 'factual': ('weaksubj', '1', 'anypos', 'n', 'neutral'), 'fading': ('weaksubj', '1', 'anypos', 'n', 'negative'), 'fail': ('weaksubj', '1', 'verb', 'y', 'negative'), 'failing': ('strongsubj', '1', 'noun', 'n', 'negative'), 'failure': ('weaksubj', '1', 'noun', 'n', 'negative'), 'failures': ('weaksubj', '1', 'noun', 'n', 'negative'), 'faint': ('weaksubj', '1', 'adj', 'n', 'negative'), 'fainthearted': ('strongsubj', '1', 'adj', 'n', 'negative'), 'fair': ('weaksubj', '1', 'noun', 'n', 'positive'), 'fairly': ('weaksubj', '1', 'adverb', 'n', 'positive'), 'fairness': ('weaksubj', '1', 'noun', 'n', 'positive'), 'faith': ('strongsubj', '1', 'noun', 'n', 'positive'), 'faithful': ('strongsubj', '1', 'noun', 'n', 'positive'), 'faithfully': ('strongsubj', '1', 'anypos', 'n', 'positive'), 'faithfulness': ('strongsubj', '1', 'noun', 'n', 'positive'), 'faithless': ('strongsubj', '1', 'adj', 'n', 'negative'), 'fake': ('strongsubj', '1', 'adj', 'n', 'negative'), 'fall': ('weaksubj', '1', 'verb', 'y', 'negative'), 'fallacies': ('strongsubj', '1', 'noun', 'n', 'negative'), 'fallacious': ('strongsubj', '1', 'adj', 'n', 'negative'), 'fallaciously': ('strongsubj', '1', 'adverb', 'n', 'negative'), 'fallaciousness': ('strongsubj', '1', 'noun', 'n', 'negative'), 'fallacy': ('strongsubj', '1', 'noun', 'n', 'negative'), 'fallout': ('strongsubj', '1', 'noun', 'n', 'negative'), 'false': ('strongsubj', '1', 'anypos', 'n', 'negative'), 'falsehood': ('strongsubj', '1', 'noun', 'n', 'negative'), 'falsely': ('strongsubj', '1', 'anypos', 'n', 'negative'), 'falsify': ('strongsubj', '1', 'verb', 'y', 'negative'), 'falter': ('strongsubj', '1', 'verb', 'y', 'negative'), 'famed': ('strongsubj', '1', 'adj', 'n', 'positive'), 'familiar': ('weaksubj', '1', 'anypos', 'y', 'neutral'), 'fame': ('strongsubj', '1', 'noun', 'n', 'positive'), 'famine': ('strongsubj', '1', 'noun', 'n', 'negative'), 'famished': ('strongsubj', '1', 'adj', 'n', 'negative'), 'famous': ('weaksubj', '1', 'adj', 'n', 'positive'), 'famously': ('strongsubj', '1', 'adj', 'n', 'positive'), 'fanatic': ('strongsubj', '1', 'noun', 'n', 'negative'), 'fanatical': ('strongsubj', '1', 'adj', 'n', 'negative'), 'fanatically': ('strongsubj', '1', 'anypos', 'n', 'negative'), 'fanaticism': ('strongsubj', '1', 'noun', 'n', 'negative'), 'fanatics': ('strongsubj', '1', 'noun', 'n', 'negative'), 'fanciful': ('strongsubj', '1', 'adj', 'n', 'negative'), 'fancy': ('strongsubj', '1', 'verb', 'y', 'positive'), 'fanfare': ('strongsubj', '1', 'noun', 'n', 'positive'), 'fantastic': ('strongsubj', '1', 'anypos', 'n', 'positive'), 'fantastically': ('strongsubj', '1', 'anypos', 'n', 'positive'), 'fantasy': ('strongsubj', '1', 'noun', 'n', 'positive'), 'far-fetched': ('strongsubj', '1', 'adj', 'n', 'negative'), 'far-reaching': ('weaksubj', '1', 'adj', 'n', 'neutral'), 'farfetched': ('strongsubj', '1', 'adj', 'n', 'negative'), 'farce': ('strongsubj', '1', 'noun', 'n', 'negative'), 'farcical': ('strongsubj', '1', 'anypos', 'n', 'negative'), 'farcical-yet-provocative': ('strongsubj', '1', 'adj', 'n', 'negative'), 'farcically': ('strongsubj', '1', 'anypos', 'n', 'negative'), 'farsighted': ('weaksubj', '1', 'adj', 'n', 'positive'), 'fascinate': ('strongsubj', '1', 'verb', 'y', 'positive'), 'fascinating': ('strongsubj', '1', 'anypos', 'n', 'positive'), 'fascinatingly': ('strongsubj', '1', 'anypos', 'n', 'positive'), 'fascination': ('strongsubj', '1', 'anypos', 'n', 'positive'), 'fascism': ('strongsubj', '1', 'noun', 'n', 'negative'), 'fascist': ('strongsubj', '1', 'anypos', 'n', 'negative'), 'fashionable': ('strongsubj', '1', 'adj', 'n', 'positive'), 'fashionably': ('strongsubj', '1', 'adverb', 'n', 'positive'), 'fast': ('weaksubj', '1', 'adj', 'n', 'neutral'), 'fast-growing': ('weaksubj', '1', 'adj', 'n', 'positive'), 'fast-paced': ('weaksubj', '1', 'adj', 'n', 'positive'), 'fastest-growing': ('weaksubj', '1', 'adj', 'n', 'positive'), 'fastidious': ('strongsubj', '1', 'adj', 'n', 'negative'), 'fastidiously': ('strongsubj', '1', 'adverb', 'n', 'negative'), 'fastuous': ('strongsubj', '1', 'adj', 'n', 'negative'), 'fat': ('weaksubj', '1', 'adj', 'n', 'negative'), 'fatal': ('weaksubj', '1', 'adj', 'n', 'negative'), 'fatalistic': ('strongsubj', '1', 'adj', 'n', 'negative'), 'fatalistically': ('strongsubj', '1', 'adverb', 'n', 'negative'), 'fatally': ('weaksubj', '1', 'adverb', 'n', 'negative'), 'fateful': ('strongsubj', '1', 'adj', 'n', 'negative'), 'fatefully': ('strongsubj', '1', 'adverb', 'n', 'negative'), 'fathom': ('weaksubj', '1', 'verb', 'y', 'positive'), 'fathomless': ('strongsubj', '1', 'adj', 'n', 'negative'), 'fatigue': ('weaksubj', '1', 'noun', 'n', 'negative'), 'fatty': ('weaksubj', '1', 'adj', 'n', 'negative'), 'fatuity': ('strongsubj', '1', 'noun', 'n', 'negative'), 'fatuous': ('strongsubj', '1', 'adj', 'n', 'negative'), 'fatuously': ('strongsubj', '1', 'adverb', 'n', 'negative'), 'fault': ('strongsubj', '1', 'verb', 'y', 'negative'), 'faulty': ('weaksubj', '1', 'adj', 'n', 'negative'), 'favor': ('strongsubj', '1', 'verb', 'y', 'positive'), 'favorable': ('strongsubj', '1', 'anypos', 'y', 'positive'), 'favored': ('weaksubj', '1', 'adj', 'n', 'positive'), 'favorite': ('strongsubj', '1', 'adj', 'n', 'positive'), 'fawn': ('strongsubj', '1', 'verb', 'y', 'both'), 'fawningly': ('strongsubj', '1', 'adverb', 'n', 'negative'), 'favour': ('strongsubj', '1', 'noun', 'n', 'positive'), 'faze': ('weaksubj', '1', 'verb', 'y', 'negative'), 'fear': ('strongsubj', '1', 'verb', 'y', 'negative'), 'fearful': ('strongsubj', '1', 'adj', 'n', 'negative'), 'fearfully': ('strongsubj', '1', 'anypos', 'n', 'negative'), 'fearless': ('strongsubj', '1', 'adj', 'n', 'positive'), 'fearlessly': ('strongsubj', '1', 'adverb', 'n', 'positive'), 'fears': ('strongsubj', '1', 'noun', 'n', 'negative'), 'fearsome': ('strongsubj', '1', 'adj', 'n', 'negative'), 'feasible': ('weaksubj', '1', 'adj', 'n', 'positive'), 'feasibly': ('weaksubj', '1', 'adverb', 'n', 'positive'), 'feat': ('weaksubj', '1', 'noun', 'n', 'positive'), 'featly': ('strongsubj', '1', 'anypos', 'n', 'positive'), 'feckless': ('strongsubj', '1', 'adj', 'n', 'negative'), 'feeble': ('weaksubj', '1', 'adj', 'n', 'negative'), 'feeblely': ('weaksubj', '1', 'adj', 'n', 'negative'), 'feebleminded': ('strongsubj', '1', 'adj', 'n', 'negative'), 'feel': ('strongsubj', '1', 'anypos', 'n', 'neutral'), 'feels': ('strongsubj', '1', 'anypos', 'n', 'neutral'), 'felt': ('strongsubj', '1', 'verb', 'n', 'neutral'), 'feeling': ('strongsubj', '1', 'verb', 'n', 'neutral'), 'feelings': ('strongsubj', '1', 'noun', 'n', 'neutral'), 'feign': ('weaksubj', '1', 'verb', 'y', 'negative'), 'feint': ('weaksubj', '1', 'noun', 'n', 'negative'), 'feisty': ('strongsubj', '1', 'noun', 'n', 'positive'), 'felicitate': ('strongsubj', '1', 'verb', 'y', 'positive'), 'felicitous': ('strongsubj', '1', 'adj', 'n', 'positive'), 'felicity': ('strongsubj', '1', 'noun', 'n', 'positive'), 'fell': ('strongsubj', '1', 'adj', 'n', 'negative'), 'felon': ('weaksubj', '1', 'noun', 'n', 'negative'), 'felonious': ('weaksubj', '1', 'adj', 'n', 'negative'), 'ferocious': ('strongsubj', '1', 'adj', 'n', 'negative'), 'ferociously': ('strongsubj', '1', 'adverb', 'n', 'negative'), 'ferocity': ('strongsubj', '1', 'noun', 'n', 'negative'), 'fertile': ('weaksubj', '1', 'noun', 'n', 'positive'), 'fervent': ('strongsubj', '1', 'adj', 'n', 'positive'), 'fervently': ('strongsubj', '1', 'anypos', 'n', 'positive'), 'fervid': ('strongsubj', '1', 'adj', 'n', 'positive'), 'fervidly': ('strongsubj', '1', 'anypos', 'n', 'positive'), 'fervor': ('strongsubj', '1', 'noun', 'n', 'positive'), 'feverish': ('weaksubj', '1', 'adj', 'n', 'negative'), 'festive': ('strongsubj', '1', 'adj', 'n', 'positive'), 'fetid': ('strongsubj', '1', 'adj', 'n', 'negative'), 'fever': ('weaksubj', '1', 'noun', 'n', 'negative'), 'fiasco': ('strongsubj', '1', 'noun', 'n', 'negative'), 'fiat': ('weaksubj', '1', 'noun', 'n', 'negative'), 'fib': ('strongsubj', '1', 'verb', 'y', 'negative'), 'fibber': ('strongsubj', '1', 'noun', 'n', 'negative'), 'fickle': ('strongsubj', '1', 'adj', 'n', 'negative'), 'fiction': ('weaksubj', '1', 'noun', 'n', 'negative'), 'fictional': ('weaksubj', '1', 'adj', 'n', 'negative'), 'fictitious': ('strongsubj', '1', 'adj', 'n', 'negative'), 'fidelity': ('strongsubj', '1', 'noun', 'n', 'positive'), 'fidget': ('strongsubj', '1', 'verb', 'y', 'negative'), 'fidgety': ('strongsubj', '1', 'adj', 'n', 'negative'), 'fiend': ('strongsubj', '1', 'noun', 'n', 'negative'), 'fiendish': ('strongsubj', '1', 'adj', 'n', 'negative'), 'fierce': ('weaksubj', '1', 'adj', 'n', 'negative'), 'fiery': ('weaksubj', '1', 'adj', 'n', 'positive'), 'fight': ('weaksubj', '1', 'noun', 'n', 'negative'), 'figurehead': ('weaksubj', '1', 'noun', 'n', 'negative'), 'filth': ('strongsubj', '1', 'noun', 'n', 'negative'), 'filthy': ('strongsubj', '1', 'adj', 'n', 'negative'), 'finagle': ('weaksubj', '1', 'verb', 'y', 'negative'), 'finally': ('strongsubj', '1', 'anypos', 'y', 'neutral'), 'fine': ('weaksubj', '1', 'verb', 'y', 'negative'), 'finely': ('strongsubj', '1', 'adj', 'n', 'positive'), 'firm': ('weaksubj', '1', 'noun', 'n', 'neutral'), 'firmly': ('weaksubj', '1', 'adverb', 'n', 'neutral'), 'first-class': ('weaksubj', '1', 'adj', 'n', 'positive'), 'first-rate': ('strongsubj', '1', 'adj', 'n', 'positive'), 'fissures': ('weaksubj', '1', 'noun', 'n', 'negative'), 'fist': ('weaksubj', '1', 'noun', 'n', 'negative'), 'fit': ('strongsubj', '1', 'adj', 'n', 'positive'), 'fitting': ('strongsubj', '1', 'adj', 'n', 'positive'), 'fixer': ('strongsubj', '1', 'noun', 'n', 'neutral'), 'flabbergast': ('strongsubj', '1', 'verb', 'y', 'negative'), 'flabbergasted': ('strongsubj', '1', 'anypos', 'n', 'negative'), 'flagging': ('weaksubj', '1', 'adj', 'n', 'negative'), 'flagrant': ('strongsubj', '1', 'anypos', 'n', 'negative'), 'flagrantly': ('strongsubj', '1', 'anypos', 'n', 'negative'), 'flair': ('weaksubj', '1', 'noun', 'n', 'positive'), 'flak': ('strongsubj', '1', 'noun', 'n', 'negative'), 'flake': ('weaksubj', '1', 'noun', 'n', 'negative'), 'flakey': ('weaksubj', '1', 'adj', 'n', 'negative'), 'flaky': ('weaksubj', '1', 'adj', 'n', 'negative'), 'flame': ('weaksubj', '1', 'noun', 'n', 'positive'), 'flash': ('weaksubj', '1', 'noun', 'n', 'negative'), 'flashy': ('weaksubj', '1', 'anypos', 'y', 'negative'), 'flat-out': ('strongsubj', '1', 'anypos', 'n', 'negative'), 'flatter': ('strongsubj', '1', 'verb', 'y', 'positive'), 'flattering': ('strongsubj', '1', 'adj', 'n', 'positive'), 'flatteringly': ('strongsubj', '1', 'adverb', 'n', 'positive'), 'flaunt': ('strongsubj', '1', 'verb', 'y', 'negative'), 'flaw': ('weaksubj', '1', 'noun', 'n', 'negative'), 'flaws': ('weaksubj', '1', 'noun', 'n', 'negative'), 'flawed': ('weaksubj', '1', 'noun', 'n', 'negative'), 'flawless': ('strongsubj', '1', 'adj', 'n', 'positive'), 'flawlessly': ('strongsubj', '1', 'adverb', 'n', 'positive'), 'fleer': ('strongsubj', '1', 'verb', 'y', 'negative'), 'fleeting': ('weaksubj', '1', 'adj', 'n', 'negative'), 'flexible': ('strongsubj', '1', 'adj', 'n', 'positive'), 'flighty': ('strongsubj', '1', 'adj', 'n', 'negative'), 'flimflam': ('strongsubj', '1', 'noun', 'n', 'negative'), 'flimsy': ('weaksubj', '1', 'adj', 'n', 'negative'), 'flirt': ('strongsubj', '1', 'verb', 'y', 'negative'), 'flirty': ('strongsubj', '1', 'anypos', 'y', 'negative'), 'floor': ('weaksubj', '1', 'verb', 'y', 'neutral'), 'floored': ('strongsubj', '1', 'anypos', 'y', 'negative'), 'flounder': ('strongsubj', '1', 'verb', 'y', 'negative'), 'floundering': ('strongsubj', '1', 'anypos', 'n', 'negative'), 'flourish': ('strongsubj', '1', 'adj', 'n', 'positive'), 'flourishing': ('strongsubj', '1', 'adj', 'n', 'positive'), 'flout': ('strongsubj', '1', 'verb', 'y', 'negative'), 'fluent': ('weaksubj', '1', 'adj', 'n', 'positive'), 'fluster': ('weaksubj', '1', 'verb', 'y', 'negative'), 'foe': ('strongsubj', '1', 'noun', 'n', 'negative'), 'fond': ('strongsubj', '1', 'adj', 'n', 'positive'), 'fondly': ('strongsubj', '1', 'adverb', 'n', 'positive'), 'fondness': ('strongsubj', '1', 'noun', 'n', 'positive'), 'fool': ('strongsubj', '1', 'anypos', 'y', 'negative'), 'foolhardy': ('strongsubj', '1', 'adj', 'n', 'negative'), 'foolish': ('strongsubj', '1', 'anypos', 'y', 'negative'), 'foolishly': ('strongsubj', '1', 'anypos', 'n', 'negative'), 'foolishness': ('strongsubj', '1', 'noun', 'n', 'negative'), 'foolproof': ('weaksubj', '1', 'adj', 'n', 'positive'), 'forbid': ('strongsubj', '1', 'adj', 'n', 'negative'), 'forbidden': ('strongsubj', '1', 'adj', 'n', 'negative'), 'forbidding': ('weaksubj', '1', 'noun', 'n', 'negative'), 'force': ('weaksubj', '1', 'verb', 'y', 'negative'), 'forceful': ('weaksubj', '1', 'adj', 'n', 'negative'), 'foreboding': ('strongsubj', '1', 'adj', 'n', 'negative'), 'forebodingly': ('strongsubj', '1', 'adverb', 'n', 'negative'), 'foremost': ('strongsubj', '1', 'adj', 'n', 'positive'), 'forsee': ('strongsubj', '1', 'noun', 'n', 'neutral'), 'foresight': ('strongsubj', '1', 'noun', 'n', 'positive'), 'foretell': ('strongsubj', '1', 'verb', 'y', 'neutral'), 'forfeit': ('weaksubj', '1', 'verb', 'y', 'negative'), 'forgave': ('strongsubj', '1', 'verb', 'n', 'positive'), 'forged': ('weaksubj', '1', 'adj', 'n', 'negative'), 'forget': ('strongsubj', '1', 'verb', 'y', 'negative'), 'forgetful': ('strongsubj', '1', 'anypos', 'n', 'negative'), 'forgetfully': ('strongsubj', '1', 'anypos', 'n', 'negative'), 'forgetfulness': ('strongsubj', '1', 'noun', 'n', 'negative'), 'forgive': ('strongsubj', '1', 'verb', 'y', 'positive'), 'forgiven': ('strongsubj', '1', 'adj', 'n', 'positive'), 'forgiveness': ('strongsubj', '1', 'noun', 'n', 'positive'), 'forgiving': ('strongsubj', '1', 'anypos', 'n', 'positive'), 'forgivingly': ('strongsubj', '1', 'anypos', 'n', 'positive'), 'forlorn': ('strongsubj', '1', 'adj', 'n', 'negative'), 'forlornly': ('strongsubj', '1', 'adverb', 'n', 'negative'), 'formidable': ('strongsubj', '1', 'adj', 'n', 'negative'), 'forsake': ('strongsubj', '1', 'verb', 'y', 'negative'), 'forsaken': ('strongsubj', '1', 'anypos', 'n', 'negative'), 'forswear': ('strongsubj', '1', 'verb', 'y', 'negative'), 'forthright': ('weaksubj', '1', 'adj', 'n', 'neutral'), 'fortitude': ('strongsubj', '1', 'noun', 'n', 'positive'), 'fortress': ('strongsubj', '1', 'noun', 'n', 'neutral'), 'fortuitous': ('strongsubj', '1', 'adj', 'n', 'positive'), 'fortuitously': ('strongsubj', '1', 'adj', 'n', 'positive'), 'fortunate': ('strongsubj', '1', 'anypos', 'y', 'positive'), 'fortunately': ('strongsubj', '1', 'anypos', 'y', 'positive'), 'fortune': ('strongsubj', '1', 'noun', 'n', 'positive'), 'foul': ('weaksubj', '1', 'verb', 'y', 'negative'), 'foully': ('strongsubj', '1', 'adverb', 'n', 'negative'), 'foulness': ('strongsubj', '1', 'noun', 'n', 'negative'), 'fractious': ('strongsubj', '1', 'adj', 'n', 'negative'), 'fractiously': ('strongsubj', '1', 'anypos', 'n', 'negative'), 'fracture': ('weaksubj', '1', 'verb', 'y', 'negative'), 'fragile': ('weaksubj', '1', 'noun', 'n', 'negative'), 'fragmented': ('weaksubj', '1', 'adj', 'n', 'negative'), 'fragrant': ('strongsubj', '1', 'adj', 'n', 'positive'), 'frail': ('weaksubj', '1', 'adj', 'n', 'negative'), 'frank': ('strongsubj', '1', 'adj', 'n', 'positive'), 'frankly': ('strongsubj', '1', 'anypos', 'n', 'neutral'), 'frantic': ('strongsubj', '1', 'adj', 'n', 'negative'), 'frantically': ('strongsubj', '1', 'anypos', 'n', 'negative'), 'franticly': ('strongsubj', '1', 'anypos', 'n', 'negative'), 'fraternize': ('strongsubj', '1', 'verb', 'y', 'negative'), 'fraud': ('weaksubj', '1', 'noun', 'n', 'negative'), 'fraudulent': ('weaksubj', '1', 'adj', 'n', 'negative'), 'fraught': ('strongsubj', '1', 'noun', 'n', 'negative'), 'freak': ('strongsubj', '1', 'verb', 'y', 'negative'), 'freakish': ('strongsubj', '1', 'anypos', 'y', 'negative'), 'freakishly': ('strongsubj', '1', 'anypos', 'n', 'negative'), 'frazzle': ('strongsubj', '1', 'verb', 'y', 'negative'), 'frazzled': ('strongsubj', '1', 'adj', 'n', 'negative'), 'free': ('weaksubj', '1', 'adj', 'n', 'positive'), 'freedom': ('weaksubj', '1', 'noun', 'n', 'positive'), 'freedoms': ('weaksubj', '1', 'noun', 'n', 'positive'), 'frenetic': ('strongsubj', '1', 'adj', 'n', 'negative'), 'frenetically': ('strongsubj', '1', 'anypos', 'n', 'negative'), 'frenzied': ('strongsubj', '1', 'adj', 'n', 'negative'), 'frenzy': ('strongsubj', '1', 'noun', 'n', 'negative'), 'frequent': ('weaksubj', '1', 'adj', 'n', 'neutral'), 'fresh': ('weaksubj', '1', 'adj', 'n', 'positive'), 'fret': ('strongsubj', '1', 'verb', 'y', 'negative'), 'fretful': ('strongsubj', '1', 'adj', 'n', 'negative'), 'friction': ('strongsubj', '1', 'noun', 'n', 'negative'), 'frictions': ('strongsubj', '1', 'noun', 'n', 'negative'), 'friend': ('weaksubj', '1', 'noun', 'n', 'positive'), 'friendliness': ('strongsubj', '1', 'noun', 'n', 'positive'), 'friendly': ('strongsubj', '1', 'adj', 'n', 'positive'), 'friends': ('weaksubj', '1', 'noun', 'n', 'positive'), 'friendship': ('weaksubj', '1', 'noun', 'n', 'positive'), 'friggin': ('strongsubj', '1', 'anypos', 'n', 'negative'), 'fright': ('strongsubj', '1', 'noun', 'n', 'negative'), 'frighten': ('strongsubj', '1', 'verb', 'y', 'negative'), 'frightening': ('strongsubj', '1', 'adj', 'n', 'negative'), 'frighteningly': ('strongsubj', '1', 'anypos', 'n', 'negative'), 'frightful': ('strongsubj', '1', 'adj', 'n', 'negative'), 'frightfully': ('strongsubj', '1', 'anypos', 'n', 'negative'), 'frigid': ('weaksubj', '1', 'adj', 'n', 'negative'), 'frivolous': ('strongsubj', '1', 'adj', 'n', 'negative'), 'frolic': ('strongsubj', '1', 'verb', 'y', 'positive'), 'frown': ('strongsubj', '1', 'noun', 'n', 'negative'), 'frozen': ('weaksubj', '1', 'adj', 'n', 'negative'), 'fruitful': ('weaksubj', '1', 'adj', 'n', 'positive'), 'fruitless': ('strongsubj', '1', 'adj', 'n', 'negative'), 'fruitlessly': ('strongsubj', '1', 'anypos', 'n', 'negative'), 'fumble': ('weaksubj', '1', 'verb', 'y', 'negative'), 'fun': ('strongsubj', '1', 'adj', 'n', 'positive'), 'frustrate': ('strongsubj', '1', 'verb', 'y', 'negative'), 'frustrated': ('strongsubj', '1', 'adj', 'n', 'negative'), 'frustrating': ('strongsubj', '1', 'anypos', 'n', 'negative'), 'frustratingly': ('strongsubj', '1', 'anypos', 'n', 'negative'), 'frustration': ('strongsubj', '1', 'noun', 'n', 'negative'), 'fudge': ('strongsubj', '1', 'verb', 'y', 'negative'), 'fugitive': ('weaksubj', '1', 'adj', 'n', 'negative'), 'fulfillment': ('weaksubj', '1', 'noun', 'n', 'positive'), 'full': ('weaksubj', '1', 'adj', 'n', 'neutral'), 'fully': ('weaksubj', '1', 'adverb', 'n', 'neutral'), 'full-blown': ('weaksubj', '1', 'adj', 'n', 'negative'), 'full-fledged': ('weaksubj', '1', 'adj', 'n', 'positive'), 'full-scale': ('weaksubj', '1', 'adj', 'n', 'neutral'), 'fulminate': ('strongsubj', '1', 'verb', 'y', 'negative'), 'fume': ('strongsubj', '1', 'verb', 'y', 'negative'), 'functional': ('weaksubj', '1', 'adj', 'n', 'positive'), 'fundamental': ('strongsubj', '1', 'adj', 'n', 'neutral'), 'fundamentally': ('strongsubj', '1', 'adverb', 'n', 'neutral'), 'fundamentalism': ('weaksubj', '1', 'noun', 'n', 'negative'), 'funded': ('weaksubj', '1', 'adj', 'n', 'neutral'), 'funny': ('strongsubj', '1', 'anypos', 'y', 'positive'), 'furious': ('strongsubj', '1', 'adj', 'n', 'negative'), 'furiously': ('strongsubj', '1', 'anypos', 'n', 'negative'), 'furor': ('strongsubj', '1', 'noun', 'n', 'negative'), 'further': ('weaksubj', '1', 'anypos', 'y', 'neutral'), 'furthermore': ('strongsubj', '1', 'anypos', 'y', 'neutral'), 'fury': ('strongsubj', '1', 'noun', 'n', 'negative'), 'fuss': ('strongsubj', '1', 'verb', 'y', 'negative'), 'fustigate': ('strongsubj', '1', 'verb', 'y', 'negative'), 'fussy': ('strongsubj', '1', 'anypos', 'n', 'negative'), 'fusty': ('strongsubj', '1', 'adj', 'n', 'negative'), 'futile': ('strongsubj', '1', 'adj', 'n', 'negative'), 'futilely': ('strongsubj', '1', 'anypos', 'n', 'negative'), 'futility': ('strongsubj', '1', 'noun', 'n', 'negative'), 'fuzzy': ('weaksubj', '1', 'adj', 'n', 'negative'), 'gabble': ('strongsubj', '1', 'verb', 'y', 'negative'), 'gaff': ('strongsubj', '1', 'noun', 'n', 'negative'), 'gaffe': ('strongsubj', '1', 'noun', 'n', 'negative'), 'gaiety': ('strongsubj', '1', 'noun', 'n', 'positive'), 'gaily': ('strongsubj', '1', 'adverb', 'n', 'positive'), 'gain': ('weaksubj', '1', 'verb', 'y', 'positive'), 'gainful': ('strongsubj', '1', 'adj', 'n', 'positive'), 'gainfully': ('strongsubj', '1', 'adverb', 'n', 'positive'), 'gainsay': ('strongsubj', '1', 'verb', 'y', 'negative'), 'gainsayer': ('strongsubj', '1', 'noun', 'n', 'negative'), 'gaga': ('strongsubj', '1', 'anypos', 'n', 'negative'), 'gaggle': ('strongsubj', '1', 'verb', 'y', 'negative'), 'gall': ('strongsubj', '1', 'verb', 'y', 'negative'), 'gallant': ('strongsubj', '1', 'adj', 'n', 'positive'), 'gallantly': ('strongsubj', '1', 'adverb', 'n', 'positive'), 'galling': ('strongsubj', '1', 'adj', 'n', 'negative'), 'gallingly': ('strongsubj', '1', 'adverb', 'n', 'negative'), 'galore': ('strongsubj', '1', 'anypos', 'n', 'positive'), 'galvanize': ('weaksubj', '1', 'verb', 'y', 'neutral'), 'gamble': ('weaksubj', '1', 'verb', 'y', 'negative'), 'game': ('weaksubj', '1', 'adj', 'n', 'negative'), 'gape': ('strongsubj', '1', 'verb', 'y', 'negative'), 'garbage': ('weaksubj', '1', 'noun', 'n', 'negative'), 'garish': ('strongsubj', '1', 'adj', 'n', 'negative'), 'gasp': ('strongsubj', '1', 'noun', 'n', 'negative'), 'gauche': ('strongsubj', '1', 'adj', 'n', 'negative'), 'gaudy': ('strongsubj', '1', 'adj', 'n', 'negative'), 'gawk': ('strongsubj', '1', 'verb', 'y', 'negative'), 'gawky': ('strongsubj', '1', 'adj', 'n', 'negative'), 'geezer': ('strongsubj', '1', 'anypos', 'y', 'negative'), 'gem': ('weaksubj', '1', 'noun', 'n', 'positive'), 'gems': ('weaksubj', '1', 'noun', 'n', 'positive'), 'generosity': ('strongsubj', '1', 'noun', 'n', 'positive'), 'generous': ('strongsubj', '1', 'adj', 'n', 'positive'), 'generously': ('strongsubj', '1', 'adj', 'n', 'positive'), 'genial': ('weaksubj', '1', 'adj', 'n', 'positive'), 'genius': ('strongsubj', '1', 'noun', 'n', 'positive'), 'genocide': ('strongsubj', '1', 'noun', 'n', 'negative'), 'gentle': ('weaksubj', '1', 'adj', 'n', 'positive'), 'genuine': ('weaksubj', '1', 'adj', 'n', 'positive'), 'germane': ('weaksubj', '1', 'adj', 'n', 'positive'), 'gestures': ('weaksubj', '1', 'noun', 'n', 'neutral'), 'get-rich': ('strongsubj', '1', 'noun', 'n', 'negative'), 'ghastly': ('strongsubj', '1', 'adj', 'n', 'negative'), 'ghetto': ('weaksubj', '1', 'noun', 'n', 'negative'), 'giant': ('weaksubj', '1', 'noun', 'n', 'neutral'), 'giants': ('weaksubj', '1', 'noun', 'n', 'neutral'), 'gibber': ('strongsubj', '1', 'verb', 'y', 'negative'), 'gibberish': ('strongsubj', '1', 'anypos', 'n', 'negative'), 'gibe': ('strongsubj', '1', 'verb', 'y', 'negative'), 'giddy': ('strongsubj', '1', 'adj', 'n', 'positive'), 'gifted': ('strongsubj', '1', 'adj', 'n', 'positive'), 'gigantic': ('weaksubj', '1', 'adj', 'n', 'neutral'), 'glad': ('strongsubj', '1', 'adj', 'n', 'positive'), 'gladden': ('strongsubj', '1', 'verb', 'y', 'positive'), 'gladly': ('strongsubj', '1', 'adverb', 'n', 'positive'), 'gladness': ('strongsubj', '1', 'noun', 'n', 'positive'), 'glamorous': ('strongsubj', '1', 'adj', 'n', 'positive'), 'glare': ('strongsubj', '1', 'verb', 'y', 'negative'), 'glaring': ('strongsubj', '1', 'adj', 'n', 'negative'), 'glaringly': ('strongsubj', '1', 'adverb', 'n', 'negative'), 'glean': ('strongsubj', '1', 'verb', 'y', 'neutral'), 'glee': ('strongsubj', '1', 'noun', 'n', 'positive'), 'gleeful': ('strongsubj', '1', 'anypos', 'n', 'positive'), 'gleefully': ('strongsubj', '1', 'anypos', 'n', 'positive'), 'glib': ('strongsubj', '1', 'adj', 'n', 'negative'), 'glibly': ('strongsubj', '1', 'adverb', 'n', 'negative'), 'glimmer': ('strongsubj', '1', 'verb', 'y', 'positive'), 'glimmering': ('strongsubj', '1', 'anypos', 'n', 'positive'), 'glisten': ('strongsubj', '1', 'verb', 'y', 'positive'), 'glistening': ('strongsubj', '1', 'anypos', 'n', 'positive'), 'glitch': ('weaksubj', '1', 'noun', 'n', 'negative'), 'glitter': ('strongsubj', '1', 'verb', 'y', 'positive'), 'gloat': ('strongsubj', '1', 'verb', 'y', 'both'), 'gloatingly': ('strongsubj', '1', 'adverb', 'n', 'negative'), 'gloom': ('strongsubj', '1', 'noun', 'n', 'negative'), 'gloomy': ('strongsubj', '1', 'adj', 'n', 'negative'), 'glorify': ('strongsubj', '1', 'verb', 'y', 'positive'), 'glorious': ('strongsubj', '1', 'adj', 'n', 'positive'), 'gloriously': ('strongsubj', '1', 'anypos', 'n', 'positive'), 'glory': ('strongsubj', '1', 'verb', 'y', 'positive'), 'gloss': ('strongsubj', '1', 'verb', 'y', 'negative'), 'glossy': ('strongsubj', '1', 'adj', 'n', 'positive'), 'glow': ('strongsubj', '1', 'verb', 'y', 'positive'), 'glower': ('strongsubj', '1', 'verb', 'y', 'negative'), 'glowing': ('strongsubj', '1', 'anypos', 'y', 'positive'), 'glowingly': ('strongsubj', '1', 'anypos', 'n', 'positive'), 'glum': ('strongsubj', '1', 'adj', 'n', 'negative'), 'glut': ('weaksubj', '1', 'noun', 'n', 'negative'), 'gnawing': ('weaksubj', '1', 'anypos', 'n', 'negative'), 'go-ahead': ('weaksubj', '1', 'noun', 'n', 'positive'), 'goad': ('strongsubj', '1', 'verb', 'y', 'negative'), 'goading': ('strongsubj', '1', 'adj', 'n', 'negative'), 'god-awful': ('strongsubj', '1', 'anypos', 'n', 'negative'), 'god-given': ('strongsubj', '1', 'anypos', 'n', 'positive'), 'goddam': ('strongsubj', '1', 'anypos', 'n', 'negative'), 'goddamn': ('strongsubj', '1', 'anypos', 'n', 'negative'), 'godlike': ('strongsubj', '1', 'anypos', 'n', 'positive'), 'gold': ('weaksubj', '1', 'noun', 'n', 'positive'), 'golden': ('weaksubj', '1', 'adj', 'n', 'positive'), 'good': ('weaksubj', '1', 'anypos', 'n', 'positive'), 'goodly': ('weaksubj', '1', 'adverb', 'n', 'positive'), 'goodness': ('strongsubj', '1', 'noun', 'n', 'positive'), 'goodwill': ('strongsubj', '1', 'noun', 'n', 'positive'), 'goof': ('strongsubj', '1', 'verb', 'y', 'negative'), 'gorgeous': ('strongsubj', '1', 'adj', 'n', 'positive'), 'gorgeously': ('strongsubj', '1', 'anypos', 'n', 'positive'), 'gossip': ('strongsubj', '1', 'verb', 'y', 'negative'), 'grace': ('strongsubj', '1', 'noun', 'n', 'positive'), 'graceful': ('strongsubj', '1', 'adj', 'n', 'positive'), 'gracefully': ('strongsubj', '1', 'adverb', 'n', 'positive'), 'graceless': ('strongsubj', '1', 'adj', 'n', 'negative'), 'gracelessly': ('strongsubj', '1', 'adverb', 'n', 'negative'), 'gracious': ('strongsubj', '1', 'adj', 'n', 'positive'), 'graciously': ('strongsubj', '1', 'adverb', 'n', 'positive'), 'graciousness': ('strongsubj', '1', 'noun', 'n', 'positive'), 'graft': ('weaksubj', '1', 'noun', 'n', 'negative'), 'grail': ('weaksubj', '1', 'noun', 'n', 'positive'), 'grand': ('weaksubj', '1', 'adj', 'n', 'positive'), 'grandeur': ('strongsubj', '1', 'noun', 'n', 'positive'), 'grandiose': ('strongsubj', '1', 'adj', 'n', 'negative'), 'grapple': ('weaksubj', '1', 'verb', 'y', 'negative'), 'grate': ('strongsubj', '1', 'verb', 'y', 'negative'), 'grateful': ('strongsubj', '1', 'anypos', 'n', 'positive'), 'gratefully': ('strongsubj', '1', 'anypos', 'n', 'positive'), 'gratification': ('strongsubj', '1', 'noun', 'n', 'positive'), 'gratify': ('strongsubj', '1', 'verb', 'y', 'positive'), 'gratifying': ('strongsubj', '1', 'anypos', 'n', 'positive'), 'gratifyingly': ('strongsubj', '1', 'anypos', 'n', 'positive'), 'grating': ('strongsubj', '1', 'adj', 'n', 'negative'), 'gratitude': ('strongsubj', '1', 'noun', 'n', 'positive'), 'gratuitous': ('strongsubj', '1', 'noun', 'n', 'negative'), 'gratuitously': ('strongsubj', '1', 'anypos', 'y', 'negative'), 'grave': ('strongsubj', '1', 'adj', 'n', 'negative'), 'gravely': ('strongsubj', '1', 'adverb', 'n', 'negative'), 'great': ('strongsubj', '1', 'adj', 'n', 'positive'), 'greatest': ('strongsubj', '1', 'adj', 'n', 'positive'), 'greatly': ('strongsubj', '1', 'adverb', 'n', 'neutral'), 'greatness': ('strongsubj', '1', 'noun', 'n', 'positive'), 'greed': ('strongsubj', '1', 'noun', 'n', 'negative'), 'greedy': ('strongsubj', '1', 'adj', 'n', 'negative'), 'greet': ('strongsubj', '1', 'verb', 'y', 'positive'), 'grief': ('strongsubj', '1', 'noun', 'n', 'negative'), 'grievance': ('strongsubj', '1', 'noun', 'n', 'negative'), 'grievances': ('strongsubj', '1', 'noun', 'n', 'negative'), 'grieve': ('strongsubj', '1', 'verb', 'y', 'negative'), 'grieving': ('strongsubj', '1', 'adj', 'n', 'negative'), 'grievous': ('strongsubj', '1', 'anypos', 'n', 'negative'), 'grievously': ('strongsubj', '1', 'anypos', 'n', 'negative'), 'grill': ('weaksubj', '1', 'verb', 'y', 'negative'), 'grim': ('strongsubj', '1', 'adj', 'n', 'negative'), 'grimace': ('strongsubj', '1', 'verb', 'y', 'negative'), 'grin': ('strongsubj', '1', 'anypos', 'y', 'positive'), 'grind': ('strongsubj', '1', 'noun', 'n', 'negative'), 'gripe': ('strongsubj', '1', 'verb', 'y', 'negative'), 'grisly': ('strongsubj', '1', 'adj', 'n', 'negative'), 'grit': ('strongsubj', '1', 'noun', 'n', 'positive'), 'gritty': ('weaksubj', '1', 'adj', 'n', 'negative'), 'groove': ('weaksubj', '1', 'verb', 'y', 'positive'), 'gross': ('weaksubj', '1', 'adj', 'n', 'negative'), 'grossly': ('strongsubj', '1', 'anypos', 'n', 'negative'), 'grotesque': ('strongsubj', '1', 'adj', 'n', 'negative'), 'grouch': ('strongsubj', '1', 'noun', 'n', 'negative'), 'grouchy': ('strongsubj', '1', 'adj', 'n', 'negative'), 'groundbreaking': ('strongsubj', '1', 'noun', 'n', 'positive'), 'groundless': ('strongsubj', '1', 'adj', 'n', 'negative'), 'grouse': ('strongsubj', '1', 'verb', 'y', 'negative'), 'growing': ('weaksubj', '1', 'adj', 'n', 'neutral'), 'growl': ('strongsubj', '1', 'verb', 'y', 'negative'), 'grudge': ('strongsubj', '1', 'anypos', 'y', 'negative'), 'grudges': ('strongsubj', '1', 'noun', 'n', 'negative'), 'grudging': ('strongsubj', '1', 'anypos', 'n', 'negative'), 'grudgingly': ('strongsubj', '1', 'anypos', 'y', 'negative'), 'gruesome': ('strongsubj', '1', 'anypos', 'n', 'negative'), 'gruesomely': ('strongsubj', '1', 'anypos', 'n', 'negative'), 'gruff': ('strongsubj', '1', 'adj', 'n', 'negative'), 'grumble': ('strongsubj', '1', 'verb', 'y', 'negative'), 'guarantee': ('weaksubj', '1', 'verb', 'y', 'positive'), 'guardian': ('weaksubj', '1', 'noun', 'n', 'positive'), 'guidance': ('weaksubj', '1', 'noun', 'n', 'positive'), 'guile': ('strongsubj', '1', 'noun', 'n', 'negative'), 'guilt': ('strongsubj', '1', 'noun', 'n', 'negative'), 'guiltless': ('strongsubj', '1', 'adj', 'n', 'positive'), 'guilty': ('weaksubj', '1', 'adj', 'n', 'negative'), 'guiltily': ('strongsubj', '1', 'adverb', 'n', 'negative'), 'gullible': ('strongsubj', '1', 'adj', 'n', 'negative'), 'gush': ('weaksubj', '1', 'verb', 'y', 'positive'), 'gumption': ('strongsubj', '1', 'noun', 'n', 'positive'), 'gusto': ('strongsubj', '1', 'noun', 'n', 'positive'), 'gutsy': ('strongsubj', '1', 'adj', 'n', 'positive'), 'haggard': ('strongsubj', '1', 'adj', 'n', 'negative'), 'haggle': ('strongsubj', '1', 'verb', 'y', 'negative'), 'hail': ('strongsubj', '1', 'verb', 'y', 'positive'), 'halcyon': ('strongsubj', '1', 'adj', 'n', 'positive'), 'hale': ('strongsubj', '1', 'adj', 'n', 'positive'), 'halfhearted': ('strongsubj', '1', 'adj', 'n', 'negative'), 'halfheartedly': ('strongsubj', '1', 'adj', 'n', 'negative'), 'halfway': ('weaksubj', '1', 'noun', 'n', 'neutral'), 'hallowed': ('strongsubj', '1', 'adj', 'n', 'positive'), 'hallucinate': ('strongsubj', '1', 'verb', 'y', 'negative'), 'hallucination': ('strongsubj', '1', 'noun', 'n', 'negative'), 'halt': ('weaksubj', '1', 'adj', 'n', 'neutral'), 'hamper': ('strongsubj', '1', 'verb', 'y', 'negative'), 'hamstring': ('strongsubj', '1', 'verb', 'n', 'negative'), 'hamstrung': ('strongsubj', '1', 'verb', 'n', 'negative'), 'handicapped': ('weaksubj', '1', 'adj', 'n', 'negative'), 'handily': ('strongsubj', '1', 'adverb', 'n', 'positive'), 'handsome': ('strongsubj', '1', 'adj', 'n', 'positive'), 'handy': ('strongsubj', '1', 'adj', 'n', 'positive'), 'hanker': ('strongsubj', '1', 'verb', 'y', 'positive'), 'hapless': ('strongsubj', '1', 'adj', 'n', 'negative'), 'haphazard': ('weaksubj', '1', 'adj', 'n', 'negative'), 'happily': ('strongsubj', '1', 'adverb', 'n', 'positive'), 'happiness': ('strongsubj', '1', 'noun', 'n', 'positive'), 'happy': ('strongsubj', '1', 'adj', 'n', 'positive'), 'harangue': ('strongsubj', '1', 'verb', 'n', 'negative'), 'harass': ('weaksubj', '1', 'verb', 'y', 'negative'), 'harassment': ('strongsubj', '1', 'noun', 'n', 'negative'), 'harboring': ('weaksubj', '1', 'noun', 'n', 'negative'), 'harbors': ('weaksubj', '1', 'noun', 'n', 'negative'), 'hard': ('weaksubj', '1', 'adj', 'n', 'negative'), 'hard-hit': ('weaksubj', '1', 'adj', 'n', 'negative'), 'hard-line': ('strongsubj', '1', 'adj', 'n', 'negative'), 'hard-liner': ('strongsubj', '1', 'noun', 'n', 'negative'), 'hard-working': ('weaksubj', '1', 'adj', 'n', 'positive'), 'hardball': ('strongsubj', '1', 'noun', 'n', 'negative'), 'harden': ('weaksubj', '1', 'verb', 'y', 'negative'), 'hardened': ('weaksubj', '1', 'adj', 'n', 'negative'), 'hardheaded': ('strongsubj', '1', 'adj', 'n', 'negative'), 'hardhearted': ('strongsubj', '1', 'adj', 'n', 'negative'), 'hardier': ('strongsubj', '1', 'noun', 'n', 'positive'), 'hardliner': ('weaksubj', '1', 'noun', 'n', 'negative'), 'hardliners': ('weaksubj', '1', 'noun', 'n', 'negative'), 'hardly': ('strongsubj', '1', 'anypos', 'n', 'negative'), 'hardship': ('strongsubj', '1', 'noun', 'n', 'negative'), 'hardships': ('strongsubj', '1', 'noun', 'n', 'negative'), 'hardy': ('weaksubj', '1', 'adj', 'n', 'positive'), 'harm': ('strongsubj', '1', 'noun', 'n', 'negative'), 'harmful': ('strongsubj', '1', 'adj', 'n', 'negative'), 'harmless': ('strongsubj', '1', 'adj', 'n', 'positive'), 'harmonious': ('strongsubj', '1', 'adj', 'n', 'positive'), 'harmoniously': ('strongsubj', '1', 'anypos', 'y', 'positive'), 'harmonize': ('strongsubj', '1', 'verb', 'y', 'positive'), 'harmony': ('strongsubj', '1', 'noun', 'n', 'positive'), 'harms': ('strongsubj', '1', 'noun', 'n', 'negative'), 'harpy': ('strongsubj', '1', 'noun', 'n', 'negative'), 'harridan': ('strongsubj', '1', 'noun', 'n', 'negative'), 'harried': ('strongsubj', '1', 'adj', 'n', 'negative'), 'harrow': ('strongsubj', '1', 'verb', 'y', 'negative'), 'harsh': ('strongsubj', '1', 'adj', 'n', 'negative'), 'harshly': ('strongsubj', '1', 'anypos', 'y', 'negative'), 'hassle': ('strongsubj', '1', 'noun', 'n', 'negative'), 'haste': ('strongsubj', '1', 'noun', 'n', 'negative'), 'hasty': ('weaksubj', '1', 'adj', 'n', 'negative'), 'hate': ('strongsubj', '1', 'verb', 'y', 'negative'), 'hater': ('strongsubj', '1', 'noun', 'n', 'negative'), 'hateful': ('strongsubj', '1', 'adj', 'n', 'negative'), 'hatefully': ('strongsubj', '1', 'anypos', 'n', 'negative'), 'hatefulness': ('strongsubj', '1', 'noun', 'n', 'negative'), 'haughtily': ('strongsubj', '1', 'adverb', 'n', 'negative'), 'haughty': ('strongsubj', '1', 'adj', 'n', 'negative'), 'hatred': ('strongsubj', '1', 'noun', 'n', 'negative'), 'haunt': ('weaksubj', '1', 'verb', 'y', 'negative'), 'haunting': ('strongsubj', '1', 'adj', 'n', 'negative'), 'haven': ('strongsubj', '1', 'noun', 'n', 'positive'), 'havoc': ('strongsubj', '1', 'noun', 'n', 'negative'), 'hawkish': ('strongsubj', '1', 'noun', 'n', 'negative'), 'hazard': ('weaksubj', '1', 'verb', 'y', 'negative'), 'hazardous': ('weaksubj', '1', 'adj', 'n', 'negative'), 'hazy': ('weaksubj', '1', 'adj', 'n', 'negative'), 'headache': ('weaksubj', '1', 'noun', 'n', 'negative'), 'headaches': ('weaksubj', '1', 'noun', 'n', 'negative'), 'headway': ('weaksubj', '1', 'noun', 'n', 'positive'), 'heady': ('strongsubj', '1', 'adj', 'n', 'positive'), 'heal': ('weaksubj', '1', 'verb', 'y', 'positive'), 'healthful': ('strongsubj', '1', 'adj', 'n', 'positive'), 'healthy': ('weaksubj', '1', 'noun', 'n', 'positive'), 'heart': ('weaksubj', '1', 'adj', 'n', 'positive'), 'heartbreak': ('strongsubj', '1', 'noun', 'n', 'negative'), 'heartbreaker': ('strongsubj', '1', 'noun', 'n', 'negative'), 'heartbreaking': ('strongsubj', '1', 'adj', 'n', 'negative'), 'heartbreakingly': ('strongsubj', '1', 'adverb', 'n', 'negative'), 'hearten': ('strongsubj', '1', 'verb', 'y', 'positive'), 'heartening': ('strongsubj', '1', 'adj', 'n', 'positive'), 'heartfelt': ('strongsubj', '1', 'adj', 'n', 'positive'), 'heartily': ('strongsubj', '1', 'adj', 'n', 'positive'), 'heartless': ('strongsubj', '1', 'adj', 'n', 'negative'), 'heartrending': ('strongsubj', '1', 'adj', 'n', 'negative'), 'heartwarming': ('strongsubj', '1', 'adj', 'n', 'positive'), 'heathen': ('strongsubj', '1', 'noun', 'n', 'negative'), 'heaven': ('weaksubj', '1', 'noun', 'n', 'positive'), 'heavenly': ('strongsubj', '1', 'anypos', 'n', 'positive'), 'heavily': ('strongsubj', '1', 'adverb', 'n', 'negative'), 'heavy-duty': ('weaksubj', '1', 'adj', 'n', 'neutral'), 'heavy-handed': ('strongsubj', '1', 'adj', 'n', 'negative'), 'heavyhearted': ('strongsubj', '1', 'adj', 'n', 'negative'), 'heck': ('strongsubj', '1', 'noun', 'n', 'negative'), 'heckle': ('strongsubj', '1', 'verb', 'y', 'negative'), 'hectic': ('weaksubj', '1', 'adj', 'n', 'negative'), 'hedge': ('strongsubj', '1', 'verb', 'y', 'negative'), 'hedonistic': ('strongsubj', '1', 'adj', 'n', 'negative'), 'heedless': ('strongsubj', '1', 'adj', 'n', 'negative'), 'hefty': ('weaksubj', '1', 'adj', 'n', 'neutral'), 'hegemonism': ('weaksubj', '1', 'noun', 'n', 'negative'), 'hegemonistic': ('strongsubj', '1', 'adj', 'n', 'negative'), 'hegemony': ('weaksubj', '1', 'noun', 'n', 'negative'), 'heinous': ('strongsubj', '1', 'adj', 'n', 'negative'), 'hell': ('strongsubj', '1', 'noun', 'n', 'negative'), 'hell-bent': ('strongsubj', '1', 'adj', 'n', 'negative'), 'hellion': ('strongsubj', '1', 'anypos', 'y', 'negative'), 'help': ('weaksubj', '1', 'verb', 'y', 'positive'), 'helpful': ('weaksubj', '1', 'adj', 'n', 'positive'), 'helpless': ('weaksubj', '1', 'adj', 'n', 'negative'), 'helplessly': ('weaksubj', '1', 'adverb', 'n', 'negative'), 'helplessness': ('weaksubj', '1', 'noun', 'n', 'negative'), 'herald': ('strongsubj', '1', 'anypos', 'y', 'positive'), 'heresy': ('strongsubj', '1', 'noun', 'n', 'negative'), 'heretic': ('strongsubj', '1', 'noun', 'n', 'negative'), 'heretical': ('strongsubj', '1', 'adj', 'n', 'negative'), 'hero': ('strongsubj', '1', 'noun', 'n', 'positive'), 'heroic': ('strongsubj', '1', 'anypos', 'y', 'positive'), 'heroically': ('strongsubj', '1', 'anypos', 'n', 'positive'), 'heroine': ('strongsubj', '1', 'noun', 'n', 'positive'), 'heroize': ('strongsubj', '1', 'verb', 'y', 'positive'), 'heros': ('strongsubj', '1', 'noun', 'n', 'positive'), 'hesitant': ('strongsubj', '1', 'adj', 'n', 'negative'), 'hideous': ('strongsubj', '1', 'adj', 'n', 'negative'), 'hideously': ('strongsubj', '1', 'adverb', 'n', 'negative'), 'hideousness': ('strongsubj', '1', 'noun', 'n', 'negative'), 'high': ('weaksubj', '1', 'adj', 'n', 'neutral'), 'high-powered': ('weaksubj', '1', 'adj', 'n', 'neutral'), 'high-quality': ('weaksubj', '1', 'adj', 'n', 'positive'), 'highlight': ('strongsubj', '1', 'verb', 'y', 'positive'), 'hilarious': ('strongsubj', '1', 'adj', 'n', 'positive'), 'hilariously': ('strongsubj', '1', 'anypos', 'n', 'positive'), 'hilariousness': ('strongsubj', '1', 'noun', 'n', 'positive'), 'hilarity': ('strongsubj', '1', 'noun', 'n', 'positive'), 'hinder': ('strongsubj', '1', 'verb', 'y', 'negative'), 'hindrance': ('strongsubj', '1', 'noun', 'n', 'negative'), 'historic': ('weaksubj', '1', 'adj', 'n', 'positive'), 'hm': ('strongsubj', '1', 'anypos', 'y', 'neutral'), 'hmm': ('strongsubj', '1', 'anypos', 'y', 'neutral'), 'hoard': ('strongsubj', '1', 'verb', 'y', 'negative'), 'hoax': ('strongsubj', '1', 'verb', 'y', 'negative'), 'hobble': ('weaksubj', '1', 'verb', 'y', 'negative'), 'hole': ('weaksubj', '1', 'noun', 'n', 'negative'), 'hollow': ('strongsubj', '1', 'adj', 'n', 'negative'), 'holy': ('weaksubj', '1', 'adj', 'n', 'positive'), 'homage': ('strongsubj', '1', 'noun', 'n', 'positive'), 'honest': ('weaksubj', '1', 'noun', 'n', 'positive'), 'honestly': ('strongsubj', '1', 'anypos', 'n', 'positive'), 'honesty': ('strongsubj', '1', 'noun', 'n', 'positive'), 'honeymoon': ('weaksubj', '1', 'noun', 'n', 'positive'), 'honor': ('strongsubj', '1', 'verb', 'y', 'positive'), 'honorable': ('strongsubj', '1', 'anypos', 'n', 'positive'), 'hoodwink': ('strongsubj', '1', 'verb', 'y', 'negative'), 'hope': ('strongsubj', '1', 'verb', 'y', 'positive'), 'hopeful': ('strongsubj', '1', 'anypos', 'n', 'positive'), 'hopefully': ('strongsubj', '1', 'anypos', 'n', 'positive'), 'hopefulness': ('strongsubj', '1', 'noun', 'n', 'positive'), 'hopeless': ('strongsubj', '1', 'adj', 'n', 'negative'), 'hopelessly': ('strongsubj', '1', 'anypos', 'n', 'negative'), 'hopelessness': ('strongsubj', '1', 'noun', 'n', 'negative'), 'hopes': ('strongsubj', '1', 'noun', 'n', 'positive'), 'horde': ('weaksubj', '1', 'noun', 'n', 'negative'), 'horrendous': ('strongsubj', '1', 'adj', 'n', 'negative'), 'horrendously': ('strongsubj', '1', 'anypos', 'n', 'negative'), 'horrible': ('strongsubj', '1', 'anypos', 'y', 'negative'), 'horribly': ('strongsubj', '1', 'anypos', 'n', 'negative'), 'horrid': ('strongsubj', '1', 'adj', 'n', 'negative'), 'horrific': ('strongsubj', '1', 'adj', 'n', 'negative'), 'horrifically': ('strongsubj', '1', 'anypos', 'n', 'negative'), 'horrify': ('strongsubj', '1', 'verb', 'y', 'negative'), 'horrifying': ('strongsubj', '1', 'anypos', 'n', 'negative'), 'horrifyingly': ('strongsubj', '1', 'anypos', 'n', 'negative'), 'horror': ('strongsubj', '1', 'noun', 'n', 'negative'), 'horrors': ('strongsubj', '1', 'noun', 'n', 'negative'), 'hospitable': ('strongsubj', '1', 'adj', 'n', 'positive'), 'hostage': ('weaksubj', '1', 'noun', 'n', 'negative'), 'hostile': ('weaksubj', '1', 'noun', 'n', 'negative'), 'hostilities': ('weaksubj', '1', 'noun', 'n', 'negative'), 'hostility': ('strongsubj', '1', 'noun', 'n', 'negative'), 'hot': ('weaksubj', '1', 'adj', 'n', 'positive'), 'hothead': ('strongsubj', '1', 'noun', 'n', 'negative'), 'hotheaded': ('strongsubj', '1', 'adj', 'n', 'negative'), 'hotbeds': ('strongsubj', '1', 'noun', 'n', 'negative'), 'hothouse': ('weaksubj', '1', 'noun', 'n', 'negative'), 'however': ('weaksubj', '1', 'anypos', 'n', 'neutral'), 'hubris': ('strongsubj', '1', 'noun', 'n', 'negative'), 'huckster': ('strongsubj', '1', 'noun', 'n', 'negative'), 'hug': ('strongsubj', '1', 'noun', 'n', 'positive'), 'huge': ('weaksubj', '1', 'adj', 'n', 'neutral'), 'humane': ('strongsubj', '1', 'noun', 'n', 'positive'), 'humanists': ('weaksubj', '1', 'noun', 'n', 'positive'), 'humanity': ('weaksubj', '1', 'noun', 'n', 'positive'), 'humankind': ('strongsubj', '1', 'noun', 'n', 'positive'), 'humble': ('strongsubj', '1', 'verb', 'y', 'positive'), 'humbling': ('strongsubj', '1', 'anypos', 'n', 'negative'), 'humiliate': ('strongsubj', '1', 'verb', 'y', 'negative'), 'humiliating': ('strongsubj', '1', 'adj', 'n', 'negative'), 'humiliation': ('strongsubj', '1', 'noun', 'n', 'negative'), 'humility': ('strongsubj', '1', 'noun', 'n', 'positive'), 'humor': ('strongsubj', '1', 'verb', 'y', 'positive'), 'humorous': ('strongsubj', '1', 'anypos', 'n', 'positive'), 'humorously': ('strongsubj', '1', 'anypos', 'n', 'positive'), 'humour': ('strongsubj', '1', 'noun', 'n', 'positive'), 'humourous': ('strongsubj', '1', 'anypos', 'n', 'positive'), 'hunger': ('strongsubj', '1', 'verb', 'y', 'negative'), 'hungry': ('weaksubj', '1', 'adj', 'n', 'negative'), 'hurt': ('weaksubj', '1', 'verb', 'y', 'negative'), 'hurtful': ('weaksubj', '1', 'adj', 'n', 'negative'), 'hustler': ('weaksubj', '1', 'noun', 'n', 'negative'), 'hypnotize': ('weaksubj', '1', 'verb', 'y', 'neutral'), 'hypocrisy': ('strongsubj', '1', 'noun', 'n', 'negative'), 'hypocrite': ('strongsubj', '1', 'noun', 'n', 'negative'), 'hypocrites': ('strongsubj', '1', 'noun', 'n', 'negative'), 'hypocritical': ('strongsubj', '1', 'adj', 'n', 'negative'), 'hypocritically': ('strongsubj', '1', 'noun', 'n', 'negative'), 'hysteria': ('strongsubj', '1', 'noun', 'n', 'negative'), 'hysteric': ('strongsubj', '1', 'adj', 'n', 'negative'), 'hysterical': ('strongsubj', '1', 'anypos', 'n', 'negative'), 'hysterically': ('strongsubj', '1', 'anypos', 'n', 'negative'), 'hysterics': ('strongsubj', '1', 'noun', 'n', 'negative'), 'icy': ('weaksubj', '1', 'adj', 'n', 'negative'), 'idea': ('weaksubj', '1', 'noun', 'n', 'neutral'), 'ideal': ('strongsubj', '1', 'noun', 'n', 'positive'), 'idealism': ('weaksubj', '1', 'noun', 'n', 'positive'), 'idealist': ('weaksubj', '1', 'noun', 'n', 'positive'), 'idealize': ('strongsubj', '1', 'verb', 'y', 'positive'), 'ideally': ('strongsubj', '1', 'anypos', 'y', 'positive'), 'idiocies': ('strongsubj', '1', 'anypos', 'n', 'negative'), 'idiocy': ('strongsubj', '1', 'anypos', 'n', 'negative'), 'idiot': ('strongsubj', '1', 'anypos', 'n', 'negative'), 'idiotic': ('strongsubj', '1', 'anypos', 'n', 'negative'), 'idiotically': ('strongsubj', '1', 'anypos', 'n', 'negative'), 'idiots': ('strongsubj', '1', 'anypos', 'n', 'negative'), 'idle': ('weaksubj', '1', 'adj', 'n', 'negative'), 'idol': ('strongsubj', '1', 'noun', 'n', 'positive'), 'idolize': ('strongsubj', '1', 'verb', 'y', 'positive'), 'idolized': ('strongsubj', '1', 'adj', 'n', 'positive'), 'idyllic': ('strongsubj', '1', 'anypos', 'y', 'positive'), 'ignite': ('weaksubj', '1', 'verb', 'y', 'neutral'), 'ignoble': ('strongsubj', '1', 'adj', 'n', 'negative'), 'ignominious': ('strongsubj', '1', 'adj', 'n', 'negative'), 'ignominiously': ('strongsubj', '1', 'adverb', 'n', 'negative'), 'ignominy': ('strongsubj', '1', 'noun', 'n', 'negative'), 'ignore': ('weaksubj', '1', 'verb', 'y', 'negative'), 'ignorance': ('strongsubj', '1', 'noun', 'n', 'negative'), 'ignorant': ('strongsubj', '1', 'noun', 'n', 'negative'), 'ill': ('weaksubj', '1', 'noun', 'n', 'negative'), 'ill-advised': ('strongsubj', '1', 'adj', 'n', 'negative'), 'ill-conceived': ('strongsubj', '1', 'adj', 'n', 'negative'), 'ill-fated': ('strongsubj', '1', 'adj', 'n', 'negative'), 'ill-favored': ('strongsubj', '1', 'adj', 'n', 'negative'), 'ill-mannered': ('strongsubj', '1', 'adj', 'n', 'negative'), 'ill-natured': ('strongsubj', '1', 'adj', 'n', 'negative'), 'ill-sorted': ('strongsubj', '1', 'adj', 'n', 'negative'), 'ill-tempered': ('strongsubj', '1', 'adj', 'n', 'negative'), 'ill-treated': ('strongsubj', '1', 'adj', 'n', 'negative'), 'ill-treatment': ('strongsubj', '1', 'noun', 'n', 'negative'), 'ill-usage': ('strongsubj', '1', 'noun', 'n', 'negative'), 'ill-used': ('strongsubj', '1', 'adj', 'n', 'negative'), 'illegal': ('weaksubj', '1', 'adj', 'n', 'negative'), 'illegally': ('weaksubj', '1', 'adverb', 'n', 'negative'), 'illegitimate': ('weaksubj', '1', 'adj', 'n', 'negative'), 'illicit': ('weaksubj', '1', 'adj', 'n', 'negative'), 'illiquid': ('weaksubj', '1', 'adj', 'n', 'negative'), 'illiterate': ('weaksubj', '1', 'adj', 'n', 'negative'), 'illness': ('weaksubj', '1', 'noun', 'n', 'negative'), 'illogic': ('strongsubj', '1', 'noun', 'n', 'negative'), 'illogical': ('strongsubj', '1', 'adj', 'n', 'negative'), 'illogically': ('strongsubj', '1', 'adverb', 'n', 'negative'), 'illuminate': ('strongsubj', '1', 'verb', 'y', 'positive'), 'illuminati': ('strongsubj', '1', 'noun', 'n', 'positive'), 'illuminating': ('strongsubj', '1', 'anypos', 'n', 'positive'), 'illumine': ('strongsubj', '1', 'verb', 'y', 'positive'), 'illusion': ('strongsubj', '1', 'noun', 'n', 'negative'), 'illusions': ('strongsubj', '1', 'noun', 'n', 'negative'), 'illusory': ('strongsubj', '1', 'adj', 'n', 'negative'), 'illustrious': ('strongsubj', '1', 'adj', 'n', 'positive'), 'imaginary': ('strongsubj', '1', 'adj', 'n', 'negative'), 'imagination': ('strongsubj', '1', 'noun', 'n', 'neutral'), 'imaginative': ('strongsubj', '1', 'adj', 'n', 'positive'), 'imagine': ('strongsubj', '1', 'verb', 'y', 'neutral'), 'imbalance': ('strongsubj', '1', 'noun', 'n', 'negative'), 'imbecile': ('strongsubj', '1', 'anypos', 'n', 'negative'), 'imbroglio': ('strongsubj', '1', 'noun', 'n', 'negative'), 'immaculate': ('strongsubj', '1', 'adj', 'n', 'positive'), 'immaculately': ('strongsubj', '1', 'adverb', 'n', 'positive'), 'immaterial': ('strongsubj', '1', 'adj', 'n', 'negative'), 'immature': ('weaksubj', '1', 'adj', 'n', 'negative'), 'immediate': ('weaksubj', '1', 'adj', 'n', 'neutral'), 'immediately': ('strongsubj', '1', 'anypos', 'n', 'neutral'), 'immense': ('weaksubj', '1', 'adj', 'n', 'neutral'), 'immensely': ('strongsubj', '1', 'anypos', 'n', 'neutral'), 'immensity': ('strongsubj', '1', 'noun', 'n', 'neutral'), 'immensurable': ('strongsubj', '1', 'noun', 'n', 'neutral'), 'imminence': ('strongsubj', '1', 'noun', 'n', 'negative'), 'imminent': ('strongsubj', '1', 'adj', 'n', 'negative'), 'imminently': ('strongsubj', '1', 'adverb', 'n', 'negative'), 'immobilized': ('weaksubj', '1', 'anypos', 'n', 'negative'), 'immoderate': ('strongsubj', '1', 'adj', 'n', 'negative'), 'immoderately': ('strongsubj', '1', 'adverb', 'n', 'negative'), 'immodest': ('strongsubj', '1', 'adj', 'n', 'negative'), 'immoral': ('strongsubj', '1', 'adj', 'n', 'negative'), 'immorality': ('strongsubj', '1', 'noun', 'n', 'negative'), 'immorally': ('strongsubj', '1', 'anypos', 'n', 'negative'), 'immovable': ('strongsubj', '1', 'adj', 'n', 'negative'), 'immune': ('weaksubj', '1', 'adj', 'n', 'neutral'), 'impair': ('strongsubj', '1', 'verb', 'y', 'negative'), 'impaired': ('strongsubj', '1', 'adj', 'n', 'negative'), 'impartial': ('weaksubj', '1', 'adj', 'n', 'positive'), 'impartiality': ('weaksubj', '1', 'noun', 'n', 'positive'), 'impartially': ('weaksubj', '1', 'adverb', 'n', 'positive'), 'impasse': ('strongsubj', '1', 'noun', 'n', 'negative'), 'impassioned': ('strongsubj', '1', 'adj', 'n', 'positive'), 'impassive': ('weaksubj', '1', 'adj', 'n', 'negative'), 'impatience': ('strongsubj', '1', 'noun', 'n', 'negative'), 'impatient': ('strongsubj', '1', 'adj', 'n', 'negative'), 'impatiently': ('strongsubj', '1', 'adverb', 'n', 'negative'), 'impeach': ('strongsubj', '1', 'verb', 'y', 'negative'), 'impeccable': ('strongsubj', '1', 'adj', 'n', 'positive'), 'impeccably': ('strongsubj', '1', 'anypos', 'n', 'positive'), 'impede': ('strongsubj', '1', 'verb', 'y', 'negative'), 'impedance': ('strongsubj', '1', 'noun', 'n', 'negative'), 'impediment': ('strongsubj', '1', 'noun', 'n', 'negative'), 'impel': ('strongsubj', '1', 'verb', 'y', 'positive'), 'impending': ('strongsubj', '1', 'noun', 'n', 'negative'), 'impenitent': ('strongsubj', '1', 'adj', 'n', 'negative'), 'imperative': ('strongsubj', '1', 'adj', 'n', 'neutral'), 'imperatively': ('strongsubj', '1', 'adverb', 'n', 'neutral'), 'imperfect': ('weaksubj', '1', 'adj', 'n', 'negative'), 'imperfectly': ('weaksubj', '1', 'adverb', 'n', 'negative'), 'imperial': ('weaksubj', '1', 'adj', 'n', 'positive'), 'imperialist': ('strongsubj', '1', 'noun', 'n', 'negative'), 'imperil': ('strongsubj', '1', 'verb', 'y', 'negative'), 'imperious': ('strongsubj', '1', 'adj', 'n', 'negative'), 'imperiously': ('strongsubj', '1', 'adverb', 'n', 'negative'), 'impermissible': ('weaksubj', '1', 'adj', 'n', 'negative'), 'impersonal': ('weaksubj', '1', 'adj', 'n', 'negative'), 'impertinent': ('strongsubj', '1', 'adj', 'n', 'negative'), 'imperturbable': ('strongsubj', '1', 'adj', 'n', 'positive'), 'impervious': ('strongsubj', '1', 'adj', 'n', 'positive'), 'impetuous': ('strongsubj', '1', 'adj', 'n', 'negative'), 'impetuously': ('strongsubj', '1', 'anypos', 'n', 'negative'), 'impetus': ('weaksubj', '1', 'noun', 'n', 'positive'), 'impiety': ('strongsubj', '1', 'noun', 'n', 'negative'), 'impinge': ('strongsubj', '1', 'verb', 'y', 'negative'), 'impious': ('strongsubj', '1', 'adj', 'n', 'negative'), 'implacable': ('strongsubj', '1', 'adj', 'n', 'negative'), 'implausible': ('strongsubj', '1', 'adj', 'n', 'negative'), 'implausibly': ('strongsubj', '1', 'anypos', 'n', 'negative'), 'implicate': ('weaksubj', '1', 'verb', 'y', 'negative'), 'implication': ('weaksubj', '1', 'noun', 'n', 'negative'), 'implicit': ('weaksubj', '1', 'adj', 'n', 'neutral'), 'implode': ('strongsubj', '1', 'verb', 'y', 'negative'), 'implore': ('strongsubj', '1', 'verb', 'y', 'both'), 'imploring': ('strongsubj', '1', 'adj', 'n', 'both'), 'imploringly': ('strongsubj', '1', 'anypos', 'y', 'both'), 'imply': ('strongsubj', '1', 'verb', 'y', 'neutral'), 'impolite': ('strongsubj', '1', 'adj', 'n', 'negative'), 'impolitely': ('strongsubj', '1', 'adverb', 'n', 'negative'), 'impolitic': ('strongsubj', '1', 'adj', 'n', 'negative'), 'importance': ('weaksubj', '1', 'noun', 'n', 'positive'), 'important': ('weaksubj', '1', 'adj', 'n', 'positive'), 'importantly': ('weaksubj', '1', 'adverb', 'n', 'positive'), 'importunate': ('strongsubj', '1', 'adj', 'n', 'negative'), 'importune': ('strongsubj', '1', 'verb', 'y', 'negative'), 'impose': ('strongsubj', '1', 'verb', 'y', 'negative'), 'imposers': ('strongsubj', '1', 'noun', 'n', 'negative'), 'imposing': ('weaksubj', '1', 'noun', 'n', 'negative'), 'imposition': ('strongsubj', '1', 'noun', 'n', 'negative'), 'impossible': ('weaksubj', '1', 'adj', 'n', 'negative'), 'impossiblity': ('weaksubj', '1', 'noun', 'n', 'negative'), 'impossibly': ('weaksubj', '1', 'adverb', 'n', 'negative'), 'impotent': ('strongsubj', '1', 'noun', 'n', 'negative'), 'impoverish': ('weaksubj', '1', 'verb', 'y', 'negative'), 'impoverished': ('weaksubj', '1', 'adj', 'n', 'negative'), 'impractical': ('strongsubj', '1', 'noun', 'n', 'negative'), 'imprecate': ('strongsubj', '1', 'verb', 'y', 'negative'), 'imprecise': ('weaksubj', '1', 'adj', 'n', 'negative'), 'imprecisely': ('weaksubj', '1', 'adverb', 'n', 'negative'), 'imprecision': ('weaksubj', '1', 'adj', 'n', 'negative'), 'impregnable': ('strongsubj', '1', 'adj', 'n', 'positive'), 'impress': ('weaksubj', '1', 'verb', 'y', 'positive'), 'impression': ('weaksubj', '1', 'noun', 'n', 'positive'), 'impressions': ('weaksubj', '1', 'noun', 'n', 'positive'), 'impressive': ('strongsubj', '1', 'adj', 'n', 'positive'), 'impressively': ('strongsubj', '1', 'anypos', 'n', 'positive'), 'impressiveness': ('strongsubj', '1', 'noun', 'n', 'positive'), 'imprison': ('weaksubj', '1', 'verb', 'y', 'negative'), 'imprisonment': ('weaksubj', '1', 'noun', 'n', 'negative'), 'improbability': ('strongsubj', '1', 'noun', 'n', 'negative'), 'improbable': ('strongsubj', '1', 'adj', 'n', 'negative'), 'improbably': ('strongsubj', '1', 'adverb', 'n', 'negative'), 'improper': ('strongsubj', '1', 'adj', 'n', 'negative'), 'improperly': ('strongsubj', '1', 'adverb', 'n', 'negative'), 'impropriety': ('strongsubj', '1', 'noun', 'n', 'negative'), 'improving': ('weaksubj', '1', 'adj', 'n', 'positive'), 'improve': ('weaksubj', '1', 'verb', 'y', 'positive'), 'improved': ('weaksubj', '1', 'adj', 'n', 'positive'), 'improvement': ('weaksubj', '1', 'noun', 'n', 'positive'), 'improvise': ('strongsubj', '1', 'verb', 'y', 'positive'), 'imprudence': ('strongsubj', '1', 'noun', 'n', 'negative'), 'imprudent': ('strongsubj', '1', 'adj', 'n', 'negative'), 'impudence': ('strongsubj', '1', 'noun', 'n', 'negative'), 'impudent': ('strongsubj', '1', 'adj', 'n', 'negative'), 'impudently': ('strongsubj', '1', 'anypos', 'n', 'negative'), 'impugn': ('strongsubj', '1', 'verb', 'y', 'negative'), 'impulsive': ('strongsubj', '1', 'adj', 'n', 'negative'), 'impulsively': ('strongsubj', '1', 'adverb', 'n', 'negative'), 'impunity': ('weaksubj', '1', 'noun', 'n', 'negative'), 'impure': ('strongsubj', '1', 'adj', 'n', 'negative'), 'impurity': ('strongsubj', '1', 'noun', 'n', 'negative'), 'inability': ('weaksubj', '1', 'noun', 'n', 'negative'), 'inaccessible': ('weaksubj', '1', 'adj', 'n', 'negative'), 'inaccuracy': ('weaksubj', '1', 'noun', 'n', 'negative'), 'inaccuracies': ('weaksubj', '1', 'noun', 'n', 'negative'), 'inaccurate': ('strongsubj', '1', 'adj', 'n', 'negative'), 'inaccurately': ('strongsubj', '1', 'adverb', 'n', 'negative'), 'inaction': ('weaksubj', '1', 'noun', 'n', 'negative'), 'inactive': ('weaksubj', '1', 'adj', 'n', 'negative'), 'inadequacy': ('weaksubj', '1', 'noun', 'n', 'negative'), 'inadequate': ('weaksubj', '1', 'adj', 'n', 'negative'), 'inadequately': ('weaksubj', '1', 'adverb', 'n', 'negative'), 'inadverent': ('weaksubj', '1', 'adj', 'n', 'negative'), 'inadverently': ('weaksubj', '1', 'adverb', 'n', 'negative'), 'inadvisable': ('weaksubj', '1', 'adj', 'n', 'negative'), 'inadvisably': ('weaksubj', '1', 'adverb', 'n', 'negative'), 'inalienable': ('weaksubj', '1', 'adj', 'n', 'positive'), 'inane': ('strongsubj', '1', 'adj', 'n', 'negative'), 'inanely': ('strongsubj', '1', 'adverb', 'n', 'negative'), 'inappropriate': ('strongsubj', '1', 'adj', 'n', 'negative'), 'inappropriately': ('strongsubj', '1', 'adverb', 'n', 'negative'), 'inapt': ('strongsubj', '1', 'adj', 'n', 'negative'), 'inaptitude': ('strongsubj', '1', 'noun', 'n', 'negative'), 'inarguable': ('strongsubj', '1', 'adj', 'n', 'neutral'), 'inarguably': ('strongsubj', '1', 'adverb', 'n', 'neutral'), 'inarticulate': ('strongsubj', '1', 'adj', 'n', 'negative'), 'inattentive': ('strongsubj', '1', 'adj', 'n', 'negative'), 'incapable': ('strongsubj', '1', 'adj', 'n', 'negative'), 'incapably': ('strongsubj', '1', 'adverb', 'n', 'negative'), 'incautious': ('strongsubj', '1', 'adj', 'n', 'negative'), 'incendiary': ('strongsubj', '1', 'anypos', 'n', 'negative'), 'incense': ('weaksubj', '1', 'verb', 'y', 'negative'), 'incessant': ('strongsubj', '1', 'adj', 'n', 'negative'), 'incessantly': ('strongsubj', '1', 'adverb', 'n', 'negative'), 'incisive': ('strongsubj', '1', 'adj', 'n', 'positive'), 'incisively': ('strongsubj', '1', 'anypos', 'n', 'positive'), 'incisiveness': ('strongsubj', '1', 'noun', 'n', 'positive'), 'incite': ('weaksubj', '1', 'verb', 'y', 'negative'), 'incitement': ('weaksubj', '1', 'noun', 'n', 'negative'), 'incivility': ('strongsubj', '1', 'noun', 'n', 'negative'), 'inclement': ('weaksubj', '1', 'adj', 'n', 'negative'), 'inclination': ('strongsubj', '1', 'noun', 'n', 'positive'), 'inclinations': ('strongsubj', '1', 'anypos', 'n', 'positive'), 'inclined': ('strongsubj', '1', 'adj', 'n', 'positive'), 'inclusive': ('weaksubj', '1', 'adj', 'n', 'positive'), 'incognizant': ('strongsubj', '1', 'adj', 'n', 'negative'), 'incoherence': ('strongsubj', '1', 'noun', 'n', 'negative'), 'incoherent': ('strongsubj', '1', 'adj', 'n', 'negative'), 'incoherently': ('strongsubj', '1', 'adj', 'n', 'negative'), 'incommensurate': ('strongsubj', '1', 'adj', 'n', 'negative'), 'incomparable': ('weaksubj', '1', 'adj', 'n', 'negative'), 'incomparably': ('weaksubj', '1', 'adverb', 'n', 'negative'), 'incompatibility': ('weaksubj', '1', 'noun', 'n', 'negative'), 'incompatible': ('weaksubj', '1', 'noun', 'n', 'negative'), 'incompetence': ('strongsubj', '1', 'noun', 'n', 'negative'), 'incompetent': ('strongsubj', '1', 'adj', 'n', 'negative'), 'incompetently': ('strongsubj', '1', 'adverb', 'n', 'negative'), 'incomplete': ('weaksubj', '1', 'adj', 'n', 'negative'), 'incompliant': ('weaksubj', '1', 'adj', 'n', 'negative'), 'incomprehensible': ('strongsubj', '1', 'adj', 'n', 'negative'), 'incomprehension': ('strongsubj', '1', 'noun', 'n', 'negative'), 'inconceivable': ('strongsubj', '1', 'adj', 'n', 'negative'), 'inconceivably': ('strongsubj', '1', 'adverb', 'n', 'negative'), 'inconclusive': ('weaksubj', '1', 'adj', 'n', 'negative'), 'incongruous': ('strongsubj', '1', 'adj', 'n', 'negative'), 'incongruously': ('strongsubj', '1', 'adverb', 'n', 'negative'), 'inconsequent': ('strongsubj', '1', 'adj', 'n', 'negative'), 'inconsequently': ('strongsubj', '1', 'adverb', 'n', 'negative'), 'inconsequential': ('strongsubj', '1', 'adj', 'n', 'negative'), 'inconsequentially': ('strongsubj', '1', 'adverb', 'n', 'negative'), 'inconsiderate': ('strongsubj', '1', 'adj', 'n', 'negative'), 'inconsiderately': ('strongsubj', '1', 'adverb', 'n', 'negative'), 'inconsistence': ('strongsubj', '1', 'noun', 'n', 'negative'), 'inconsistencies': ('strongsubj', '1', 'noun', 'n', 'negative'), 'inconsistency': ('weaksubj', '1', 'noun', 'n', 'negative'), 'inconsistent': ('weaksubj', '1', 'adj', 'n', 'negative'), 'inconsolable': ('strongsubj', '1', 'adj', 'n', 'negative'), 'inconsolably': ('strongsubj', '1', 'anypos', 'n', 'negative'), 'inconstant': ('strongsubj', '1', 'adj', 'n', 'negative'), 'incontestable': ('strongsubj', '1', 'adj', 'n', 'positive'), 'incontrovertible': ('strongsubj', '1', 'adj', 'n', 'positive'), 'inconvenience': ('strongsubj', '1', 'noun', 'n', 'negative'), 'inconvenient': ('strongsubj', '1', 'anypos', 'n', 'negative'), 'inconveniently': ('strongsubj', '1', 'anypos', 'n', 'negative'), 'incorrect': ('weaksubj', '1', 'anypos', 'n', 'negative'), 'incorrectly': ('strongsubj', '1', 'anypos', 'n', 'negative'), 'incorrigible': ('strongsubj', '1', 'adj', 'n', 'negative'), 'incorrigibly': ('strongsubj', '1', 'adverb', 'n', 'negative'), 'incorruptible': ('strongsubj', '1', 'adj', 'n', 'positive'), 'increasing': ('weaksubj', '1', 'adj', 'n', 'neutral'), 'increasingly': ('weaksubj', '1', 'adverb', 'n', 'neutral'), 'incredible': ('strongsubj', '1', 'anypos', 'n', 'positive'), 'incredibly': ('strongsubj', '1', 'anypos', 'n', 'positive'), 'incredulous': ('strongsubj', '1', 'adj', 'n', 'negative'), 'incredulously': ('strongsubj', '1', 'anypos', 'n', 'negative'), 'inculcate': ('strongsubj', '1', 'verb', 'y', 'negative'), 'indebted': ('weaksubj', '1', 'adj', 'n', 'positive'), 'indecency': ('strongsubj', '1', 'noun', 'n', 'negative'), 'indecent': ('strongsubj', '1', 'adj', 'n', 'negative'), 'indecently': ('strongsubj', '1', 'anypos', 'n', 'negative'), 'indecision': ('strongsubj', '1', 'noun', 'n', 'negative'), 'indecisive': ('strongsubj', '1', 'adj', 'n', 'negative'), 'indecisively': ('strongsubj', '1', 'adverb', 'n', 'negative'), 'indecorum': ('strongsubj', '1', 'noun', 'n', 'negative'), 'indeed': ('strongsubj', '1', 'anypos', 'y', 'neutral'), 'indefatigable': ('strongsubj', '1', 'adj', 'n', 'positive'), 'indefensible': ('strongsubj', '1', 'noun', 'n', 'negative'), 'indefinite': ('weaksubj', '1', 'adj', 'n', 'negative'), 'indefinitely': ('weaksubj', '1', 'adverb', 'n', 'negative'), 'indelible': ('strongsubj', '1', 'adj', 'n', 'positive'), 'indelibly': ('strongsubj', '1', 'adj', 'n', 'positive'), 'indelicate': ('strongsubj', '1', 'adj', 'n', 'negative'), 'independence': ('weaksubj', '1', 'noun', 'n', 'positive'), 'independent': ('weaksubj', '1', 'adj', 'n', 'positive'), 'indescribable': ('strongsubj', '1', 'adj', 'n', 'positive'), 'indescribably': ('strongsubj', '1', 'adverb', 'n', 'positive'), 'indestructible': ('strongsubj', '1', 'adj', 'n', 'positive'), 'indeterminable': ('weaksubj', '1', 'adj', 'n', 'negative'), 'indeterminably': ('weaksubj', '1', 'adverb', 'n', 'negative'), 'indeterminate': ('weaksubj', '1', 'adj', 'n', 'negative'), 'indication': ('weaksubj', '1', 'noun', 'n', 'neutral'), 'indicative': ('strongsubj', '1', 'noun', 'n', 'neutral'), 'indifference': ('strongsubj', '1', 'noun', 'n', 'negative'), 'indifferent': ('strongsubj', '1', 'adj', 'n', 'negative'), 'indigent': ('weaksubj', '1', 'adj', 'n', 'negative'), 'indignant': ('strongsubj', '1', 'adj', 'n', 'negative'), 'indignantly': ('strongsubj', '1', 'anypos', 'n', 'negative'), 'indignation': ('strongsubj', '1', 'noun', 'n', 'negative'), 'indignity': ('strongsubj', '1', 'noun', 'n', 'negative'), 'indirect': ('weaksubj', '1', 'adj', 'n', 'neutral'), 'indiscernible': ('weaksubj', '1', 'adj', 'n', 'negative'), 'indiscreet': ('strongsubj', '1', 'noun', 'n', 'negative'), 'indiscreetly': ('strongsubj', '1', 'adverb', 'n', 'negative'), 'indiscretion': ('strongsubj', '1', 'anypos', 'y', 'negative'), 'indiscriminate': ('strongsubj', '1', 'adj', 'n', 'negative'), 'indiscriminating': ('strongsubj', '1', 'adj', 'n', 'negative'), 'indiscriminately': ('strongsubj', '1', 'adverb', 'n', 'negative'), 'indispensable': ('strongsubj', '1', 'adj', 'n', 'positive'), 'indispensability': ('strongsubj', '1', 'noun', 'n', 'positive'), 'indisposed': ('strongsubj', '1', 'adj', 'n', 'negative'), 'indisputable': ('strongsubj', '1', 'adj', 'n', 'positive'), 'indistinct': ('weaksubj', '1', 'adj', 'n', 'negative'), 'indistinctive': ('weaksubj', '1', 'adj', 'n', 'negative'), 'individuality': ('weaksubj', '1', 'noun', 'n', 'positive'), 'indoctrinate': ('strongsubj', '1', 'anypos', 'y', 'negative'), 'indoctrination': ('strongsubj', '1', 'noun', 'n', 'negative'), 'indolent': ('strongsubj', '1', 'adj', 'n', 'negative'), 'indomitable': ('strongsubj', '1', 'adj', 'n', 'positive'), 'indomitably': ('strongsubj', '1', 'adj', 'n', 'positive'), 'indubitable': ('strongsubj', '1', 'anypos', 'n', 'positive'), 'indubitably': ('strongsubj', '1', 'anypos', 'n', 'positive'), 'indulge': ('strongsubj', '1', 'verb', 'y', 'negative'), 'indulgence': ('strongsubj', '1', 'noun', 'n', 'positive'), 'indulgent': ('strongsubj', '1', 'adj', 'n', 'positive'), 'industrious': ('weaksubj', '1', 'adj', 'n', 'positive'), 'ineffective': ('weaksubj', '1', 'adj', 'n', 'negative'), 'ineffectively': ('weaksubj', '1', 'adverb', 'n', 'negative'), 'ineffectiveness': ('weaksubj', '1', 'noun', 'n', 'negative'), 'ineffectual': ('weaksubj', '1', 'adj', 'n', 'negative'), 'ineffectually': ('weaksubj', '1', 'adverb', 'n', 'negative'), 'ineffectualness': ('weaksubj', '1', 'noun', 'n', 'negative'), 'inefficacious': ('strongsubj', '1', 'noun', 'n', 'negative'), 'inefficacy': ('strongsubj', '1', 'noun', 'n', 'negative'), 'inefficiency': ('weaksubj', '1', 'noun', 'n', 'negative'), 'inefficient': ('weaksubj', '1', 'adj', 'n', 'negative'), 'inefficiently': ('weaksubj', '1', 'adverb', 'n', 'negative'), 'ineligible': ('weaksubj', '1', 'adj', 'n', 'negative'), 'inelegance': ('strongsubj', '1', 'noun', 'n', 'negative'), 'inelegant': ('strongsubj', '1', 'adj', 'n', 'negative'), 'ineloquent': ('strongsubj', '1', 'adj', 'n', 'negative'), 'ineloquently': ('strongsubj', '1', 'adverb', 'n', 'negative'), 'inept': ('strongsubj', '1', 'adj', 'n', 'negative'), 'ineptitude': ('strongsubj', '1', 'noun', 'n', 'negative'), 'ineptly': ('strongsubj', '1', 'anypos', 'n', 'negative'), 'inequalities': ('weaksubj', '1', 'noun', 'n', 'negative'), 'inequality': ('strongsubj', '1', 'noun', 'n', 'negative'), 'inequitable': ('strongsubj', '1', 'adj', 'n', 'negative'), 'inequitably': ('strongsubj', '1', 'adverb', 'n', 'negative'), 'inequities': ('strongsubj', '1', 'noun', 'n', 'negative'), 'inertia': ('weaksubj', '1', 'noun', 'n', 'negative'), 'inescapable': ('strongsubj', '1', 'adj', 'n', 'negative'), 'inescapably': ('strongsubj', '1', 'adj', 'n', 'negative'), 'inessential': ('strongsubj', '1', 'adj', 'n', 'negative'), 'inestimable': ('strongsubj', '1', 'adj', 'n', 'positive'), 'inestimably': ('strongsubj', '1', 'adverb', 'n', 'positive'), 'inevitable': ('strongsubj', '1', 'noun', 'n', 'negative'), 'inevitably': ('strongsubj', '1', 'adverb', 'n', 'negative'), 'inexact': ('weaksubj', '1', 'adj', 'n', 'negative'), 'inexcusable': ('strongsubj', '1', 'adj', 'n', 'negative'), 'inexcusably': ('strongsubj', '1', 'adverb', 'n', 'negative'), 'inexorable': ('strongsubj', '1', 'adj', 'n', 'negative'), 'inexorably': ('strongsubj', '1', 'adverb', 'n', 'negative'), 'inexpensive': ('weaksubj', '1', 'adj', 'n', 'positive'), 'inexperience': ('weaksubj', '1', 'noun', 'n', 'negative'), 'inexperienced': ('weaksubj', '1', 'adj', 'n', 'negative'), 'inexpert': ('weaksubj', '1', 'adj', 'n', 'negative'), 'inexpertly': ('weaksubj', '1', 'adverb', 'n', 'negative'), 'inexpiable': ('strongsubj', '1', 'adj', 'n', 'negative'), 'inexplainable': ('strongsubj', '1', 'adj', 'n', 'negative'), 'inexplicable': ('strongsubj', '1', 'adj', 'n', 'negative'), 'inextricable': ('strongsubj', '1', 'adj', 'n', 'negative'), 'inextricably': ('strongsubj', '1', 'adverb', 'n', 'negative'), 'infallible': ('strongsubj', '1', 'adj', 'n', 'positive'), 'infallibly': ('strongsubj', '1', 'adverb', 'n', 'positive'), 'infallibility': ('strongsubj', '1', 'noun', 'n', 'positive'), 'infamous': ('strongsubj', '1', 'adj', 'n', 'negative'), 'infamously': ('strongsubj', '1', 'adverb', 'n', 'negative'), 'infamy': ('strongsubj', '1', 'noun', 'n', 'negative'), 'infatuated': ('strongsubj', '1', 'anypos', 'n', 'both'), 'infected': ('weaksubj', '1', 'anypos', 'n', 'negative'), 'infectious': ('weaksubj', '1', 'adj', 'n', 'neutral'), 'infer': ('strongsubj', '1', 'verb', 'y', 'neutral'), 'inference': ('weaksubj', '1', 'noun', 'n', 'neutral'), 'inferior': ('strongsubj', '1', 'adj', 'n', 'negative'), 'inferiority': ('strongsubj', '1', 'noun', 'n', 'negative'), 'infernal': ('strongsubj', '1', 'adj', 'n', 'negative'), 'infest': ('weaksubj', '1', 'verb', 'y', 'negative'), 'infested': ('weaksubj', '1', 'adj', 'n', 'negative'), 'infidel': ('strongsubj', '1', 'noun', 'n', 'negative'), 'infidels': ('strongsubj', '1', 'noun', 'n', 'negative'), 'infiltrator': ('weaksubj', '1', 'noun', 'n', 'negative'), 'infiltrators': ('weaksubj', '1', 'noun', 'n', 'negative'), 'infirm': ('strongsubj', '1', 'adj', 'n', 'negative'), 'inflame': ('strongsubj', '1', 'verb', 'y', 'negative'), 'inflammatory': ('strongsubj', '1', 'adj', 'n', 'negative'), 'inflated': ('weaksubj', '1', 'adj', 'n', 'negative'), 'inflationary': ('weaksubj', '1', 'adj', 'n', 'negative'), 'inflexible': ('strongsubj', '1', 'adj', 'n', 'negative'), 'inflict': ('strongsubj', '1', 'verb', 'y', 'negative'), 'influence': ('weaksubj', '1', 'noun', 'n', 'neutral'), 'influential': ('weaksubj', '1', 'adj', 'n', 'positive'), 'informational': ('weaksubj', '1', 'adj', 'n', 'neutral'), 'informative': ('weaksubj', '1', 'adj', 'n', 'positive'), 'infraction': ('weaksubj', '1', 'noun', 'n', 'negative'), 'infringe': ('strongsubj', '1', 'verb', 'y', 'negative'), 'infringement': ('strongsubj', '1', 'noun', 'n', 'negative'), 'infringements': ('strongsubj', '1', 'noun', 'n', 'negative'), 'infuriate': ('strongsubj', '1', 'verb', 'y', 'negative'), 'infuriated': ('strongsubj', '1', 'adj', 'n', 'negative'), 'infuriating': ('strongsubj', '1', 'anypos', 'n', 'negative'), 'infuriatingly': ('strongsubj', '1', 'anypos', 'n', 'negative'), 'ingenious': ('strongsubj', '1', 'adj', 'n', 'positive'), 'ingeniously': ('strongsubj', '1', 'anypos', 'n', 'positive'), 'ingenuity': ('strongsubj', '1', 'noun', 'n', 'positive'), 'ingenuous': ('strongsubj', '1', 'adj', 'n', 'positive'), 'ingenuously': ('strongsubj', '1', 'adverb', 'n', 'positive'), 'inglorious': ('strongsubj', '1', 'adj', 'n', 'negative'), 'ingrate': ('strongsubj', '1', 'noun', 'n', 'negative'), 'ingratiate': ('strongsubj', '1', 'verb', 'y', 'positive'), 'ingratiating': ('strongsubj', '1', 'adj', 'n', 'positive'), 'ingratiatingly': ('strongsubj', '1', 'adverb', 'n', 'positive'), 'ingratitude': ('strongsubj', '1', 'noun', 'n', 'negative'), 'inherent': ('strongsubj', '1', 'noun', 'n', 'neutral'), 'inhibit': ('weaksubj', '1', 'verb', 'y', 'negative'), 'inhibition': ('weaksubj', '1', 'noun', 'n', 'negative'), 'inhospitable': ('strongsubj', '1', 'adj', 'n', 'negative'), 'inhospitality': ('strongsubj', '1', 'noun', 'n', 'negative'), 'inhuman': ('strongsubj', '1', 'adj', 'n', 'negative'), 'inhumane': ('strongsubj', '1', 'adj', 'n', 'negative'), 'inhumanity': ('strongsubj', '1', 'noun', 'n', 'negative'), 'inimical': ('strongsubj', '1', 'adj', 'n', 'negative'), 'inimically': ('strongsubj', '1', 'adverb', 'n', 'negative'), 'iniquitous': ('strongsubj', '1', 'adj', 'n', 'negative'), 'iniquity': ('strongsubj', '1', 'noun', 'n', 'negative'), 'injudicious': ('strongsubj', '1', 'adj', 'n', 'negative'), 'injure': ('weaksubj', '1', 'verb', 'y', 'negative'), 'injurious': ('weaksubj', '1', 'adj', 'n', 'negative'), 'injury': ('weaksubj', '1', 'noun', 'n', 'negative'), 'injustice': ('strongsubj', '1', 'noun', 'n', 'negative'), 'injustices': ('strongsubj', '1', 'noun', 'n', 'negative'), 'inkling': ('strongsubj', '1', 'anypos', 'n', 'neutral'), 'inklings': ('strongsubj', '1', 'noun', 'n', 'neutral'), 'innocence': ('weaksubj', '1', 'noun', 'n', 'positive'), 'innocent': ('weaksubj', '1', 'adj', 'n', 'positive'), 'innocently': ('weaksubj', '1', 'adj', 'n', 'positive'), 'innocuous': ('strongsubj', '1', 'noun', 'n', 'positive'), 'innovation': ('weaksubj', '1', 'noun', 'n', 'positive'), 'innovative': ('weaksubj', '1', 'adj', 'n', 'positive'), 'innumerable': ('weaksubj', '1', 'adj', 'n', 'neutral'), 'innumerably': ('weaksubj', '1', 'adverb', 'n', 'neutral'), 'innumerous': ('weaksubj', '1', 'adj', 'n', 'neutral'), 'innuendo': ('strongsubj', '1', 'noun', 'n', 'negative'), 'inoffensive': ('strongsubj', '1', 'adj', 'n', 'positive'), 'inopportune': ('strongsubj', '1', 'adj', 'n', 'negative'), 'inordinate': ('strongsubj', '1', 'adj', 'n', 'negative'), 'inordinately': ('strongsubj', '1', 'anypos', 'n', 'negative'), 'inquisitive': ('strongsubj', '1', 'adj', 'n', 'positive'), 'insane': ('strongsubj', '1', 'adj', 'n', 'negative'), 'insanely': ('strongsubj', '1', 'anypos', 'n', 'negative'), 'insanity': ('strongsubj', '1', 'noun', 'n', 'negative'), 'insatiable': ('strongsubj', '1', 'adj', 'n', 'negative'), 'insecure': ('weaksubj', '1', 'adj', 'n', 'negative'), 'insecurity': ('strongsubj', '1', 'noun', 'n', 'negative'), 'insensible': ('weaksubj', '1', 'adj', 'n', 'negative'), 'insensitive': ('strongsubj', '1', 'adj', 'n', 'negative'), 'insensitively': ('strongsubj', '1', 'adverb', 'n', 'negative'), 'insensitivity': ('strongsubj', '1', 'noun', 'n', 'negative'), 'insidious': ('strongsubj', '1', 'adj', 'n', 'negative'), 'insidiously': ('strongsubj', '1', 'anypos', 'n', 'negative'), 'insight': ('strongsubj', '1', 'noun', 'n', 'positive'), 'insightful': ('strongsubj', '1', 'anypos', 'n', 'positive'), 'insightfully': ('strongsubj', '1', 'anypos', 'n', 'positive'), 'insights': ('strongsubj', '1', 'anypos', 'n', 'neutral'), 'insignificance': ('weaksubj', '1', 'noun', 'n', 'negative'), 'insignificant': ('weaksubj', '1', 'adj', 'n', 'negative'), 'insignificantly': ('weaksubj', '1', 'adverb', 'n', 'negative'), 'insincere': ('strongsubj', '1', 'adj', 'n', 'negative'), 'insincerely': ('strongsubj', '1', 'adverb', 'n', 'negative'), 'insincerity': ('strongsubj', '1', 'noun', 'n', 'negative'), 'insinuate': ('strongsubj', '1', 'verb', 'y', 'negative'), 'insinuating': ('strongsubj', '1', 'adj', 'n', 'negative'), 'insinuation': ('strongsubj', '1', 'noun', 'n', 'negative'), 'insist': ('strongsubj', '1', 'verb', 'y', 'positive'), 'insistence': ('weaksubj', '1', 'noun', 'n', 'positive'), 'insistent': ('strongsubj', '1', 'adj', 'n', 'positive'), 'insistently': ('strongsubj', '1', 'anypos', 'n', 'positive'), 'insociable': ('strongsubj', '1', 'adj', 'n', 'negative'), 'isolation': ('weaksubj', '1', 'noun', 'n', 'negative'), 'insolence': ('strongsubj', '1', 'noun', 'n', 'negative'), 'insolent': ('strongsubj', '1', 'adj', 'n', 'negative'), 'insolently': ('strongsubj', '1', 'anypos', 'n', 'negative'), 'insolvent': ('weaksubj', '1', 'adj', 'n', 'negative'), 'insouciance': ('strongsubj', '1', 'noun', 'n', 'negative'), 'inspiration': ('strongsubj', '1', 'noun', 'n', 'positive'), 'inspirational': ('strongsubj', '1', 'adj', 'n', 'positive'), 'inspire': ('strongsubj', '1', 'verb', 'y', 'positive'), 'inspiring': ('strongsubj', '1', 'anypos', 'n', 'positive'), 'instability': ('weaksubj', '1', 'noun', 'n', 'negative'), 'instable': ('weaksubj', '1', 'adj', 'n', 'negative'), 'instigate': ('strongsubj', '1', 'verb', 'y', 'negative'), 'instigator': ('strongsubj', '1', 'noun', 'n', 'negative'), 'instigators': ('strongsubj', '1', 'noun', 'n', 'negative'), 'instructive': ('weaksubj', '1', 'adj', 'n', 'positive'), 'instrumental': ('weaksubj', '1', 'adj', 'n', 'positive'), 'insubordinate': ('weaksubj', '1', 'adj', 'n', 'negative'), 'insubstantial': ('strongsubj', '1', 'adj', 'n', 'negative'), 'insubstantially': ('strongsubj', '1', 'adverb', 'n', 'negative'), 'insufferable': ('strongsubj', '1', 'adj', 'n', 'negative'), 'insufferably': ('strongsubj', '1', 'adverb', 'n', 'negative'), 'insufficiency': ('weaksubj', '1', 'noun', 'n', 'negative'), 'insufficient': ('weaksubj', '1', 'adj', 'n', 'negative'), 'insufficiently': ('weaksubj', '1', 'adverb', 'n', 'negative'), 'insular': ('weaksubj', '1', 'adj', 'n', 'negative'), 'insult': ('strongsubj', '1', 'verb', 'y', 'negative'), 'insulted': ('strongsubj', '1', 'adj', 'n', 'negative'), 'insulting': ('strongsubj', '1', 'anypos', 'n', 'negative'), 'insultingly': ('strongsubj', '1', 'anypos', 'n', 'negative'), 'insupportable': ('strongsubj', '1', 'adj', 'n', 'negative'), 'insupportably': ('strongsubj', '1', 'adverb', 'n', 'negative'), 'insurmountable': ('weaksubj', '1', 'adj', 'n', 'negative'), 'insurmountably': ('weaksubj', '1', 'adverb', 'n', 'negative'), 'insurrection': ('weaksubj', '1', 'noun', 'n', 'negative'), 'intact': ('weaksubj', '1', 'adj', 'n', 'positive'), 'integral': ('weaksubj', '1', 'adj', 'n', 'positive'), 'integrity': ('strongsubj', '1', 'noun', 'n', 'positive'), 'intelligent': ('strongsubj', '1', 'adj', 'n', 'positive'), 'intelligence': ('weaksubj', '1', 'noun', 'n', 'positive'), 'intelligible': ('strongsubj', '1', 'adj', 'n', 'positive'), 'intend': ('weaksubj', '1', 'verb', 'y', 'neutral'), 'intense': ('weaksubj', '1', 'noun', 'n', 'neutral'), 'intensive': ('weaksubj', '1', 'adj', 'n', 'neutral'), 'intensively': ('weaksubj', '1', 'adverb', 'n', 'neutral'), 'intent': ('weaksubj', '1', 'noun', 'n', 'neutral'), 'intention': ('weaksubj', '1', 'noun', 'n', 'neutral'), 'intentions': ('weaksubj', '1', 'noun', 'n', 'neutral'), 'intents': ('weaksubj', '1', 'noun', 'n', 'neutral'), 'intercede': ('weaksubj', '1', 'verb', 'y', 'positive'), 'interest': ('weaksubj', '1', 'verb', 'y', 'positive'), 'interested': ('weaksubj', '1', 'adj', 'n', 'positive'), 'interesting': ('strongsubj', '1', 'anypos', 'n', 'positive'), 'interests': ('weaksubj', '1', 'noun', 'n', 'positive'), 'interfere': ('weaksubj', '1', 'verb', 'y', 'negative'), 'interference': ('weaksubj', '1', 'noun', 'n', 'negative'), 'intermittent': ('weaksubj', '1', 'adj', 'n', 'negative'), 'interrupt': ('weaksubj', '1', 'verb', 'y', 'negative'), 'interruption': ('weaksubj', '1', 'noun', 'n', 'negative'), 'intimacy': ('strongsubj', '1', 'noun', 'n', 'positive'), 'intimate': ('strongsubj', '1', 'verb', 'y', 'neutral'), 'intimidate': ('weaksubj', '1', 'verb', 'y', 'negative'), 'intimidating': ('strongsubj', '1', 'anypos', 'n', 'negative'), 'intimidatingly': ('strongsubj', '1', 'anypos', 'n', 'negative'), 'intimidation': ('weaksubj', '1', 'noun', 'n', 'negative'), 'intolerable': ('strongsubj', '1', 'adj', 'n', 'negative'), 'intolerablely': ('strongsubj', '1', 'anypos', 'n', 'negative'), 'intolerance': ('strongsubj', '1', 'noun', 'n', 'negative'), 'intolerant': ('strongsubj', '1', 'anypos', 'n', 'negative'), 'intoxicate': ('weaksubj', '1', 'verb', 'y', 'negative'), 'intractable': ('weaksubj', '1', 'adj', 'n', 'negative'), 'intransigence': ('strongsubj', '1', 'noun', 'n', 'negative'), 'intransigent': ('strongsubj', '1', 'anypos', 'n', 'negative'), 'intricate': ('weaksubj', '1', 'adj', 'n', 'positive'), 'intrigue': ('weaksubj', '1', 'verb', 'y', 'neutral'), 'intriguing': ('strongsubj', '1', 'anypos', 'n', 'positive'), 'intriguingly': ('strongsubj', '1', 'anypos', 'n', 'positive'), 'intrude': ('strongsubj', '1', 'verb', 'y', 'negative'), 'intrusion': ('weaksubj', '1', 'noun', 'n', 'negative'), 'intrusive': ('strongsubj', '1', 'adj', 'n', 'negative'), 'intuitive': ('strongsubj', '1', 'adj', 'n', 'positive'), 'inundate': ('strongsubj', '1', 'verb', 'y', 'negative'), 'inundated': ('strongsubj', '1', 'anypos', 'n', 'negative'), 'invader': ('weaksubj', '1', 'noun', 'n', 'negative'), 'invalid': ('strongsubj', '1', 'adj', 'n', 'negative'), 'invalidate': ('strongsubj', '1', 'verb', 'y', 'negative'), 'invalidity': ('strongsubj', '1', 'noun', 'n', 'negative'), 'invaluable': ('strongsubj', '1', 'adj', 'n', 'positive'), 'invaluablely': ('strongsubj', '1', 'anypos', 'n', 'positive'), 'invasive': ('weaksubj', '1', 'adj', 'n', 'negative'), 'invective': ('strongsubj', '1', 'anypos', 'n', 'negative'), 'inveigle': ('strongsubj', '1', 'verb', 'y', 'negative'), 'inventive': ('weaksubj', '1', 'adj', 'n', 'positive'), 'invidious': ('strongsubj', '1', 'adj', 'n', 'negative'), 'invidiously': ('strongsubj', '1', 'anypos', 'n', 'negative'), 'invidiousness': ('strongsubj', '1', 'noun', 'n', 'negative'), 'invigorate': ('weaksubj', '1', 'verb', 'y', 'positive'), 'invigorating': ('strongsubj', '1', 'anypos', 'n', 'positive'), 'invincibility': ('strongsubj', '1', 'anypos', 'n', 'positive'), 'invincible': ('strongsubj', '1', 'adj', 'n', 'positive'), 'inviolable': ('strongsubj', '1', 'adj', 'n', 'positive'), 'inviolate': ('strongsubj', '1', 'adj', 'n', 'positive'), 'invisible': ('weaksubj', '1', 'adj', 'n', 'neutral'), 'invulnerable': ('strongsubj', '1', 'adj', 'n', 'positive'), 'involuntarily': ('weaksubj', '1', 'adverb', 'n', 'negative'), 'involuntary': ('weaksubj', '1', 'adj', 'n', 'negative'), 'irate': ('strongsubj', '1', 'adj', 'n', 'negative'), 'irately': ('strongsubj', '1', 'anypos', 'n', 'negative'), 'ire': ('strongsubj', '1', 'noun', 'n', 'negative'), 'irk': ('strongsubj', '1', 'verb', 'y', 'negative'), 'irksome': ('strongsubj', '1', 'anypos', 'n', 'negative'), 'ironic': ('strongsubj', '1', 'adj', 'n', 'negative'), 'ironies': ('strongsubj', '1', 'noun', 'n', 'negative'), 'irony': ('strongsubj', '1', 'anypos', 'n', 'negative'), 'irrational': ('strongsubj', '1', 'adj', 'n', 'negative'), 'irrationality': ('strongsubj', '1', 'noun', 'n', 'negative'), 'irrationally': ('strongsubj', '1', 'anypos', 'n', 'negative'), 'irreconcilable': ('strongsubj', '1', 'adj', 'n', 'negative'), 'irredeemable': ('strongsubj', '1', 'adj', 'n', 'negative'), 'irredeemably': ('strongsubj', '1', 'adverb', 'n', 'negative'), 'irreformable': ('strongsubj', '1', 'adj', 'n', 'negative'), 'irrefutable': ('strongsubj', '1', 'adj', 'n', 'positive'), 'irrefutably': ('strongsubj', '1', 'anypos', 'n', 'positive'), 'irregardless': ('strongsubj', '1', 'anypos', 'n', 'neutral'), 'irregular': ('weaksubj', '1', 'adj', 'n', 'negative'), 'irregularity': ('weaksubj', '1', 'noun', 'n', 'negative'), 'irrelevance': ('strongsubj', '1', 'noun', 'n', 'negative'), 'irrelevant': ('strongsubj', '1', 'adj', 'n', 'negative'), 'irreparable': ('strongsubj', '1', 'adj', 'n', 'negative'), 'irreplacible': ('strongsubj', '1', 'adj', 'n', 'negative'), 'irrepressible': ('strongsubj', '1', 'adj', 'n', 'negative'), 'irreproachable': ('strongsubj', '1', 'adj', 'n', 'positive'), 'irresistible': ('strongsubj', '1', 'adj', 'n', 'positive'), 'irresistibly': ('strongsubj', '1', 'anypos', 'n', 'positive'), 'irresolute': ('strongsubj', '1', 'adj', 'n', 'negative'), 'irresolvable': ('weaksubj', '1', 'adj', 'n', 'negative'), 'irresponsible': ('strongsubj', '1', 'adj', 'n', 'negative'), 'irresponsibly': ('strongsubj', '1', 'adverb', 'n', 'negative'), 'irretrievable': ('weaksubj', '1', 'adj', 'n', 'negative'), 'irreverence': ('strongsubj', '1', 'noun', 'n', 'negative'), 'irreverent': ('strongsubj', '1', 'adj', 'n', 'negative'), 'irreverently': ('strongsubj', '1', 'adverb', 'n', 'negative'), 'irreversible': ('strongsubj', '1', 'noun', 'n', 'negative'), 'irritable': ('strongsubj', '1', 'adj', 'n', 'negative'), 'irritably': ('strongsubj', '1', 'adverb', 'n', 'negative'), 'irritant': ('weaksubj', '1', 'noun', 'n', 'negative'), 'irritate': ('strongsubj', '1', 'verb', 'y', 'negative'), 'irritated': ('strongsubj', '1', 'adj', 'n', 'negative'), 'irritating': ('strongsubj', '1', 'anypos', 'n', 'negative'), 'irritation': ('strongsubj', '1', 'noun', 'n', 'negative'), 'isolate': ('weaksubj', '1', 'verb', 'y', 'negative'), 'isolated': ('weaksubj', '1', 'adj', 'n', 'negative'), 'itch': ('strongsubj', '1', 'verb', 'y', 'negative'), 'jabber': ('strongsubj', '1', 'verb', 'y', 'negative'), 'jaded': ('strongsubj', '1', 'adj', 'n', 'negative'), 'jam': ('weaksubj', '1', 'noun', 'n', 'negative'), 'jar': ('weaksubj', '1', 'verb', 'y', 'negative'), 'jaundiced': ('strongsubj', '1', 'adj', 'n', 'negative'), 'jauntily': ('strongsubj', '1', 'adverb', 'n', 'positive'), 'jaunty': ('strongsubj', '1', 'adj', 'n', 'positive'), 'jealous': ('strongsubj', '1', 'adj', 'n', 'negative'), 'jealously': ('strongsubj', '1', 'anypos', 'n', 'negative'), 'jealousness': ('strongsubj', '1', 'noun', 'n', 'negative'), 'jealousy': ('strongsubj', '1', 'noun', 'n', 'negative'), 'jeer': ('strongsubj', '1', 'verb', 'y', 'negative'), 'jeering': ('strongsubj', '1', 'anypos', 'y', 'negative'), 'jeeringly': ('strongsubj', '1', 'anypos', 'y', 'negative'), 'jeers': ('strongsubj', '1', 'noun', 'n', 'negative'), 'jeopardize': ('strongsubj', '1', 'verb', 'y', 'negative'), 'jeopardy': ('strongsubj', '1', 'noun', 'n', 'negative'), 'jerk': ('strongsubj', '1', 'anypos', 'y', 'negative'), 'jest': ('strongsubj', '1', 'verb', 'y', 'positive'), 'jittery': ('strongsubj', '1', 'adj', 'n', 'negative'), 'jobless': ('weaksubj', '1', 'adj', 'n', 'negative'), 'joke': ('strongsubj', '1', 'verb', 'y', 'positive'), 'joker': ('strongsubj', '1', 'noun', 'n', 'negative'), 'jollify': ('weaksubj', '1', 'verb', 'y', 'positive'), 'jolly': ('strongsubj', '1', 'anypos', 'y', 'positive'), 'jolt': ('weaksubj', '1', 'verb', 'y', 'negative'), 'jovial': ('strongsubj', '1', 'adj', 'n', 'positive'), 'joy': ('strongsubj', '1', 'noun', 'n', 'positive'), 'joyful': ('strongsubj', '1', 'adj', 'n', 'positive'), 'joyfully': ('strongsubj', '1', 'anypos', 'n', 'positive'), 'joyless': ('strongsubj', '1', 'adj', 'n', 'positive'), 'joyous': ('strongsubj', '1', 'anypos', 'n', 'positive'), 'joyously': ('strongsubj', '1', 'anypos', 'n', 'positive'), 'jubilant': ('strongsubj', '1', 'adj', 'n', 'positive'), 'jubilantly': ('strongsubj', '1', 'anypos', 'n', 'positive'), 'jubilate': ('strongsubj', '1', 'verb', 'y', 'positive'), 'jubilation': ('strongsubj', '1', 'noun', 'n', 'positive'), 'judgement': ('weaksubj', '1', 'noun', 'n', 'neutral'), 'judgements': ('weaksubj', '1', 'noun', 'n', 'neutral'), 'judicious': ('strongsubj', '1', 'adj', 'n', 'positive'), 'judgment': ('weaksubj', '1', 'noun', 'n', 'neutral'), 'judgments': ('weaksubj', '1', 'noun', 'n', 'neutral'), 'jumpy': ('weaksubj', '1', 'adj', 'n', 'negative'), 'junk': ('weaksubj', '1', 'noun', 'n', 'negative'), 'junky': ('weaksubj', '1', 'adj', 'n', 'negative'), 'just': ('weaksubj', '1', 'noun', 'n', 'positive'), 'justice': ('weaksubj', '1', 'noun', 'n', 'positive'), 'justifiable': ('strongsubj', '1', 'adj', 'n', 'positive'), 'justifiably': ('strongsubj', '1', 'anypos', 'y', 'positive'), 'justification': ('strongsubj', '1', 'noun', 'n', 'positive'), 'justify': ('strongsubj', '1', 'verb', 'y', 'positive'), 'justly': ('strongsubj', '1', 'anypos', 'n', 'positive'), 'juvenile': ('weaksubj', '1', 'adj', 'n', 'negative'), 'kaput': ('strongsubj', '1', 'adj', 'n', 'negative'), 'keen': ('strongsubj', '1', 'verb', 'y', 'negative'), 'keenly': ('strongsubj', '1', 'anypos', 'n', 'positive'), 'keenness': ('strongsubj', '1', 'noun', 'n', 'positive'), 'kemp': ('strongsubj', '1', 'adj', 'n', 'positive'), 'key': ('weaksubj', '1', 'adj', 'n', 'neutral'), 'kick': ('strongsubj', '1', 'noun', 'n', 'negative'), 'kid': ('strongsubj', '1', 'verb', 'y', 'positive'), 'kill': ('weaksubj', '1', 'verb', 'y', 'negative'), 'killer': ('weaksubj', '1', 'noun', 'n', 'negative'), 'killjoy': ('strongsubj', '1', 'noun', 'n', 'negative'), 'kind': ('strongsubj', '1', 'adj', 'n', 'positive'), 'kindly': ('strongsubj', '1', 'anypos', 'n', 'positive'), 'kindliness': ('strongsubj', '1', 'noun', 'n', 'positive'), 'kindness': ('strongsubj', '1', 'noun', 'n', 'positive'), 'kingmaker': ('strongsubj', '1', 'noun', 'n', 'positive'), 'kiss': ('weaksubj', '1', 'verb', 'y', 'positive'), 'knave': ('strongsubj', '1', 'noun', 'n', 'negative'), 'knife': ('weaksubj', '1', 'verb', 'y', 'negative'), 'knock': ('weaksubj', '1', 'verb', 'y', 'negative'), 'knew': ('strongsubj', '1', 'verb', 'n', 'neutral'), 'know': ('strongsubj', '1', 'verb', 'n', 'neutral'), 'knowing': ('strongsubj', '1', 'anypos', 'n', 'neutral'), 'knowingly': ('strongsubj', '1', 'anypos', 'n', 'neutral'), 'knowledge': ('strongsubj', '1', 'noun', 'n', 'neutral'), 'knowledgeable': ('strongsubj', '1', 'anypos', 'n', 'positive'), 'kook': ('strongsubj', '1', 'noun', 'n', 'negative'), 'kooky': ('strongsubj', '1', 'adj', 'n', 'negative'), 'lack': ('strongsubj', '1', 'noun', 'n', 'negative'), 'lackadaisical': ('strongsubj', '1', 'adj', 'n', 'negative'), 'lackey': ('strongsubj', '1', 'noun', 'n', 'negative'), 'lackeys': ('strongsubj', '1', 'noun', 'n', 'negative'), 'lacking': ('strongsubj', '1', 'adj', 'n', 'negative'), 'lackluster': ('strongsubj', '1', 'anypos', 'y', 'negative'), 'laconic': ('strongsubj', '1', 'adj', 'n', 'negative'), 'lag': ('weaksubj', '1', 'verb', 'y', 'negative'), 'lambast': ('strongsubj', '1', 'verb', 'y', 'negative'), 'lambaste': ('strongsubj', '1', 'verb', 'y', 'negative'), 'lame': ('weaksubj', '1', 'adj', 'n', 'negative'), 'lame-duck': ('strongsubj', '1', 'adj', 'n', 'negative'), 'lament': ('strongsubj', '1', 'verb', 'y', 'negative'), 'lamentable': ('strongsubj', '1', 'anypos', 'n', 'negative'), 'lamentably': ('strongsubj', '1', 'anypos', 'n', 'negative'), 'languid': ('strongsubj', '1', 'adj', 'n', 'negative'), 'languish': ('strongsubj', '1', 'verb', 'y', 'negative'), 'lanky': ('weaksubj', '1', 'adj', 'n', 'negative'), 'languor': ('strongsubj', '1', 'noun', 'n', 'negative'), 'languorous': ('strongsubj', '1', 'adj', 'n', 'negative'), 'languorously': ('strongsubj', '1', 'adverb', 'n', 'negative'), 'large': ('weaksubj', '1', 'adverb', 'n', 'positive'), 'large-scale': ('weaksubj', '1', 'adj', 'n', 'neutral'), 'lapse': ('weaksubj', '1', 'noun', 'n', 'negative'), 'largely': ('weaksubj', '1', 'adverb', 'n', 'neutral'), 'lark': ('strongsubj', '1', 'verb', 'y', 'positive'), 'lascivious': ('strongsubj', '1', 'adj', 'n', 'negative'), 'last-ditch': ('strongsubj', '1', 'noun', 'n', 'negative'), 'lastly': ('strongsubj', '1', 'anypos', 'y', 'neutral'), 'laud': ('strongsubj', '1', 'verb', 'y', 'positive'), 'laudable': ('strongsubj', '1', 'anypos', 'n', 'positive'), 'laudably': ('strongsubj', '1', 'anypos', 'n', 'positive'), 'laugh': ('strongsubj', '1', 'verb', 'y', 'negative'), 'laughable': ('strongsubj', '1', 'anypos', 'n', 'negative'), 'laughably': ('strongsubj', '1', 'anypos', 'n', 'negative'), 'laughingstock': ('strongsubj', '1', 'noun', 'n', 'negative'), 'laughter': ('strongsubj', '1', 'noun', 'n', 'negative'), 'lavish': ('strongsubj', '1', 'verb', 'y', 'positive'), 'lavishly': ('strongsubj', '1', 'anypos', 'n', 'positive'), 'law-abiding': ('strongsubj', '1', 'adj', 'n', 'positive'), 'lawbreaker': ('strongsubj', '1', 'adj', 'n', 'negative'), 'lawbreaking': ('strongsubj', '1', 'anypos', 'n', 'negative'), 'lawful': ('weaksubj', '1', 'adj', 'n', 'positive'), 'lawfully': ('weaksubj', '1', 'adverb', 'n', 'positive'), 'lawless': ('strongsubj', '1', 'adj', 'n', 'negative'), 'lawlessness': ('strongsubj', '1', 'noun', 'n', 'negative'), 'lax': ('strongsubj', '1', 'noun', 'n', 'negative'), 'lazy': ('strongsubj', '1', 'adj', 'n', 'negative'), 'leading': ('weaksubj', '1', 'adj', 'n', 'positive'), 'leak': ('weaksubj', '1', 'verb', 'y', 'negative'), 'leakage': ('weaksubj', '1', 'noun', 'n', 'negative'), 'leaky': ('weaksubj', '1', 'adj', 'n', 'negative'), 'lean': ('weaksubj', '1', 'noun', 'n', 'positive'), 'learn': ('weaksubj', '1', 'adj', 'n', 'neutral'), 'learning': ('weaksubj', '1', 'noun', 'n', 'positive'), 'learned': ('weaksubj', '1', 'noun', 'n', 'positive'), 'least': ('weaksubj', '1', 'anypos', 'n', 'negative'), 'lech': ('strongsubj', '1', 'noun', 'n', 'negative'), 'lecher': ('strongsubj', '1', 'noun', 'n', 'negative'), 'lecherous': ('strongsubj', '1', 'adj', 'n', 'negative'), 'lechery': ('strongsubj', '1', 'noun', 'n', 'negative'), 'lecture': ('weaksubj', '1', 'verb', 'y', 'negative'), 'leech': ('strongsubj', '1', 'verb', 'y', 'negative'), 'leer': ('strongsubj', '1', 'verb', 'y', 'negative'), 'leery': ('strongsubj', '1', 'adj', 'n', 'negative'), 'left-leaning': ('strongsubj', '1', 'adj', 'n', 'negative'), 'legacy': ('weaksubj', '1', 'noun', 'n', 'neutral'), 'legacies': ('weaksubj', '1', 'noun', 'n', 'neutral'), 'legalistic': ('weaksubj', '1', 'noun', 'n', 'neutral'), 'legendary': ('weaksubj', '1', 'adj', 'n', 'positive'), 'legitimacy': ('weaksubj', '1', 'noun', 'n', 'positive'), 'legitimate': ('weaksubj', '1', 'adj', 'n', 'positive'), 'legitimately': ('weaksubj', '1', 'adverb', 'n', 'positive'), 'lenient': ('weaksubj', '1', 'adj', 'n', 'positive'), 'leniently': ('weaksubj', '1', 'adverb', 'n', 'positive'), 'less': ('weaksubj', '1', 'adverb', 'n', 'negative'), 'less-developed': ('weaksubj', '1', 'adj', 'n', 'negative'), 'less-expensive': ('weaksubj', '1', 'adj', 'n', 'positive'), 'lessen': ('weaksubj', '1', 'verb', 'y', 'negative'), 'lesser': ('weaksubj', '1', 'anypos', 'n', 'negative'), 'lesser-known': ('weaksubj', '1', 'adj', 'n', 'negative'), 'letch': ('strongsubj', '1', 'noun', 'n', 'negative'), 'lethal': ('weaksubj', '1', 'adj', 'n', 'negative'), 'lethargic': ('weaksubj', '1', 'adj', 'n', 'negative'), 'lethargy': ('weaksubj', '1', 'noun', 'n', 'negative'), 'leverage': ('weaksubj', '1', 'verb', 'y', 'positive'), 'levity': ('strongsubj', '1', 'noun', 'n', 'positive'), 'lewd': ('strongsubj', '1', 'adj', 'n', 'negative'), 'lewdly': ('strongsubj', '1', 'adverb', 'n', 'negative'), 'lewdness': ('strongsubj', '1', 'noun', 'n', 'negative'), 'liable': ('weaksubj', '1', 'adj', 'n', 'negative'), 'liability': ('strongsubj', '1', 'noun', 'n', 'negative'), 'liar': ('strongsubj', '1', 'noun', 'n', 'negative'), 'liars': ('strongsubj', '1', 'noun', 'n', 'negative'), 'liberal': ('weaksubj', '1', 'adj', 'n', 'positive'), 'liberation': ('weaksubj', '1', 'noun', 'n', 'positive'), 'liberalism': ('weaksubj', '1', 'noun', 'n', 'positive'), 'liberally': ('weaksubj', '1', 'adverb', 'n', 'positive'), 'liberate': ('strongsubj', '1', 'verb', 'y', 'positive'), 'liberty': ('strongsubj', '1', 'noun', 'n', 'positive'), 'licentious': ('strongsubj', '1', 'adj', 'n', 'negative'), 'licentiously': ('strongsubj', '1', 'adverb', 'n', 'negative'), 'licentiousness': ('strongsubj', '1', 'noun', 'n', 'negative'), 'lie': ('weaksubj', '1', 'verb', 'n', 'negative'), 'lier': ('strongsubj', '1', 'noun', 'n', 'negative'), 'lies': ('strongsubj', '1', 'noun', 'n', 'negative'), 'life-threatening': ('weaksubj', '1', 'adj', 'n', 'negative'), 'lifeblood': ('strongsubj', '1', 'noun', 'n', 'positive'), 'lifeless': ('weaksubj', '1', 'adj', 'n', 'negative'), 'lifelong': ('weaksubj', '1', 'adj', 'n', 'positive'), 'light': ('weaksubj', '1', 'noun', 'n', 'positive'), 'light-hearted': ('strongsubj', '1', 'adj', 'n', 'positive'), 'lighten': ('weaksubj', '1', 'verb', 'y', 'positive'), 'likable': ('strongsubj', '1', 'adj', 'n', 'positive'), 'like': ('strongsubj', '1', 'verb', 'y', 'positive'), 'likelihood': ('weaksubj', '1', 'noun', 'n', 'neutral'), 'likely': ('weaksubj', '1', 'anypos', 'y', 'neutral'), 'liking': ('strongsubj', '1', 'noun', 'n', 'positive'), 'likewise': ('strongsubj', '1', 'anypos', 'y', 'neutral'), 'limit': ('weaksubj', '1', 'verb', 'y', 'negative'), 'limitation': ('weaksubj', '1', 'noun', 'n', 'negative'), 'limited': ('weaksubj', '1', 'adj', 'n', 'negative'), 'limitless': ('strongsubj', '1', 'noun', 'n', 'neutral'), 'limp': ('strongsubj', '1', 'adj', 'n', 'negative'), 'lionhearted': ('strongsubj', '1', 'adj', 'n', 'positive'), 'listless': ('strongsubj', '1', 'adj', 'n', 'negative'), 'literate': ('weaksubj', '1', 'adj', 'n', 'positive'), 'litigious': ('strongsubj', '1', 'adj', 'n', 'negative'), 'little': ('strongsubj', '1', 'adj', 'n', 'negative'), 'little-known': ('strongsubj', '1', 'adj', 'n', 'negative'), 'live': ('weaksubj', '1', 'adj', 'n', 'positive'), 'lively': ('strongsubj', '1', 'adj', 'n', 'positive'), 'livid': ('strongsubj', '1', 'anypos', 'n', 'negative'), 'lividly': ('strongsubj', '1', 'anypos', 'n', 'negative'), 'loath': ('strongsubj', '1', 'adj', 'n', 'negative'), 'loathe': ('strongsubj', '1', 'verb', 'y', 'negative'), 'loathing': ('strongsubj', '1', 'anypos', 'n', 'negative'), 'loathly': ('strongsubj', '1', 'anypos', 'n', 'negative'), 'loathsome': ('strongsubj', '1', 'adj', 'n', 'negative'), 'loathsomely': ('strongsubj', '1', 'anypos', 'n', 'negative'), 'lofty': ('strongsubj', '1', 'adj', 'n', 'positive'), 'logical': ('weaksubj', '1', 'adj', 'n', 'positive'), 'lone': ('strongsubj', '1', 'noun', 'n', 'negative'), 'loneliness': ('strongsubj', '1', 'noun', 'n', 'negative'), 'lonely': ('strongsubj', '1', 'adj', 'n', 'negative'), 'lonesome': ('strongsubj', '1', 'adj', 'n', 'negative'), 'long': ('strongsubj', '1', 'verb', 'y', 'negative'), 'longing': ('strongsubj', '1', 'noun', 'n', 'negative'), 'longingly': ('strongsubj', '1', 'anypos', 'n', 'negative'), 'look': ('weaksubj', '1', 'anypos', 'y', 'neutral'), 'looking': ('weaksubj', '1', 'anypos', 'y', 'neutral'), 'loophole': ('strongsubj', '1', 'noun', 'n', 'negative'), 'loopholes': ('strongsubj', '1', 'noun', 'n', 'negative'), 'loot': ('strongsubj', '1', 'verb', 'n', 'negative'), 'lorn': ('strongsubj', '1', 'adj', 'n', 'negative'), 'losing': ('strongsubj', '1', 'noun', 'n', 'negative'), 'lose': ('weaksubj', '1', 'verb', 'y', 'negative'), 'loser': ('weaksubj', '1', 'noun', 'n', 'negative'), 'loss': ('weaksubj', '1', 'noun', 'n', 'negative'), 'lost': ('weaksubj', '1', 'adj', 'n', 'negative'), 'lousy': ('strongsubj', '1', 'adj', 'n', 'negative'), 'lovable': ('strongsubj', '1', 'adj', 'n', 'positive'), 'lovably': ('strongsubj', '1', 'adverb', 'n', 'positive'), 'love': ('strongsubj', '1', 'verb', 'y', 'positive'), 'loveless': ('strongsubj', '1', 'adj', 'n', 'negative'), 'loveliness': ('strongsubj', '1', 'noun', 'n', 'positive'), 'lovelorn': ('strongsubj', '1', 'adj', 'n', 'negative'), 'lover': ('strongsubj', '1', 'noun', 'n', 'positive'), 'lovely': ('strongsubj', '1', 'anypos', 'y', 'positive'), 'low': ('weaksubj', '1', 'adj', 'n', 'negative'), 'low-cost': ('weaksubj', '1', 'adj', 'n', 'positive'), 'low-rated': ('strongsubj', '1', 'adj', 'n', 'negative'), 'low-risk': ('weaksubj', '1', 'adj', 'n', 'positive'), 'lower-priced': ('weaksubj', '1', 'adj', 'n', 'positive'), 'lowly': ('strongsubj', '1', 'adj', 'n', 'negative'), 'loyal': ('weaksubj', '1', 'adj', 'n', 'positive'), 'loyalty': ('strongsubj', '1', 'noun', 'n', 'positive'), 'lucid': ('strongsubj', '1', 'adj', 'n', 'positive'), 'lucidly': ('strongsubj', '1', 'adj', 'n', 'positive'), 'luck': ('strongsubj', '1', 'noun', 'n', 'positive'), 'luckier': ('strongsubj', '1', 'noun', 'n', 'positive'), 'luckiest': ('strongsubj', '1', 'anypos', 'y', 'positive'), 'luckily': ('strongsubj', '1', 'adj', 'n', 'positive'), 'luckiness': ('strongsubj', '1', 'noun', 'n', 'positive'), 'lucky': ('strongsubj', '1', 'noun', 'n', 'positive'), 'lucrative': ('weaksubj', '1', 'noun', 'n', 'positive'), 'ludicrous': ('strongsubj', '1', 'adj', 'n', 'negative'), 'ludicrously': ('strongsubj', '1', 'anypos', 'n', 'negative'), 'lugubrious': ('strongsubj', '1', 'adj', 'n', 'negative'), 'lukewarm': ('strongsubj', '1', 'adj', 'n', 'negative'), 'lull': ('weaksubj', '1', 'verb', 'y', 'negative'), 'luminous': ('weaksubj', '1', 'adj', 'n', 'positive'), 'lunatic': ('strongsubj', '1', 'noun', 'n', 'negative'), 'lunaticism': ('strongsubj', '1', 'noun', 'n', 'negative'), 'lurch': ('strongsubj', '1', 'verb', 'y', 'negative'), 'lure': ('strongsubj', '1', 'verb', 'y', 'negative'), 'lurid': ('strongsubj', '1', 'adj', 'n', 'negative'), 'lurk': ('strongsubj', '1', 'verb', 'y', 'negative'), 'lurking': ('strongsubj', '1', 'adj', 'n', 'negative'), 'lush': ('strongsubj', '1', 'adj', 'n', 'positive'), 'lust': ('strongsubj', '1', 'verb', 'y', 'both'), 'luster': ('strongsubj', '1', 'noun', 'n', 'positive'), 'lustrous': ('strongsubj', '1', 'adj', 'n', 'positive'), 'luxuriant': ('strongsubj', '1', 'adj', 'n', 'positive'), 'luxuriate': ('weaksubj', '1', 'verb', 'y', 'positive'), 'luxurious': ('strongsubj', '1', 'anypos', 'n', 'positive'), 'luxuriously': ('strongsubj', '1', 'anypos', 'n', 'positive'), 'luxury': ('strongsubj', '1', 'noun', 'n', 'positive'), 'lying': ('strongsubj', '1', 'anypos', 'n', 'negative'), 'lyrical': ('strongsubj', '1', 'adj', 'n', 'positive'), 'macabre': ('strongsubj', '1', 'adj', 'n', 'negative'), 'mad': ('strongsubj', '1', 'adj', 'n', 'negative'), 'madden': ('strongsubj', '1', 'verb', 'y', 'negative'), 'maddening': ('strongsubj', '1', 'anypos', 'n', 'negative'), 'maddeningly': ('strongsubj', '1', 'anypos', 'n', 'negative'), 'madder': ('strongsubj', '1', 'noun', 'n', 'negative'), 'madly': ('strongsubj', '1', 'anypos', 'n', 'negative'), 'madman': ('strongsubj', '1', 'noun', 'n', 'negative'), 'madness': ('strongsubj', '1', 'noun', 'n', 'negative'), 'magic': ('strongsubj', '1', 'adj', 'n', 'positive'), 'magical': ('strongsubj', '1', 'adj', 'n', 'positive'), 'magnanimous': ('strongsubj', '1', 'anypos', 'n', 'positive'), 'magnanimously': ('strongsubj', '1', 'anypos', 'n', 'positive'), 'magnetic': ('weaksubj', '1', 'adj', 'n', 'positive'), 'magnificence': ('strongsubj', '1', 'anypos', 'n', 'positive'), 'magnificent': ('strongsubj', '1', 'anypos', 'n', 'positive'), 'magnificently': ('strongsubj', '1', 'anypos', 'n', 'positive'), 'magnify': ('weaksubj', '1', 'verb', 'n', 'positive'), 'majestic': ('strongsubj', '1', 'adj', 'n', 'positive'), 'majesty': ('strongsubj', '1', 'noun', 'n', 'positive'), 'major': ('weaksubj', '1', 'adj', 'n', 'neutral'), 'maladjusted': ('strongsubj', '1', 'adj', 'n', 'negative'), 'maladjustment': ('strongsubj', '1', 'noun', 'n', 'negative'), 'malady': ('weaksubj', '1', 'noun', 'n', 'negative'), 'malaise': ('weaksubj', '1', 'noun', 'n', 'negative'), 'malcontent': ('strongsubj', '1', 'noun', 'n', 'negative'), 'malcontented': ('strongsubj', '1', 'adj', 'n', 'negative'), 'maledict': ('strongsubj', '1', 'verb', 'y', 'negative'), 'malevolence': ('strongsubj', '1', 'noun', 'n', 'negative'), 'malevolent': ('strongsubj', '1', 'adj', 'n', 'negative'), 'malevolently': ('strongsubj', '1', 'anypos', 'n', 'negative'), 'malice': ('strongsubj', '1', 'noun', 'n', 'negative'), 'malicious': ('strongsubj', '1', 'adj', 'n', 'negative'), 'maliciously': ('strongsubj', '1', 'anypos', 'n', 'negative'), 'maliciousness': ('strongsubj', '1', 'noun', 'n', 'negative'), 'malign': ('strongsubj', '1', 'verb', 'y', 'negative'), 'malignant': ('weaksubj', '1', 'adj', 'n', 'negative'), 'malodorous': ('strongsubj', '1', 'adj', 'n', 'negative'), 'maltreatment': ('strongsubj', '1', 'noun', 'n', 'negative'), 'manageable': ('weaksubj', '1', 'adj', 'n', 'positive'), 'maneuver': ('weaksubj', '1', 'noun', 'n', 'negative'), 'mangle': ('strongsubj', '1', 'verb', 'y', 'negative'), 'mania': ('strongsubj', '1', 'noun', 'n', 'negative'), 'maniac': ('strongsubj', '1', 'noun', 'n', 'negative'), 'maniacal': ('strongsubj', '1', 'adj', 'n', 'negative'), 'manic': ('strongsubj', '1', 'adj', 'n', 'negative'), 'manifest': ('strongsubj', '1', 'adj', 'n', 'positive'), 'manipulate': ('weaksubj', '1', 'verb', 'y', 'negative'), 'manipulation': ('weaksubj', '1', 'noun', 'n', 'negative'), 'manipulative': ('strongsubj', '1', 'adj', 'n', 'negative'), 'manipulators': ('strongsubj', '1', 'noun', 'n', 'negative'), 'manly': ('strongsubj', '1', 'adj', 'n', 'positive'), 'mannerly': ('strongsubj', '1', 'adj', 'n', 'positive'), 'mantra': ('strongsubj', '1', 'noun', 'n', 'neutral'), 'mar': ('strongsubj', '1', 'verb', 'y', 'negative'), 'marginal': ('weaksubj', '1', 'adj', 'n', 'negative'), 'marginally': ('weaksubj', '1', 'adverb', 'n', 'negative'), 'martyrdom': ('strongsubj', '1', 'noun', 'n', 'negative'), 'martyrdom-seeking': ('strongsubj', '1', 'adj', 'n', 'negative'), 'marvel': ('strongsubj', '1', 'verb', 'y', 'positive'), 'marvellous': ('strongsubj', '1', 'adj', 'n', 'positive'), 'marvelous': ('strongsubj', '1', 'anypos', 'y', 'positive'), 'marvelously': ('strongsubj', '1', 'anypos', 'n', 'positive'), 'marvelousness': ('strongsubj', '1', 'noun', 'n', 'positive'), 'marvels': ('strongsubj', '1', 'noun', 'n', 'positive'), 'massacre': ('strongsubj', '1', 'verb', 'y', 'negative'), 'massacres': ('strongsubj', '1', 'noun', 'n', 'negative'), 'massive': ('weaksubj', '1', 'adj', 'n', 'neutral'), 'master': ('strongsubj', '1', 'noun', 'n', 'positive'), 'masterful': ('strongsubj', '1', 'adj', 'n', 'positive'), 'masterfully': ('strongsubj', '1', 'adverb', 'n', 'positive'), 'masterpiece': ('strongsubj', '1', 'noun', 'n', 'positive'), 'masterpieces': ('strongsubj', '1', 'noun', 'n', 'positive'), 'masters': ('strongsubj', '1', 'noun', 'n', 'positive'), 'mastery': ('strongsubj', '1', 'noun', 'n', 'positive'), 'matchless': ('strongsubj', '1', 'adj', 'n', 'positive'), 'matter': ('weaksubj', '1', 'verb', 'y', 'neutral'), 'mature': ('weaksubj', '1', 'adj', 'n', 'positive'), 'maturely': ('weaksubj', '1', 'adverb', 'n', 'positive'), 'maturity': ('weaksubj', '1', 'noun', 'n', 'positive'), 'maverick': ('strongsubj', '1', 'adj', 'n', 'negative'), 'mawkish': ('strongsubj', '1', 'anypos', 'n', 'negative'), 'mawkishly': ('strongsubj', '1', 'anypos', 'n', 'negative'), 'mawkishness': ('strongsubj', '1', 'anypos', 'n', 'negative'), 'maxi-devaluation': ('strongsubj', '1', 'noun', 'n', 'negative'), 'maximize': ('strongsubj', '1', 'verb', 'y', 'positive'), 'maybe': ('strongsubj', '1', 'anypos', 'y', 'neutral'), 'meager': ('strongsubj', '1', 'adj', 'n', 'negative'), 'mean': ('weaksubj', '1', 'verb', 'y', 'neutral'), 'meaningful': ('strongsubj', '1', 'adj', 'n', 'positive'), 'meaningless': ('strongsubj', '1', 'adj', 'n', 'negative'), 'meanness': ('strongsubj', '1', 'noun', 'n', 'negative'), 'meddle': ('strongsubj', '1', 'verb', 'y', 'negative'), 'meddlesome': ('strongsubj', '1', 'anypos', 'y', 'negative'), 'mediocre': ('strongsubj', '1', 'adj', 'n', 'negative'), 'mediocrity': ('strongsubj', '1', 'noun', 'n', 'negative'), 'meek': ('strongsubj', '1', 'adj', 'n', 'positive'), 'melancholy': ('strongsubj', '1', 'adj', 'n', 'negative'), 'mellow': ('strongsubj', '1', 'adj', 'n', 'positive'), 'melodramatic': ('strongsubj', '1', 'adj', 'n', 'negative'), 'melodramatically': ('strongsubj', '1', 'adverb', 'n', 'negative'), 'memorable': ('strongsubj', '1', 'adj', 'n', 'positive'), 'memorialize': ('strongsubj', '1', 'verb', 'y', 'positive'), 'memories': ('weaksubj', '1', 'noun', 'n', 'neutral'), 'menace': ('strongsubj', '1', 'verb', 'y', 'negative'), 'menacing': ('strongsubj', '1', 'anypos', 'n', 'negative'), 'menacingly': ('strongsubj', '1', 'anypos', 'n', 'negative'), 'mend': ('weaksubj', '1', 'verb', 'y', 'positive'), 'mendacious': ('strongsubj', '1', 'adj', 'n', 'negative'), 'mendacity': ('strongsubj', '1', 'noun', 'n', 'negative'), 'menial': ('weaksubj', '1', 'adj', 'n', 'negative'), 'mentality': ('strongsubj', '1', 'noun', 'n', 'neutral'), 'mentor': ('weaksubj', '1', 'noun', 'n', 'positive'), 'merciful': ('strongsubj', '1', 'anypos', 'y', 'positive'), 'mercifully': ('strongsubj', '1', 'anypos', 'n', 'positive'), 'merciless': ('strongsubj', '1', 'adj', 'n', 'negative'), 'mercilessly': ('strongsubj', '1', 'adverb', 'n', 'negative'), 'mercy': ('strongsubj', '1', 'noun', 'n', 'positive'), 'mere': ('strongsubj', '1', 'anypos', 'y', 'negative'), 'merely': ('strongsubj', '1', 'anypos', 'y', 'negative'), 'merit': ('strongsubj', '1', 'verb', 'y', 'positive'), 'meritorious': ('strongsubj', '1', 'adj', 'n', 'positive'), 'merrily': ('strongsubj', '1', 'adj', 'n', 'positive'), 'merriment': ('strongsubj', '1', 'noun', 'n', 'positive'), 'merriness': ('strongsubj', '1', 'noun', 'n', 'positive'), 'merry': ('strongsubj', '1', 'adj', 'n', 'positive'), 'mesmerize': ('strongsubj', '1', 'verb', 'y', 'positive'), 'mesmerizing': ('strongsubj', '1', 'anypos', 'n', 'positive'), 'mesmerizingly': ('strongsubj', '1', 'anypos', 'n', 'positive'), 'mess': ('strongsubj', '1', 'noun', 'n', 'negative'), 'messy': ('weaksubj', '1', 'adj', 'n', 'negative'), 'metaphorize': ('strongsubj', '1', 'verb', 'y', 'neutral'), 'meticulous': ('weaksubj', '1', 'adj', 'n', 'positive'), 'meticulously': ('weaksubj', '1', 'adj', 'n', 'positive'), 'midget': ('strongsubj', '1', 'noun', 'n', 'negative'), 'miff': ('weaksubj', '1', 'verb', 'y', 'negative'), 'might': ('strongsubj', '1', 'noun', 'n', 'positive'), 'mightily': ('strongsubj', '1', 'anypos', 'n', 'positive'), 'mighty': ('strongsubj', '1', 'anypos', 'n', 'positive'), 'mild': ('weaksubj', '1', 'adj', 'n', 'positive'), 'militancy': ('strongsubj', '1', 'noun', 'n', 'negative'), 'mind': ('weaksubj', '1', 'verb', 'y', 'negative'), 'mindful': ('strongsubj', '1', 'adj', 'n', 'positive'), 'mindless': ('strongsubj', '1', 'anypos', 'n', 'negative'), 'mindlessly': ('strongsubj', '1', 'anypos', 'n', 'negative'), 'minister': ('weaksubj', '1', 'verb', 'y', 'positive'), 'minor': ('weaksubj', '1', 'adj', 'n', 'neutral'), 'miracle': ('strongsubj', '1', 'noun', 'n', 'positive'), 'miracles': ('strongsubj', '1', 'noun', 'n', 'positive'), 'miraculous': ('strongsubj', '1', 'adj', 'n', 'positive'), 'miraculously': ('strongsubj', '1', 'anypos', 'n', 'positive'), 'miraculousness': ('strongsubj', '1', 'noun', 'n', 'positive'), 'mirage': ('strongsubj', '1', 'noun', 'n', 'negative'), 'mire': ('strongsubj', '1', 'verb', 'y', 'negative'), 'mirth': ('strongsubj', '1', 'noun', 'n', 'positive'), 'misapprehend': ('weaksubj', '1', 'verb', 'y', 'negative'), 'misbecoming': ('strongsubj', '1', 'adj', 'n', 'negative'), 'misbecome': ('strongsubj', '1', 'verb', 'y', 'negative'), 'misbegotten': ('strongsubj', '1', 'adj', 'n', 'negative'), 'misbehave': ('strongsubj', '1', 'verb', 'y', 'negative'), 'misbehavior': ('strongsubj', '1', 'noun', 'n', 'negative'), 'miscalculate': ('weaksubj', '1', 'verb', 'y', 'negative'), 'miscalculation': ('weaksubj', '1', 'noun', 'n', 'negative'), 'mischief': ('strongsubj', '1', 'noun', 'n', 'negative'), 'mischievous': ('strongsubj', '1', 'anypos', 'n', 'negative'), 'mischievously': ('strongsubj', '1', 'anypos', 'n', 'negative'), 'misconception': ('strongsubj', '1', 'anypos', 'n', 'negative'), 'misconceptions': ('strongsubj', '1', 'noun', 'n', 'negative'), 'miscreant': ('strongsubj', '1', 'noun', 'n', 'negative'), 'miscreants': ('strongsubj', '1', 'noun', 'n', 'negative'), 'misdirection': ('strongsubj', '1', 'noun', 'n', 'negative'), 'miser': ('strongsubj', '1', 'noun', 'n', 'negative'), 'miserly': ('strongsubj', '1', 'anypos', 'n', 'negative'), 'miserable': ('strongsubj', '1', 'adj', 'n', 'negative'), 'miserableness': ('strongsubj', '1', 'noun', 'n', 'negative'), 'miserably': ('strongsubj', '1', 'anypos', 'n', 'negative'), 'miseries': ('strongsubj', '1', 'noun', 'n', 'negative'), 'misery': ('strongsubj', '1', 'noun', 'n', 'negative'), 'misfit': ('strongsubj', '1', 'noun', 'n', 'negative'), 'misfortune': ('strongsubj', '1', 'noun', 'n', 'negative'), 'misgiving': ('strongsubj', '1', 'noun', 'n', 'negative'), 'misgivings': ('strongsubj', '1', 'noun', 'n', 'negative'), 'misguidance': ('strongsubj', '1', 'noun', 'n', 'negative'), 'misguide': ('strongsubj', '1', 'verb', 'y', 'negative'), 'misguided': ('strongsubj', '1', 'adj', 'n', 'negative'), 'mishandle': ('strongsubj', '1', 'verb', 'y', 'negative'), 'mishap': ('strongsubj', '1', 'noun', 'n', 'negative'), 'misinform': ('strongsubj', '1', 'verb', 'y', 'negative'), 'misinformed': ('strongsubj', '1', 'adj', 'n', 'negative'), 'misinterpret': ('strongsubj', '1', 'verb', 'y', 'negative'), 'misjudge': ('strongsubj', '1', 'verb', 'y', 'negative'), 'misjudgment': ('strongsubj', '1', 'noun', 'n', 'negative'), 'mislead': ('strongsubj', '1', 'verb', 'y', 'negative'), 'misleading': ('strongsubj', '1', 'anypos', 'n', 'negative'), 'misleadingly': ('strongsubj', '1', 'anypos', 'y', 'negative'), 'mislike': ('strongsubj', '1', 'verb', 'y', 'negative'), 'mismanage': ('strongsubj', '1', 'verb', 'y', 'negative'), 'misread': ('strongsubj', '1', 'verb', 'y', 'negative'), 'misreading': ('strongsubj', '1', 'noun', 'n', 'negative'), 'misrepresent': ('strongsubj', '1', 'verb', 'y', 'negative'), 'misrepresentation': ('strongsubj', '1', 'anypos', 'y', 'negative'), 'miss': ('weaksubj', '1', 'verb', 'y', 'negative'), 'misstatement': ('strongsubj', '1', 'noun', 'n', 'negative'), 'mistake': ('strongsubj', '1', 'noun', 'n', 'negative'), 'mistaken': ('strongsubj', '1', 'verb', 'y', 'negative'), 'mistakenly': ('strongsubj', '1', 'adverb', 'n', 'negative'), 'mistakes': ('strongsubj', '1', 'noun', 'n', 'negative'), 'mistrust': ('strongsubj', '1', 'noun', 'n', 'negative'), 'mistrustful': ('strongsubj', '1', 'anypos', 'y', 'negative'), 'mistrustfully': ('strongsubj', '1', 'anypos', 'y', 'negative'), 'misunderstand': ('strongsubj', '1', 'verb', 'n', 'negative'), 'misunderstood': ('strongsubj', '1', 'verb', 'n', 'negative'), 'misunderstanding': ('strongsubj', '1', 'verb', 'n', 'negative'), 'misunderstandings': ('strongsubj', '1', 'noun', 'n', 'negative'), 'misuse': ('strongsubj', '1', 'verb', 'y', 'negative'), 'mm': ('strongsubj', '1', 'anypos', 'n', 'neutral'), 'moan': ('strongsubj', '1', 'verb', 'y', 'negative'), 'mock': ('strongsubj', '1', 'verb', 'y', 'negative'), 'mockeries': ('strongsubj', '1', 'noun', 'n', 'negative'), 'mockery': ('strongsubj', '1', 'noun', 'n', 'negative'), 'mocking': ('strongsubj', '1', 'adj', 'n', 'negative'), 'mockingly': ('strongsubj', '1', 'anypos', 'n', 'negative'), 'moderate': ('strongsubj', '1', 'adj', 'n', 'positive'), 'moderation': ('strongsubj', '1', 'noun', 'n', 'positive'), 'modern': ('weaksubj', '1', 'adj', 'n', 'positive'), 'modest': ('weaksubj', '1', 'adj', 'n', 'positive'), 'modesty': ('weaksubj', '1', 'noun', 'n', 'positive'), 'molest': ('strongsubj', '1', 'verb', 'y', 'negative'), 'molestation': ('strongsubj', '1', 'noun', 'n', 'negative'), 'mollify': ('strongsubj', '1', 'verb', 'y', 'positive'), 'momentous': ('strongsubj', '1', 'adj', 'n', 'positive'), 'monotonous': ('strongsubj', '1', 'adj', 'n', 'negative'), 'monotony': ('strongsubj', '1', 'noun', 'n', 'negative'), 'monster': ('strongsubj', '1', 'noun', 'n', 'negative'), 'monstrosities': ('strongsubj', '1', 'noun', 'n', 'negative'), 'monstrosity': ('strongsubj', '1', 'noun', 'n', 'negative'), 'monstrous': ('strongsubj', '1', 'adj', 'n', 'negative'), 'monstrously': ('strongsubj', '1', 'anypos', 'n', 'negative'), 'monumental': ('strongsubj', '1', 'adj', 'n', 'positive'), 'monumentally': ('strongsubj', '1', 'adj', 'n', 'positive'), 'moody': ('strongsubj', '1', 'adj', 'n', 'negative'), 'moon': ('weaksubj', '1', 'verb', 'y', 'negative'), 'moot': ('weaksubj', '1', 'adj', 'n', 'negative'), 'mope': ('weaksubj', '1', 'verb', 'y', 'negative'), 'moral': ('strongsubj', '1', 'noun', 'n', 'positive'), 'morality': ('strongsubj', '1', 'noun', 'n', 'positive'), 'moralize': ('strongsubj', '1', 'verb', 'y', 'positive'), 'morbid': ('strongsubj', '1', 'adj', 'n', 'negative'), 'morbidly': ('strongsubj', '1', 'adj', 'n', 'negative'), 'mordant': ('strongsubj', '1', 'adj', 'n', 'negative'), 'mordantly': ('strongsubj', '1', 'adj', 'n', 'negative'), 'moreover': ('strongsubj', '1', 'anypos', 'y', 'neutral'), 'moribund': ('strongsubj', '1', 'adj', 'n', 'negative'), 'mortification': ('strongsubj', '1', 'noun', 'n', 'negative'), 'mortified': ('strongsubj', '1', 'adj', 'n', 'negative'), 'mortify': ('strongsubj', '1', 'verb', 'y', 'negative'), 'mortifying': ('strongsubj', '1', 'anypos', 'n', 'negative'), 'most': ('weaksubj', '1', 'anypos', 'n', 'neutral'), 'mostly': ('weaksubj', '1', 'anypos', 'n', 'neutral'), 'motionless': ('weaksubj', '1', 'adj', 'n', 'negative'), 'motivate': ('strongsubj', '1', 'verb', 'y', 'positive'), 'motivated': ('strongsubj', '1', 'adj', 'n', 'positive'), 'motivation': ('strongsubj', '1', 'noun', 'n', 'positive'), 'motive': ('weaksubj', '1', 'noun', 'n', 'neutral'), 'motley': ('strongsubj', '1', 'adj', 'n', 'negative'), 'mourn': ('strongsubj', '1', 'verb', 'y', 'negative'), 'mourner': ('strongsubj', '1', 'noun', 'n', 'negative'), 'mournful': ('strongsubj', '1', 'anypos', 'n', 'negative'), 'mournfully': ('strongsubj', '1', 'anypos', 'n', 'negative'), 'move': ('weaksubj', '1', 'verb', 'y', 'neutral'), 'moving': ('strongsubj', '1', 'adj', 'n', 'positive'), 'much': ('weaksubj', '1', 'anypos', 'y', 'neutral'), 'muddle': ('weaksubj', '1', 'verb', 'y', 'negative'), 'muddy': ('weaksubj', '1', 'adj', 'n', 'negative'), 'mudslinger': ('strongsubj', '1', 'noun', 'n', 'negative'), 'mudslinging': ('strongsubj', '1', 'noun', 'n', 'negative'), 'mulish': ('strongsubj', '1', 'adj', 'n', 'negative'), 'multi-polarization': ('strongsubj', '1', 'noun', 'n', 'negative'), 'mum': ('strongsubj', '1', 'adj', 'n', 'neutral'), 'mundane': ('strongsubj', '1', 'adj', 'n', 'negative'), 'murder': ('weaksubj', '1', 'verb', 'y', 'negative'), 'murderous': ('weaksubj', '1', 'adj', 'n', 'negative'), 'murderously': ('weaksubj', '1', 'adverb', 'n', 'negative'), 'murky': ('weaksubj', '1', 'adj', 'n', 'negative'), 'muscle-flexing': ('strongsubj', '1', 'anypos', 'n', 'negative'), 'must': ('strongsubj', '1', 'anypos', 'y', 'neutral'), 'myriad': ('weaksubj', '1', 'noun', 'n', 'positive'), 'mysterious': ('strongsubj', '1', 'adj', 'n', 'negative'), 'mysteriously': ('strongsubj', '1', 'adverb', 'n', 'negative'), 'mystery': ('strongsubj', '1', 'noun', 'n', 'negative'), 'mystify': ('weaksubj', '1', 'verb', 'y', 'negative'), 'mistified': ('weaksubj', '1', 'adj', 'n', 'negative'), 'myth': ('strongsubj', '1', 'noun', 'n', 'negative'), 'nag': ('strongsubj', '1', 'verb', 'y', 'negative'), 'nagging': ('strongsubj', '1', 'anypos', 'y', 'negative'), 'naive': ('strongsubj', '1', 'adj', 'n', 'negative'), 'naively': ('strongsubj', '1', 'adverb', 'n', 'negative'), 'nap': ('weaksubj', '1', 'noun', 'n', 'neutral'), 'narrow': ('weaksubj', '1', 'adj', 'n', 'negative'), 'narrower': ('strongsubj', '1', 'noun', 'n', 'negative'), 'nascent': ('weaksubj', '1', 'adj', 'n', 'neutral'), 'nastily': ('strongsubj', '1', 'anypos', 'n', 'negative'), 'nastiness': ('strongsubj', '1', 'noun', 'n', 'negative'), 'nasty': ('strongsubj', '1', 'adj', 'n', 'negative'), 'nationalism': ('strongsubj', '1', 'noun', 'n', 'negative'), 'natural': ('weaksubj', '1', 'adj', 'n', 'positive'), 'naturally': ('weaksubj', '1', 'adverb', 'n', 'positive'), 'nature': ('weaksubj', '1', 'noun', 'n', 'neutral'), 'naughty': ('strongsubj', '1', 'adj', 'n', 'negative'), 'nauseate': ('weaksubj', '1', 'verb', 'y', 'negative'), 'nauseating': ('strongsubj', '1', 'adj', 'n', 'negative'), 'nauseatingly': ('strongsubj', '1', 'adverb', 'n', 'negative'), 'navigable': ('weaksubj', '1', 'adj', 'n', 'positive'), 'neat': ('weaksubj', '1', 'adj', 'n', 'positive'), 'neatly': ('weaksubj', '1', 'adverb', 'n', 'positive'), 'nebulous': ('strongsubj', '1', 'noun', 'n', 'negative'), 'nebulously': ('strongsubj', '1', 'anypos', 'n', 'negative'), 'necessarily': ('weaksubj', '1', 'adj', 'n', 'positive'), 'necessary': ('weaksubj', '1', 'adj', 'n', 'positive'), 'need': ('strongsubj', '1', 'verb', 'y', 'neutral'), 'needful': ('strongsubj', '1', 'noun', 'n', 'neutral'), 'needfully': ('strongsubj', '1', 'anypos', 'y', 'neutral'), 'needless': ('weaksubj', '1', 'adj', 'n', 'negative'), 'needlessly': ('weaksubj', '1', 'adverb', 'n', 'negative'), 'needs': ('weaksubj', '1', 'noun', 'n', 'neutral'), 'needy': ('weaksubj', '1', 'adj', 'n', 'negative'), 'nefarious': ('strongsubj', '1', 'adj', 'n', 'negative'), 'nefariously': ('strongsubj', '1', 'anypos', 'n', 'negative'), 'negate': ('weaksubj', '1', 'verb', 'y', 'negative'), 'negation': ('weaksubj', '1', 'noun', 'n', 'negative'), 'negative': ('weaksubj', '1', 'adj', 'n', 'negative'), 'neglect': ('strongsubj', '1', 'verb', 'y', 'negative'), 'neglected': ('strongsubj', '1', 'adj', 'n', 'negative'), 'negligent': ('strongsubj', '1', 'adj', 'n', 'negative'), 'negligence': ('strongsubj', '1', 'noun', 'n', 'negative'), 'negligible': ('weaksubj', '1', 'adj', 'n', 'negative'), 'nemesis': ('strongsubj', '1', 'noun', 'n', 'negative'), 'nettle': ('weaksubj', '1', 'verb', 'y', 'negative'), 'nettlesome': ('strongsubj', '1', 'adj', 'n', 'negative'), 'nevertheless': ('strongsubj', '1', 'anypos', 'y', 'neutral'), 'nervous': ('strongsubj', '1', 'adj', 'n', 'negative'), 'nervously': ('strongsubj', '1', 'adverb', 'n', 'negative'), 'nervousness': ('strongsubj', '1', 'noun', 'n', 'negative'), 'neurotic': ('strongsubj', '1', 'adj', 'n', 'negative'), 'neurotically': ('strongsubj', '1', 'adverb', 'n', 'negative'), 'neutralize': ('weaksubj', '1', 'verb', 'y', 'positive'), 'nice': ('strongsubj', '1', 'adj', 'n', 'positive'), 'nicely': ('strongsubj', '1', 'anypos', 'y', 'positive'), 'nifty': ('strongsubj', '1', 'adj', 'n', 'positive'), 'niggle': ('weaksubj', '1', 'verb', 'y', 'negative'), 'nightmare': ('strongsubj', '1', 'noun', 'n', 'negative'), 'nightmarish': ('strongsubj', '1', 'adj', 'n', 'negative'), 'nightmarishly': ('strongsubj', '1', 'adverb', 'n', 'negative'), 'nimble': ('strongsubj', '1', 'adj', 'n', 'positive'), 'nix': ('strongsubj', '1', 'verb', 'y', 'negative'), 'noble': ('strongsubj', '1', 'adj', 'n', 'positive'), 'nobly': ('strongsubj', '1', 'adverb', 'n', 'positive'), 'noisy': ('weaksubj', '1', 'adj', 'n', 'negative'), 'non-confidence': ('strongsubj', '1', 'noun', 'n', 'negative'), 'non-violence': ('weaksubj', '1', 'noun', 'n', 'positive'), 'non-violent': ('weaksubj', '1', 'adj', 'n', 'positive'), 'nonexistent': ('weaksubj', '1', 'adj', 'n', 'negative'), 'nonsense': ('strongsubj', '1', 'anypos', 'n', 'negative'), 'nonviolent': ('weaksubj', '1', 'adj', 'n', 'neutral'), 'normal': ('weaksubj', '1', 'adj', 'n', 'positive'), 'nosey': ('strongsubj', '1', 'adj', 'n', 'negative'), 'notable': ('strongsubj', '1', 'noun', 'n', 'positive'), 'notably': ('strongsubj', '1', 'anypos', 'y', 'positive'), 'noteworthy': ('strongsubj', '1', 'noun', 'n', 'positive'), 'noticeable': ('weaksubj', '1', 'adj', 'n', 'positive'), 'notion': ('weaksubj', '1', 'noun', 'n', 'neutral'), 'notorious': ('strongsubj', '1', 'adj', 'n', 'negative'), 'notoriously': ('strongsubj', '1', 'adverb', 'n', 'negative'), 'novel': ('strongsubj', '1', 'adj', 'n', 'positive'), 'nourish': ('weaksubj', '1', 'verb', 'y', 'positive'), 'nourishing': ('weaksubj', '1', 'adj', 'n', 'positive'), 'nourishment': ('weaksubj', '1', 'noun', 'n', 'positive'), 'nuance': ('strongsubj', '1', 'noun', 'n', 'neutral'), 'nuances': ('strongsubj', '1', 'noun', 'n', 'neutral'), 'nuisance': ('strongsubj', '1', 'noun', 'n', 'negative'), 'numb': ('weaksubj', '1', 'verb', 'y', 'negative'), 'nurture': ('strongsubj', '1', 'verb', 'y', 'positive'), 'nurturing': ('strongsubj', '1', 'noun', 'n', 'positive'), 'oasis': ('strongsubj', '1', 'noun', 'n', 'positive'), 'obedience': ('strongsubj', '1', 'noun', 'n', 'positive'), 'obedient': ('strongsubj', '1', 'adj', 'n', 'positive'), 'obediently': ('strongsubj', '1', 'adverb', 'n', 'positive'), 'obey': ('strongsubj', '1', 'verb', 'y', 'positive'), 'obese': ('strongsubj', '1', 'noun', 'n', 'negative'), 'object': ('strongsubj', '1', 'verb', 'y', 'negative'), 'objection': ('strongsubj', '1', 'noun', 'n', 'negative'), 'objectionable': ('strongsubj', '1', 'adj', 'n', 'negative'), 'objections': ('strongsubj', '1', 'noun', 'n', 'negative'), 'objective': ('weaksubj', '1', 'adj', 'n', 'positive'), 'objectively': ('weaksubj', '1', 'adverb', 'n', 'positive'), 'obligation': ('weaksubj', '1', 'noun', 'n', 'neutral'), 'obliged': ('strongsubj', '1', 'anypos', 'y', 'positive'), 'oblique': ('weaksubj', '1', 'adj', 'n', 'negative'), 'obliterate': ('strongsubj', '1', 'verb', 'y', 'negative'), 'obliterated': ('strongsubj', '1', 'adj', 'n', 'negative'), 'oblivious': ('strongsubj', '1', 'noun', 'n', 'negative'), 'obnoxious': ('strongsubj', '1', 'adj', 'n', 'negative'), 'obnoxiously': ('strongsubj', '1', 'anypos', 'n', 'negative'), 'obscene': ('strongsubj', '1', 'adj', 'n', 'negative'), 'obscenely': ('strongsubj', '1', 'anypos', 'n', 'negative'), 'obscenity': ('strongsubj', '1', 'noun', 'n', 'negative'), 'obscure': ('strongsubj', '1', 'verb', 'y', 'negative'), 'obscurity': ('strongsubj', '1', 'anypos', 'y', 'negative'), 'obsess': ('strongsubj', '1', 'verb', 'y', 'negative'), 'obsession': ('strongsubj', '1', 'noun', 'n', 'negative'), 'obsessions': ('strongsubj', '1', 'noun', 'n', 'negative'), 'obsessive': ('strongsubj', '1', 'adj', 'n', 'negative'), 'obsessively': ('strongsubj', '1', 'anypos', 'n', 'negative'), 'obsessiveness': ('strongsubj', '1', 'noun', 'n', 'negative'), 'obsolete': ('weaksubj', '1', 'adj', 'n', 'negative'), 'obstacle': ('strongsubj', '1', 'noun', 'n', 'negative'), 'obstinate': ('strongsubj', '1', 'adj', 'n', 'negative'), 'obstinately': ('strongsubj', '1', 'anypos', 'n', 'negative'), 'obstruct': ('weaksubj', '1', 'verb', 'y', 'negative'), 'obstruction': ('weaksubj', '1', 'noun', 'n', 'negative'), 'obtrusive': ('strongsubj', '1', 'adj', 'n', 'negative'), 'obtuse': ('strongsubj', '1', 'adj', 'n', 'negative'), 'obviate': ('strongsubj', '1', 'verb', 'y', 'positive'), 'obvious': ('weaksubj', '1', 'noun', 'n', 'neutral'), 'obviously': ('strongsubj', '1', 'anypos', 'n', 'negative'), 'odd': ('weaksubj', '1', 'anypos', 'y', 'negative'), 'odder': ('strongsubj', '1', 'anypos', 'y', 'negative'), 'oddest': ('strongsubj', '1', 'anypos', 'y', 'negative'), 'oddities': ('strongsubj', '1', 'noun', 'n', 'negative'), 'oddity': ('strongsubj', '1', 'noun', 'n', 'negative'), 'oddly': ('strongsubj', '1', 'anypos', 'n', 'negative'), 'offbeat': ('strongsubj', '1', 'adj', 'n', 'positive'), 'offence': ('weaksubj', '1', 'noun', 'n', 'negative'), 'offend': ('strongsubj', '1', 'verb', 'y', 'negative'), 'offending': ('strongsubj', '1', 'anypos', 'n', 'negative'), 'offenses': ('strongsubj', '1', 'noun', 'n', 'negative'), 'offensive': ('weaksubj', '1', 'noun', 'n', 'negative'), 'offensively': ('strongsubj', '1', 'anypos', 'n', 'negative'), 'offensiveness': ('strongsubj', '1', 'noun', 'n', 'negative'), 'officious': ('strongsubj', '1', 'adj', 'n', 'negative'), 'offset': ('weaksubj', '1', 'verb', 'y', 'positive'), 'oh': ('strongsubj', '1', 'anypos', 'y', 'neutral'), 'okay': ('strongsubj', '1', 'anypos', 'y', 'positive'), 'olympic': ('weaksubj', '1', 'adj', 'n', 'neutral'), 'ominous': ('strongsubj', '1', 'adj', 'n', 'negative'), 'ominously': ('strongsubj', '1', 'anypos', 'n', 'negative'), 'omission': ('weaksubj', '1', 'noun', 'n', 'negative'), 'omit': ('weaksubj', '1', 'verb', 'y', 'negative'), 'one-side': ('strongsubj', '1', 'adj', 'n', 'negative'), 'one-sided': ('strongsubj', '1', 'anypos', 'n', 'negative'), 'onerous': ('strongsubj', '1', 'adj', 'n', 'negative'), 'onerously': ('strongsubj', '1', 'anypos', 'n', 'negative'), 'onslaught': ('weaksubj', '1', 'noun', 'n', 'negative'), 'onward': ('weaksubj', '1', 'noun', 'n', 'positive'), 'open': ('weaksubj', '1', 'adj', 'n', 'positive'), 'openly': ('weaksubj', '1', 'adj', 'n', 'positive'), 'open-ended': ('weaksubj', '1', 'adj', 'n', 'neutral'), 'openness': ('weaksubj', '1', 'noun', 'n', 'positive'), 'opinion': ('strongsubj', '1', 'noun', 'n', 'neutral'), 'opinionated': ('strongsubj', '1', 'adj', 'n', 'negative'), 'opinions': ('strongsubj', '1', 'noun', 'n', 'neutral'), 'opponent': ('strongsubj', '1', 'noun', 'n', 'negative'), 'opportune': ('strongsubj', '1', 'adj', 'n', 'positive'), 'opportunity': ('strongsubj', '1', 'noun', 'n', 'positive'), 'opportunistic': ('weaksubj', '1', 'adj', 'n', 'negative'), 'oppose': ('strongsubj', '1', 'verb', 'y', 'negative'), 'opposition': ('strongsubj', '1', 'noun', 'n', 'negative'), 'oppositions': ('strongsubj', '1', 'noun', 'n', 'negative'), 'oppress': ('strongsubj', '1', 'verb', 'y', 'negative'), 'oppression': ('strongsubj', '1', 'noun', 'n', 'negative'), 'oppressive': ('strongsubj', '1', 'adj', 'n', 'negative'), 'oppressively': ('strongsubj', '1', 'anypos', 'n', 'negative'), 'oppressiveness': ('strongsubj', '1', 'noun', 'n', 'negative'), 'oppressors': ('strongsubj', '1', 'noun', 'n', 'negative'), 'optimal': ('strongsubj', '1', 'adj', 'n', 'positive'), 'optimism': ('strongsubj', '1', 'noun', 'n', 'positive'), 'optimistic': ('weaksubj', '1', 'adj', 'n', 'positive'), 'opulent': ('strongsubj', '1', 'adj', 'n', 'positive'), 'ordeal': ('strongsubj', '1', 'noun', 'n', 'negative'), 'orderly': ('weaksubj', '1', 'adj', 'n', 'positive'), 'original': ('weaksubj', '1', 'adj', 'n', 'positive'), 'originality': ('weaksubj', '1', 'noun', 'n', 'positive'), 'orphan': ('weaksubj', '1', 'noun', 'n', 'negative'), 'orthodoxy': ('strongsubj', '1', 'noun', 'n', 'neutral'), 'ostracize': ('strongsubj', '1', 'verb', 'y', 'negative'), 'ought': ('strongsubj', '1', 'anypos', 'y', 'neutral'), 'outbreak': ('weaksubj', '1', 'noun', 'n', 'negative'), 'outburst': ('strongsubj', '1', 'noun', 'n', 'negative'), 'outbursts': ('strongsubj', '1', 'noun', 'n', 'negative'), 'outcast': ('strongsubj', '1', 'noun', 'n', 'negative'), 'outcry': ('strongsubj', '1', 'noun', 'n', 'negative'), 'outdated': ('weaksubj', '1', 'adj', 'n', 'negative'), 'outdo': ('strongsubj', '1', 'verb', 'y', 'positive'), 'outgoing': ('weaksubj', '1', 'adj', 'n', 'positive'), 'outlaw': ('strongsubj', '1', 'noun', 'n', 'negative'), 'outlook': ('weaksubj', '1', 'noun', 'n', 'neutral'), 'outmoded': ('weaksubj', '1', 'adj', 'n', 'negative'), 'outrage': ('strongsubj', '1', 'verb', 'y', 'negative'), 'outraged': ('strongsubj', '1', 'adj', 'n', 'negative'), 'outrageous': ('strongsubj', '1', 'anypos', 'y', 'negative'), 'outrageously': ('strongsubj', '1', 'anypos', 'n', 'negative'), 'outrageousness': ('strongsubj', '1', 'noun', 'n', 'negative'), 'outrages': ('strongsubj', '1', 'noun', 'n', 'negative'), 'outright': ('strongsubj', '1', 'adj', 'n', 'neutral'), 'outshine': ('strongsubj', '1', 'verb', 'y', 'positive'), 'outsider': ('weaksubj', '1', 'noun', 'n', 'negative'), 'outsmart': ('strongsubj', '1', 'verb', 'y', 'positive'), 'outspoken': ('weaksubj', '1', 'noun', 'n', 'neutral'), 'outstanding': ('strongsubj', '1', 'adj', 'n', 'positive'), 'outstandingly': ('strongsubj', '1', 'anypos', 'n', 'positive'), 'outstrip': ('strongsubj', '1', 'verb', 'y', 'positive'), 'outwit': ('strongsubj', '1', 'verb', 'y', 'positive'), 'ovation': ('strongsubj', '1', 'noun', 'n', 'positive'), 'over-acted': ('strongsubj', '1', 'anypos', 'n', 'negative'), 'over-valuation': ('weaksubj', '1', 'noun', 'n', 'negative'), 'overachiever': ('strongsubj', '1', 'noun', 'n', 'positive'), 'overact': ('strongsubj', '1', 'verb', 'y', 'negative'), 'overacted': ('strongsubj', '1', 'anypos', 'n', 'negative'), 'overawe': ('weaksubj', '1', 'verb', 'y', 'negative'), 'overbalance': ('weaksubj', '1', 'verb', 'y', 'negative'), 'overbalanced': ('weaksubj', '1', 'adj', 'n', 'negative'), 'overbearing': ('strongsubj', '1', 'adj', 'n', 'negative'), 'overbearingly': ('strongsubj', '1', 'adverb', 'n', 'negative'), 'overblown': ('strongsubj', '1', 'adj', 'n', 'negative'), 'overcome': ('strongsubj', '1', 'verb', 'y', 'negative'), 'overdo': ('strongsubj', '1', 'verb', 'y', 'negative'), 'overdone': ('strongsubj', '1', 'anypos', 'n', 'negative'), 'overdue': ('strongsubj', '1', 'adj', 'n', 'negative'), 'overemphasize': ('strongsubj', '1', 'verb', 'y', 'negative'), 'overjoyed': ('strongsubj', '1', 'adj', 'n', 'positive'), 'overkill': ('strongsubj', '1', 'noun', 'n', 'negative'), 'overlook': ('strongsubj', '1', 'verb', 'y', 'negative'), 'overplay': ('strongsubj', '1', 'verb', 'y', 'negative'), 'overpower': ('weaksubj', '1', 'verb', 'y', 'negative'), 'overreach': ('weaksubj', '1', 'verb', 'y', 'negative'), 'overrun': ('weaksubj', '1', 'verb', 'y', 'negative'), 'overshadow': ('weaksubj', '1', 'verb', 'y', 'negative'), 'oversight': ('weaksubj', '1', 'noun', 'n', 'negative'), 'oversimplification': ('weaksubj', '1', 'noun', 'n', 'negative'), 'oversimplified': ('weaksubj', '1', 'adj', 'n', 'negative'), 'oversimplify': ('weaksubj', '1', 'verb', 'y', 'negative'), 'oversized': ('weaksubj', '1', 'adj', 'n', 'negative'), 'overstate': ('strongsubj', '1', 'anypos', 'y', 'negative'), 'overstatement': ('strongsubj', '1', 'noun', 'n', 'negative'), 'overstatements': ('strongsubj', '1', 'anypos', 'n', 'negative'), 'overt': ('weaksubj', '1', 'adj', 'n', 'neutral'), 'overtaxed': ('weaksubj', '1', 'adj', 'n', 'negative'), 'overthrow': ('weaksubj', '1', 'verb', 'y', 'negative'), 'overturn': ('weaksubj', '1', 'verb', 'y', 'negative'), 'overture': ('strongsubj', '1', 'noun', 'n', 'positive'), 'overtures': ('weaksubj', '1', 'noun', 'n', 'neutral'), 'overwhelm': ('weaksubj', '1', 'verb', 'y', 'negative'), 'overwhelming': ('strongsubj', '1', 'adj', 'n', 'negative'), 'overwhelmingly': ('strongsubj', '1', 'anypos', 'n', 'negative'), 'overworked': ('strongsubj', '1', 'adj', 'n', 'negative'), 'overzealous': ('strongsubj', '1', 'adj', 'n', 'negative'), 'overzealously': ('strongsubj', '1', 'adverb', 'n', 'negative'), 'pacifist': ('strongsubj', '1', 'noun', 'n', 'positive'), 'pacifists': ('strongsubj', '1', 'noun', 'n', 'positive'), 'pacify': ('weaksubj', '1', 'verb', 'y', 'neutral'), 'pain': ('weaksubj', '1', 'verb', 'y', 'negative'), 'painful': ('weaksubj', '1', 'adj', 'n', 'negative'), 'painfully': ('weaksubj', '1', 'adverb', 'n', 'negative'), 'painless': ('weaksubj', '1', 'adj', 'n', 'positive'), 'painlessly': ('weaksubj', '1', 'adverb', 'n', 'positive'), 'pains': ('strongsubj', '1', 'noun', 'n', 'negative'), 'painstaking': ('strongsubj', '1', 'adj', 'n', 'positive'), 'painstakingly': ('strongsubj', '1', 'adverb', 'n', 'positive'), 'palatable': ('strongsubj', '1', 'adj', 'n', 'positive'), 'palatial': ('strongsubj', '1', 'adj', 'n', 'positive'), 'pale': ('weaksubj', '1', 'noun', 'n', 'negative'), 'palliate': ('strongsubj', '1', 'verb', 'y', 'positive'), 'paltry': ('strongsubj', '1', 'adj', 'n', 'negative'), 'pamper': ('weaksubj', '1', 'verb', 'y', 'positive'), 'pan': ('weaksubj', '1', 'verb', 'y', 'negative'), 'pandemonium': ('strongsubj', '1', 'noun', 'n', 'negative'), 'panic': ('strongsubj', '1', 'verb', 'y', 'negative'), 'panicky': ('strongsubj', '1', 'adj', 'n', 'negative'), 'paradise': ('strongsubj', '1', 'noun', 'n', 'positive'), 'paradoxical': ('strongsubj', '1', 'adj', 'n', 'negative'), 'paradoxically': ('strongsubj', '1', 'adverb', 'n', 'negative'), 'paralize': ('weaksubj', '1', 'verb', 'n', 'negative'), 'paralyzed': ('weaksubj', '1', 'adj', 'n', 'negative'), 'paramount': ('strongsubj', '1', 'adj', 'n', 'positive'), 'paranoia': ('strongsubj', '1', 'noun', 'n', 'negative'), 'paranoid': ('strongsubj', '1', 'adj', 'n', 'negative'), 'parasite': ('weaksubj', '1', 'noun', 'n', 'negative'), 'pardon': ('strongsubj', '1', 'verb', 'y', 'positive'), 'pariah': ('strongsubj', '1', 'noun', 'n', 'negative'), 'parody': ('strongsubj', '1', 'verb', 'y', 'negative'), 'partiality': ('strongsubj', '1', 'noun', 'n', 'negative'), 'particular': ('weaksubj', '1', 'adj', 'n', 'neutral'), 'particularly': ('weaksubj', '1', 'adverb', 'n', 'neutral'), 'partisan': ('strongsubj', '1', 'noun', 'n', 'negative'), 'partisans': ('strongsubj', '1', 'noun', 'n', 'negative'), 'passe': ('strongsubj', '1', 'adj', 'n', 'negative'), 'passion': ('strongsubj', '1', 'noun', 'n', 'positive'), 'passionate': ('strongsubj', '1', 'adj', 'n', 'positive'), 'passionately': ('strongsubj', '1', 'anypos', 'n', 'positive'), 'passive': ('strongsubj', '1', 'noun', 'n', 'negative'), 'passiveness': ('strongsubj', '1', 'noun', 'n', 'negative'), 'pathetic': ('strongsubj', '1', 'adj', 'n', 'negative'), 'pathetically': ('strongsubj', '1', 'anypos', 'n', 'negative'), 'patience': ('strongsubj', '1', 'noun', 'n', 'positive'), 'patient': ('weaksubj', '1', 'noun', 'n', 'positive'), 'patiently': ('strongsubj', '1', 'adverb', 'n', 'positive'), 'patriot': ('strongsubj', '1', 'noun', 'n', 'positive'), 'patriotic': ('strongsubj', '1', 'adj', 'n', 'positive'), 'patronize': ('strongsubj', '1', 'verb', 'y', 'negative'), 'paucity': ('strongsubj', '1', 'noun', 'n', 'negative'), 'pauper': ('strongsubj', '1', 'noun', 'n', 'negative'), 'paupers': ('strongsubj', '1', 'noun', 'n', 'negative'), 'payback': ('strongsubj', '1', 'noun', 'n', 'negative'), 'peace': ('weaksubj', '1', 'noun', 'n', 'positive'), 'peaceable': ('strongsubj', '1', 'adj', 'n', 'positive'), 'peaceful': ('weaksubj', '1', 'noun', 'n', 'positive'), 'peacefully': ('weaksubj', '1', 'adverb', 'n', 'positive'), 'peacekeepers': ('weaksubj', '1', 'noun', 'n', 'positive'), 'peculiar': ('strongsubj', '1', 'anypos', 'n', 'negative'), 'peculiarly': ('strongsubj', '1', 'anypos', 'y', 'negative'), 'pedantic': ('strongsubj', '1', 'adj', 'n', 'negative'), 'pedestrian': ('weaksubj', '1', 'adj', 'n', 'negative'), 'peerless': ('strongsubj', '1', 'adj', 'n', 'positive'), 'peeve': ('strongsubj', '1', 'verb', 'y', 'negative'), 'peeved': ('strongsubj', '1', 'adj', 'n', 'negative'), 'peevish': ('strongsubj', '1', 'adj', 'n', 'negative'), 'peevishly': ('strongsubj', '1', 'adverb', 'n', 'negative'), 'penalize': ('strongsubj', '1', 'verb', 'y', 'negative'), 'penalty': ('weaksubj', '1', 'noun', 'n', 'negative'), 'penetrating': ('strongsubj', '1', 'adj', 'n', 'positive'), 'penitent': ('strongsubj', '1', 'adj', 'n', 'positive'), 'perceptions': ('strongsubj', '1', 'noun', 'n', 'neutral'), 'perceptive': ('strongsubj', '1', 'adj', 'n', 'positive'), 'perfect': ('strongsubj', '1', 'verb', 'y', 'positive'), 'perfection': ('strongsubj', '1', 'noun', 'n', 'positive'), 'perfectly': ('strongsubj', '1', 'anypos', 'n', 'positive'), 'perfidious': ('strongsubj', '1', 'adj', 'n', 'negative'), 'perfidity': ('strongsubj', '1', 'noun', 'n', 'negative'), 'perfunctory': ('strongsubj', '1', 'noun', 'n', 'negative'), 'perhaps': ('strongsubj', '1', 'anypos', 'y', 'neutral'), 'peril': ('strongsubj', '1', 'noun', 'n', 'negative'), 'perilous': ('weaksubj', '1', 'adj', 'n', 'negative'), 'perilously': ('weaksubj', '1', 'adverb', 'n', 'negative'), 'peripheral': ('weaksubj', '1', 'adj', 'n', 'negative'), 'perish': ('strongsubj', '1', 'verb', 'y', 'negative'), 'permissible': ('weaksubj', '1', 'adj', 'n', 'positive'), 'pernicious': ('strongsubj', '1', 'adj', 'n', 'negative'), 'perplex': ('strongsubj', '1', 'verb', 'y', 'negative'), 'perplexed': ('strongsubj', '1', 'adj', 'n', 'negative'), 'perplexing': ('strongsubj', '1', 'anypos', 'n', 'negative'), 'perplexity': ('strongsubj', '1', 'noun', 'n', 'negative'), 'persecute': ('strongsubj', '1', 'verb', 'y', 'negative'), 'persecution': ('strongsubj', '1', 'noun', 'n', 'negative'), 'perseverance': ('strongsubj', '1', 'noun', 'n', 'positive'), 'persevere': ('strongsubj', '1', 'verb', 'y', 'positive'), 'persistence': ('weaksubj', '1', 'noun', 'n', 'neutral'), 'persistent': ('weaksubj', '1', 'noun', 'n', 'positive'), 'personages': ('weaksubj', '1', 'noun', 'n', 'positive'), 'personality': ('strongsubj', '1', 'noun', 'n', 'positive'), 'perspective': ('weaksubj', '1', 'noun', 'n', 'neutral'), 'perspicuous': ('strongsubj', '1', 'adj', 'n', 'positive'), 'perspicuously': ('strongsubj', '1', 'adverb', 'n', 'positive'), 'persuade': ('strongsubj', '1', 'verb', 'y', 'positive'), 'persuasive': ('strongsubj', '1', 'noun', 'n', 'positive'), 'persuasively': ('strongsubj', '1', 'adverb', 'n', 'positive'), 'pertinacious': ('strongsubj', '1', 'adj', 'n', 'negative'), 'pertinaciously': ('strongsubj', '1', 'adverb', 'n', 'negative'), 'pertinacity': ('strongsubj', '1', 'noun', 'n', 'negative'), 'pertinent': ('weaksubj', '1', 'adj', 'n', 'positive'), 'perturb': ('strongsubj', '1', 'verb', 'y', 'negative'), 'perturbed': ('strongsubj', '1', 'adj', 'n', 'negative'), 'pervasive': ('strongsubj', '1', 'noun', 'n', 'negative'), 'perverse': ('strongsubj', '1', 'adj', 'n', 'negative'), 'perversely': ('strongsubj', '1', 'anypos', 'n', 'negative'), 'perversion': ('strongsubj', '1', 'noun', 'n', 'negative'), 'perversity': ('strongsubj', '1', 'noun', 'n', 'negative'), 'pervert': ('strongsubj', '1', 'verb', 'y', 'negative'), 'perverted': ('strongsubj', '1', 'anypos', 'n', 'negative'), 'pessimism': ('strongsubj', '1', 'noun', 'n', 'negative'), 'pessimistic': ('strongsubj', '1', 'adj', 'n', 'negative'), 'pessimistically': ('strongsubj', '1', 'anypos', 'n', 'negative'), 'pest': ('strongsubj', '1', 'noun', 'n', 'negative'), 'pestilent': ('strongsubj', '1', 'adj', 'n', 'negative'), 'petrify': ('strongsubj', '1', 'verb', 'y', 'negative'), 'petrified': ('strongsubj', '1', 'adj', 'n', 'negative'), 'pettifog': ('strongsubj', '1', 'verb', 'y', 'negative'), 'petty': ('strongsubj', '1', 'adj', 'n', 'negative'), 'phenomenal': ('strongsubj', '1', 'adj', 'n', 'positive'), 'phenomenally': ('strongsubj', '1', 'anypos', 'n', 'positive'), 'philosophize': ('strongsubj', '1', 'verb', 'y', 'neutral'), 'phobia': ('strongsubj', '1', 'noun', 'n', 'negative'), 'phobic': ('strongsubj', '1', 'adj', 'n', 'negative'), 'phony': ('strongsubj', '1', 'adj', 'n', 'negative'), 'picky': ('strongsubj', '1', 'adj', 'n', 'negative'), 'picturesque': ('strongsubj', '1', 'adj', 'n', 'positive'), 'piety': ('weaksubj', '1', 'noun', 'n', 'positive'), 'pillage': ('strongsubj', '1', 'verb', 'n', 'negative'), 'pillar': ('strongsubj', '1', 'noun', 'n', 'positive'), 'pillory': ('strongsubj', '1', 'verb', 'y', 'negative'), 'pinch': ('weaksubj', '1', 'verb', 'y', 'negative'), 'pine': ('strongsubj', '1', 'verb', 'y', 'negative'), 'pinnacle': ('strongsubj', '1', 'noun', 'n', 'positive'), 'pious': ('strongsubj', '1', 'adj', 'n', 'positive'), 'pique': ('weaksubj', '1', 'verb', 'y', 'negative'), 'pithy': ('strongsubj', '1', 'noun', 'n', 'positive'), 'pitiable': ('strongsubj', '1', 'adj', 'n', 'negative'), 'pitiful': ('strongsubj', '1', 'adj', 'n', 'negative'), 'pitifully': ('strongsubj', '1', 'adj', 'n', 'negative'), 'pitiless': ('strongsubj', '1', 'adj', 'n', 'negative'), 'pitilessly': ('strongsubj', '1', 'adverb', 'n', 'negative'), 'pittance': ('strongsubj', '1', 'noun', 'n', 'negative'), 'pity': ('strongsubj', '1', 'verb', 'y', 'negative'), 'pivotal': ('weaksubj', '1', 'adj', 'n', 'neutral'), 'placate': ('strongsubj', '1', 'verb', 'y', 'positive'), 'placid': ('weaksubj', '1', 'adj', 'n', 'positive'), 'plagiarize': ('strongsubj', '1', 'verb', 'y', 'negative'), 'plague': ('weaksubj', '1', 'verb', 'y', 'negative'), 'plain': ('weaksubj', '1', 'adj', 'n', 'positive'), 'plainly': ('strongsubj', '1', 'anypos', 'y', 'positive'), 'plausibility': ('strongsubj', '1', 'noun', 'n', 'positive'), 'plausible': ('strongsubj', '1', 'adj', 'n', 'positive'), 'player': ('weaksubj', '1', 'noun', 'n', 'neutral'), 'playful': ('strongsubj', '1', 'adj', 'n', 'positive'), 'playfully': ('strongsubj', '1', 'adverb', 'n', 'positive'), 'plaything': ('strongsubj', '1', 'noun', 'n', 'negative'), 'plead': ('strongsubj', '1', 'verb', 'y', 'both'), 'pleading': ('strongsubj', '1', 'adj', 'n', 'both'), 'pleadingly': ('strongsubj', '1', 'anypos', 'n', 'both'), 'plea': ('weaksubj', '1', 'noun', 'n', 'negative'), 'pleas': ('strongsubj', '1', 'noun', 'n', 'negative'), 'pleasant': ('weaksubj', '1', 'adj', 'n', 'positive'), 'pleasantly': ('weaksubj', '1', 'adj', 'n', 'positive'), 'please': ('strongsubj', '1', 'verb', 'y', 'positive'), 'pleased': ('strongsubj', '1', 'adj', 'n', 'positive'), 'pleasing': ('strongsubj', '1', 'anypos', 'n', 'positive'), 'pleasingly': ('strongsubj', '1', 'anypos', 'y', 'positive'), 'pleasurable': ('strongsubj', '1', 'anypos', 'y', 'positive'), 'pleasurably': ('strongsubj', '1', 'anypos', 'y', 'positive'), 'pleasure': ('strongsubj', '1', 'noun', 'n', 'positive'), 'plebeian': ('strongsubj', '1', 'adj', 'n', 'negative'), 'pledge': ('strongsubj', '1', 'verb', 'y', 'positive'), 'pledges': ('strongsubj', '1', 'noun', 'n', 'positive'), 'plenary': ('weaksubj', '1', 'adj', 'n', 'neutral'), 'plentiful': ('weaksubj', '1', 'adj', 'n', 'positive'), 'plenty': ('strongsubj', '1', 'anypos', 'y', 'positive'), 'plight': ('strongsubj', '1', 'noun', 'n', 'negative'), 'plot': ('strongsubj', '1', 'verb', 'y', 'negative'), 'plotters': ('strongsubj', '1', 'noun', 'n', 'negative'), 'ploy': ('strongsubj', '1', 'noun', 'n', 'negative'), 'plunder': ('strongsubj', '1', 'verb', 'y', 'negative'), 'plunderer': ('strongsubj', '1', 'anypos', 'n', 'negative'), 'plush': ('strongsubj', '1', 'adj', 'n', 'positive'), 'poetic': ('strongsubj', '1', 'adj', 'n', 'positive'), 'poeticize': ('strongsubj', '1', 'verb', 'y', 'positive'), 'poignant': ('strongsubj', '1', 'adj', 'n', 'positive'), 'point': ('weaksubj', '1', 'noun', 'n', 'neutral'), 'pointless': ('weaksubj', '1', 'adj', 'n', 'negative'), 'pointlessly': ('weaksubj', '1', 'adverb', 'n', 'negative'), 'poise': ('strongsubj', '1', 'noun', 'n', 'positive'), 'poised': ('strongsubj', '1', 'adj', 'n', 'positive'), 'poison': ('strongsubj', '1', 'noun', 'n', 'negative'), 'poisonous': ('weaksubj', '1', 'adj', 'n', 'negative'), 'poisonously': ('weaksubj', '1', 'adj', 'n', 'negative'), 'polarisation': ('strongsubj', '1', 'noun', 'n', 'negative'), 'polemize': ('strongsubj', '1', 'verb', 'y', 'negative'), 'polished': ('weaksubj', '1', 'adj', 'n', 'positive'), 'polite': ('weaksubj', '1', 'adj', 'n', 'positive'), 'politeness': ('weaksubj', '1', 'noun', 'n', 'positive'), 'pollute': ('weaksubj', '1', 'verb', 'y', 'negative'), 'polluter': ('strongsubj', '1', 'noun', 'n', 'negative'), 'polluters': ('strongsubj', '1', 'noun', 'n', 'negative'), 'polution': ('weaksubj', '1', 'noun', 'n', 'negative'), 'pompous': ('strongsubj', '1', 'adj', 'n', 'negative'), 'ponder': ('strongsubj', '1', 'verb', 'y', 'neutral'), 'poor': ('weaksubj', '1', 'adj', 'n', 'negative'), 'poorly': ('strongsubj', '1', 'adverb', 'n', 'negative'), 'popular': ('weaksubj', '1', 'noun', 'n', 'positive'), 'popularity': ('weaksubj', '1', 'noun', 'n', 'positive'), 'portable': ('weaksubj', '1', 'adj', 'n', 'positive'), 'posh': ('strongsubj', '1', 'adj', 'n', 'positive'), 'position': ('weaksubj', '1', 'noun', 'n', 'neutral'), 'positive': ('weaksubj', '1', 'adj', 'n', 'positive'), 'positiveness': ('strongsubj', '1', 'noun', 'n', 'positive'), 'positively': ('strongsubj', '1', 'adverb', 'n', 'positive'), 'possibility': ('weaksubj', '1', 'noun', 'n', 'neutral'), 'possible': ('weaksubj', '1', 'anypos', 'y', 'neutral'), 'possibly': ('weaksubj', '1', 'anypos', 'y', 'neutral'), 'posterity': ('weaksubj', '1', 'noun', 'n', 'positive'), 'posture': ('weaksubj', '1', 'noun', 'n', 'neutral'), 'posturing': ('strongsubj', '1', 'noun', 'n', 'negative'), 'potent': ('strongsubj', '1', 'adj', 'n', 'positive'), 'potential': ('weaksubj', '1', 'noun', 'n', 'positive'), 'pout': ('strongsubj', '1', 'verb', 'y', 'negative'), 'poverty': ('strongsubj', '1', 'noun', 'n', 'negative'), 'power': ('weaksubj', '1', 'noun', 'n', 'neutral'), 'powerful': ('weaksubj', '1', 'adj', 'n', 'positive'), 'powerfully': ('weaksubj', '1', 'adverb', 'n', 'positive'), 'powerless': ('weaksubj', '1', 'adj', 'n', 'negative'), 'practicable': ('weaksubj', '1', 'adj', 'n', 'positive'), 'practical': ('weaksubj', '1', 'adj', 'n', 'positive'), 'practically': ('weaksubj', '1', 'anypos', 'n', 'neutral'), 'pragmatic': ('strongsubj', '1', 'adj', 'n', 'positive'), 'praise': ('strongsubj', '1', 'verb', 'y', 'positive'), 'praiseworthy': ('strongsubj', '1', 'adj', 'n', 'positive'), 'praising': ('strongsubj', '1', 'noun', 'n', 'positive'), 'prate': ('strongsubj', '1', 'verb', 'y', 'negative'), 'pratfall': ('strongsubj', '1', 'noun', 'n', 'negative'), 'prattle': ('strongsubj', '1', 'verb', 'y', 'negative'), 'pray': ('strongsubj', '1', 'verb', 'y', 'neutral'), 'pre-eminent': ('weaksubj', '1', 'adj', 'n', 'positive'), 'preach': ('strongsubj', '1', 'verb', 'y', 'positive'), 'preaching': ('strongsubj', '1', 'noun', 'n', 'positive'), 'precarious': ('weaksubj', '1', 'adj', 'n', 'negative'), 'precariously': ('weaksubj', '1', 'adverb', 'n', 'negative'), 'precaution': ('strongsubj', '1', 'noun', 'n', 'positive'), 'precautions': ('strongsubj', '1', 'noun', 'n', 'positive'), 'precedent': ('weaksubj', '1', 'noun', 'n', 'positive'), 'precious': ('strongsubj', '1', 'noun', 'n', 'positive'), 'precipitate': ('strongsubj', '1', 'verb', 'y', 'negative'), 'precipitous': ('strongsubj', '1', 'adj', 'n', 'negative'), 'precise': ('weaksubj', '1', 'adj', 'n', 'positive'), 'precisely': ('weaksubj', '1', 'adverb', 'n', 'positive'), 'precision': ('weaksubj', '1', 'noun', 'n', 'positive'), 'predatory': ('weaksubj', '1', 'adj', 'n', 'negative'), 'predicament': ('strongsubj', '1', 'noun', 'n', 'negative'), 'predictable': ('weaksubj', '1', 'adj', 'n', 'neutral'), 'predictablely': ('weaksubj', '1', 'adverb', 'n', 'neutral'), 'predominant': ('weaksubj', '1', 'adj', 'n', 'neutral'), 'preeminent': ('weaksubj', '1', 'adj', 'n', 'positive'), 'preemptive': ('weaksubj', '1', 'adj', 'n', 'positive'), 'prefer': ('strongsubj', '1', 'verb', 'y', 'positive'), 'preferable': ('strongsubj', '1', 'anypos', 'y', 'positive'), 'preferably': ('strongsubj', '1', 'anypos', 'y', 'positive'), 'preference': ('strongsubj', '1', 'noun', 'n', 'positive'), 'preferences': ('strongsubj', '1', 'noun', 'n', 'positive'), 'prejudge': ('strongsubj', '1', 'verb', 'y', 'negative'), 'prejudice': ('strongsubj', '1', 'noun', 'n', 'negative'), 'prejudicial': ('strongsubj', '1', 'adj', 'n', 'negative'), 'premeditated': ('strongsubj', '1', 'adj', 'n', 'negative'), 'premier': ('weaksubj', '1', 'adj', 'n', 'positive'), 'premium': ('weaksubj', '1', 'adj', 'n', 'positive'), 'preoccupy': ('weaksubj', '1', 'verb', 'y', 'negative'), 'prepared': ('weaksubj', '1', 'adj', 'n', 'positive'), 'preponderance': ('strongsubj', '1', 'noun', 'n', 'positive'), 'preposterous': ('strongsubj', '1', 'adj', 'n', 'negative'), 'preposterously': ('strongsubj', '1', 'anypos', 'n', 'negative'), 'press': ('weaksubj', '1', 'verb', 'y', 'positive'), 'pressing': ('strongsubj', '1', 'noun', 'n', 'negative'), 'pressure': ('weaksubj', '1', 'noun', 'n', 'neutral'), 'pressures': ('weaksubj', '1', 'noun', 'n', 'neutral'), 'prestige': ('strongsubj', '1', 'noun', 'n', 'positive'), 'prestigious': ('weaksubj', '1', 'adj', 'n', 'positive'), 'presumably': ('strongsubj', '1', 'anypos', 'y', 'neutral'), 'presume': ('strongsubj', '1', 'verb', 'y', 'negative'), 'presumptuous': ('strongsubj', '1', 'anypos', 'y', 'negative'), 'presumptuously': ('strongsubj', '1', 'anypos', 'n', 'negative'), 'pretence': ('strongsubj', '1', 'noun', 'n', 'negative'), 'pretend': ('strongsubj', '1', 'verb', 'n', 'negative'), 'pretense': ('strongsubj', '1', 'noun', 'n', 'negative'), 'pretentious': ('strongsubj', '1', 'anypos', 'n', 'negative'), 'pretentiously': ('strongsubj', '1', 'anypos', 'n', 'negative'), 'prettily': ('strongsubj', '1', 'anypos', 'n', 'positive'), 'pretty': ('strongsubj', '1', 'anypos', 'n', 'positive'), 'prevalent': ('weaksubj', '1', 'adj', 'n', 'neutral'), 'prevaricate': ('strongsubj', '1', 'verb', 'y', 'negative'), 'priceless': ('strongsubj', '1', 'adj', 'n', 'positive'), 'pricey': ('weaksubj', '1', 'adj', 'n', 'negative'), 'prickle': ('strongsubj', '1', 'verb', 'y', 'negative'), 'prickles': ('strongsubj', '1', 'noun', 'n', 'negative'), 'pride': ('strongsubj', '1', 'noun', 'n', 'positive'), 'prideful': ('strongsubj', '1', 'adj', 'n', 'negative'), 'primarily': ('weaksubj', '1', 'adj', 'n', 'neutral'), 'primary': ('weaksubj', '1', 'adj', 'n', 'neutral'), 'prime': ('weaksubj', '1', 'adj', 'n', 'neutral'), 'primitive': ('weaksubj', '1', 'noun', 'n', 'negative'), 'principle': ('weaksubj', '1', 'noun', 'n', 'positive'), 'principled': ('weaksubj', '1', 'adj', 'n', 'positive'), 'prison': ('weaksubj', '1', 'noun', 'n', 'negative'), 'prisoner': ('weaksubj', '1', 'noun', 'n', 'negative'), 'privilege': ('strongsubj', '1', 'noun', 'n', 'positive'), 'privileged': ('strongsubj', '1', 'adj', 'n', 'positive'), 'prize': ('strongsubj', '1', 'verb', 'y', 'positive'), 'pro': ('weaksubj', '1', 'noun', 'n', 'positive'), 'pro-American': ('strongsubj', '1', 'noun', 'n', 'positive'), 'pro-Beijing': ('strongsubj', '1', 'noun', 'n', 'positive'), 'pro-Cuba': ('strongsubj', '1', 'noun', 'n', 'positive'), 'pro-peace': ('strongsubj', '1', 'noun', 'n', 'positive'), 'proactive': ('strongsubj', '1', 'noun', 'n', 'positive'), 'problem': ('weaksubj', '1', 'noun', 'n', 'negative'), 'problematic': ('strongsubj', '1', 'noun', 'n', 'negative'), 'problems': ('weaksubj', '1', 'noun', 'n', 'negative'), 'proclaim': ('strongsubj', '1', 'verb', 'y', 'neutral'), 'procrastinate': ('strongsubj', '1', 'verb', 'y', 'negative'), 'procrastination': ('strongsubj', '1', 'noun', 'n', 'negative'), 'prodigious': ('strongsubj', '1', 'adj', 'n', 'positive'), 'prodigiously': ('strongsubj', '1', 'anypos', 'n', 'positive'), 'prodigy': ('strongsubj', '1', 'noun', 'n', 'positive'), 'productive': ('weaksubj', '1', 'adj', 'n', 'positive'), 'profane': ('strongsubj', '1', 'verb', 'y', 'negative'), 'profanity': ('strongsubj', '1', 'noun', 'n', 'negative'), 'profess': ('strongsubj', '1', 'verb', 'y', 'positive'), 'proficient': ('strongsubj', '1', 'adj', 'n', 'positive'), 'proficiently': ('strongsubj', '1', 'adverb', 'n', 'positive'), 'profit': ('weaksubj', '1', 'verb', 'y', 'positive'), 'profitable': ('weaksubj', '1', 'adj', 'n', 'positive'), 'profound': ('strongsubj', '1', 'adj', 'n', 'positive'), 'profoundly': ('strongsubj', '1', 'anypos', 'n', 'positive'), 'profuse': ('strongsubj', '1', 'adj', 'n', 'positive'), 'profusely': ('strongsubj', '1', 'anypos', 'n', 'positive'), 'profusion': ('strongsubj', '1', 'noun', 'n', 'positive'), 'prognosticate': ('strongsubj', '1', 'verb', 'y', 'neutral'), 'progress': ('weaksubj', '1', 'verb', 'y', 'positive'), 'progressive': ('weaksubj', '1', 'adj', 'n', 'positive'), 'prohibit': ('weaksubj', '1', 'verb', 'y', 'negative'), 'prohibitive': ('weaksubj', '1', 'adj', 'n', 'negative'), 'prohibitively': ('weaksubj', '1', 'adverb', 'n', 'negative'), 'prolific': ('weaksubj', '1', 'adj', 'n', 'positive'), 'prominent': ('weaksubj', '1', 'adj', 'n', 'positive'), 'prominence': ('weaksubj', '1', 'noun', 'n', 'positive'), 'promise': ('strongsubj', '1', 'noun', 'n', 'positive'), 'promising': ('strongsubj', '1', 'adj', 'n', 'positive'), 'promoter': ('strongsubj', '1', 'noun', 'n', 'positive'), 'prompt': ('weaksubj', '1', 'adj', 'n', 'positive'), 'promptly': ('weaksubj', '1', 'adverb', 'n', 'positive'), 'propaganda': ('strongsubj', '1', 'noun', 'n', 'negative'), 'propagandize': ('strongsubj', '1', 'verb', 'y', 'negative'), 'proper': ('weaksubj', '1', 'adj', 'n', 'positive'), 'properly': ('weaksubj', '1', 'adverb', 'n', 'positive'), 'prophesy': ('strongsubj', '1', 'verb', 'y', 'neutral'), 'propitious': ('strongsubj', '1', 'adj', 'n', 'positive'), 'propitiously': ('strongsubj', '1', 'adverb', 'n', 'positive'), 'proportionate': ('weaksubj', '1', 'noun', 'n', 'neutral'), 'proportionately': ('weaksubj', '1', 'adverb', 'n', 'neutral'), 'proscription': ('strongsubj', '1', 'noun', 'n', 'negative'), 'proscriptions': ('strongsubj', '1', 'noun', 'n', 'negative'), 'prosecute': ('strongsubj', '1', 'verb', 'y', 'negative'), 'prospect': ('weaksubj', '1', 'noun', 'n', 'positive'), 'prospects': ('weaksubj', '1', 'noun', 'n', 'positive'), 'prosper': ('strongsubj', '1', 'verb', 'y', 'positive'), 'prosperity': ('weaksubj', '1', 'noun', 'n', 'positive'), 'prosperous': ('weaksubj', '1', 'adj', 'n', 'positive'), 'protect': ('weaksubj', '1', 'verb', 'y', 'positive'), 'protection': ('weaksubj', '1', 'noun', 'n', 'positive'), 'protective': ('weaksubj', '1', 'adj', 'n', 'positive'), 'protector': ('strongsubj', '1', 'noun', 'n', 'positive'), 'protest': ('strongsubj', '1', 'verb', 'y', 'negative'), 'protests': ('weaksubj', '1', 'noun', 'n', 'negative'), 'protracted': ('weaksubj', '1', 'adj', 'n', 'negative'), 'proud': ('strongsubj', '1', 'adj', 'n', 'positive'), 'prove': ('weaksubj', '1', 'anypos', 'y', 'neutral'), 'providence': ('strongsubj', '1', 'noun', 'n', 'positive'), 'provocation': ('strongsubj', '1', 'noun', 'n', 'negative'), 'provocative': ('strongsubj', '1', 'noun', 'n', 'negative'), 'provoke': ('strongsubj', '1', 'verb', 'y', 'negative'), 'prowess': ('strongsubj', '1', 'noun', 'n', 'positive'), 'prudence': ('weaksubj', '1', 'noun', 'n', 'positive'), 'prudent': ('strongsubj', '1', 'adj', 'n', 'positive'), 'prudently': ('strongsubj', '1', 'adverb', 'n', 'positive'), 'pry': ('weaksubj', '1', 'verb', 'y', 'negative'), 'pugnacious': ('strongsubj', '1', 'adj', 'n', 'negative'), 'pugnaciously': ('strongsubj', '1', 'anypos', 'n', 'negative'), 'pugnacity': ('strongsubj', '1', 'noun', 'n', 'negative'), 'punch': ('strongsubj', '1', 'noun', 'n', 'negative'), 'punctual': ('strongsubj', '1', 'adj', 'n', 'positive'), 'pundits': ('strongsubj', '1', 'noun', 'n', 'positive'), 'punish': ('strongsubj', '1', 'verb', 'y', 'negative'), 'punishable': ('weaksubj', '1', 'adj', 'n', 'negative'), 'punitive': ('weaksubj', '1', 'noun', 'n', 'negative'), 'puny': ('strongsubj', '1', 'adj', 'n', 'negative'), 'puppet': ('strongsubj', '1', 'noun', 'n', 'negative'), 'puppets': ('strongsubj', '1', 'noun', 'n', 'negative'), 'pure': ('weaksubj', '1', 'adj', 'n', 'positive'), 'purification': ('weaksubj', '1', 'noun', 'n', 'positive'), 'purify': ('weaksubj', '1', 'verb', 'y', 'positive'), 'purity': ('weaksubj', '1', 'noun', 'n', 'positive'), 'purposeful': ('strongsubj', '1', 'adj', 'n', 'positive'), 'puzzle': ('strongsubj', '1', 'verb', 'y', 'negative'), 'puzzled': ('strongsubj', '1', 'anypos', 'n', 'negative'), 'puzzlement': ('strongsubj', '1', 'noun', 'n', 'negative'), 'puzzling': ('strongsubj', '1', 'anypos', 'n', 'negative'), 'quack': ('strongsubj', '1', 'verb', 'y', 'negative'), 'quaint': ('strongsubj', '1', 'adj', 'n', 'positive'), 'qualified': ('weaksubj', '1', 'adj', 'n', 'positive'), 'qualify': ('weaksubj', '1', 'verb', 'y', 'positive'), 'qualms': ('strongsubj', '1', 'noun', 'n', 'negative'), 'quandary': ('strongsubj', '1', 'noun', 'n', 'negative'), 'quarrel': ('strongsubj', '1', 'verb', 'y', 'negative'), 'quarrellous': ('strongsubj', '1', 'anypos', 'n', 'negative'), 'quarrellously': ('strongsubj', '1', 'anypos', 'n', 'negative'), 'quarrels': ('strongsubj', '1', 'anypos', 'n', 'negative'), 'quarrelsome': ('strongsubj', '1', 'adj', 'n', 'negative'), 'quash': ('strongsubj', '1', 'verb', 'y', 'negative'), 'quasi-ally': ('strongsubj', '1', 'noun', 'n', 'positive'), 'queer': ('weaksubj', '1', 'adj', 'n', 'negative'), 'quench': ('weaksubj', '1', 'verb', 'y', 'positive'), 'questionable': ('strongsubj', '1', 'anypos', 'y', 'negative'), 'quibble': ('strongsubj', '1', 'verb', 'y', 'negative'), 'quicken': ('strongsubj', '1', 'verb', 'y', 'positive'), 'quick': ('weaksubj', '1', 'adj', 'n', 'neutral'), 'quiet': ('weaksubj', '1', 'adj', 'n', 'neutral'), 'quit': ('weaksubj', '1', 'verb', 'y', 'negative'), 'quite': ('strongsubj', '1', 'anypos', 'y', 'neutral'), 'quitter': ('strongsubj', '1', 'noun', 'n', 'negative'), 'racism': ('weaksubj', '1', 'noun', 'n', 'negative'), 'racist': ('strongsubj', '1', 'noun', 'n', 'negative'), 'racists': ('strongsubj', '1', 'noun', 'n', 'negative'), 'rack': ('strongsubj', '1', 'verb', 'y', 'negative'), 'radiance': ('strongsubj', '1', 'noun', 'n', 'positive'), 'radiant': ('strongsubj', '1', 'adj', 'n', 'positive'), 'radical': ('strongsubj', '1', 'noun', 'n', 'negative'), 'radicalization': ('strongsubj', '1', 'noun', 'n', 'negative'), 'radically': ('strongsubj', '1', 'anypos', 'n', 'negative'), 'radicals': ('strongsubj', '1', 'anypos', 'n', 'negative'), 'rage': ('strongsubj', '1', 'verb', 'y', 'negative'), 'ragged': ('strongsubj', '1', 'adj', 'n', 'negative'), 'raging': ('strongsubj', '1', 'adj', 'n', 'negative'), 'rail': ('strongsubj', '1', 'verb', 'y', 'negative'), 'rally': ('strongsubj', '1', 'verb', 'y', 'positive'), 'rampage': ('strongsubj', '1', 'verb', 'y', 'negative'), 'rampant': ('strongsubj', '1', 'adj', 'n', 'negative'), 'ramshackle': ('strongsubj', '1', 'adj', 'n', 'negative'), 'rancor': ('strongsubj', '1', 'noun', 'n', 'negative'), 'rank': ('strongsubj', '1', 'adj', 'n', 'negative'), 'rankle': ('strongsubj', '1', 'verb', 'y', 'negative'), 'rant': ('strongsubj', '1', 'verb', 'y', 'negative'), 'ranting': ('strongsubj', '1', 'adj', 'n', 'negative'), 'rantingly': ('strongsubj', '1', 'anypos', 'n', 'negative'), 'rapid': ('weaksubj', '1', 'adj', 'n', 'neutral'), 'rapprochement': ('weaksubj', '1', 'noun', 'n', 'positive'), 'rapport': ('strongsubj', '1', 'noun', 'n', 'positive'), 'rapt': ('strongsubj', '1', 'verb', 'y', 'positive'), 'rapture': ('strongsubj', '1', 'noun', 'n', 'positive'), 'raptureous': ('strongsubj', '1', 'adj', 'n', 'positive'), 'raptureously': ('strongsubj', '1', 'anypos', 'n', 'positive'), 'rapturous': ('strongsubj', '1', 'anypos', 'y', 'positive'), 'rapturously': ('strongsubj', '1', 'anypos', 'y', 'positive'), 'rare': ('weaksubj', '1', 'adj', 'n', 'neutral'), 'rarely': ('weaksubj', '1', 'adverb', 'n', 'neutral'), 'rascal': ('strongsubj', '1', 'noun', 'n', 'negative'), 'rash': ('strongsubj', '1', 'adj', 'n', 'negative'), 'rat': ('weaksubj', '1', 'noun', 'n', 'negative'), 'rather': ('weaksubj', '1', 'anypos', 'y', 'neutral'), 'rational': ('strongsubj', '1', 'adj', 'n', 'positive'), 'rationality': ('weaksubj', '1', 'noun', 'n', 'positive'), 'rationalize': ('strongsubj', '1', 'verb', 'y', 'negative'), 'rattle': ('strongsubj', '1', 'verb', 'y', 'negative'), 'ravage': ('strongsubj', '1', 'verb', 'y', 'negative'), 'rave': ('strongsubj', '1', 'verb', 'y', 'positive'), 'raving': ('strongsubj', '1', 'adj', 'n', 'negative'), 're-conquest': ('strongsubj', '1', 'noun', 'n', 'positive'), 'react': ('weaksubj', '1', 'verb', 'y', 'neutral'), 'reaction': ('weaksubj', '1', 'noun', 'n', 'neutral'), 'reactionary': ('strongsubj', '1', 'adj', 'n', 'negative'), 'reactions': ('weaksubj', '1', 'noun', 'n', 'neutral'), 'readiness': ('weaksubj', '1', 'noun', 'n', 'neutral'), 'readily': ('weaksubj', '1', 'adverb', 'n', 'positive'), 'ready': ('weaksubj', '1', 'adj', 'n', 'positive'), 'reaffirm': ('weaksubj', '1', 'noun', 'n', 'positive'), 'reaffirmation': ('weaksubj', '1', 'noun', 'n', 'positive'), 'real': ('weaksubj', '1', 'anypos', 'n', 'positive'), 'realist': ('strongsubj', '1', 'noun', 'n', 'positive'), 'realistic': ('strongsubj', '1', 'adj', 'n', 'positive'), 'realistically': ('strongsubj', '1', 'adverb', 'n', 'positive'), 'realization': ('weaksubj', '1', 'noun', 'n', 'neutral'), 'really': ('strongsubj', '1', 'anypos', 'n', 'neutral'), 'reason': ('weaksubj', '1', 'noun', 'n', 'positive'), 'reasonable': ('weaksubj', '1', 'adj', 'n', 'positive'), 'reasonably': ('weaksubj', '1', 'adverb', 'n', 'positive'), 'reasoned': ('weaksubj', '1', 'anypos', 'n', 'positive'), 'reassurance': ('strongsubj', '1', 'noun', 'n', 'positive'), 'reassure': ('strongsubj', '1', 'verb', 'y', 'positive'), 'rebellious': ('strongsubj', '1', 'adj', 'n', 'negative'), 'rebuff': ('strongsubj', '1', 'verb', 'y', 'negative'), 'rebuke': ('strongsubj', '1', 'verb', 'y', 'negative'), 'recalcitrant': ('strongsubj', '1', 'adj', 'n', 'negative'), 'recant': ('strongsubj', '1', 'verb', 'y', 'negative'), 'receptive': ('strongsubj', '1', 'adj', 'n', 'positive'), 'recession': ('weaksubj', '1', 'noun', 'n', 'negative'), 'recessionary': ('weaksubj', '1', 'adj', 'n', 'negative'), 'reckless': ('strongsubj', '1', 'adj', 'n', 'negative'), 'recklessly': ('strongsubj', '1', 'anypos', 'n', 'negative'), 'recklessness': ('strongsubj', '1', 'noun', 'n', 'negative'), 'reclaim': ('weaksubj', '1', 'verb', 'y', 'positive'), 'recognition': ('weaksubj', '1', 'noun', 'n', 'positive'), 'recognizable': ('weaksubj', '1', 'anypos', 'y', 'neutral'), 'recoil': ('strongsubj', '1', 'verb', 'y', 'negative'), 'recommend': ('strongsubj', '1', 'verb', 'y', 'positive'), 'recommendation': ('strongsubj', '1', 'noun', 'n', 'positive'), 'recommendations': ('strongsubj', '1', 'noun', 'n', 'positive'), 'recommended': ('strongsubj', '1', 'anypos', 'n', 'positive'), 'recompense': ('weaksubj', '1', 'verb', 'y', 'positive'), 'reconcile': ('weaksubj', '1', 'verb', 'y', 'positive'), 'reconciliation': ('weaksubj', '1', 'noun', 'n', 'positive'), 'record-setting': ('weaksubj', '1', 'adj', 'n', 'positive'), 'recourses': ('weaksubj', '1', 'noun', 'n', 'negative'), 'recover': ('weaksubj', '1', 'verb', 'y', 'positive'), 'rectification': ('strongsubj', '1', 'noun', 'n', 'positive'), 'rectify': ('strongsubj', '1', 'verb', 'y', 'positive'), 'rectifying': ('strongsubj', '1', 'noun', 'n', 'positive'), 'redeem': ('strongsubj', '1', 'verb', 'y', 'positive'), 'redeeming': ('strongsubj', '1', 'adj', 'n', 'positive'), 'redemption': ('strongsubj', '1', 'noun', 'n', 'positive'), 'redundancy': ('weaksubj', '1', 'noun', 'n', 'negative'), 'redundant': ('weaksubj', '1', 'adj', 'n', 'negative'), 'reestablish': ('weaksubj', '1', 'verb', 'y', 'positive'), 'refine': ('weaksubj', '1', 'verb', 'y', 'positive'), 'refined': ('weaksubj', '1', 'adj', 'n', 'positive'), 'refinement': ('weaksubj', '1', 'noun', 'n', 'positive'), 'reflecting': ('strongsubj', '1', 'noun', 'n', 'neutral'), 'reflective': ('strongsubj', '1', 'adj', 'n', 'neutral'), 'reform': ('weaksubj', '1', 'verb', 'n', 'positive'), 'refresh': ('weaksubj', '1', 'verb', 'y', 'positive'), 'refreshing': ('strongsubj', '1', 'adj', 'n', 'positive'), 'refuge': ('strongsubj', '1', 'noun', 'n', 'positive'), 'refusal': ('weaksubj', '1', 'noun', 'n', 'negative'), 'refuse': ('strongsubj', '1', 'verb', 'n', 'negative'), 'refutation': ('strongsubj', '1', 'noun', 'n', 'negative'), 'refute': ('strongsubj', '1', 'verb', 'y', 'negative'), 'regal': ('strongsubj', '1', 'adj', 'n', 'positive'), 'regally': ('strongsubj', '1', 'adverb', 'n', 'positive'), 'regard': ('strongsubj', '1', 'verb', 'y', 'neutral'), 'regardless': ('strongsubj', '1', 'anypos', 'n', 'neutral'), 'regardlessly': ('strongsubj', '1', 'anypos', 'n', 'neutral'), 'regress': ('weaksubj', '1', 'verb', 'y', 'negative'), 'regression': ('weaksubj', '1', 'noun', 'n', 'negative'), 'regressive': ('weaksubj', '1', 'adj', 'n', 'negative'), 'regret': ('strongsubj', '1', 'verb', 'y', 'negative'), 'regretful': ('strongsubj', '1', 'anypos', 'n', 'negative'), 'regretfully': ('strongsubj', '1', 'anypos', 'n', 'negative'), 'regrettable': ('strongsubj', '1', 'anypos', 'n', 'negative'), 'regrettably': ('strongsubj', '1', 'anypos', 'n', 'negative'), 'rehabilitate': ('weaksubj', '1', 'verb', 'y', 'positive'), 'rehabilitation': ('weaksubj', '1', 'noun', 'n', 'positive'), 'reinforce': ('weaksubj', '1', 'verb', 'y', 'positive'), 'reinforcement': ('weaksubj', '1', 'noun', 'n', 'positive'), 'reiterate': ('weaksubj', '1', 'verb', 'y', 'neutral'), 'reiterated': ('weaksubj', '1', 'noun', 'n', 'neutral'), 'reiterates': ('weaksubj', '1', 'noun', 'n', 'neutral'), 'reject': ('strongsubj', '1', 'verb', 'y', 'negative'), 'rejection': ('strongsubj', '1', 'noun', 'n', 'negative'), 'rejoice': ('strongsubj', '1', 'verb', 'y', 'positive'), 'rejoicing': ('strongsubj', '1', 'anypos', 'n', 'positive'), 'rejoicingly': ('strongsubj', '1', 'anypos', 'n', 'positive'), 'relapse': ('weaksubj', '1', 'verb', 'y', 'negative'), 'relations': ('weaksubj', '1', 'noun', 'n', 'neutral'), 'relax': ('weaksubj', '1', 'verb', 'y', 'positive'), 'relaxed': ('weaksubj', '1', 'adj', 'n', 'positive'), 'relent': ('strongsubj', '1', 'verb', 'y', 'positive'), 'relentless': ('strongsubj', '1', 'anypos', 'n', 'negative'), 'relentlessly': ('strongsubj', '1', 'anypos', 'n', 'negative'), 'relentlessness': ('strongsubj', '1', 'noun', 'n', 'negative'), 'relevant': ('weaksubj', '1', 'adj', 'n', 'positive'), 'relevance': ('weaksubj', '1', 'noun', 'n', 'positive'), 'reliable': ('weaksubj', '1', 'adj', 'n', 'positive'), 'reliability': ('weaksubj', '1', 'noun', 'n', 'positive'), 'reliably': ('weaksubj', '1', 'adverb', 'n', 'positive'), 'relief': ('strongsubj', '1', 'noun', 'n', 'positive'), 'relieve': ('weaksubj', '1', 'verb', 'y', 'positive'), 'relish': ('strongsubj', '1', 'verb', 'y', 'positive'), 'reluctance': ('strongsubj', '1', 'noun', 'n', 'negative'), 'reluctant': ('weaksubj', '1', 'adj', 'n', 'negative'), 'reluctantly': ('weaksubj', '1', 'adverb', 'n', 'negative'), 'remark': ('weaksubj', '1', 'noun', 'n', 'neutral'), 'remarkable': ('strongsubj', '1', 'anypos', 'y', 'positive'), 'remarkably': ('strongsubj', '1', 'anypos', 'n', 'positive'), 'remedy': ('weaksubj', '1', 'noun', 'n', 'positive'), 'reminiscent': ('strongsubj', '1', 'noun', 'n', 'positive'), 'remorse': ('strongsubj', '1', 'noun', 'n', 'negative'), 'remorseful': ('strongsubj', '1', 'anypos', 'y', 'negative'), 'remorsefully': ('strongsubj', '1', 'anypos', 'n', 'negative'), 'remorseless': ('strongsubj', '1', 'adj', 'n', 'negative'), 'remorselessly': ('strongsubj', '1', 'anypos', 'n', 'negative'), 'remorselessness': ('strongsubj', '1', 'noun', 'n', 'negative'), 'remunerate': ('strongsubj', '1', 'verb', 'y', 'positive'), 'renaissance': ('strongsubj', '1', 'noun', 'n', 'positive'), 'renewable': ('weaksubj', '1', 'adj', 'n', 'neutral'), 'renewal': ('weaksubj', '1', 'noun', 'n', 'positive'), 'renovate': ('weaksubj', '1', 'verb', 'y', 'positive'), 'renovation': ('weaksubj', '1', 'noun', 'n', 'positive'), 'renounce': ('strongsubj', '1', 'verb', 'y', 'negative'), 'renown': ('strongsubj', '1', 'noun', 'n', 'positive'), 'renowned': ('strongsubj', '1', 'adj', 'n', 'positive'), 'renunciation': ('strongsubj', '1', 'noun', 'n', 'negative'), 'repair': ('weaksubj', '1', 'verb', 'y', 'positive'), 'reparation': ('weaksubj', '1', 'noun', 'n', 'positive'), 'repay': ('strongsubj', '1', 'verb', 'y', 'positive'), 'repel': ('weaksubj', '1', 'verb', 'y', 'negative'), 'repent': ('strongsubj', '1', 'verb', 'y', 'positive'), 'repentance': ('strongsubj', '1', 'noun', 'n', 'positive'), 'repetitive': ('weaksubj', '1', 'adj', 'n', 'negative'), 'replete': ('weaksubj', '1', 'adj', 'n', 'neutral'), 'reprehensible': ('strongsubj', '1', 'anypos', 'y', 'negative'), 'reprehensibly': ('strongsubj', '1', 'anypos', 'n', 'negative'), 'reprehension': ('strongsubj', '1', 'noun', 'n', 'negative'), 'reprehensive': ('strongsubj', '1', 'adj', 'n', 'negative'), 'repress': ('weaksubj', '1', 'verb', 'y', 'negative'), 'repression': ('weaksubj', '1', 'noun', 'n', 'negative'), 'repressive': ('weaksubj', '1', 'adj', 'n', 'negative'), 'reprimand': ('strongsubj', '1', 'verb', 'y', 'negative'), 'reproach': ('strongsubj', '1', 'verb', 'y', 'negative'), 'reproachful': ('strongsubj', '1', 'adj', 'n', 'negative'), 'reprove': ('strongsubj', '1', 'verb', 'y', 'negative'), 'reprovingly': ('strongsubj', '1', 'anypos', 'n', 'negative'), 'repudiate': ('strongsubj', '1', 'verb', 'y', 'negative'), 'repudiation': ('strongsubj', '1', 'noun', 'n', 'negative'), 'repugn': ('strongsubj', '1', 'verb', 'y', 'negative'), 'repugnance': ('strongsubj', '1', 'noun', 'n', 'negative'), 'repugnant': ('strongsubj', '1', 'adj', 'n', 'negative'), 'repugnantly': ('strongsubj', '1', 'anypos', 'n', 'negative'), 'repulse': ('weaksubj', '1', 'verb', 'y', 'negative'), 'repulsed': ('weaksubj', '1', 'anypos', 'n', 'negative'), 'repulsing': ('strongsubj', '1', 'anypos', 'n', 'negative'), 'repulsive': ('strongsubj', '1', 'anypos', 'n', 'negative'), 'repulsively': ('strongsubj', '1', 'anypos', 'n', 'negative'), 'repulsiveness': ('strongsubj', '1', 'noun', 'n', 'negative'), 'reputable': ('weaksubj', '1', 'adj', 'n', 'positive'), 'reputed': ('weaksubj', '1', 'adj', 'n', 'neutral'), 'rescue': ('weaksubj', '1', 'verb', 'y', 'positive'), 'resent': ('strongsubj', '1', 'verb', 'y', 'negative'), 'resentful': ('strongsubj', '1', 'adj', 'n', 'negative'), 'resentment': ('strongsubj', '1', 'noun', 'n', 'negative'), 'reservations': ('weaksubj', '1', 'noun', 'n', 'negative'), 'resignation': ('weaksubj', '1', 'noun', 'n', 'negative'), 'resigned': ('weaksubj', '1', 'adj', 'n', 'negative'), 'resilient': ('weaksubj', '1', 'adj', 'n', 'positive'), 'resistance': ('weaksubj', '1', 'noun', 'n', 'negative'), 'resistant': ('weaksubj', '1', 'noun', 'n', 'negative'), 'resolute': ('weaksubj', '1', 'adj', 'n', 'positive'), 'resolve': ('weaksubj', '1', 'verb', 'y', 'positive'), 'resolved': ('weaksubj', '1', 'adj', 'n', 'positive'), 'resound': ('weaksubj', '1', 'verb', 'y', 'positive'), 'resounding': ('strongsubj', '1', 'adj', 'n', 'positive'), 'resourceful': ('strongsubj', '1', 'adj', 'n', 'positive'), 'resourcefulness': ('strongsubj', '1', 'noun', 'n', 'positive'), 'respect': ('weaksubj', '1', 'verb', 'y', 'positive'), 'respectable': ('strongsubj', '1', 'adj', 'n', 'positive'), 'respectful': ('strongsubj', '1', 'anypos', 'n', 'positive'), 'respectfully': ('strongsubj', '1', 'anypos', 'n', 'positive'), 'respite': ('strongsubj', '1', 'noun', 'n', 'positive'), 'resplendent': ('strongsubj', '1', 'adj', 'n', 'positive'), 'responsibility': ('weaksubj', '1', 'noun', 'n', 'positive'), 'responsible': ('weaksubj', '1', 'adj', 'n', 'positive'), 'responsibly': ('weaksubj', '1', 'adverb', 'n', 'positive'), 'responsive': ('weaksubj', '1', 'adj', 'n', 'positive'), 'restful': ('weaksubj', '1', 'adj', 'n', 'positive'), 'restless': ('weaksubj', '1', 'adj', 'n', 'negative'), 'restlessness': ('weaksubj', '1', 'noun', 'n', 'negative'), 'restoration': ('weaksubj', '1', 'noun', 'n', 'positive'), 'restore': ('weaksubj', '1', 'verb', 'y', 'positive'), 'restraint': ('weaksubj', '1', 'noun', 'n', 'positive'), 'restrict': ('weaksubj', '1', 'verb', 'y', 'negative'), 'restricted': ('weaksubj', '1', 'adj', 'n', 'negative'), 'restriction': ('weaksubj', '1', 'noun', 'n', 'negative'), 'restrictive': ('weaksubj', '1', 'adj', 'n', 'negative'), 'resurgent': ('weaksubj', '1', 'adj', 'n', 'positive'), 'retaliate': ('weaksubj', '1', 'verb', 'y', 'negative'), 'retaliatory': ('weaksubj', '1', 'adj', 'n', 'negative'), 'retard': ('weaksubj', '1', 'verb', 'y', 'negative'), 'reticent': ('strongsubj', '1', 'adj', 'n', 'negative'), 'retire': ('weaksubj', '1', 'verb', 'y', 'negative'), 'retract': ('weaksubj', '1', 'verb', 'y', 'negative'), 'retreat': ('weaksubj', '1', 'verb', 'y', 'negative'), 'reunite': ('weaksubj', '1', 'verb', 'y', 'positive'), 'reveal': ('weaksubj', '1', 'anypos', 'y', 'neutral'), 'revealing': ('strongsubj', '1', 'adj', 'n', 'neutral'), 'revel': ('strongsubj', '1', 'verb', 'y', 'positive'), 'revelation': ('weaksubj', '1', 'noun', 'n', 'positive'), 'revelatory': ('strongsubj', '1', 'anypos', 'y', 'neutral'), 'revenge': ('strongsubj', '1', 'verb', 'y', 'negative'), 'revengeful': ('strongsubj', '1', 'adj', 'n', 'negative'), 'revengefully': ('strongsubj', '1', 'anypos', 'n', 'negative'), 'revere': ('strongsubj', '1', 'verb', 'y', 'positive'), 'reverence': ('strongsubj', '1', 'noun', 'n', 'positive'), 'reverent': ('strongsubj', '1', 'adj', 'n', 'positive'), 'reverently': ('strongsubj', '1', 'adverb', 'n', 'positive'), 'revert': ('weaksubj', '1', 'verb', 'y', 'negative'), 'revival': ('weaksubj', '1', 'noun', 'n', 'positive'), 'revive': ('weaksubj', '1', 'verb', 'y', 'positive'), 'revile': ('strongsubj', '1', 'verb', 'y', 'negative'), 'reviled': ('strongsubj', '1', 'adj', 'n', 'negative'), 'revitalize': ('weaksubj', '1', 'verb', 'y', 'positive'), 'revoke': ('weaksubj', '1', 'verb', 'y', 'negative'), 'revolt': ('weaksubj', '1', 'verb', 'y', 'negative'), 'revolting': ('strongsubj', '1', 'anypos', 'n', 'negative'), 'revoltingly': ('strongsubj', '1', 'anypos', 'n', 'negative'), 'revolution': ('weaksubj', '1', 'noun', 'n', 'positive'), 'revulsion': ('strongsubj', '1', 'noun', 'n', 'negative'), 'revulsive': ('strongsubj', '1', 'adj', 'n', 'negative'), 'reward': ('strongsubj', '1', 'verb', 'y', 'positive'), 'rewarding': ('strongsubj', '1', 'anypos', 'n', 'positive'), 'rewardingly': ('strongsubj', '1', 'anypos', 'n', 'positive'), 'rhapsodize': ('weaksubj', '1', 'verb', 'y', 'negative'), 'rhetoric': ('weaksubj', '1', 'noun', 'n', 'negative'), 'rhetorical': ('strongsubj', '1', 'noun', 'n', 'negative'), 'rich': ('weaksubj', '1', 'adj', 'n', 'positive'), 'riches': ('weaksubj', '1', 'noun', 'n', 'positive'), 'richly': ('strongsubj', '1', 'adverb', 'n', 'positive'), 'richness': ('strongsubj', '1', 'noun', 'n', 'positive'), 'rid': ('strongsubj', '1', 'verb', 'y', 'negative'), 'ridicule': ('strongsubj', '1', 'verb', 'y', 'negative'), 'ridiculous': ('strongsubj', '1', 'anypos', 'n', 'negative'), 'ridiculously': ('strongsubj', '1', 'anypos', 'n', 'negative'), 'rife': ('strongsubj', '1', 'adj', 'n', 'negative'), 'rift': ('strongsubj', '1', 'noun', 'n', 'negative'), 'rifts': ('strongsubj', '1', 'noun', 'n', 'negative'), 'right': ('strongsubj', '1', 'verb', 'y', 'positive'), 'righten': ('strongsubj', '1', 'verb', 'y', 'positive'), 'righteous': ('strongsubj', '1', 'adj', 'n', 'positive'), 'righteously': ('strongsubj', '1', 'anypos', 'n', 'positive'), 'righteousness': ('strongsubj', '1', 'noun', 'n', 'positive'), 'rightful': ('strongsubj', '1', 'adj', 'n', 'positive'), 'rightfully': ('strongsubj', '1', 'adverb', 'n', 'positive'), 'rightly': ('strongsubj', '1', 'anypos', 'y', 'positive'), 'rightness': ('strongsubj', '1', 'noun', 'n', 'positive'), 'rights': ('weaksubj', '1', 'noun', 'n', 'positive'), 'rigid': ('weaksubj', '1', 'adj', 'n', 'negative'), 'rigor': ('weaksubj', '1', 'noun', 'n', 'negative'), 'rigorous': ('weaksubj', '1', 'adj', 'n', 'negative'), 'rile': ('strongsubj', '1', 'verb', 'y', 'negative'), 'riled': ('strongsubj', '1', 'anypos', 'n', 'negative'), 'ripe': ('weaksubj', '1', 'adj', 'n', 'positive'), 'risk': ('weaksubj', '1', 'noun', 'n', 'negative'), 'risk-free': ('weaksubj', '1', 'adj', 'n', 'positive'), 'risky': ('weaksubj', '1', 'adj', 'n', 'negative'), 'rival': ('weaksubj', '1', 'verb', 'y', 'negative'), 'rivalry': ('weaksubj', '1', 'noun', 'n', 'negative'), 'roadblocks': ('strongsubj', '1', 'noun', 'n', 'negative'), 'robust': ('weaksubj', '1', 'adj', 'n', 'positive'), 'rocky': ('weaksubj', '1', 'adj', 'n', 'negative'), 'rogue': ('strongsubj', '1', 'noun', 'n', 'negative'), 'rollercoaster': ('strongsubj', '1', 'noun', 'n', 'negative'), 'romantic': ('strongsubj', '1', 'anypos', 'y', 'positive'), 'romantically': ('strongsubj', '1', 'anypos', 'y', 'positive'), 'romanticize': ('strongsubj', '1', 'verb', 'y', 'positive'), 'rosy': ('strongsubj', '1', 'adj', 'n', 'positive'), 'rot': ('weaksubj', '1', 'verb', 'y', 'negative'), 'rotten': ('strongsubj', '1', 'adj', 'n', 'negative'), 'rough': ('weaksubj', '1', 'adj', 'n', 'negative'), 'rousing': ('strongsubj', '1', 'adj', 'n', 'positive'), 'rubbish': ('strongsubj', '1', 'noun', 'n', 'negative'), 'rude': ('strongsubj', '1', 'adj', 'n', 'negative'), 'rue': ('strongsubj', '1', 'verb', 'y', 'negative'), 'ruffian': ('strongsubj', '1', 'noun', 'n', 'negative'), 'ruffle': ('weaksubj', '1', 'verb', 'y', 'negative'), 'ruin': ('weaksubj', '1', 'verb', 'y', 'negative'), 'ruinous': ('weaksubj', '1', 'adj', 'n', 'negative'), 'rumbling': ('strongsubj', '1', 'noun', 'n', 'negative'), 'rumor': ('strongsubj', '1', 'noun', 'n', 'negative'), 'rumors': ('strongsubj', '1', 'noun', 'n', 'negative'), 'rumours': ('strongsubj', '1', 'noun', 'n', 'negative'), 'rumple': ('strongsubj', '1', 'verb', 'y', 'negative'), 'run-down': ('strongsubj', '1', 'adj', 'n', 'negative'), 'runaway': ('strongsubj', '1', 'verb', 'n', 'negative'), 'rupture': ('weaksubj', '1', 'verb', 'y', 'negative'), 'rusty': ('strongsubj', '1', 'adj', 'n', 'negative'), 'ruthless': ('strongsubj', '1', 'adj', 'n', 'negative'), 'ruthlessly': ('strongsubj', '1', 'anypos', 'n', 'negative'), 'ruthlessness': ('strongsubj', '1', 'noun', 'n', 'negative'), 'sabotage': ('strongsubj', '1', 'verb', 'y', 'negative'), 'sacred': ('strongsubj', '1', 'adj', 'n', 'positive'), 'sacrifice': ('strongsubj', '1', 'noun', 'n', 'negative'), 'sad': ('strongsubj', '1', 'anypos', 'y', 'negative'), 'sadden': ('strongsubj', '1', 'verb', 'y', 'negative'), 'sadly': ('strongsubj', '1', 'anypos', 'n', 'negative'), 'sadness': ('strongsubj', '1', 'noun', 'n', 'negative'), 'safe': ('weaksubj', '1', 'adj', 'n', 'positive'), 'safeguard': ('strongsubj', '1', 'verb', 'y', 'positive'), 'sag': ('weaksubj', '1', 'verb', 'y', 'negative'), 'sagacity': ('strongsubj', '1', 'noun', 'n', 'positive'), 'sage': ('strongsubj', '1', 'adj', 'n', 'positive'), 'sagely': ('strongsubj', '1', 'adverb', 'n', 'positive'), 'saint': ('strongsubj', '1', 'noun', 'n', 'positive'), 'saintliness': ('strongsubj', '1', 'noun', 'n', 'positive'), 'saintly': ('strongsubj', '1', 'adj', 'n', 'positive'), 'salable': ('weaksubj', '1', 'adj', 'n', 'positive'), 'salacious': ('strongsubj', '1', 'adj', 'n', 'negative'), 'salivate': ('weaksubj', '1', 'verb', 'y', 'positive'), 'salutary': ('strongsubj', '1', 'adj', 'n', 'positive'), 'salute': ('strongsubj', '1', 'verb', 'y', 'positive'), 'salvation': ('strongsubj', '1', 'noun', 'n', 'positive'), 'sanctimonious': ('strongsubj', '1', 'noun', 'n', 'negative'), 'sanctify': ('strongsubj', '1', 'verb', 'y', 'positive'), 'sanction': ('strongsubj', '1', 'verb', 'y', 'positive'), 'sanctity': ('strongsubj', '1', 'noun', 'n', 'positive'), 'sanctuary': ('strongsubj', '1', 'noun', 'n', 'positive'), 'sanguine': ('strongsubj', '1', 'adj', 'n', 'positive'), 'sane': ('strongsubj', '1', 'adj', 'n', 'positive'), 'sanity': ('strongsubj', '1', 'noun', 'n', 'positive'), 'sap': ('strongsubj', '1', 'verb', 'y', 'negative'), 'sarcasm': ('strongsubj', '1', 'noun', 'n', 'negative'), 'sarcastic': ('strongsubj', '1', 'adj', 'n', 'negative'), 'sarcastically': ('strongsubj', '1', 'adverb', 'n', 'negative'), 'sardonic': ('strongsubj', '1', 'adj', 'n', 'negative'), 'sardonically': ('strongsubj', '1', 'adverb', 'n', 'negative'), 'sass': ('strongsubj', '1', 'verb', 'y', 'negative'), 'satirical': ('strongsubj', '1', 'adj', 'n', 'negative'), 'satirize': ('strongsubj', '1', 'verb', 'y', 'negative'), 'satisfaction': ('strongsubj', '1', 'noun', 'n', 'positive'), 'satisfactorily': ('strongsubj', '1', 'adverb', 'n', 'positive'), 'satisfactory': ('strongsubj', '1', 'adj', 'n', 'positive'), 'satisfy': ('weaksubj', '1', 'verb', 'y', 'positive'), 'satisfying': ('weaksubj', '1', 'adj', 'n', 'positive'), 'savage': ('strongsubj', '1', 'verb', 'y', 'negative'), 'savaged': ('strongsubj', '1', 'adj', 'n', 'negative'), 'savagely': ('strongsubj', '1', 'anypos', 'n', 'negative'), 'savagery': ('strongsubj', '1', 'noun', 'n', 'negative'), 'savages': ('strongsubj', '1', 'noun', 'n', 'negative'), 'savor': ('weaksubj', '1', 'verb', 'y', 'positive'), 'savvy': ('strongsubj', '1', 'adj', 'n', 'positive'), 'scandal': ('weaksubj', '1', 'noun', 'n', 'negative'), 'scandalize': ('strongsubj', '1', 'verb', 'y', 'negative'), 'scandalized': ('strongsubj', '1', 'adj', 'n', 'negative'), 'scandalous': ('strongsubj', '1', 'anypos', 'n', 'negative'), 'scandalously': ('strongsubj', '1', 'anypos', 'n', 'negative'), 'scandals': ('strongsubj', '1', 'noun', 'n', 'negative'), 'scant': ('weaksubj', '1', 'adj', 'n', 'negative'), 'scapegoat': ('strongsubj', '1', 'noun', 'n', 'negative'), 'scar': ('strongsubj', '1', 'verb', 'y', 'negative'), 'scarred': ('strongsubj', '1', 'adj', 'n', 'negative'), 'scarce': ('weaksubj', '1', 'adj', 'n', 'negative'), 'scarcely': ('strongsubj', '1', 'anypos', 'n', 'negative'), 'scarcity': ('weaksubj', '1', 'noun', 'n', 'negative'), 'scare': ('strongsubj', '1', 'verb', 'y', 'negative'), 'scared': ('strongsubj', '1', 'adj', 'n', 'negative'), 'scarier': ('strongsubj', '1', 'adj', 'n', 'negative'), 'scariest': ('strongsubj', '1', 'adj', 'n', 'negative'), 'scarily': ('strongsubj', '1', 'anypos', 'n', 'negative'), 'scars': ('strongsubj', '1', 'noun', 'n', 'negative'), 'scary': ('strongsubj', '1', 'anypos', 'n', 'negative'), 'scathing': ('strongsubj', '1', 'adj', 'n', 'negative'), 'scathingly': ('strongsubj', '1', 'anypos', 'n', 'negative'), 'scenic': ('weaksubj', '1', 'adj', 'n', 'positive'), 'scheme': ('weaksubj', '1', 'verb', 'y', 'negative'), 'scheming': ('strongsubj', '1', 'anypos', 'n', 'negative'), 'scholarly': ('weaksubj', '1', 'adj', 'n', 'neutral'), 'scoff': ('strongsubj', '1', 'verb', 'y', 'negative'), 'scoffingly': ('strongsubj', '1', 'anypos', 'n', 'negative'), 'scold': ('strongsubj', '1', 'verb', 'y', 'negative'), 'scolding': ('strongsubj', '1', 'noun', 'n', 'negative'), 'scoldingly': ('strongsubj', '1', 'anypos', 'n', 'negative'), 'scorching': ('strongsubj', '1', 'anypos', 'n', 'negative'), 'scorchingly': ('strongsubj', '1', 'anypos', 'n', 'negative'), 'scorn': ('strongsubj', '1', 'verb', 'y', 'negative'), 'scornful': ('strongsubj', '1', 'anypos', 'n', 'negative'), 'scornfully': ('strongsubj', '1', 'anypos', 'n', 'negative'), 'scoundrel': ('strongsubj', '1', 'noun', 'n', 'negative'), 'scourge': ('strongsubj', '1', 'noun', 'n', 'negative'), 'scowl': ('strongsubj', '1', 'verb', 'y', 'negative'), 'scream': ('strongsubj', '1', 'verb', 'y', 'negative'), 'screaming': ('strongsubj', '1', 'adj', 'n', 'neutral'), 'screamingly': ('strongsubj', '1', 'adverb', 'n', 'neutral'), 'screech': ('strongsubj', '1', 'verb', 'y', 'negative'), 'screw': ('weaksubj', '1', 'verb', 'y', 'negative'), 'scruples': ('strongsubj', '1', 'noun', 'n', 'positive'), 'scrupulous': ('strongsubj', '1', 'adj', 'n', 'positive'), 'scrupulously': ('strongsubj', '1', 'anypos', 'n', 'positive'), 'scrutinize': ('strongsubj', '1', 'verb', 'y', 'neutral'), 'scrutiny': ('strongsubj', '1', 'noun', 'n', 'neutral'), 'scum': ('strongsubj', '1', 'noun', 'n', 'negative'), 'scummy': ('strongsubj', '1', 'adj', 'n', 'negative'), 'seamless': ('strongsubj', '1', 'adj', 'n', 'positive'), 'seasoned': ('weaksubj', '1', 'adj', 'n', 'positive'), 'second-class': ('strongsubj', '1', 'adj', 'n', 'negative'), 'second-tier': ('weaksubj', '1', 'adj', 'n', 'negative'), 'secretive': ('weaksubj', '1', 'noun', 'n', 'negative'), 'secure': ('weaksubj', '1', 'adj', 'n', 'positive'), 'securely': ('weaksubj', '1', 'adverb', 'n', 'positive'), 'security': ('weaksubj', '1', 'noun', 'n', 'positive'), 'sedentary': ('weaksubj', '1', 'adj', 'n', 'negative'), 'seductive': ('strongsubj', '1', 'adj', 'n', 'positive'), 'seedy': ('strongsubj', '1', 'adj', 'n', 'negative'), 'seem': ('weaksubj', '1', 'anypos', 'y', 'neutral'), 'seemingly': ('strongsubj', '1', 'anypos', 'y', 'neutral'), 'seethe': ('strongsubj', '1', 'verb', 'y', 'negative'), 'seething': ('strongsubj', '1', 'adj', 'n', 'negative'), 'selective': ('weaksubj', '1', 'adj', 'n', 'positive'), 'self-coup': ('strongsubj', '1', 'noun', 'n', 'negative'), 'self-criticism': ('strongsubj', '1', 'noun', 'n', 'negative'), 'self-defeating': ('weaksubj', '1', 'adj', 'n', 'negative'), 'self-destructive': ('strongsubj', '1', 'adj', 'n', 'negative'), 'self-determination': ('strongsubj', '1', 'noun', 'n', 'positive'), 'self-examination': ('weaksubj', '1', 'noun', 'n', 'neutral'), 'self-humiliation': ('strongsubj', '1', 'noun', 'n', 'negative'), 'self-interest': ('strongsubj', '1', 'noun', 'n', 'negative'), 'self-interested': ('strongsubj', '1', 'anypos', 'n', 'negative'), 'self-respect': ('strongsubj', '1', 'noun', 'n', 'positive'), 'self-satisfaction': ('strongsubj', '1', 'noun', 'n', 'positive'), 'self-serving': ('strongsubj', '1', 'noun', 'n', 'negative'), 'self-sufficiency': ('weaksubj', '1', 'noun', 'n', 'positive'), 'self-sufficient': ('weaksubj', '1', 'adj', 'n', 'positive'), 'selfinterested': ('strongsubj', '1', 'anypos', 'n', 'negative'), 'selfish': ('strongsubj', '1', 'anypos', 'n', 'negative'), 'selfishly': ('strongsubj', '1', 'anypos', 'n', 'negative'), 'selfishness': ('strongsubj', '1', 'noun', 'n', 'negative'), 'semblance': ('weaksubj', '1', 'noun', 'n', 'positive'), 'senile': ('strongsubj', '1', 'adj', 'n', 'negative'), 'sensation': ('strongsubj', '1', 'noun', 'n', 'positive'), 'sensational': ('strongsubj', '1', 'anypos', 'n', 'positive'), 'sensationalize': ('strongsubj', '1', 'anypos', 'y', 'negative'), 'sensationally': ('strongsubj', '1', 'anypos', 'n', 'positive'), 'sensations': ('strongsubj', '1', 'noun', 'n', 'positive'), 'sense': ('weaksubj', '1', 'noun', 'n', 'positive'), 'senseless': ('strongsubj', '1', 'adj', 'n', 'negative'), 'senselessly': ('strongsubj', '1', 'anypos', 'n', 'negative'), 'sensible': ('strongsubj', '1', 'anypos', 'n', 'positive'), 'sensibly': ('strongsubj', '1', 'anypos', 'n', 'positive'), 'sensitive': ('weaksubj', '1', 'noun', 'n', 'positive'), 'sensitively': ('strongsubj', '1', 'anypos', 'y', 'positive'), 'sensitivity': ('strongsubj', '1', 'noun', 'n', 'positive'), 'sentiment': ('strongsubj', '1', 'noun', 'n', 'positive'), 'sentimentality': ('strongsubj', '1', 'anypos', 'y', 'positive'), 'sentimentally': ('strongsubj', '1', 'anypos', 'y', 'positive'), 'sentiments': ('strongsubj', '1', 'anypos', 'n', 'positive'), 'serene': ('strongsubj', '1', 'adj', 'n', 'positive'), 'serenity': ('strongsubj', '1', 'noun', 'n', 'positive'), 'serious': ('strongsubj', '1', 'anypos', 'n', 'negative'), 'seriously': ('strongsubj', '1', 'anypos', 'n', 'negative'), 'seriousness': ('strongsubj', '1', 'noun', 'n', 'negative'), 'sermonize': ('strongsubj', '1', 'verb', 'y', 'negative'), 'servitude': ('strongsubj', '1', 'noun', 'n', 'negative'), 'settle': ('weaksubj', '1', 'adj', 'n', 'positive'), 'set-up': ('strongsubj', '1', 'noun', 'n', 'negative'), 'sever': ('weaksubj', '1', 'adj', 'n', 'negative'), 'severe': ('strongsubj', '1', 'anypos', 'n', 'negative'), 'severely': ('strongsubj', '1', 'anypos', 'n', 'negative'), 'severity': ('strongsubj', '1', 'noun', 'n', 'negative'), 'sexy': ('strongsubj', '1', 'adj', 'n', 'positive'), 'shabby': ('strongsubj', '1', 'adj', 'n', 'negative'), 'shadow': ('strongsubj', '1', 'verb', 'y', 'negative'), 'shadowy': ('weaksubj', '1', 'adj', 'n', 'negative'), 'shady': ('strongsubj', '1', 'adj', 'n', 'negative'), 'shake': ('weaksubj', '1', 'verb', 'y', 'negative'), 'shaky': ('weaksubj', '1', 'adj', 'n', 'negative'), 'shallow': ('weaksubj', '1', 'adj', 'n', 'negative'), 'sham': ('strongsubj', '1', 'adj', 'n', 'negative'), 'shambles': ('strongsubj', '1', 'adj', 'n', 'negative'), 'shame': ('strongsubj', '1', 'verb', 'y', 'negative'), 'shameful': ('strongsubj', '1', 'noun', 'n', 'negative'), 'shamefully': ('strongsubj', '1', 'noun', 'n', 'negative'), 'shamefulness': ('strongsubj', '1', 'noun', 'n', 'negative'), 'shameless': ('strongsubj', '1', 'adj', 'n', 'negative'), 'shamelessly': ('strongsubj', '1', 'anypos', 'n', 'negative'), 'shamelessness': ('strongsubj', '1', 'noun', 'n', 'negative'), 'shark': ('strongsubj', '1', 'noun', 'n', 'negative'), 'sharp': ('weaksubj', '1', 'adj', 'n', 'negative'), 'sharply': ('weaksubj', '1', 'adverb', 'n', 'negative'), 'shatter': ('strongsubj', '1', 'verb', 'y', 'negative'), 'sheer': ('strongsubj', '1', 'adj', 'n', 'negative'), 'shelter': ('weaksubj', '1', 'verb', 'y', 'positive'), 'shield': ('weaksubj', '1', 'verb', 'y', 'positive'), 'shimmer': ('strongsubj', '1', 'anypos', 'y', 'positive'), 'shimmering': ('strongsubj', '1', 'anypos', 'y', 'positive'), 'shimmeringly': ('strongsubj', '1', 'anypos', 'n', 'positive'), 'shine': ('weaksubj', '1', 'anypos', 'y', 'positive'), 'shiny': ('strongsubj', '1', 'anypos', 'n', 'positive'), 'shirk': ('strongsubj', '1', 'verb', 'y', 'negative'), 'shirker': ('strongsubj', '1', 'anypos', 'n', 'negative'), 'shipwreck': ('weaksubj', '1', 'noun', 'n', 'negative'), 'shiver': ('strongsubj', '1', 'verb', 'y', 'negative'), 'shock': ('strongsubj', '1', 'verb', 'y', 'negative'), 'shocking': ('strongsubj', '1', 'adj', 'n', 'negative'), 'shockingly': ('strongsubj', '1', 'anypos', 'n', 'negative'), 'shoddy': ('strongsubj', '1', 'adj', 'n', 'negative'), 'short-lived': ('weaksubj', '1', 'adj', 'n', 'negative'), 'shortage': ('weaksubj', '1', 'noun', 'n', 'negative'), 'shortchange': ('strongsubj', '1', 'verb', 'y', 'negative'), 'shortcoming': ('strongsubj', '1', 'noun', 'n', 'negative'), 'shortcomings': ('strongsubj', '1', 'noun', 'n', 'negative'), 'shortsighted': ('strongsubj', '1', 'anypos', 'n', 'negative'), 'shortsightedness': ('strongsubj', '1', 'anypos', 'n', 'negative'), 'should': ('weaksubj', '1', 'anypos', 'y', 'neutral'), 'show': ('weaksubj', '1', 'anypos', 'y', 'neutral'), 'showdown': ('weaksubj', '1', 'noun', 'n', 'negative'), 'shred': ('weaksubj', '1', 'verb', 'y', 'negative'), 'shrew': ('strongsubj', '1', 'noun', 'n', 'negative'), 'shrewd': ('strongsubj', '1', 'adj', 'n', 'positive'), 'shrewdly': ('strongsubj', '1', 'adverb', 'n', 'positive'), 'shrewdness': ('strongsubj', '1', 'noun', 'n', 'positive'), 'shriek': ('strongsubj', '1', 'verb', 'y', 'negative'), 'shrill': ('strongsubj', '1', 'noun', 'n', 'negative'), 'shrilly': ('strongsubj', '1', 'anypos', 'n', 'negative'), 'shrivel': ('strongsubj', '1', 'verb', 'y', 'negative'), 'shroud': ('strongsubj', '1', 'verb', 'y', 'negative'), 'shrouded': ('strongsubj', '1', 'verb', 'n', 'negative'), 'shrug': ('weaksubj', '1', 'verb', 'y', 'negative'), 'shun': ('strongsubj', '1', 'verb', 'y', 'negative'), 'shunned': ('strongsubj', '1', 'adj', 'n', 'negative'), 'shy': ('strongsubj', '1', 'adj', 'n', 'negative'), 'shyly': ('strongsubj', '1', 'adverb', 'n', 'negative'), 'shyness': ('strongsubj', '1', 'noun', 'n', 'negative'), 'sick': ('weaksubj', '1', 'adj', 'n', 'negative'), 'sicken': ('weaksubj', '1', 'verb', 'y', 'negative'), 'sickly': ('strongsubj', '1', 'adverb', 'n', 'negative'), 'sickening': ('strongsubj', '1', 'anypos', 'n', 'negative'), 'sickeningly': ('strongsubj', '1', 'anypos', 'n', 'negative'), 'sickness': ('weaksubj', '1', 'noun', 'n', 'negative'), 'sidetrack': ('strongsubj', '1', 'verb', 'y', 'negative'), 'sidetracked': ('strongsubj', '1', 'adj', 'n', 'negative'), 'siege': ('weaksubj', '1', 'noun', 'n', 'negative'), 'signals': ('weaksubj', '1', 'noun', 'n', 'neutral'), 'significant': ('weaksubj', '1', 'adj', 'n', 'positive'), 'significance': ('weaksubj', '1', 'noun', 'n', 'positive'), 'signify': ('weaksubj', '1', 'verb', 'y', 'positive'), 'sillily': ('strongsubj', '1', 'anypos', 'n', 'negative'), 'silly': ('strongsubj', '1', 'anypos', 'n', 'negative'), 'simmer': ('strongsubj', '1', 'verb', 'y', 'negative'), 'simple': ('weaksubj', '1', 'adj', 'n', 'positive'), 'simplicity': ('strongsubj', '1', 'noun', 'n', 'positive'), 'simplified': ('weaksubj', '1', 'adj', 'n', 'positive'), 'simplify': ('weaksubj', '1', 'verb', 'y', 'positive'), 'simplistic': ('strongsubj', '1', 'noun', 'n', 'negative'), 'simplistically': ('strongsubj', '1', 'anypos', 'n', 'negative'), 'simply': ('weaksubj', '1', 'anypos', 'y', 'neutral'), 'sin': ('strongsubj', '1', 'noun', 'n', 'negative'), 'sinful': ('strongsubj', '1', 'adj', 'n', 'negative'), 'sinfully': ('strongsubj', '1', 'adverb', 'n', 'negative'), 'sincere': ('strongsubj', '1', 'adj', 'n', 'positive'), 'sincerely': ('strongsubj', '1', 'anypos', 'n', 'positive'), 'sincerity': ('weaksubj', '1', 'noun', 'n', 'positive'), 'sinister': ('strongsubj', '1', 'adj', 'n', 'negative'), 'sinisterly': ('strongsubj', '1', 'anypos', 'n', 'negative'), 'sinking': ('weaksubj', '1', 'noun', 'n', 'negative'), 'skeletons': ('strongsubj', '1', 'noun', 'n', 'negative'), 'skeptical': ('strongsubj', '1', 'noun', 'n', 'negative'), 'skeptically': ('strongsubj', '1', 'anypos', 'n', 'negative'), 'skepticism': ('strongsubj', '1', 'noun', 'n', 'negative'), 'sketchy': ('weaksubj', '1', 'adj', 'n', 'negative'), 'skill': ('weaksubj', '1', 'noun', 'n', 'positive'), 'skilled': ('weaksubj', '1', 'adj', 'n', 'positive'), 'skillful': ('strongsubj', '1', 'noun', 'n', 'positive'), 'skillfully': ('strongsubj', '1', 'adverb', 'n', 'positive'), 'skimpy': ('weaksubj', '1', 'adj', 'n', 'negative'), 'skittish': ('strongsubj', '1', 'anypos', 'y', 'negative'), 'skittishly': ('strongsubj', '1', 'anypos', 'n', 'negative'), 'skulk': ('strongsubj', '1', 'verb', 'y', 'negative'), 'skyrocketing': ('weaksubj', '1', 'adj', 'n', 'negative'), 'slack': ('weaksubj', '1', 'adj', 'n', 'negative'), 'slander': ('strongsubj', '1', 'verb', 'y', 'negative'), 'slanderer': ('strongsubj', '1', 'noun', 'n', 'negative'), 'slanderous': ('strongsubj', '1', 'adj', 'n', 'negative'), 'slanderously': ('strongsubj', '1', 'anypos', 'n', 'negative'), 'slanders': ('strongsubj', '1', 'noun', 'n', 'negative'), 'slap': ('strongsubj', '1', 'verb', 'y', 'negative'), 'slashing': ('strongsubj', '1', 'noun', 'n', 'negative'), 'slaughter': ('weaksubj', '1', 'verb', 'y', 'negative'), 'slaughtered': ('weaksubj', '1', 'adj', 'n', 'negative'), 'slaves': ('strongsubj', '1', 'noun', 'n', 'negative'), 'sleazy': ('strongsubj', '1', 'adj', 'n', 'negative'), 'sleek': ('weaksubj', '1', 'adj', 'n', 'positive'), 'sleepy': ('weaksubj', '1', 'adj', 'n', 'neutral'), 'slender': ('weaksubj', '1', 'adj', 'n', 'positive'), 'slight': ('weaksubj', '1', 'verb', 'y', 'negative'), 'slightly': ('weaksubj', '1', 'adverb', 'n', 'negative'), 'slim': ('weaksubj', '1', 'noun', 'n', 'positive'), 'slime': ('strongsubj', '1', 'noun', 'n', 'negative'), 'sloppy': ('strongsubj', '1', 'adj', 'n', 'negative'), 'sloppily': ('strongsubj', '1', 'adverb', 'n', 'negative'), 'sloth': ('strongsubj', '1', 'noun', 'n', 'negative'), 'slothful': ('strongsubj', '1', 'adj', 'n', 'negative'), 'slow': ('weaksubj', '1', 'adj', 'n', 'negative'), 'slowly': ('weaksubj', '1', 'adverb', 'n', 'negative'), 'slow-moving': ('weaksubj', '1', 'adj', 'n', 'negative'), 'slug': ('weaksubj', '1', 'noun', 'n', 'negative'), 'sluggish': ('weaksubj', '1', 'adj', 'n', 'negative'), 'slump': ('weaksubj', '1', 'noun', 'n', 'negative'), 'slur': ('strongsubj', '1', 'noun', 'n', 'negative'), 'sly': ('strongsubj', '1', 'adj', 'n', 'negative'), 'smack': ('strongsubj', '1', 'noun', 'n', 'negative'), 'smart': ('strongsubj', '1', 'verb', 'y', 'positive'), 'smarter': ('strongsubj', '1', 'adj', 'n', 'positive'), 'smartest': ('strongsubj', '1', 'anypos', 'n', 'positive'), 'smartly': ('strongsubj', '1', 'anypos', 'n', 'positive'), 'smash': ('weaksubj', '1', 'verb', 'y', 'negative'), 'smear': ('weaksubj', '1', 'verb', 'y', 'negative'), 'smelling': ('weaksubj', '1', 'anypos', 'y', 'negative'), 'smile': ('strongsubj', '1', 'verb', 'y', 'positive'), 'smiling': ('strongsubj', '1', 'adj', 'n', 'positive'), 'smilingly': ('strongsubj', '1', 'adverb', 'n', 'positive'), 'smitten': ('strongsubj', '1', 'verb', 'y', 'positive'), 'smokescreen': ('strongsubj', '1', 'noun', 'n', 'negative'), 'smolder': ('strongsubj', '1', 'verb', 'y', 'negative'), 'smoldering': ('strongsubj', '1', 'adj', 'n', 'negative'), 'smooth': ('weaksubj', '1', 'adj', 'n', 'positive'), 'smother': ('strongsubj', '1', 'verb', 'y', 'negative'), 'smoulder': ('strongsubj', '1', 'verb', 'y', 'negative'), 'smouldering': ('strongsubj', '1', 'anypos', 'n', 'negative'), 'smug': ('strongsubj', '1', 'adj', 'n', 'negative'), 'smugly': ('strongsubj', '1', 'adverb', 'n', 'negative'), 'smut': ('strongsubj', '1', 'noun', 'n', 'negative'), 'smuttier': ('strongsubj', '1', 'adj', 'n', 'negative'), 'smuttiest': ('strongsubj', '1', 'adj', 'n', 'negative'), 'smutty': ('strongsubj', '1', 'adj', 'n', 'negative'), 'snare': ('weaksubj', '1', 'noun', 'n', 'negative'), 'snarl': ('weaksubj', '1', 'verb', 'y', 'negative'), 'snatch': ('weaksubj', '1', 'verb', 'y', 'negative'), 'sneak': ('weaksubj', '1', 'verb', 'y', 'negative'), 'sneakily': ('weaksubj', '1', 'adverb', 'n', 'negative'), 'sneaky': ('weaksubj', '1', 'adj', 'n', 'negative'), 'sneer': ('strongsubj', '1', 'verb', 'y', 'negative'), 'sneering': ('strongsubj', '1', 'anypos', 'n', 'negative'), 'sneeringly': ('strongsubj', '1', 'anypos', 'n', 'negative'), 'snub': ('strongsubj', '1', 'verb', 'y', 'negative'), 'so': ('weaksubj', '1', 'anypos', 'y', 'neutral'), 'so-cal': ('strongsubj', '1', 'adj', 'n', 'negative'), 'so-called': ('strongsubj', '1', 'anypos', 'n', 'negative'), 'sob': ('strongsubj', '1', 'verb', 'y', 'negative'), 'sober': ('weaksubj', '1', 'verb', 'y', 'negative'), 'sobering': ('strongsubj', '1', 'adj', 'n', 'negative'), 'sociable': ('strongsubj', '1', 'adj', 'n', 'positive'), 'soft-spoken': ('weaksubj', '1', 'adj', 'n', 'positive'), 'soften': ('strongsubj', '1', 'verb', 'y', 'positive'), 'solace': ('strongsubj', '1', 'verb', 'y', 'positive'), 'solemn': ('weaksubj', '1', 'noun', 'n', 'negative'), 'solicitous': ('strongsubj', '1', 'anypos', 'n', 'positive'), 'solicitously': ('strongsubj', '1', 'anypos', 'n', 'positive'), 'solicitude': ('strongsubj', '1', 'noun', 'n', 'positive'), 'solid': ('weaksubj', '1', 'noun', 'n', 'positive'), 'solidarity': ('strongsubj', '1', 'noun', 'n', 'positive'), 'soliloquize': ('strongsubj', '1', 'verb', 'y', 'neutral'), 'somber': ('strongsubj', '1', 'adj', 'n', 'negative'), 'soothe': ('strongsubj', '1', 'verb', 'y', 'positive'), 'soothingly': ('strongsubj', '1', 'anypos', 'n', 'positive'), 'sophisticated': ('strongsubj', '1', 'adj', 'n', 'positive'), 'sore': ('strongsubj', '1', 'noun', 'n', 'negative'), 'sorely': ('strongsubj', '1', 'anypos', 'n', 'negative'), 'soreness': ('weaksubj', '1', 'noun', 'n', 'negative'), 'sorrow': ('weaksubj', '1', 'verb', 'y', 'negative'), 'sorrowful': ('strongsubj', '1', 'anypos', 'n', 'negative'), 'sorrowfully': ('strongsubj', '1', 'anypos', 'n', 'negative'), 'sorry': ('strongsubj', '1', 'adj', 'n', 'negative'), 'sound': ('weaksubj', '1', 'adj', 'n', 'positive'), 'sounding': ('weaksubj', '1', 'anypos', 'n', 'negative'), 'soundness': ('weaksubj', '1', 'noun', 'n', 'positive'), 'sour': ('weaksubj', '1', 'adj', 'n', 'negative'), 'sourly': ('weaksubj', '1', 'adj', 'n', 'negative'), 'sovereignty': ('weaksubj', '1', 'noun', 'n', 'neutral'), 'spacious': ('weaksubj', '1', 'adj', 'n', 'positive'), 'spade': ('strongsubj', '1', 'noun', 'n', 'negative'), 'spank': ('strongsubj', '1', 'verb', 'y', 'negative'), 'spare': ('weaksubj', '1', 'verb', 'y', 'positive'), 'sparing': ('weaksubj', '1', 'adj', 'n', 'positive'), 'sparingly': ('weaksubj', '1', 'adverb', 'n', 'positive'), 'sparkle': ('strongsubj', '1', 'anypos', 'y', 'positive'), 'sparkling': ('weaksubj', '1', 'adj', 'n', 'positive'), 'specific': ('weaksubj', '1', 'adj', 'n', 'neutral'), 'specifically': ('weaksubj', '1', 'anypos', 'n', 'neutral'), 'special': ('weaksubj', '1', 'adj', 'n', 'positive'), 'spectacular': ('strongsubj', '1', 'adj', 'n', 'positive'), 'spectacularly': ('strongsubj', '1', 'anypos', 'n', 'positive'), 'speculate': ('weaksubj', '1', 'verb', 'y', 'neutral'), 'speculation': ('weaksubj', '1', 'noun', 'n', 'neutral'), 'speedy': ('weaksubj', '1', 'adj', 'n', 'positive'), 'spellbind': ('strongsubj', '1', 'verb', 'y', 'positive'), 'spellbinding': ('strongsubj', '1', 'anypos', 'n', 'positive'), 'spellbindingly': ('strongsubj', '1', 'anypos', 'n', 'positive'), 'spellbound': ('strongsubj', '1', 'verb', 'y', 'positive'), 'spilling': ('strongsubj', '1', 'noun', 'n', 'negative'), 'spinster': ('weaksubj', '1', 'noun', 'n', 'negative'), 'spirit': ('weaksubj', '1', 'noun', 'n', 'positive'), 'spirited': ('weaksubj', '1', 'adj', 'n', 'positive'), 'spiritless': ('strongsubj', '1', 'adj', 'n', 'negative'), 'spiritual': ('strongsubj', '1', 'noun', 'n', 'positive'), 'spite': ('strongsubj', '1', 'noun', 'n', 'negative'), 'spiteful': ('strongsubj', '1', 'adj', 'n', 'negative'), 'spitefully': ('strongsubj', '1', 'anypos', 'n', 'negative'), 'spitefulness': ('strongsubj', '1', 'noun', 'n', 'negative'), 'splayed-finger': ('strongsubj', '1', 'noun', 'n', 'neutral'), 'splendid': ('strongsubj', '1', 'adj', 'n', 'positive'), 'splendidly': ('strongsubj', '1', 'anypos', 'n', 'positive'), 'splendor': ('strongsubj', '1', 'noun', 'n', 'positive'), 'split': ('weaksubj', '1', 'verb', 'y', 'negative'), 'splitting': ('weaksubj', '1', 'adj', 'n', 'negative'), 'spoil': ('strongsubj', '1', 'verb', 'y', 'negative'), 'spook': ('strongsubj', '1', 'verb', 'y', 'negative'), 'spookier': ('strongsubj', '1', 'adj', 'n', 'negative'), 'spookiest': ('strongsubj', '1', 'adj', 'n', 'negative'), 'spookily': ('strongsubj', '1', 'anypos', 'n', 'negative'), 'spooky': ('strongsubj', '1', 'anypos', 'n', 'negative'), 'spoon-fed': ('strongsubj', '1', 'anypos', 'n', 'negative'), 'spoon-feed': ('strongsubj', '1', 'verb', 'y', 'negative'), 'spoonfed': ('strongsubj', '1', 'anypos', 'n', 'negative'), 'sporadic': ('weaksubj', '1', 'adj', 'n', 'negative'), 'spot': ('weaksubj', '1', 'adj', 'n', 'negative'), 'spotless': ('strongsubj', '1', 'adj', 'n', 'positive'), 'spotty': ('weaksubj', '1', 'adj', 'n', 'negative'), 'sprightly': ('strongsubj', '1', 'adj', 'n', 'positive'), 'spur': ('strongsubj', '1', 'verb', 'y', 'positive'), 'spurious': ('strongsubj', '1', 'adj', 'n', 'negative'), 'spurn': ('strongsubj', '1', 'verb', 'y', 'negative'), 'sputter': ('strongsubj', '1', 'verb', 'y', 'negative'), 'squabble': ('strongsubj', '1', 'verb', 'y', 'negative'), 'squabbling': ('strongsubj', '1', 'anypos', 'n', 'negative'), 'squander': ('strongsubj', '1', 'verb', 'y', 'negative'), 'squarely': ('strongsubj', '1', 'adj', 'n', 'positive'), 'squash': ('strongsubj', '1', 'verb', 'y', 'negative'), 'squirm': ('strongsubj', '1', 'verb', 'y', 'negative'), 'stab': ('weaksubj', '1', 'verb', 'y', 'negative'), 'stability': ('weaksubj', '1', 'noun', 'n', 'positive'), 'stabilize': ('weaksubj', '1', 'verb', 'y', 'positive'), 'stable': ('weaksubj', '1', 'noun', 'n', 'positive'), 'stagger': ('weaksubj', '1', 'verb', 'y', 'negative'), 'staggering': ('strongsubj', '1', 'adj', 'n', 'negative'), 'staggeringly': ('strongsubj', '1', 'anypos', 'n', 'negative'), 'stagnant': ('weaksubj', '1', 'adj', 'n', 'negative'), 'stagnate': ('strongsubj', '1', 'verb', 'y', 'negative'), 'stagnation': ('strongsubj', '1', 'noun', 'n', 'negative'), 'staid': ('strongsubj', '1', 'adj', 'n', 'negative'), 'stain': ('weaksubj', '1', 'verb', 'y', 'negative'), 'stainless': ('weaksubj', '1', 'adj', 'n', 'positive'), 'stake': ('weaksubj', '1', 'noun', 'n', 'negative'), 'stale': ('strongsubj', '1', 'adj', 'n', 'negative'), 'stalemate': ('strongsubj', '1', 'noun', 'n', 'negative'), 'stammer': ('strongsubj', '1', 'verb', 'y', 'negative'), 'stampede': ('weaksubj', '1', 'noun', 'n', 'negative'), 'stance': ('weaksubj', '1', 'noun', 'n', 'neutral'), 'stances': ('weaksubj', '1', 'noun', 'n', 'neutral'), 'stand': ('weaksubj', '1', 'verb', 'y', 'positive'), 'stands': ('weaksubj', '1', 'noun', 'n', 'neutral'), 'standstill': ('strongsubj', '1', 'noun', 'n', 'negative'), 'star': ('strongsubj', '1', 'noun', 'n', 'positive'), 'stark': ('strongsubj', '1', 'adj', 'n', 'negative'), 'starkly': ('strongsubj', '1', 'anypos', 'n', 'negative'), 'stars': ('strongsubj', '1', 'noun', 'n', 'positive'), 'startle': ('strongsubj', '1', 'verb', 'y', 'negative'), 'startling': ('strongsubj', '1', 'anypos', 'n', 'negative'), 'startlingly': ('strongsubj', '1', 'anypos', 'n', 'negative'), 'starvation': ('weaksubj', '1', 'noun', 'n', 'negative'), 'starve': ('weaksubj', '1', 'verb', 'y', 'negative'), 'stately': ('strongsubj', '1', 'adj', 'n', 'positive'), 'statements': ('weaksubj', '1', 'noun', 'n', 'neutral'), 'static': ('weaksubj', '1', 'adj', 'n', 'negative'), 'statuesque': ('strongsubj', '1', 'adj', 'n', 'positive'), 'staunch': ('strongsubj', '1', 'adj', 'n', 'positive'), 'staunchly': ('strongsubj', '1', 'anypos', 'n', 'positive'), 'staunchness': ('strongsubj', '1', 'noun', 'n', 'positive'), 'steadfast': ('strongsubj', '1', 'adj', 'n', 'positive'), 'steadfastly': ('strongsubj', '1', 'adverb', 'n', 'positive'), 'steadfastness': ('strongsubj', '1', 'noun', 'n', 'positive'), 'steadiness': ('weaksubj', '1', 'noun', 'n', 'positive'), 'steady': ('weaksubj', '1', 'adj', 'n', 'positive'), 'steal': ('weaksubj', '1', 'verb', 'y', 'negative'), 'stealing': ('weaksubj', '1', 'noun', 'n', 'negative'), 'steep': ('weaksubj', '1', 'adj', 'n', 'negative'), 'steeply': ('weaksubj', '1', 'adverb', 'n', 'negative'), 'stellar': ('strongsubj', '1', 'adj', 'n', 'positive'), 'stellarly': ('strongsubj', '1', 'anypos', 'n', 'positive'), 'stench': ('strongsubj', '1', 'anypos', 'n', 'negative'), 'stereotype': ('strongsubj', '1', 'noun', 'n', 'negative'), 'stereotypical': ('strongsubj', '1', 'anypos', 'n', 'negative'), 'stereotypically': ('strongsubj', '1', 'anypos', 'n', 'negative'), 'stern': ('strongsubj', '1', 'noun', 'n', 'negative'), 'stew': ('strongsubj', '1', 'verb', 'y', 'negative'), 'sticky': ('weaksubj', '1', 'adj', 'n', 'negative'), 'stiff': ('weaksubj', '1', 'adj', 'n', 'negative'), 'stifle': ('strongsubj', '1', 'verb', 'y', 'negative'), 'stifling': ('strongsubj', '1', 'anypos', 'n', 'negative'), 'stiflingly': ('strongsubj', '1', 'anypos', 'n', 'negative'), 'stigma': ('strongsubj', '1', 'verb', 'y', 'negative'), 'stigmatize': ('strongsubj', '1', 'verb', 'y', 'negative'), 'still': ('weaksubj', '1', 'anypos', 'y', 'neutral'), 'stimulate': ('weaksubj', '1', 'verb', 'y', 'positive'), 'stimulating': ('strongsubj', '1', 'anypos', 'n', 'positive'), 'stimulative': ('weaksubj', '1', 'adj', 'n', 'positive'), 'sting': ('weaksubj', '1', 'verb', 'y', 'negative'), 'stinging': ('strongsubj', '1', 'adj', 'n', 'negative'), 'stingingly': ('strongsubj', '1', 'adj', 'n', 'negative'), 'stink': ('strongsubj', '1', 'verb', 'y', 'negative'), 'stinking': ('strongsubj', '1', 'anypos', 'n', 'negative'), 'stir': ('weaksubj', '1', 'verb', 'y', 'neutral'), 'stirring': ('strongsubj', '1', 'adj', 'n', 'positive'), 'stirringly': ('strongsubj', '1', 'anypos', 'n', 'positive'), 'stodgy': ('strongsubj', '1', 'adj', 'n', 'negative'), 'stole': ('weaksubj', '1', 'verb', 'n', 'negative'), 'stolen': ('weaksubj', '1', 'verb', 'n', 'negative'), 'stood': ('weaksubj', '1', 'verb', 'y', 'positive'), 'stooge': ('strongsubj', '1', 'anypos', 'n', 'negative'), 'stooges': ('strongsubj', '1', 'noun', 'n', 'negative'), 'storm': ('weaksubj', '1', 'verb', 'y', 'negative'), 'stormy': ('weaksubj', '1', 'adj', 'n', 'negative'), 'straggle': ('weaksubj', '1', 'verb', 'y', 'negative'), 'straggler': ('weaksubj', '1', 'noun', 'n', 'negative'), 'straight': ('weaksubj', '1', 'adj', 'n', 'positive'), 'straightforward': ('strongsubj', '1', 'adj', 'n', 'positive'), 'strain': ('weaksubj', '1', 'verb', 'y', 'negative'), 'strained': ('weaksubj', '1', 'adj', 'n', 'negative'), 'strange': ('strongsubj', '1', 'anypos', 'y', 'negative'), 'strangely': ('strongsubj', '1', 'anypos', 'y', 'negative'), 'stranger': ('strongsubj', '1', 'anypos', 'y', 'negative'), 'strangest': ('strongsubj', '1', 'anypos', 'y', 'negative'), 'strangle': ('weaksubj', '1', 'verb', 'y', 'negative'), 'streamlined': ('weaksubj', '1', 'adj', 'n', 'positive'), 'strength': ('weaksubj', '1', 'noun', 'n', 'neutral'), 'strenuous': ('weaksubj', '1', 'adj', 'n', 'negative'), 'stress': ('strongsubj', '1', 'verb', 'y', 'negative'), 'stressful': ('strongsubj', '1', 'adj', 'n', 'negative'), 'stressfully': ('strongsubj', '1', 'adverb', 'n', 'negative'), 'stricken': ('strongsubj', '1', 'adj', 'n', 'negative'), 'strict': ('strongsubj', '1', 'adj', 'n', 'negative'), 'strictly': ('strongsubj', '1', 'adverb', 'n', 'negative'), 'stride': ('strongsubj', '1', 'noun', 'n', 'positive'), 'strident': ('strongsubj', '1', 'adj', 'n', 'negative'), 'stridently': ('strongsubj', '1', 'adverb', 'n', 'negative'), 'strides': ('weaksubj', '1', 'noun', 'n', 'positive'), 'strife': ('strongsubj', '1', 'noun', 'n', 'negative'), 'strike': ('weaksubj', '1', 'verb', 'y', 'negative'), 'striking': ('strongsubj', '1', 'adj', 'n', 'positive'), 'strikingly': ('strongsubj', '1', 'anypos', 'n', 'positive'), 'stringent': ('weaksubj', '1', 'adj', 'n', 'negative'), 'stringently': ('weaksubj', '1', 'adverb', 'n', 'negative'), 'striving': ('strongsubj', '1', 'noun', 'n', 'positive'), 'strong': ('weaksubj', '1', 'adj', 'n', 'positive'), 'stronger-than-expected': ('weaksubj', '1', 'adj', 'n', 'neutral'), 'struck': ('weaksubj', '1', 'verb', 'y', 'negative'), 'struggle': ('strongsubj', '1', 'noun', 'n', 'negative'), 'strut': ('strongsubj', '1', 'verb', 'y', 'negative'), 'stubborn': ('strongsubj', '1', 'adj', 'n', 'negative'), 'stubbornly': ('strongsubj', '1', 'adverb', 'n', 'negative'), 'stubbornness': ('strongsubj', '1', 'noun', 'n', 'negative'), 'studious': ('strongsubj', '1', 'adj', 'n', 'positive'), 'studiously': ('strongsubj', '1', 'adverb', 'n', 'positive'), 'stuffed': ('weaksubj', '1', 'adj', 'n', 'neutral'), 'stuffy': ('strongsubj', '1', 'adj', 'n', 'negative'), 'stumble': ('weaksubj', '1', 'anypos', 'y', 'negative'), 'stump': ('weaksubj', '1', 'verb', 'y', 'negative'), 'stun': ('weaksubj', '1', 'verb', 'y', 'negative'), 'stunned': ('strongsubj', '1', 'adj', 'n', 'positive'), 'stunning': ('strongsubj', '1', 'adj', 'n', 'positive'), 'stunningly': ('strongsubj', '1', 'anypos', 'n', 'positive'), 'stunt': ('weaksubj', '1', 'noun', 'n', 'negative'), 'stunted': ('weaksubj', '1', 'adj', 'n', 'negative'), 'stupefy': ('weaksubj', '1', 'verb', 'y', 'neutral'), 'stupendous': ('strongsubj', '1', 'adj', 'n', 'positive'), 'stupendously': ('strongsubj', '1', 'anypos', 'n', 'positive'), 'stupid': ('strongsubj', '1', 'anypos', 'n', 'negative'), 'stupidity': ('strongsubj', '1', 'noun', 'n', 'negative'), 'stupidly': ('strongsubj', '1', 'anypos', 'n', 'negative'), 'stupified': ('strongsubj', '1', 'adj', 'n', 'negative'), 'stupify': ('strongsubj', '1', 'verb', 'y', 'negative'), 'stupor': ('strongsubj', '1', 'noun', 'n', 'negative'), 'sturdy': ('weaksubj', '1', 'adj', 'n', 'positive'), 'sty': ('strongsubj', '1', 'noun', 'n', 'negative'), 'stylish': ('strongsubj', '1', 'adj', 'n', 'positive'), 'stylishly': ('strongsubj', '1', 'adverb', 'n', 'positive'), 'suave': ('strongsubj', '1', 'adj', 'n', 'positive'), 'subdued': ('weaksubj', '1', 'adj', 'n', 'negative'), 'subjected': ('weaksubj', '1', 'anypos', 'n', 'negative'), 'subjection': ('weaksubj', '1', 'noun', 'n', 'negative'), 'subjugate': ('strongsubj', '1', 'verb', 'y', 'negative'), 'subjugation': ('strongsubj', '1', 'noun', 'n', 'negative'), 'sublime': ('strongsubj', '1', 'adj', 'n', 'positive'), 'submissive': ('weaksubj', '1', 'adj', 'n', 'negative'), 'subordinate': ('weaksubj', '1', 'noun', 'n', 'negative'), 'subscribe': ('weaksubj', '1', 'verb', 'y', 'positive'), 'subservience': ('strongsubj', '1', 'noun', 'n', 'negative'), 'subservient': ('strongsubj', '1', 'adj', 'n', 'negative'), 'subside': ('weaksubj', '1', 'verb', 'y', 'negative'), 'substandard': ('weaksubj', '1', 'adj', 'n', 'negative'), 'substantial': ('weaksubj', '1', 'adj', 'n', 'positive'), 'substantially': ('weaksubj', '1', 'adverb', 'n', 'positive'), 'substantive': ('weaksubj', '1', 'adj', 'n', 'positive'), 'subtle': ('weaksubj', '1', 'adj', 'n', 'positive'), 'subtract': ('weaksubj', '1', 'verb', 'y', 'negative'), 'subversion': ('weaksubj', '1', 'noun', 'n', 'negative'), 'subversive': ('weaksubj', '1', 'adj', 'n', 'negative'), 'subversively': ('weaksubj', '1', 'adverb', 'n', 'negative'), 'subvert': ('weaksubj', '1', 'verb', 'y', 'negative'), 'succeed': ('weaksubj', '1', 'verb', 'y', 'positive'), 'success': ('weaksubj', '1', 'noun', 'n', 'positive'), 'successful': ('weaksubj', '1', 'adj', 'n', 'positive'), 'successfully': ('weaksubj', '1', 'adverb', 'n', 'positive'), 'succumb': ('strongsubj', '1', 'verb', 'y', 'negative'), 'such': ('weaksubj', '1', 'anypos', 'y', 'neutral'), 'sucker': ('strongsubj', '1', 'noun', 'n', 'negative'), 'suffer': ('weaksubj', '1', 'verb', 'y', 'negative'), 'sufferer': ('strongsubj', '1', 'noun', 'n', 'negative'), 'sufferers': ('strongsubj', '1', 'noun', 'n', 'negative'), 'suffering': ('strongsubj', '1', 'noun', 'n', 'negative'), 'suffice': ('weaksubj', '1', 'verb', 'y', 'positive'), 'sufficient': ('weaksubj', '1', 'adj', 'n', 'positive'), 'sufficiently': ('weaksubj', '1', 'adverb', 'n', 'positive'), 'suffocate': ('strongsubj', '1', 'verb', 'y', 'negative'), 'sugar-coat': ('strongsubj', '1', 'verb', 'y', 'negative'), 'sugar-coated': ('strongsubj', '1', 'anypos', 'n', 'negative'), 'sugarcoated': ('strongsubj', '1', 'anypos', 'n', 'negative'), 'suggest': ('weaksubj', '1', 'anypos', 'y', 'positive'), 'suggestions': ('weaksubj', '1', 'noun', 'n', 'positive'), 'suicidal': ('weaksubj', '1', 'adj', 'n', 'negative'), 'suicide': ('weaksubj', '1', 'noun', 'n', 'negative'), 'suit': ('weaksubj', '1', 'verb', 'y', 'positive'), 'suitable': ('weaksubj', '1', 'adj', 'n', 'positive'), 'sulk': ('strongsubj', '1', 'verb', 'y', 'negative'), 'sullen': ('strongsubj', '1', 'adj', 'n', 'negative'), 'sully': ('strongsubj', '1', 'verb', 'y', 'negative'), 'sumptuous': ('strongsubj', '1', 'adj', 'n', 'positive'), 'sumptuously': ('strongsubj', '1', 'adverb', 'n', 'positive'), 'sumptuousness': ('strongsubj', '1', 'noun', 'n', 'positive'), 'sunder': ('strongsubj', '1', 'verb', 'y', 'negative'), 'sunny': ('weaksubj', '1', 'adj', 'n', 'positive'), 'super': ('strongsubj', '1', 'anypos', 'n', 'positive'), 'superb': ('strongsubj', '1', 'anypos', 'n', 'positive'), 'superbly': ('strongsubj', '1', 'anypos', 'n', 'positive'), 'superficial': ('strongsubj', '1', 'noun', 'n', 'negative'), 'superficiality': ('strongsubj', '1', 'noun', 'n', 'negative'), 'superficially': ('strongsubj', '1', 'adverb', 'n', 'negative'), 'superfluous': ('strongsubj', '1', 'adj', 'n', 'negative'), 'superior': ('weaksubj', '1', 'adj', 'n', 'positive'), 'superiority': ('strongsubj', '1', 'noun', 'n', 'negative'), 'superlative': ('strongsubj', '1', 'adj', 'n', 'positive'), 'superstition': ('strongsubj', '1', 'noun', 'n', 'negative'), 'superstitious': ('strongsubj', '1', 'noun', 'n', 'negative'), 'support': ('weaksubj', '1', 'verb', 'y', 'positive'), 'supporter': ('strongsubj', '1', 'noun', 'n', 'positive'), 'supportive': ('strongsubj', '1', 'noun', 'n', 'positive'), 'suppose': ('strongsubj', '1', 'verb', 'y', 'neutral'), 'supposed': ('weaksubj', '1', 'anypos', 'y', 'negative'), 'supposing': ('strongsubj', '1', 'anypos', 'n', 'neutral'), 'suppress': ('weaksubj', '1', 'verb', 'y', 'negative'), 'suppression': ('weaksubj', '1', 'noun', 'n', 'negative'), 'supremacy': ('strongsubj', '1', 'noun', 'n', 'negative'), 'supreme': ('strongsubj', '1', 'adj', 'n', 'positive'), 'supremely': ('strongsubj', '1', 'adverb', 'n', 'positive'), 'supurb': ('strongsubj', '1', 'adj', 'n', 'positive'), 'supurbly': ('strongsubj', '1', 'anypos', 'n', 'positive'), 'sure': ('strongsubj', '1', 'anypos', 'n', 'positive'), 'surely': ('strongsubj', '1', 'anypos', 'y', 'positive'), 'surge': ('strongsubj', '1', 'noun', 'n', 'positive'), 'surging': ('strongsubj', '1', 'adj', 'n', 'positive'), 'surmise': ('strongsubj', '1', 'verb', 'y', 'positive'), 'surmount': ('strongsubj', '1', 'verb', 'y', 'positive'), 'surpass': ('strongsubj', '1', 'verb', 'y', 'positive'), 'surprise': ('strongsubj', '1', 'verb', 'y', 'neutral'), 'surprising': ('strongsubj', '1', 'anypos', 'y', 'neutral'), 'surprisingly': ('strongsubj', '1', 'anypos', 'y', 'neutral'), 'surrender': ('weaksubj', '1', 'noun', 'n', 'negative'), 'survival': ('weaksubj', '1', 'noun', 'n', 'positive'), 'survive': ('weaksubj', '1', 'verb', 'y', 'positive'), 'survivor': ('weaksubj', '1', 'noun', 'n', 'positive'), 'susceptible': ('weaksubj', '1', 'adj', 'n', 'negative'), 'suspect': ('weaksubj', '1', 'noun', 'n', 'negative'), 'suspicion': ('weaksubj', '1', 'noun', 'n', 'negative'), 'suspicions': ('strongsubj', '1', 'noun', 'n', 'negative'), 'suspicious': ('strongsubj', '1', 'anypos', 'y', 'negative'), 'suspiciously': ('strongsubj', '1', 'anypos', 'n', 'negative'), 'sustainability': ('weaksubj', '1', 'noun', 'n', 'positive'), 'sustainable': ('weaksubj', '1', 'noun', 'n', 'positive'), 'sustained': ('weaksubj', '1', 'adj', 'n', 'positive'), 'swagger': ('strongsubj', '1', 'verb', 'y', 'negative'), 'swamped': ('strongsubj', '1', 'anypos', 'n', 'negative'), 'swear': ('strongsubj', '1', 'verb', 'n', 'negative'), 'sweeping': ('strongsubj', '1', 'adj', 'n', 'positive'), 'sweet': ('weaksubj', '1', 'adj', 'n', 'positive'), 'sweeten': ('weaksubj', '1', 'verb', 'y', 'positive'), 'sweetheart': ('weaksubj', '1', 'noun', 'n', 'positive'), 'sweetly': ('weaksubj', '1', 'adverb', 'n', 'positive'), 'sweetness': ('weaksubj', '1', 'noun', 'n', 'positive'), 'swift': ('weaksubj', '1', 'adj', 'n', 'positive'), 'swiftness': ('weaksubj', '1', 'noun', 'n', 'positive'), 'swindle': ('strongsubj', '1', 'verb', 'y', 'negative'), 'swing': ('weaksubj', '1', 'noun', 'n', 'neutral'), 'swipe': ('strongsubj', '1', 'noun', 'n', 'negative'), 'swoon': ('weaksubj', '1', 'verb', 'y', 'negative'), 'swore': ('strongsubj', '1', 'verb', 'n', 'negative'), 'sworn': ('strongsubj', '1', 'adj', 'n', 'positive'), 'sympathetic': ('strongsubj', '1', 'noun', 'n', 'negative'), 'sympathetically': ('strongsubj', '1', 'anypos', 'n', 'negative'), 'sympathies': ('strongsubj', '1', 'noun', 'n', 'negative'), 'sympathize': ('strongsubj', '1', 'verb', 'y', 'negative'), 'sympathy': ('strongsubj', '1', 'noun', 'n', 'negative'), 'symptom': ('weaksubj', '1', 'noun', 'n', 'negative'), 'syndrome': ('weaksubj', '1', 'noun', 'n', 'negative'), 'systematic': ('weaksubj', '1', 'adj', 'n', 'neutral'), 'taboo': ('strongsubj', '1', 'noun', 'n', 'negative'), 'tact': ('strongsubj', '1', 'noun', 'n', 'positive'), 'taint': ('strongsubj', '1', 'verb', 'y', 'negative'), 'tainted': ('strongsubj', '1', 'anypos', 'n', 'negative'), 'tale': ('weaksubj', '1', 'noun', 'n', 'neutral'), 'talent': ('strongsubj', '1', 'noun', 'n', 'positive'), 'talented': ('strongsubj', '1', 'adj', 'n', 'positive'), 'tall': ('weaksubj', '1', 'adj', 'n', 'neutral'), 'tamper': ('weaksubj', '1', 'verb', 'y', 'negative'), 'tangled': ('weaksubj', '1', 'adj', 'n', 'negative'), 'tantalize': ('weaksubj', '1', 'verb', 'y', 'positive'), 'tantalizing': ('strongsubj', '1', 'anypos', 'n', 'positive'), 'tantalizingly': ('strongsubj', '1', 'anypos', 'n', 'positive'), 'tantamount': ('strongsubj', '1', 'anypos', 'n', 'neutral'), 'tantrum': ('strongsubj', '1', 'noun', 'n', 'negative'), 'tardy': ('weaksubj', '1', 'adj', 'n', 'negative'), 'tarnish': ('weaksubj', '1', 'verb', 'y', 'negative'), 'taste': ('weaksubj', '1', 'verb', 'y', 'neutral'), 'tattered': ('strongsubj', '1', 'anypos', 'n', 'negative'), 'taunt': ('strongsubj', '1', 'verb', 'y', 'negative'), 'taunting': ('strongsubj', '1', 'anypos', 'n', 'negative'), 'tauntingly': ('strongsubj', '1', 'anypos', 'n', 'negative'), 'taunts': ('strongsubj', '1', 'noun', 'n', 'negative'), 'tawdry': ('strongsubj', '1', 'adj', 'n', 'negative'), 'tease': ('weaksubj', '1', 'verb', 'y', 'negative'), 'teasingly': ('strongsubj', '1', 'anypos', 'n', 'negative'), 'taxing': ('weaksubj', '1', 'anypos', 'n', 'negative'), 'tedious': ('strongsubj', '1', 'adj', 'n', 'negative'), 'tediously': ('strongsubj', '1', 'adverb', 'n', 'negative'), 'temerity': ('strongsubj', '1', 'noun', 'n', 'negative'), 'temper': ('weaksubj', '1', 'verb', 'y', 'negative'), 'temperance': ('weaksubj', '1', 'noun', 'n', 'positive'), 'temperate': ('weaksubj', '1', 'adj', 'n', 'positive'), 'tempest': ('weaksubj', '1', 'noun', 'n', 'negative'), 'tempt': ('strongsubj', '1', 'verb', 'y', 'positive'), 'temptation': ('strongsubj', '1', 'noun', 'n', 'negative'), 'tempting': ('strongsubj', '1', 'anypos', 'y', 'positive'), 'temptingly': ('strongsubj', '1', 'anypos', 'y', 'positive'), 'tenacious': ('strongsubj', '1', 'adj', 'n', 'positive'), 'tenaciously': ('strongsubj', '1', 'anypos', 'n', 'positive'), 'tenacity': ('strongsubj', '1', 'noun', 'n', 'positive'), 'tendency': ('weaksubj', '1', 'noun', 'n', 'neutral'), 'tender': ('weaksubj', '1', 'adj', 'n', 'positive'), 'tenderly': ('weaksubj', '1', 'adverb', 'n', 'positive'), 'tenderness': ('weaksubj', '1', 'noun', 'n', 'positive'), 'tense': ('weaksubj', '1', 'adj', 'n', 'negative'), 'tension': ('weaksubj', '1', 'noun', 'n', 'negative'), 'tentative': ('weaksubj', '1', 'adj', 'n', 'negative'), 'tentatively': ('weaksubj', '1', 'adverb', 'n', 'negative'), 'tenuous': ('weaksubj', '1', 'adj', 'n', 'negative'), 'tenuously': ('weaksubj', '1', 'adverb', 'n', 'negative'), 'tepid': ('weaksubj', '1', 'adj', 'n', 'negative'), 'terrible': ('strongsubj', '1', 'anypos', 'y', 'negative'), 'terribleness': ('strongsubj', '1', 'noun', 'n', 'negative'), 'terribly': ('strongsubj', '1', 'anypos', 'n', 'negative'), 'terrific': ('strongsubj', '1', 'anypos', 'y', 'positive'), 'terrifically': ('strongsubj', '1', 'anypos', 'n', 'positive'), 'terrified': ('strongsubj', '1', 'adj', 'n', 'positive'), 'terrify': ('strongsubj', '1', 'verb', 'y', 'positive'), 'terrifying': ('strongsubj', '1', 'anypos', 'n', 'positive'), 'terrifyingly': ('strongsubj', '1', 'anypos', 'n', 'positive'), 'terror': ('strongsubj', '1', 'noun', 'n', 'negative'), 'terror-genic': ('strongsubj', '1', 'noun', 'n', 'negative'), 'terrorism': ('weaksubj', '1', 'noun', 'n', 'negative'), 'terrorize': ('strongsubj', '1', 'verb', 'y', 'negative'), 'thank': ('strongsubj', '1', 'verb', 'y', 'positive'), 'thankful': ('strongsubj', '1', 'anypos', 'n', 'positive'), 'thankfully': ('strongsubj', '1', 'anypos', 'n', 'positive'), 'thankless': ('strongsubj', '1', 'anypos', 'n', 'negative'), 'theoretize': ('strongsubj', '1', 'verb', 'y', 'neutral'), 'therefore': ('strongsubj', '1', 'anypos', 'y', 'neutral'), 'think': ('strongsubj', '1', 'verb', 'y', 'neutral'), 'thinkable': ('strongsubj', '1', 'noun', 'n', 'positive'), 'thinking': ('strongsubj', '1', 'noun', 'n', 'neutral'), 'thirst': ('strongsubj', '1', 'verb', 'y', 'negative'), 'thorny': ('strongsubj', '1', 'noun', 'n', 'negative'), 'thorough': ('weaksubj', '1', 'adj', 'n', 'positive'), 'though': ('strongsubj', '1', 'anypos', 'n', 'neutral'), 'thought': ('weaksubj', '1', 'noun', 'n', 'neutral'), 'thoughtful': ('strongsubj', '1', 'adj', 'n', 'positive'), 'thoughtfully': ('strongsubj', '1', 'adverb', 'n', 'positive'), 'thoughtfulness': ('strongsubj', '1', 'noun', 'n', 'positive'), 'thoughtless': ('strongsubj', '1', 'adj', 'n', 'negative'), 'thoughtlessly': ('strongsubj', '1', 'anypos', 'n', 'negative'), 'thoughtlessness': ('strongsubj', '1', 'noun', 'n', 'negative'), 'thrash': ('weaksubj', '1', 'verb', 'y', 'negative'), 'threat': ('weaksubj', '1', 'noun', 'n', 'negative'), 'threaten': ('weaksubj', '1', 'verb', 'y', 'negative'), 'threatening': ('weaksubj', '1', 'noun', 'n', 'negative'), 'threats': ('weaksubj', '1', 'noun', 'n', 'negative'), 'thrift': ('weaksubj', '1', 'noun', 'n', 'positive'), 'thrifty': ('weaksubj', '1', 'adj', 'n', 'positive'), 'thrill': ('strongsubj', '1', 'verb', 'y', 'positive'), 'thrilling': ('strongsubj', '1', 'anypos', 'n', 'positive'), 'thrillingly': ('strongsubj', '1', 'anypos', 'n', 'positive'), 'thrills': ('strongsubj', '1', 'noun', 'n', 'positive'), 'thrive': ('weaksubj', '1', 'verb', 'y', 'positive'), 'thriving': ('weaksubj', '1', 'adj', 'n', 'positive'), 'throttle': ('strongsubj', '1', 'verb', 'y', 'negative'), 'throw': ('weaksubj', '1', 'verb', 'y', 'negative'), 'thumb': ('weaksubj', '1', 'verb', 'y', 'negative'), 'thumbs': ('weaksubj', '1', 'noun', 'n', 'negative'), 'thus': ('strongsubj', '1', 'anypos', 'y', 'neutral'), 'thusly': ('strongsubj', '1', 'anypos', 'n', 'neutral'), 'thwart': ('strongsubj', '1', 'verb', 'y', 'negative'), 'tickle': ('weaksubj', '1', 'verb', 'y', 'positive'), 'tidy': ('strongsubj', '1', 'adj', 'n', 'positive'), 'time-honored': ('strongsubj', '1', 'adj', 'n', 'positive'), 'timely': ('weaksubj', '1', 'adj', 'n', 'positive'), 'timid': ('strongsubj', '1', 'adj', 'n', 'negative'), 'timidity': ('strongsubj', '1', 'noun', 'n', 'negative'), 'timidly': ('strongsubj', '1', 'adverb', 'n', 'negative'), 'timidness': ('strongsubj', '1', 'noun', 'n', 'negative'), 'tingle': ('strongsubj', '1', 'verb', 'y', 'positive'), 'tint': ('strongsubj', '1', 'verb', 'y', 'neutral'), 'tiny': ('weaksubj', '1', 'adj', 'n', 'negative'), 'tire': ('weaksubj', '1', 'verb', 'y', 'negative'), 'tired': ('strongsubj', '1', 'adj', 'n', 'negative'), 'tiresome': ('strongsubj', '1', 'adj', 'n', 'negative'), 'tiring': ('strongsubj', '1', 'noun', 'n', 'negative'), 'tiringly': ('strongsubj', '1', 'anypos', 'n', 'negative'), 'titillate': ('weaksubj', '1', 'verb', 'y', 'positive'), 'titillating': ('strongsubj', '1', 'anypos', 'n', 'positive'), 'titillatingly': ('strongsubj', '1', 'anypos', 'n', 'positive'), 'toast': ('strongsubj', '1', 'verb', 'y', 'positive'), 'togetherness': ('strongsubj', '1', 'noun', 'n', 'positive'), 'toil': ('strongsubj', '1', 'verb', 'y', 'negative'), 'tolerable': ('strongsubj', '1', 'adj', 'n', 'positive'), 'tolerably': ('strongsubj', '1', 'adverb', 'n', 'positive'), 'tolerance': ('strongsubj', '1', 'noun', 'n', 'positive'), 'tolerant': ('weaksubj', '1', 'adj', 'n', 'positive'), 'tolerantly': ('strongsubj', '1', 'anypos', 'n', 'positive'), 'tolerate': ('weaksubj', '1', 'verb', 'y', 'positive'), 'toleration': ('weaksubj', '1', 'noun', 'n', 'positive'), 'toll': ('weaksubj', '1', 'noun', 'n', 'negative'), 'too': ('weaksubj', '1', 'anypos', 'y', 'negative'), 'top': ('weaksubj', '1', 'adj', 'n', 'positive'), 'topple': ('weaksubj', '1', 'verb', 'y', 'negative'), 'torment': ('strongsubj', '1', 'verb', 'y', 'negative'), 'tormented': ('strongsubj', '1', 'adj', 'n', 'negative'), 'torrent': ('strongsubj', '1', 'noun', 'n', 'negative'), 'torrid': ('strongsubj', '1', 'anypos', 'n', 'positive'), 'torridly': ('strongsubj', '1', 'anypos', 'n', 'positive'), 'torture': ('weaksubj', '1', 'verb', 'y', 'negative'), 'tortured': ('weaksubj', '1', 'adj', 'n', 'negative'), 'tortuous': ('strongsubj', '1', 'adj', 'n', 'negative'), 'torturous': ('strongsubj', '1', 'adj', 'n', 'negative'), 'torturously': ('strongsubj', '1', 'anypos', 'n', 'negative'), 'totalitarian': ('weaksubj', '1', 'adj', 'n', 'negative'), 'tradition': ('weaksubj', '1', 'noun', 'n', 'positive'), 'traditional': ('weaksubj', '1', 'adj', 'n', 'positive'), 'touch': ('weaksubj', '1', 'verb', 'y', 'neutral'), 'touches': ('strongsubj', '1', 'noun', 'n', 'neutral'), 'touchy': ('strongsubj', '1', 'adj', 'n', 'negative'), 'toughness': ('strongsubj', '1', 'noun', 'n', 'negative'), 'toxic': ('weaksubj', '1', 'adj', 'n', 'negative'), 'traduce': ('strongsubj', '1', 'verb', 'y', 'negative'), 'tragedy': ('weaksubj', '1', 'noun', 'n', 'negative'), 'tragic': ('strongsubj', '1', 'adj', 'n', 'negative'), 'tragically': ('strongsubj', '1', 'anypos', 'n', 'negative'), 'traitor': ('strongsubj', '1', 'noun', 'n', 'negative'), 'traitorous': ('strongsubj', '1', 'adj', 'n', 'negative'), 'traitorously': ('strongsubj', '1', 'anypos', 'n', 'negative'), 'tramp': ('strongsubj', '1', 'noun', 'n', 'negative'), 'trample': ('strongsubj', '1', 'verb', 'y', 'negative'), 'tranquil': ('strongsubj', '1', 'adj', 'n', 'positive'), 'tranquility': ('strongsubj', '1', 'noun', 'n', 'positive'), 'transgress': ('weaksubj', '1', 'verb', 'y', 'negative'), 'transgression': ('weaksubj', '1', 'noun', 'n', 'negative'), 'transparency': ('weaksubj', '1', 'noun', 'n', 'neutral'), 'transparent': ('weaksubj', '1', 'noun', 'n', 'neutral'), 'transport': ('weaksubj', '1', 'verb', 'y', 'neutral'), 'trauma': ('strongsubj', '1', 'noun', 'n', 'negative'), 'traumatic': ('strongsubj', '1', 'anypos', 'n', 'negative'), 'traumatically': ('strongsubj', '1', 'anypos', 'n', 'negative'), 'traumatize': ('strongsubj', '1', 'verb', 'y', 'negative'), 'traumatized': ('strongsubj', '1', 'adj', 'n', 'negative'), 'travesties': ('strongsubj', '1', 'noun', 'n', 'negative'), 'travesty': ('strongsubj', '1', 'verb', 'y', 'negative'), 'treacherous': ('weaksubj', '1', 'adj', 'n', 'negative'), 'treacherously': ('weaksubj', '1', 'adverb', 'n', 'negative'), 'treachery': ('strongsubj', '1', 'noun', 'n', 'negative'), 'treason': ('strongsubj', '1', 'noun', 'n', 'negative'), 'treasonous': ('strongsubj', '1', 'adj', 'n', 'negative'), 'treasure': ('strongsubj', '1', 'verb', 'y', 'positive'), 'treat': ('weaksubj', '1', 'noun', 'n', 'positive'), 'tremendous': ('strongsubj', '1', 'anypos', 'n', 'positive'), 'tremendously': ('strongsubj', '1', 'anypos', 'y', 'positive'), 'trendy': ('strongsubj', '1', 'adj', 'n', 'positive'), 'trepidation': ('strongsubj', '1', 'noun', 'n', 'positive'), 'trial': ('weaksubj', '1', 'noun', 'n', 'negative'), 'tribute': ('strongsubj', '1', 'noun', 'n', 'positive'), 'trick': ('strongsubj', '1', 'noun', 'n', 'negative'), 'tricky': ('strongsubj', '1', 'noun', 'n', 'negative'), 'trickery': ('strongsubj', '1', 'noun', 'n', 'negative'), 'trim': ('weaksubj', '1', 'adj', 'n', 'positive'), 'triumph': ('strongsubj', '1', 'verb', 'y', 'positive'), 'triumphal': ('strongsubj', '1', 'adj', 'n', 'positive'), 'triumphant': ('strongsubj', '1', 'verb', 'y', 'positive'), 'triumphantly': ('strongsubj', '1', 'anypos', 'n', 'positive'), 'trivial': ('strongsubj', '1', 'noun', 'n', 'negative'), 'trivialize': ('strongsubj', '1', 'verb', 'y', 'negative'), 'trivially': ('strongsubj', '1', 'anypos', 'n', 'negative'), 'trouble': ('weaksubj', '1', 'verb', 'y', 'negative'), 'troublemaker': ('strongsubj', '1', 'noun', 'n', 'negative'), 'troublesome': ('strongsubj', '1', 'anypos', 'n', 'negative'), 'troublesomely': ('strongsubj', '1', 'anypos', 'n', 'negative'), 'troubling': ('strongsubj', '1', 'anypos', 'y', 'negative'), 'troublingly': ('strongsubj', '1', 'anypos', 'y', 'negative'), 'truant': ('weaksubj', '1', 'adj', 'n', 'negative'), 'truculent': ('strongsubj', '1', 'adj', 'n', 'positive'), 'truculently': ('strongsubj', '1', 'anypos', 'n', 'positive'), 'true': ('strongsubj', '1', 'anypos', 'n', 'positive'), 'truly': ('strongsubj', '1', 'anypos', 'n', 'positive'), 'trump': ('strongsubj', '1', 'verb', 'y', 'positive'), 'trumpet': ('strongsubj', '1', 'verb', 'y', 'positive'), 'trust': ('weaksubj', '1', 'verb', 'y', 'positive'), 'trusting': ('strongsubj', '1', 'anypos', 'n', 'positive'), 'trustingly': ('strongsubj', '1', 'anypos', 'n', 'positive'), 'trustworthiness': ('strongsubj', '1', 'noun', 'n', 'positive'), 'trustworthy': ('strongsubj', '1', 'adj', 'n', 'positive'), 'truth': ('strongsubj', '1', 'anypos', 'y', 'positive'), 'truthful': ('strongsubj', '1', 'adj', 'n', 'positive'), 'truthfully': ('strongsubj', '1', 'adverb', 'n', 'positive'), 'truthfulness': ('strongsubj', '1', 'noun', 'n', 'positive'), 'try': ('weaksubj', '1', 'verb', 'y', 'negative'), 'trying': ('weaksubj', '1', 'adj', 'n', 'negative'), 'tumultuous': ('weaksubj', '1', 'adj', 'n', 'negative'), 'turbulent': ('weaksubj', '1', 'adj', 'n', 'negative'), 'turmoil': ('strongsubj', '1', 'noun', 'n', 'negative'), 'twinkly': ('strongsubj', '1', 'anypos', 'y', 'positive'), 'twist': ('strongsubj', '1', 'verb', 'y', 'negative'), 'twisted': ('strongsubj', '1', 'adj', 'n', 'negative'), 'twists': ('weaksubj', '1', 'noun', 'n', 'negative'), 'tyrannical': ('strongsubj', '1', 'adj', 'n', 'negative'), 'tyrannically': ('strongsubj', '1', 'anypos', 'n', 'negative'), 'tyranny': ('strongsubj', '1', 'noun', 'n', 'negative'), 'tyrant': ('strongsubj', '1', 'noun', 'n', 'negative'), 'ugh': ('strongsubj', '1', 'anypos', 'y', 'negative'), 'ugliness': ('strongsubj', '1', 'noun', 'n', 'negative'), 'ugly': ('strongsubj', '1', 'adj', 'n', 'negative'), 'ulterior': ('strongsubj', '1', 'adj', 'n', 'negative'), 'ultimate': ('strongsubj', '1', 'anypos', 'n', 'positive'), 'ultimately': ('strongsubj', '1', 'anypos', 'n', 'positive'), 'ultimatum': ('strongsubj', '1', 'noun', 'n', 'negative'), 'ultimatums': ('strongsubj', '1', 'noun', 'n', 'negative'), 'ultra': ('strongsubj', '1', 'adj', 'n', 'positive'), 'ultra-hardline': ('strongsubj', '1', 'noun', 'n', 'negative'), 'unabashed': ('strongsubj', '1', 'adj', 'n', 'positive'), 'unabashedly': ('strongsubj', '1', 'anypos', 'n', 'positive'), 'unable': ('weaksubj', '1', 'adj', 'n', 'negative'), 'unacceptable': ('strongsubj', '1', 'adj', 'n', 'negative'), 'unacceptablely': ('strongsubj', '1', 'anypos', 'n', 'negative'), 'unaccustomed': ('weaksubj', '1', 'adj', 'n', 'negative'), 'unanimous': ('strongsubj', '1', 'adj', 'n', 'positive'), 'unassailable': ('strongsubj', '1', 'noun', 'n', 'positive'), 'unattractive': ('strongsubj', '1', 'adj', 'n', 'negative'), 'unaudited': ('weaksubj', '1', 'adj', 'n', 'neutral'), 'unauthentic': ('weaksubj', '1', 'adj', 'n', 'negative'), 'unavailable': ('weaksubj', '1', 'adj', 'n', 'negative'), 'unavoidable': ('weaksubj', '1', 'adj', 'n', 'negative'), 'unavoidably': ('weaksubj', '1', 'adverb', 'n', 'negative'), 'unbiased': ('weaksubj', '1', 'adj', 'n', 'positive'), 'unbearable': ('strongsubj', '1', 'adj', 'n', 'negative'), 'unbearablely': ('strongsubj', '1', 'adverb', 'n', 'negative'), 'unbelievable': ('strongsubj', '1', 'anypos', 'n', 'negative'), 'unbelievably': ('strongsubj', '1', 'anypos', 'n', 'negative'), 'unbosom': ('strongsubj', '1', 'verb', 'y', 'positive'), 'unbound': ('weaksubj', '1', 'adj', 'n', 'positive'), 'unbroken': ('weaksubj', '1', 'adj', 'n', 'positive'), 'uncertain': ('weaksubj', '1', 'adj', 'n', 'negative'), 'uncivil': ('strongsubj', '1', 'adj', 'n', 'negative'), 'uncivilized': ('strongsubj', '1', 'noun', 'n', 'negative'), 'unclean': ('strongsubj', '1', 'adj', 'n', 'negative'), 'unclear': ('weaksubj', '1', 'adj', 'n', 'negative'), 'uncollectible': ('weaksubj', '1', 'adj', 'n', 'negative'), 'uncomfortable': ('weaksubj', '1', 'adj', 'n', 'negative'), 'uncommon': ('strongsubj', '1', 'adj', 'n', 'positive'), 'uncommonly': ('strongsubj', '1', 'anypos', 'n', 'positive'), 'uncompetitive': ('weaksubj', '1', 'adj', 'n', 'negative'), 'uncompromising': ('strongsubj', '1', 'adj', 'n', 'negative'), 'uncompromisingly': ('strongsubj', '1', 'anypos', 'n', 'negative'), 'unconcerned': ('strongsubj', '1', 'adj', 'n', 'positive'), 'unconditional': ('weaksubj', '1', 'adj', 'n', 'positive'), 'unconfirmed': ('weaksubj', '1', 'adj', 'n', 'negative'), 'unconstitutional': ('weaksubj', '1', 'adj', 'n', 'negative'), 'uncontrolled': ('weaksubj', '1', 'adj', 'n', 'negative'), 'unconventional': ('weaksubj', '1', 'adj', 'n', 'positive'), 'unconvincing': ('strongsubj', '1', 'adj', 'n', 'negative'), 'unconvincingly': ('strongsubj', '1', 'anypos', 'n', 'negative'), 'uncouth': ('strongsubj', '1', 'adj', 'n', 'negative'), 'undaunted': ('strongsubj', '1', 'adj', 'n', 'positive'), 'undecided': ('weaksubj', '1', 'adj', 'n', 'negative'), 'undefined': ('weaksubj', '1', 'adj', 'n', 'negative'), 'undependability': ('strongsubj', '1', 'noun', 'n', 'negative'), 'undependable': ('strongsubj', '1', 'adj', 'n', 'negative'), 'underdog': ('strongsubj', '1', 'noun', 'n', 'negative'), 'underestimate': ('strongsubj', '1', 'verb', 'y', 'negative'), 'underlings': ('strongsubj', '1', 'noun', 'n', 'negative'), 'undermine': ('strongsubj', '1', 'verb', 'y', 'negative'), 'underpaid': ('weaksubj', '1', 'adj', 'n', 'negative'), 'understand': ('strongsubj', '1', 'verb', 'y', 'positive'), 'understandable': ('strongsubj', '1', 'adj', 'n', 'positive'), 'understanding': ('weaksubj', '1', 'noun', 'n', 'positive'), 'understood': ('strongsubj', '1', 'verb', 'n', 'positive'), 'understate': ('strongsubj', '1', 'verb', 'y', 'positive'), 'understated': ('strongsubj', '1', 'anypos', 'n', 'positive'), 'understatedly': ('strongsubj', '1', 'anypos', 'n', 'positive'), 'undesirable': ('strongsubj', '1', 'adj', 'n', 'negative'), 'undetermined': ('weaksubj', '1', 'adj', 'n', 'negative'), 'undid': ('weaksubj', '1', 'verb', 'n', 'negative'), 'undignified': ('strongsubj', '1', 'adj', 'n', 'negative'), 'undisputable': ('strongsubj', '1', 'anypos', 'n', 'positive'), 'undisputably': ('strongsubj', '1', 'anypos', 'n', 'positive'), 'undisputed': ('weaksubj', '1', 'adj', 'n', 'positive'), 'undo': ('weaksubj', '1', 'verb', 'n', 'negative'), 'undocumented': ('weaksubj', '1', 'adj', 'n', 'negative'), 'undone': ('weaksubj', '1', 'verb', 'n', 'negative'), 'undoubted': ('strongsubj', '1', 'adj', 'n', 'positive'), 'undoubtedly': ('strongsubj', '1', 'adverb', 'n', 'positive'), 'undue': ('strongsubj', '1', 'adj', 'n', 'negative'), 'unease': ('strongsubj', '1', 'noun', 'n', 'negative'), 'uneasily': ('strongsubj', '1', 'anypos', 'n', 'negative'), 'uneasiness': ('strongsubj', '1', 'noun', 'n', 'negative'), 'uneasy': ('strongsubj', '1', 'adj', 'n', 'negative'), 'uneconomical': ('weaksubj', '1', 'adj', 'n', 'negative'), 'unencumbered': ('weaksubj', '1', 'adj', 'n', 'positive'), 'unequal': ('strongsubj', '1', 'anypos', 'y', 'negative'), 'unequivocal': ('strongsubj', '1', 'anypos', 'y', 'positive'), 'unequivocally': ('strongsubj', '1', 'anypos', 'y', 'positive'), 'unethical': ('strongsubj', '1', 'adj', 'n', 'negative'), 'uneven': ('weaksubj', '1', 'adj', 'n', 'negative'), 'uneventful': ('weaksubj', '1', 'adj', 'n', 'negative'), 'unexpected': ('weaksubj', '1', 'adj', 'n', 'negative'), 'unexpectedly': ('strongsubj', '1', 'anypos', 'y', 'negative'), 'unexplained': ('weaksubj', '1', 'adj', 'n', 'negative'), 'unfair': ('strongsubj', '1', 'adj', 'n', 'negative'), 'unfairly': ('strongsubj', '1', 'adverb', 'n', 'negative'), 'unfaithful': ('strongsubj', '1', 'adj', 'n', 'negative'), 'unfaithfully': ('strongsubj', '1', 'adverb', 'n', 'negative'), 'unfamiliar': ('weaksubj', '1', 'anypos', 'n', 'negative'), 'unfavorable': ('strongsubj', '1', 'anypos', 'n', 'negative'), 'unfazed': ('strongsubj', '1', 'anypos', 'n', 'positive'), 'unfeeling': ('strongsubj', '1', 'adj', 'n', 'negative'), 'unfettered': ('strongsubj', '1', 'adj', 'n', 'positive'), 'unfinished': ('weaksubj', '1', 'adj', 'n', 'negative'), 'unfit': ('strongsubj', '1', 'adj', 'n', 'negative'), 'unforeseen': ('weaksubj', '1', 'adj', 'n', 'negative'), 'unforgettable': ('strongsubj', '1', 'adj', 'n', 'positive'), 'unfortunate': ('strongsubj', '1', 'anypos', 'n', 'negative'), 'unfortunately': ('strongsubj', '1', 'anypos', 'y', 'negative'), 'unfounded': ('strongsubj', '1', 'adj', 'n', 'negative'), 'unfriendly': ('strongsubj', '1', 'adj', 'n', 'negative'), 'unfulfilled': ('weaksubj', '1', 'adj', 'n', 'negative'), 'unfunded': ('weaksubj', '1', 'adj', 'n', 'negative'), 'ungrateful': ('strongsubj', '1', 'adj', 'n', 'negative'), 'ungovernable': ('strongsubj', '1', 'noun', 'n', 'negative'), 'unhappily': ('strongsubj', '1', 'adverb', 'n', 'negative'), 'unhappiness': ('strongsubj', '1', 'noun', 'n', 'negative'), 'unhappy': ('strongsubj', '1', 'adj', 'n', 'negative'), 'unhealthy': ('weaksubj', '1', 'adj', 'n', 'negative'), 'uniform': ('weaksubj', '1', 'adj', 'n', 'positive'), 'uniformly': ('weaksubj', '1', 'adverb', 'n', 'positive'), 'unilateralism': ('strongsubj', '1', 'noun', 'n', 'negative'), 'unimaginable': ('strongsubj', '1', 'adj', 'n', 'negative'), 'unimaginably': ('strongsubj', '1', 'anypos', 'n', 'negative'), 'unimportant': ('strongsubj', '1', 'adj', 'n', 'negative'), 'uninformed': ('weaksubj', '1', 'adj', 'n', 'negative'), 'uninsured': ('weaksubj', '1', 'adj', 'n', 'negative'), 'unipolar': ('strongsubj', '1', 'noun', 'n', 'negative'), 'unique': ('weaksubj', '1', 'adj', 'n', 'positive'), 'unity': ('weaksubj', '1', 'noun', 'n', 'positive'), 'universal': ('weaksubj', '1', 'adj', 'n', 'positive'), 'unjust': ('strongsubj', '1', 'adj', 'n', 'negative'), 'unjustifiable': ('strongsubj', '1', 'adj', 'n', 'negative'), 'unjustifiably': ('strongsubj', '1', 'anypos', 'n', 'negative'), 'unjustified': ('weaksubj', '1', 'adj', 'n', 'negative'), 'unjustly': ('strongsubj', '1', 'anypos', 'y', 'negative'), 'unkind': ('strongsubj', '1', 'adj', 'n', 'negative'), 'unkindly': ('strongsubj', '1', 'adverb', 'n', 'negative'), 'unlamentable': ('strongsubj', '1', 'anypos', 'n', 'negative'), 'unlamentably': ('strongsubj', '1', 'anypos', 'n', 'negative'), 'unlawful': ('weaksubj', '1', 'adj', 'n', 'negative'), 'unlawfully': ('weaksubj', '1', 'adverb', 'n', 'negative'), 'unlawfulness': ('weaksubj', '1', 'noun', 'n', 'negative'), 'unleash': ('strongsubj', '1', 'verb', 'y', 'negative'), 'unlicensed': ('weaksubj', '1', 'adj', 'n', 'negative'), 'unlikely': ('weaksubj', '1', 'anypos', 'y', 'negative'), 'unlimited': ('weaksubj', '1', 'adj', 'n', 'positive'), 'unlucky': ('strongsubj', '1', 'adj', 'n', 'negative'), 'unmoved': ('weaksubj', '1', 'adj', 'n', 'negative'), 'unnatural': ('weaksubj', '1', 'anypos', 'n', 'negative'), 'unnaturally': ('strongsubj', '1', 'anypos', 'y', 'negative'), 'unnecessary': ('weaksubj', '1', 'adj', 'n', 'negative'), 'unneeded': ('weaksubj', '1', 'adj', 'n', 'negative'), 'unnerve': ('strongsubj', '1', 'verb', 'y', 'negative'), 'unnerved': ('strongsubj', '1', 'adj', 'n', 'negative'), 'unnerving': ('strongsubj', '1', 'anypos', 'n', 'negative'), 'unnervingly': ('strongsubj', '1', 'anypos', 'n', 'negative'), 'unnoticed': ('weaksubj', '1', 'adj', 'n', 'negative'), 'unobserved': ('weaksubj', '1', 'adj', 'n', 'negative'), 'unorthodox': ('strongsubj', '1', 'adj', 'n', 'negative'), 'unorthodoxy': ('strongsubj', '1', 'noun', 'n', 'negative'), 'unparalleled': ('strongsubj', '1', 'adj', 'n', 'positive'), 'unpleasant': ('strongsubj', '1', 'adj', 'n', 'negative'), 'unpleasantries': ('strongsubj', '1', 'noun', 'n', 'negative'), 'unpopular': ('strongsubj', '1', 'adj', 'n', 'negative'), 'unprecedent': ('strongsubj', '1', 'adj', 'n', 'negative'), 'unprecedented': ('strongsubj', '1', 'anypos', 'n', 'negative'), 'unpredictable': ('weaksubj', '1', 'adj', 'n', 'negative'), 'unprepared': ('weaksubj', '1', 'adj', 'n', 'negative'), 'unpretentious': ('strongsubj', '1', 'adj', 'n', 'positive'), 'unproductive': ('weaksubj', '1', 'adj', 'n', 'negative'), 'unprofitable': ('weaksubj', '1', 'adj', 'n', 'negative'), 'unqualified': ('strongsubj', '1', 'adj', 'n', 'negative'), 'unquestionable': ('strongsubj', '1', 'anypos', 'y', 'positive'), 'unquestionably': ('strongsubj', '1', 'anypos', 'y', 'positive'), 'unravel': ('strongsubj', '1', 'noun', 'n', 'negative'), 'unraveled': ('weaksubj', '1', 'adj', 'n', 'negative'), 'unrealistic': ('strongsubj', '1', 'adj', 'n', 'negative'), 'unreasonable': ('weaksubj', '1', 'anypos', 'y', 'negative'), 'unreasonably': ('strongsubj', '1', 'anypos', 'n', 'negative'), 'unrelenting': ('strongsubj', '1', 'anypos', 'y', 'negative'), 'unrelentingly': ('strongsubj', '1', 'anypos', 'n', 'negative'), 'unreliability': ('strongsubj', '1', 'noun', 'n', 'negative'), 'unreliable': ('strongsubj', '1', 'adj', 'n', 'negative'), 'unresolved': ('weaksubj', '1', 'adj', 'n', 'negative'), 'unrest': ('strongsubj', '1', 'noun', 'n', 'negative'), 'unrestricted': ('weaksubj', '1', 'adj', 'n', 'positive'), 'unruly': ('strongsubj', '1', 'adj', 'n', 'negative'), 'unsafe': ('weaksubj', '1', 'adj', 'n', 'negative'), 'unsatisfactory': ('weaksubj', '1', 'adj', 'n', 'negative'), 'unsavory': ('strongsubj', '1', 'adj', 'n', 'negative'), 'unscathed': ('weaksubj', '1', 'adj', 'n', 'positive'), 'unscrupulous': ('strongsubj', '1', 'adj', 'n', 'negative'), 'unscrupulously': ('strongsubj', '1', 'anypos', 'n', 'negative'), 'unseemly': ('strongsubj', '1', 'anypos', 'y', 'negative'), 'unselfish': ('strongsubj', '1', 'adj', 'n', 'positive'), 'unsettle': ('strongsubj', '1', 'verb', 'y', 'negative'), 'unsettled': ('weaksubj', '1', 'adj', 'n', 'negative'), 'unsettling': ('strongsubj', '1', 'anypos', 'y', 'negative'), 'unsettlingly': ('strongsubj', '1', 'anypos', 'n', 'negative'), 'unskilled': ('weaksubj', '1', 'adj', 'n', 'negative'), 'unsophisticated': ('strongsubj', '1', 'adj', 'n', 'negative'), 'unsound': ('strongsubj', '1', 'adj', 'n', 'negative'), 'unspeakable': ('strongsubj', '1', 'adj', 'n', 'negative'), 'unspeakablely': ('strongsubj', '1', 'adverb', 'n', 'negative'), 'unspecified': ('weaksubj', '1', 'adj', 'n', 'negative'), 'unstable': ('weaksubj', '1', 'adj', 'n', 'negative'), 'unsteadily': ('weaksubj', '1', 'adverb', 'n', 'negative'), 'unsteadiness': ('weaksubj', '1', 'noun', 'n', 'negative'), 'unsteady': ('weaksubj', '1', 'adj', 'n', 'negative'), 'unsuccessful': ('weaksubj', '1', 'adj', 'n', 'negative'), 'unsuccessfully': ('weaksubj', '1', 'adverb', 'n', 'negative'), 'unsupported': ('weaksubj', '1', 'adj', 'n', 'negative'), 'unsure': ('weaksubj', '1', 'adj', 'n', 'negative'), 'unsuspecting': ('strongsubj', '1', 'adj', 'n', 'negative'), 'unsustainable': ('weaksubj', '1', 'adj', 'n', 'negative'), 'untenable': ('strongsubj', '1', 'adj', 'n', 'negative'), 'untested': ('weaksubj', '1', 'adj', 'n', 'negative'), 'unthinkable': ('strongsubj', '1', 'adj', 'n', 'negative'), 'unthinkably': ('strongsubj', '1', 'anypos', 'n', 'negative'), 'untimely': ('strongsubj', '1', 'adj', 'n', 'negative'), 'untouched': ('weaksubj', '1', 'adj', 'n', 'positive'), 'untrained': ('weaksubj', '1', 'adj', 'n', 'positive'), 'untrue': ('strongsubj', '1', 'anypos', 'n', 'negative'), 'untrustworthy': ('strongsubj', '1', 'adj', 'n', 'negative'), 'untruthful': ('strongsubj', '1', 'adj', 'n', 'negative'), 'unusual': ('weaksubj', '1', 'anypos', 'n', 'negative'), 'unusually': ('strongsubj', '1', 'anypos', 'n', 'negative'), 'unwanted': ('strongsubj', '1', 'adj', 'n', 'negative'), 'unwarranted': ('strongsubj', '1', 'adj', 'n', 'negative'), 'unwelcome': ('strongsubj', '1', 'anypos', 'n', 'negative'), 'unwieldy': ('strongsubj', '1', 'adj', 'n', 'negative'), 'unwilling': ('strongsubj', '1', 'adj', 'n', 'negative'), 'unwillingly': ('strongsubj', '1', 'adverb', 'n', 'negative'), 'unwillingness': ('strongsubj', '1', 'noun', 'n', 'negative'), 'unwise': ('strongsubj', '1', 'adj', 'n', 'negative'), 'unwisely': ('strongsubj', '1', 'adverb', 'n', 'negative'), 'unworkable': ('strongsubj', '1', 'adj', 'n', 'negative'), 'unworthy': ('strongsubj', '1', 'adj', 'n', 'negative'), 'unyielding': ('strongsubj', '1', 'adj', 'n', 'negative'), 'upbeat': ('strongsubj', '1', 'adj', 'n', 'positive'), 'upbraid': ('strongsubj', '1', 'verb', 'y', 'negative'), 'upfront': ('weaksubj', '1', 'adj', 'n', 'positive'), 'upgrade': ('weaksubj', '1', 'verb', 'y', 'positive'), 'upheaval': ('strongsubj', '1', 'noun', 'n', 'negative'), 'upheld': ('strongsubj', '1', 'verb', 'n', 'positive'), 'uphold': ('strongsubj', '1', 'verb', 'n', 'positive'), 'uplift': ('weaksubj', '1', 'verb', 'y', 'positive'), 'uplifting': ('strongsubj', '1', 'anypos', 'n', 'positive'), 'upliftingly': ('strongsubj', '1', 'anypos', 'y', 'positive'), 'upliftment': ('strongsubj', '1', 'noun', 'n', 'positive'), 'upright': ('weaksubj', '1', 'adj', 'n', 'positive'), 'uprising': ('weaksubj', '1', 'noun', 'n', 'negative'), 'uproar': ('strongsubj', '1', 'noun', 'n', 'negative'), 'uproarious': ('strongsubj', '1', 'anypos', 'n', 'negative'), 'uproariously': ('strongsubj', '1', 'anypos', 'n', 'negative'), 'uproarous': ('strongsubj', '1', 'adj', 'n', 'negative'), 'uproarously': ('strongsubj', '1', 'anypos', 'n', 'negative'), 'uproot': ('weaksubj', '1', 'verb', 'y', 'negative'), 'upscale': ('weaksubj', '1', 'adj', 'n', 'positive'), 'upset': ('weaksubj', '1', 'verb', 'y', 'negative'), 'upsetting': ('strongsubj', '1', 'anypos', 'y', 'negative'), 'upsettingly': ('strongsubj', '1', 'anypos', 'n', 'negative'), 'upside': ('strongsubj', '1', 'noun', 'n', 'positive'), 'upward': ('weaksubj', '1', 'adj', 'n', 'positive'), 'urge': ('strongsubj', '1', 'verb', 'y', 'positive'), 'urgency': ('strongsubj', '1', 'noun', 'n', 'negative'), 'urgent': ('weaksubj', '1', 'noun', 'n', 'negative'), 'urgently': ('weaksubj', '1', 'adverb', 'n', 'negative'), 'usable': ('weaksubj', '1', 'adj', 'n', 'positive'), 'useful': ('weaksubj', '1', 'adj', 'n', 'positive'), 'usefulness': ('weaksubj', '1', 'noun', 'n', 'positive'), 'useless': ('weaksubj', '1', 'adj', 'n', 'negative'), 'usurp': ('strongsubj', '1', 'verb', 'y', 'negative'), 'usurper': ('strongsubj', '1', 'noun', 'n', 'negative'), 'utilitarian': ('weaksubj', '1', 'adj', 'n', 'positive'), 'utmost': ('strongsubj', '1', 'adj', 'n', 'positive'), 'utter': ('strongsubj', '1', 'adj', 'n', 'negative'), 'utterances': ('strongsubj', '1', 'noun', 'n', 'neutral'), 'utterly': ('strongsubj', '1', 'anypos', 'n', 'negative'), 'uttermost': ('strongsubj', '1', 'adj', 'n', 'positive'), 'vagrant': ('strongsubj', '1', 'noun', 'n', 'negative'), 'vague': ('weaksubj', '1', 'noun', 'n', 'negative'), 'vagueness': ('weaksubj', '1', 'noun', 'n', 'negative'), 'vain': ('strongsubj', '1', 'adj', 'n', 'negative'), 'vainly': ('strongsubj', '1', 'adj', 'n', 'negative'), 'valiant': ('strongsubj', '1', 'adj', 'n', 'positive'), 'valiantly': ('strongsubj', '1', 'anypos', 'n', 'positive'), 'valid': ('weaksubj', '1', 'adj', 'n', 'positive'), 'validity': ('weaksubj', '1', 'noun', 'n', 'positive'), 'valor': ('strongsubj', '1', 'noun', 'n', 'positive'), 'valuable': ('strongsubj', '1', 'anypos', 'y', 'positive'), 'value': ('weaksubj', '1', 'verb', 'y', 'positive'), 'values': ('weaksubj', '1', 'noun', 'n', 'positive'), 'vanish': ('weaksubj', '1', 'verb', 'y', 'negative'), 'vanity': ('weaksubj', '1', 'noun', 'n', 'negative'), 'vanquish': ('strongsubj', '1', 'verb', 'y', 'positive'), 'vast': ('weaksubj', '1', 'adj', 'n', 'positive'), 'vastly': ('weaksubj', '1', 'adverb', 'n', 'positive'), 'vastness': ('weaksubj', '1', 'adverb', 'n', 'positive'), 'vehement': ('strongsubj', '1', 'anypos', 'n', 'negative'), 'vehemently': ('strongsubj', '1', 'anypos', 'n', 'negative'), 'venerable': ('strongsubj', '1', 'adj', 'n', 'positive'), 'venerably': ('strongsubj', '1', 'adverb', 'n', 'positive'), 'venerate': ('weaksubj', '1', 'verb', 'y', 'positive'), 'vengeance': ('strongsubj', '1', 'noun', 'n', 'negative'), 'vengeful': ('strongsubj', '1', 'anypos', 'n', 'negative'), 'vengefully': ('strongsubj', '1', 'anypos', 'n', 'negative'), 'vengefulness': ('strongsubj', '1', 'noun', 'n', 'negative'), 'venom': ('strongsubj', '1', 'noun', 'n', 'negative'), 'venomous': ('strongsubj', '1', 'adj', 'n', 'negative'), 'venomously': ('strongsubj', '1', 'anypos', 'n', 'negative'), 'vent': ('strongsubj', '1', 'noun', 'n', 'negative'), 'verifiable': ('weaksubj', '1', 'adj', 'n', 'positive'), 'veritable': ('strongsubj', '1', 'adj', 'n', 'positive'), 'versatile': ('weaksubj', '1', 'adj', 'n', 'positive'), 'versatility': ('weaksubj', '1', 'noun', 'n', 'positive'), 'very': ('weaksubj', '1', 'anypos', 'y', 'neutral'), 'vestiges': ('strongsubj', '1', 'noun', 'n', 'negative'), 'veto': ('strongsubj', '1', 'noun', 'n', 'negative'), 'vex': ('strongsubj', '1', 'verb', 'y', 'negative'), 'vexation': ('strongsubj', '1', 'noun', 'n', 'negative'), 'vexing': ('strongsubj', '1', 'anypos', 'n', 'negative'), 'vexingly': ('strongsubj', '1', 'anypos', 'n', 'negative'), 'viable': ('weaksubj', '1', 'adj', 'n', 'positive'), 'viability': ('weaksubj', '1', 'noun', 'n', 'positive'), 'vibrant': ('strongsubj', '1', 'adj', 'n', 'positive'), 'vibrantly': ('strongsubj', '1', 'anypos', 'n', 'positive'), 'vice': ('strongsubj', '1', 'noun', 'n', 'negative'), 'vicious': ('strongsubj', '1', 'adj', 'n', 'negative'), 'viciously': ('strongsubj', '1', 'anypos', 'n', 'negative'), 'viciousness': ('strongsubj', '1', 'noun', 'n', 'negative'), 'victimize': ('strongsubj', '1', 'verb', 'y', 'negative'), 'victorious': ('weaksubj', '1', 'adj', 'n', 'positive'), 'victory': ('weaksubj', '1', 'noun', 'n', 'positive'), 'vie': ('strongsubj', '1', 'verb', 'y', 'negative'), 'view': ('strongsubj', '1', 'verb', 'y', 'neutral'), 'viewpoints': ('strongsubj', '1', 'noun', 'n', 'neutral'), 'views': ('strongsubj', '1', 'noun', 'n', 'neutral'), 'vigilance': ('weaksubj', '1', 'noun', 'n', 'positive'), 'vigilant': ('weaksubj', '1', 'noun', 'n', 'positive'), 'vigorous': ('weaksubj', '1', 'adj', 'n', 'positive'), 'vigorously': ('weaksubj', '1', 'adverb', 'n', 'positive'), 'vile': ('strongsubj', '1', 'adj', 'n', 'negative'), 'vileness': ('strongsubj', '1', 'noun', 'n', 'negative'), 'vilify': ('strongsubj', '1', 'verb', 'y', 'negative'), 'villainous': ('strongsubj', '1', 'anypos', 'n', 'negative'), 'villainously': ('strongsubj', '1', 'anypos', 'n', 'negative'), 'villains': ('strongsubj', '1', 'noun', 'n', 'negative'), 'villian': ('strongsubj', '1', 'noun', 'n', 'negative'), 'villianous': ('strongsubj', '1', 'adj', 'n', 'negative'), 'villianously': ('strongsubj', '1', 'anypos', 'n', 'negative'), 'villify': ('strongsubj', '1', 'verb', 'y', 'negative'), 'vindicate': ('strongsubj', '1', 'verb', 'y', 'positive'), 'vindictive': ('strongsubj', '1', 'anypos', 'n', 'negative'), 'vindictively': ('strongsubj', '1', 'anypos', 'n', 'negative'), 'vindictiveness': ('strongsubj', '1', 'noun', 'n', 'negative'), 'vintage': ('weaksubj', '1', 'adj', 'n', 'positive'), 'violate': ('strongsubj', '1', 'verb', 'y', 'negative'), 'violation': ('weaksubj', '1', 'noun', 'n', 'negative'), 'violator': ('strongsubj', '1', 'noun', 'n', 'negative'), 'violent': ('weaksubj', '1', 'adj', 'n', 'negative'), 'violently': ('weaksubj', '1', 'adverb', 'n', 'negative'), 'viper': ('weaksubj', '1', 'noun', 'n', 'negative'), 'virtue': ('strongsubj', '1', 'noun', 'n', 'positive'), 'virtuous': ('strongsubj', '1', 'adj', 'n', 'positive'), 'virtuously': ('strongsubj', '1', 'adverb', 'n', 'positive'), 'virulence': ('strongsubj', '1', 'noun', 'n', 'negative'), 'virulent': ('strongsubj', '1', 'adj', 'n', 'negative'), 'virulently': ('strongsubj', '1', 'anypos', 'n', 'negative'), 'virus': ('strongsubj', '1', 'noun', 'n', 'negative'), 'visionary': ('strongsubj', '1', 'adj', 'n', 'positive'), 'vital': ('strongsubj', '1', 'adj', 'n', 'positive'), 'vitality': ('strongsubj', '1', 'noun', 'n', 'positive'), 'vivacious': ('strongsubj', '1', 'adj', 'n', 'positive'), 'vivid': ('strongsubj', '1', 'adj', 'n', 'positive'), 'vocal': ('weaksubj', '1', 'noun', 'n', 'neutral'), 'vocally': ('weaksubj', '1', 'adverb', 'n', 'negative'), 'vociferous': ('strongsubj', '1', 'adj', 'n', 'negative'), 'vociferously': ('strongsubj', '1', 'anypos', 'n', 'negative'), 'void': ('weaksubj', '1', 'noun', 'n', 'negative'), 'volatile': ('weaksubj', '1', 'adj', 'n', 'negative'), 'volatility': ('weaksubj', '1', 'noun', 'n', 'negative'), 'voluntarily': ('weaksubj', '1', 'adverb', 'n', 'positive'), 'voluntary': ('weaksubj', '1', 'adj', 'n', 'positive'), 'vomit': ('weaksubj', '1', 'verb', 'y', 'negative'), 'vouch': ('strongsubj', '1', 'verb', 'y', 'positive'), 'vouchsafe': ('strongsubj', '1', 'verb', 'y', 'positive'), 'vow': ('strongsubj', '1', 'verb', 'y', 'positive'), 'vulgar': ('strongsubj', '1', 'adj', 'n', 'negative'), 'vulnerable': ('strongsubj', '1', 'noun', 'n', 'positive'), 'wail': ('strongsubj', '1', 'verb', 'y', 'negative'), 'wallow': ('weaksubj', '1', 'verb', 'y', 'negative'), 'wane': ('weaksubj', '1', 'verb', 'y', 'negative'), 'waning': ('strongsubj', '1', 'noun', 'n', 'negative'), 'want': ('strongsubj', '1', 'verb', 'y', 'positive'), 'wanton': ('strongsubj', '1', 'adj', 'n', 'negative'), 'war': ('weaksubj', '1', 'noun', 'n', 'negative'), 'war-like': ('strongsubj', '1', 'noun', 'n', 'negative'), 'warfare': ('weaksubj', '1', 'noun', 'n', 'negative'), 'warlike': ('strongsubj', '1', 'adj', 'n', 'negative'), 'warm': ('weaksubj', '1', 'adj', 'n', 'positive'), 'warmhearted': ('strongsubj', '1', 'adj', 'n', 'positive'), 'warmly': ('strongsubj', '1', 'adverb', 'n', 'positive'), 'warmth': ('weaksubj', '1', 'noun', 'n', 'positive'), 'warning': ('weaksubj', '1', 'noun', 'n', 'negative'), 'warp': ('weaksubj', '1', 'verb', 'y', 'negative'), 'warped': ('weaksubj', '1', 'adj', 'n', 'negative'), 'wary': ('strongsubj', '1', 'adj', 'n', 'negative'), 'warily': ('strongsubj', '1', 'adverb', 'n', 'negative'), 'wariness': ('strongsubj', '1', 'noun', 'n', 'negative'), 'waste': ('weaksubj', '1', 'verb', 'y', 'negative'), 'wasteful': ('weaksubj', '1', 'adj', 'n', 'negative'), 'wastefulness': ('weaksubj', '1', 'noun', 'n', 'negative'), 'watchdog': ('strongsubj', '1', 'noun', 'n', 'negative'), 'wayward': ('strongsubj', '1', 'adj', 'n', 'negative'), 'weak': ('weaksubj', '1', 'adj', 'n', 'negative'), 'weaken': ('strongsubj', '1', 'verb', 'y', 'negative'), 'weakening': ('strongsubj', '1', 'noun', 'n', 'negative'), 'weakness': ('strongsubj', '1', 'noun', 'n', 'negative'), 'weaknesses': ('strongsubj', '1', 'noun', 'n', 'negative'), 'wealthy': ('weaksubj', '1', 'adj', 'n', 'positive'), 'weariness': ('strongsubj', '1', 'noun', 'n', 'negative'), 'wearisome': ('strongsubj', '1', 'adj', 'n', 'negative'), 'weary': ('weaksubj', '1', 'verb', 'y', 'negative'), 'wedge': ('weaksubj', '1', 'noun', 'n', 'negative'), 'wee': ('strongsubj', '1', 'adj', 'n', 'negative'), 'weed': ('weaksubj', '1', 'noun', 'n', 'negative'), 'weep': ('weaksubj', '1', 'verb', 'y', 'negative'), 'weird': ('strongsubj', '1', 'noun', 'n', 'negative'), 'weirdly': ('strongsubj', '1', 'adverb', 'n', 'negative'), 'welcome': ('strongsubj', '1', 'verb', 'y', 'positive'), 'welfare': ('weaksubj', '1', 'noun', 'n', 'positive'), 'well': ('weaksubj', '1', 'adverb', 'n', 'positive'), 'well-being': ('strongsubj', '1', 'noun', 'n', 'positive'), 'well-connected': ('strongsubj', '1', 'adj', 'n', 'positive'), 'well-educated': ('weaksubj', '1', 'adj', 'n', 'positive'), 'well-established': ('weaksubj', '1', 'adj', 'n', 'positive'), 'well-informed': ('strongsubj', '1', 'adj', 'n', 'positive'), 'well-intentioned': ('strongsubj', '1', 'adj', 'n', 'positive'), 'well-managed': ('strongsubj', '1', 'adj', 'n', 'positive'), 'well-positioned': ('weaksubj', '1', 'adj', 'n', 'positive'), 'well-publicized': ('weaksubj', '1', 'adj', 'n', 'positive'), 'well-received': ('strongsubj', '1', 'adj', 'n', 'positive'), 'well-regarded': ('strongsubj', '1', 'adj', 'n', 'positive'), 'well-run': ('strongsubj', '1', 'adj', 'n', 'positive'), 'well-wishers': ('strongsubj', '1', 'noun', 'n', 'positive'), 'wellbeing': ('strongsubj', '1', 'noun', 'n', 'positive'), 'whatever': ('weaksubj', '1', 'anypos', 'y', 'negative'), 'wheedle': ('strongsubj', '1', 'verb', 'y', 'negative'), 'whiff': ('weaksubj', '1', 'noun', 'n', 'neutral'), 'whimper': ('strongsubj', '1', 'verb', 'y', 'negative'), 'whimsical': ('strongsubj', '1', 'adj', 'n', 'positive'), 'whine': ('strongsubj', '1', 'verb', 'y', 'negative'), 'whips': ('strongsubj', '1', 'noun', 'n', 'negative'), 'white': ('weaksubj', '1', 'adj', 'n', 'positive'), 'wholeheartedly': ('strongsubj', '1', 'anypos', 'n', 'positive'), 'wholesome': ('strongsubj', '1', 'adj', 'n', 'positive'), 'wicked': ('strongsubj', '1', 'adj', 'n', 'negative'), 'wickedly': ('strongsubj', '1', 'anypos', 'n', 'negative'), 'wickedness': ('strongsubj', '1', 'noun', 'n', 'negative'), 'wide': ('weaksubj', '1', 'adj', 'n', 'positive'), 'wide-open': ('weaksubj', '1', 'adj', 'n', 'positive'), 'wide-ranging': ('weaksubj', '1', 'adj', 'n', 'positive'), 'widespread': ('weaksubj', '1', 'adj', 'n', 'negative'), 'wild': ('weaksubj', '1', 'adj', 'n', 'negative'), 'wildly': ('weaksubj', '1', 'adverb', 'n', 'negative'), 'wiles': ('strongsubj', '1', 'noun', 'n', 'negative'), 'will': ('strongsubj', '1', 'noun', 'n', 'positive'), 'willful': ('strongsubj', '1', 'adj', 'n', 'positive'), 'willfully': ('strongsubj', '1', 'adj', 'n', 'positive'), 'willing': ('strongsubj', '1', 'adj', 'n', 'positive'), 'willingness': ('strongsubj', '1', 'noun', 'n', 'positive'), 'wilt': ('strongsubj', '1', 'verb', 'y', 'negative'), 'wily': ('strongsubj', '1', 'adj', 'n', 'negative'), 'wince': ('strongsubj', '1', 'verb', 'y', 'negative'), 'wink': ('strongsubj', '1', 'noun', 'n', 'positive'), 'winnable': ('strongsubj', '1', 'noun', 'n', 'positive'), 'winners': ('strongsubj', '1', 'noun', 'n', 'positive'), 'wisdom': ('strongsubj', '1', 'noun', 'n', 'positive'), 'wise': ('strongsubj', '1', 'noun', 'n', 'positive'), 'wisely': ('strongsubj', '1', 'adverb', 'n', 'positive'), 'wish': ('strongsubj', '1', 'verb', 'y', 'positive'), 'wishes': ('strongsubj', '1', 'noun', 'n', 'positive'), 'wishing': ('strongsubj', '1', 'noun', 'n', 'positive'), 'withheld': ('weaksubj', '1', 'verb', 'n', 'negative'), 'withhold': ('weaksubj', '1', 'verb', 'n', 'negative'), 'witty': ('strongsubj', '1', 'adj', 'n', 'positive'), 'woe': ('strongsubj', '1', 'noun', 'n', 'negative'), 'woebegone': ('strongsubj', '1', 'adj', 'n', 'negative'), 'woeful': ('strongsubj', '1', 'adj', 'n', 'negative'), 'woefully': ('strongsubj', '1', 'anypos', 'n', 'negative'), 'wonder': ('strongsubj', '1', 'anypos', 'y', 'positive'), 'wonderful': ('strongsubj', '1', 'anypos', 'y', 'positive'), 'wonderfully': ('strongsubj', '1', 'anypos', 'n', 'positive'), 'wonderous': ('strongsubj', '1', 'adj', 'n', 'positive'), 'wonderously': ('strongsubj', '1', 'anypos', 'n', 'positive'), 'wondrous': ('strongsubj', '1', 'anypos', 'y', 'positive'), 'woo': ('strongsubj', '1', 'verb', 'y', 'positive'), 'workable': ('strongsubj', '1', 'adj', 'n', 'positive'), 'world-famous': ('strongsubj', '1', 'adj', 'n', 'positive'), 'worn': ('weaksubj', '1', 'verb', 'y', 'negative'), 'worried': ('strongsubj', '1', 'adj', 'n', 'negative'), 'worriedly': ('strongsubj', '1', 'adverb', 'n', 'negative'), 'worrier': ('strongsubj', '1', 'noun', 'n', 'negative'), 'worries': ('strongsubj', '1', 'noun', 'n', 'negative'), 'worrisome': ('strongsubj', '1', 'adj', 'n', 'negative'), 'worry': ('strongsubj', '1', 'verb', 'y', 'negative'), 'worrying': ('strongsubj', '1', 'anypos', 'y', 'negative'), 'worryingly': ('strongsubj', '1', 'anypos', 'n', 'negative'), 'worse': ('strongsubj', '1', 'adj', 'n', 'negative'), 'worsen': ('strongsubj', '1', 'anypos', 'y', 'negative'), 'worsening': ('strongsubj', '1', 'anypos', 'y', 'negative'), 'worship': ('weaksubj', '1', 'verb', 'y', 'positive'), 'worst': ('strongsubj', '1', 'adj', 'n', 'negative'), 'worth': ('strongsubj', '1', 'noun', 'n', 'positive'), 'worth-while': ('strongsubj', '1', 'adj', 'n', 'positive'), 'worthiness': ('strongsubj', '1', 'adj', 'n', 'positive'), 'worthless': ('strongsubj', '1', 'adj', 'n', 'negative'), 'worthlessly': ('strongsubj', '1', 'anypos', 'n', 'negative'), 'worthlessness': ('strongsubj', '1', 'noun', 'n', 'negative'), 'worthwhile': ('strongsubj', '1', 'adj', 'n', 'positive'), 'worthy': ('strongsubj', '1', 'adj', 'n', 'positive'), 'would': ('weaksubj', '1', 'anypos', 'y', 'neutral'), 'wound': ('weaksubj', '1', 'verb', 'y', 'negative'), 'wounds': ('weaksubj', '1', 'noun', 'n', 'negative'), 'wow': ('strongsubj', '1', 'verb', 'y', 'positive'), 'wreck': ('weaksubj', '1', 'verb', 'y', 'negative'), 'wrangle': ('strongsubj', '1', 'verb', 'y', 'negative'), 'wrath': ('strongsubj', '1', 'noun', 'n', 'negative'), 'wrest': ('strongsubj', '1', 'verb', 'y', 'negative'), 'wrestle': ('weaksubj', '1', 'verb', 'y', 'negative'), 'wretch': ('strongsubj', '1', 'noun', 'n', 'negative'), 'wretched': ('strongsubj', '1', 'adj', 'n', 'negative'), 'wretchedly': ('strongsubj', '1', 'anypos', 'n', 'negative'), 'wretchedness': ('strongsubj', '1', 'noun', 'n', 'negative'), 'writhe': ('weaksubj', '1', 'verb', 'y', 'negative'), 'wrong': ('weaksubj', '1', 'anypos', 'y', 'negative'), 'wrongful': ('weaksubj', '1', 'adj', 'n', 'negative'), 'wrongly': ('strongsubj', '1', 'anypos', 'y', 'negative'), 'wrought': ('weaksubj', '1', 'noun', 'n', 'negative'), 'wry': ('strongsubj', '1', 'adj', 'n', 'positive'), 'yawn': ('strongsubj', '1', 'verb', 'y', 'negative'), 'yeah': ('strongsubj', '1', 'anypos', 'y', 'neutral'), 'yearn': ('strongsubj', '1', 'verb', 'y', 'positive'), 'yearning': ('strongsubj', '1', 'noun', 'n', 'positive'), 'yearningly': ('strongsubj', '1', 'anypos', 'n', 'positive'), 'yelp': ('strongsubj', '1', 'verb', 'y', 'negative'), 'yep': ('strongsubj', '1', 'anypos', 'y', 'positive'), 'yes': ('strongsubj', '1', 'anypos', 'y', 'positive'), 'youthful': ('weaksubj', '1', 'adj', 'n', 'positive'), 'zeal': ('strongsubj', '1', 'noun', 'n', 'positive'), 'zealot': ('strongsubj', '1', 'noun', 'n', 'negative'), 'zealous': ('strongsubj', '1', 'adj', 'n', 'negative'), 'zealously': ('strongsubj', '1', 'anypos', 'n', 'negative'), 'zenith': ('strongsubj', '1', 'noun', 'n', 'positive'), 'zest': ('strongsubj', '1', 'noun', 'n', 'positive')}\n"
          ]
        }
      ],
      "source": [
        "# Initialize an empty dictionary\n",
        "lexicon_dict = {}\n",
        "\n",
        "# Open the lexicon file for reading\n",
        "with open(\"sent_lexicon\", mode=\"r\", encoding=\"utf-8\") as f:\n",
        "  \n",
        "  # For every line (which corresponds to a word in this case)\n",
        "  for line in f:\n",
        "\n",
        "    # Split the string on spaces and '=':\n",
        "    lex_elements = re.split(' |=', line)\n",
        "\n",
        "    # Cut the '\\n' from the end\n",
        "    lex_elements[-1] = lex_elements[-1][:-1]\n",
        "\n",
        "    # Add the relevant information to the dictionary using the word as the key\n",
        "    lexicon_dict[lex_elements[5]] = lex_elements[1], lex_elements[3], lex_elements[7], lex_elements[9], lex_elements[11]\n",
        "\n",
        "# Show user what this dict looks like\n",
        "print(\"The lexicon dictionary looks as follows: \", lexicon_dict)"
      ]
    },
    {
      "cell_type": "code",
      "execution_count": null,
      "metadata": {
        "colab": {
          "background_save": true
        },
        "id": "E9cpa-Omq1It"
      },
      "outputs": [],
      "source": [
        "def binary_score(review):\n",
        "  \"\"\"\n",
        "  Calculate the binary score of a single review.\n",
        "\n",
        "  Parameters\n",
        "  ----------\n",
        "  review: dict\n",
        "    Dictionary that contains information about a single review. in this function\n",
        "    the 'content' key of the dict is used, which stores all the text. \n",
        "\n",
        "  Returns\n",
        "  -------\n",
        "  score_count: int\n",
        "    The binary score of a single review as an integer. The total score is \n",
        "    calculated by adding 1 when a word is 'positive' and subtracting 1 when a\n",
        "    word is negative.\n",
        "  \"\"\"\n",
        "  # Initialize the binary score\n",
        "  score_count = 0\n",
        " \n",
        "  # Look at each individual word in a review\n",
        "  for sentence in review['content']:\n",
        "    for word in sentence:\n",
        "\n",
        "      # Check if the word is in the lexicon\n",
        "      if word[0].lower() in lexicon_dict.keys():\n",
        "\n",
        "        # Check in the lexicon if the word is negative or positive (or neutral)\n",
        "        if lexicon_dict[word[0].lower()][-1] == 'negative':\n",
        "          score_count -= 1\n",
        "        elif lexicon_dict[word[0].lower()][-1] == 'positive':\n",
        "          score_count += 1\n",
        "  \n",
        "  return score_count\n",
        "\n",
        "\n",
        "# Function that classifies a review as positive or negative using treshold\n",
        "def classification(score_count, treshold=8):\n",
        "  if score_count > treshold:\n",
        "    return 'POS'\n",
        "  else:\n",
        "    return 'NEG'\n",
        "\n",
        "\n",
        "# Function that returns the 'true' labels of inputted reviews\n",
        "def true_sentiments(reviews):\n",
        "    \n",
        "  # For every review add its true sentiment to the sentiments list\n",
        "  sentiments = [review['sentiment'] for review in reviews]\n",
        "\n",
        "  return sentiments\n",
        "\n",
        "\n",
        "def token_list(true_labels, predicted_labels):\n",
        "  \"\"\"\n",
        "  Retrieve the token list.\n",
        "\n",
        "  Parameters\n",
        "  ----------\n",
        "  true_labels: list\n",
        "    List of strings where each element is either 'POS' or 'NEG', these are the\n",
        "    'true' review sentiments.\n",
        "  predicted_labels: list\n",
        "    List of strings where each element is either 'POS' or 'NEG', these are the\n",
        "    'predicted' review sentiments.\n",
        "\n",
        "  Returns\n",
        "  -------\n",
        "  token_results: list\n",
        "    A list containing binary indicators, where 1 indicates a correct \n",
        "    classification and 0 an incorrect classification.\n",
        "  \"\"\"\n",
        "  # Initialize an empty list\n",
        "  token_results = []\n",
        "\n",
        "  # Compare all your predicted labels to the true labels\n",
        "  for i in range(len(true_labels)):\n",
        "    if true_labels[i] == predicted_labels[i]:\n",
        "      token_results += [1]\n",
        "    else:\n",
        "      token_results += [0]\n",
        "\n",
        "  return token_results\n",
        "\n",
        "\n",
        "# Function that calculates the prediction accuracy using the token list\n",
        "def token_acc(token_results):\n",
        "  # Get the total sum of correct predictions\n",
        "  sum_correct = sum(token_results)\n",
        "\n",
        "  # Devide it by the total amount of tokens\n",
        "  token_accuracy = sum_correct / len(token_results)\n",
        "\n",
        "  return token_accuracy\n"
      ]
    },
    {
      "cell_type": "code",
      "execution_count": null,
      "metadata": {
        "colab": {
          "background_save": true
        },
        "id": "mRhlrlUZuomW"
      },
      "outputs": [],
      "source": [
        "# Perform the lexicon based prediction\n",
        "\n",
        "# Initialize a list to store your predictions\n",
        "predicted_labels = []\n",
        "\n",
        "# For every review, make a positive or negative prediction\n",
        "for review in reviews:\n",
        "  # Calculate a reviews binary score\n",
        "  score_count = binary_score(review)\n",
        "\n",
        "  # Label the review 'POS' or 'NEG'\n",
        "  label = classification(score_count)\n",
        "\n",
        "  # Add the prediction to the prediction list\n",
        "  predicted_labels += [label]\n",
        "\n",
        "# Retrieve the true sentiments \n",
        "true_labels = true_sentiments(reviews)"
      ]
    },
    {
      "cell_type": "code",
      "execution_count": null,
      "metadata": {
        "colab": {
          "background_save": true
        },
        "id": "iy528EUTphz5",
        "outputId": "3e8d0737-057b-45b7-a6dd-4e13aab13968"
      },
      "outputs": [
        {
          "name": "stdout",
          "output_type": "stream",
          "text": [
            "Accuracy: 0.68\n"
          ]
        }
      ],
      "source": [
        "# token_results should be a list of binary indicators; for example [1, 0, 1, ...] \n",
        "# where 1 indicates a correct classification and 0 an incorrect classification.\n",
        "token_results = token_list(true_labels, predicted_labels)\n",
        "token_accuracy = token_acc(token_results)\n",
        "print(\"Accuracy: %0.2f\" % token_accuracy)"
      ]
    },
    {
      "cell_type": "markdown",
      "metadata": {
        "id": "Twox0s_3eS0V"
      },
      "source": [
        "As the sentiment lexicon also has information about the **magnitude** of\n",
        "sentiment (e.g., *“excellent\"* has the same sentiment _polarity_ as *“good\"* but it has a higher magnitude), we can take a more fine-grained approach by adding up all\n",
        "sentiment scores, and deciding the polarity of the movie review using\n",
        "the sign of the weighted score $S_{weighted}$.\n",
        "\n",
        "$$S_{weighted}(w_1w_2...w_n) = \\sum_{i = 1}^{n}SLex\\big[w_i\\big]$$\n",
        "\n",
        "\n",
        "Make sure you define an appropriate threshold for this approach.\n",
        "\n",
        "#### (Q1.2) Now incorporate magnitude information and report the classification accuracy. Don't forget to use the threshold. (1pt)"
      ]
    },
    {
      "cell_type": "code",
      "execution_count": null,
      "metadata": {
        "colab": {
          "background_save": true
        },
        "id": "qG3hUDnPtkhS"
      },
      "outputs": [],
      "source": [
        "def weighted_binary_score(review):\n",
        "  \"\"\"\n",
        "  Calculate the weighted binary score of a single review.\n",
        "\n",
        "  Parameters\n",
        "  ----------\n",
        "  review: dict\n",
        "    Dictionary that contains information about a single review. in this function\n",
        "    the 'content' key of the dict is used, which stores all the text. \n",
        "\n",
        "  Returns\n",
        "  -------\n",
        "  score_count: int\n",
        "    The weighted binary score of a single review as an integer. The total score \n",
        "    is calculated by adding 1 when a word is 'weak positive', 2 when a word is\n",
        "    'strong postive' and -1 and -2 when a word is 'weak negative' or 'strong\n",
        "    negative' respectively.\n",
        "  \"\"\"\n",
        "  # Initialize the binary score at 0\n",
        "  score_count = 0\n",
        "\n",
        "  # Look at every word in the review\n",
        "  for sentence in review['content']:\n",
        "    for word in sentence:\n",
        "\n",
        "      # Check if the word is in the lexicon\n",
        "      if word[0].lower() in lexicon_dict.keys():\n",
        "\n",
        "        # If the word is negative\n",
        "        if lexicon_dict[word[0].lower()][-1] == 'negative':\n",
        "\n",
        "          # Check the magnitude of the sentiment\n",
        "          if lexicon_dict[word[0].lower()][0] == 'weaksubj':\n",
        "            score_count -= 1\n",
        "          else:\n",
        "            score_count -= 2\n",
        "\n",
        "        # If the word is positive\n",
        "        elif lexicon_dict[word[0].lower()][-1] == 'positive':\n",
        "\n",
        "          # Check magnitude of sentiment\n",
        "          if lexicon_dict[word[0].lower()][0] == 'weaksubj':\n",
        "            score_count += 1\n",
        "          else:\n",
        "            score_count += 2\n",
        "  \n",
        "  return score_count\n",
        "\n",
        "\n",
        "# Function that calculates new treshold\n",
        "def new_treshold(reviews):\n",
        "  \"\"\"\n",
        "  Calculate a new appropriate treshold\n",
        "\n",
        "  Parameters\n",
        "  ----------\n",
        "  reviews: list\n",
        "    List containing all the 2000 reviews. Each element in the list is a dict\n",
        "    containing the information of a single review.\n",
        "\n",
        "  Returns\n",
        "  -------\n",
        "  treshold: int\n",
        "    A new appropriate treshold is returned. Calculated by finding the average\n",
        "    of the weighted binary scores of ALL reviews.\n",
        "  \"\"\"\n",
        "  score_counters = []\n",
        "\n",
        "  # For every review, calculate its weighted binary score\n",
        "  for review in reviews:\n",
        "    score_counters += [weighted_binary_score(review)]\n",
        "\n",
        "  # New treshold is the average of all weighted binary scores\n",
        "  treshold = math.ceil(sum(score_counters) / len(score_counters))\n",
        "\n",
        "  return treshold"
      ]
    },
    {
      "cell_type": "code",
      "execution_count": null,
      "metadata": {
        "colab": {
          "background_save": true
        },
        "id": "wx3Vww2t4FXm"
      },
      "outputs": [],
      "source": [
        "# Perform the magnitude based lexicon classification\n",
        "\n",
        "# Initialize a list to store your predictions\n",
        "predicted_labels = []\n",
        "\n",
        "# Calculate the new_treshold\n",
        "treshold = new_treshold(reviews)\n",
        "\n",
        "for review in reviews:\n",
        "  # Calculate a reviews binary score\n",
        "  score_count = weighted_binary_score(review)\n",
        "\n",
        "  # Label the review 'POS' or 'NEG' (with new treshold)\n",
        "  label = classification(score_count, treshold=treshold)\n",
        "\n",
        "  # Add the prediction to the prediction list\n",
        "  predicted_labels += [label]"
      ]
    },
    {
      "cell_type": "code",
      "execution_count": null,
      "metadata": {
        "colab": {
          "background_save": true
        },
        "id": "9vVk7CvDpyka",
        "outputId": "bcc90048-ea22-48fa-8b81-e3d6ca7a042a"
      },
      "outputs": [
        {
          "name": "stdout",
          "output_type": "stream",
          "text": [
            "Accuracy: 0.70\n"
          ]
        }
      ],
      "source": [
        "# Calculate the accuracy\n",
        "magnitude_results = token_list(true_labels, predicted_labels)\n",
        "magnitude_accuracy = token_acc(magnitude_results)\n",
        "print(\"Accuracy: %0.2f\" % magnitude_accuracy)"
      ]
    },
    {
      "cell_type": "markdown",
      "metadata": {
        "id": "h9SHoGPfsAHV"
      },
      "source": [
        "#### (Q.1.3) Make a barplot of the two results (0.5pt)"
      ]
    },
    {
      "cell_type": "code",
      "execution_count": null,
      "metadata": {
        "colab": {
          "background_save": true
        },
        "id": "8LgBcYcXsEk3",
        "outputId": "bcd10004-11e1-46bf-9339-7d14745dc5bb"
      },
      "outputs": [
        {
          "data": {
            "image/png": "[encoded data removed]",
            "text/plain": [
              "<Figure size 432x288 with 1 Axes>"
            ]
          },
          "metadata": {},
          "output_type": "display_data"
        }
      ],
      "source": [
        "methods = ['Unweighted', 'Weighted']\n",
        "accuracies = [token_accuracy, magnitude_accuracy]\n",
        "\n",
        "plt.bar(methods, accuracies)\n",
        "plt.title('Weighted vs Unweighted Binary Score Classification  ')\n",
        "plt.ylabel('Accuracy')\n",
        "plt.show()"
      ]
    },
    {
      "cell_type": "markdown",
      "metadata": {
        "id": "sNhS8OCVxMHd"
      },
      "source": [
        "#### (Q1.4) A better threshold (1pt)\n",
        "Above we have defined a threshold to account for an inherent bias in the dataset: there are more positive than negative words per review.\n",
        "However, that threshold does not take into account *document length*. Explain why this is a problem and implement an alternative way to compute the threshold."
      ]
    },
    {
      "cell_type": "markdown",
      "metadata": {
        "id": "xo7gk1I-omLI"
      },
      "source": [
        "**Review specific treshold**\n",
        "\n",
        "It would be better to use a treshold that does take into account the document length. In the explained scenario previously used, the treshold is based on the average review length, meaning a review of average length has a treshold of 8, because on average it will have 8 more positive than negative words. Reviews that are longer than average length, for example twice as long, will on average then have 2 * 8 more positive than negative words. \n",
        "\n",
        "In short, reviews longer than average length will tend to be above the treshold faster, and reviews shorter than average length will tend to be below the treshold more often. \n",
        "\n",
        "A different way to implement a treshold is to then include the review length in the calculation of the treshold, and making it a treshold specific for every reveiw. We can use the treshold that we used before, and then multiply it by however much the current review is longer or shorter than the average review. Meaning if a review is twice as long as the average review, the treshold will be twice as high. This is implemented below:"
      ]
    },
    {
      "cell_type": "code",
      "execution_count": null,
      "metadata": {
        "colab": {
          "background_save": true
        },
        "id": "Dwt0B8h8aKjr"
      },
      "outputs": [],
      "source": [
        "def calc_review_length(review):\n",
        "  \"\"\"\n",
        "  Calculate the length of a review.\n",
        "\n",
        "  Parameters\n",
        "  ----------\n",
        "  review: dict\n",
        "    Dictionary that contains information about a single review. in this function\n",
        "    the 'content' key of the dict is used, which stores all the text. \n",
        "\n",
        "  Returns\n",
        "  -------\n",
        "  review_length: int\n",
        "    The length in words (excluding interpunction signs such as points and \n",
        "    commas) of a specific review\n",
        "  \"\"\"\n",
        "  review_length = 0\n",
        "\n",
        "  for sentence in review['content']:\n",
        "    # Only keep the words (not the commas etc)\n",
        "    all_words = [sentence[i] for i in range(len(sentence)) if \n",
        "                  sentence[i][0].lower().isalpha()]\n",
        "\n",
        "    # Add the amount of words in sentence to the total of the review\n",
        "    review_length += len(all_words)\n",
        "    # review_length += len(sentence)\n",
        "\n",
        "  return review_length\n",
        "\n",
        "# Function to calculate the new treshold depending on the document length\n",
        "def treshold_factor(review_length, average_length, old_treshold=8):\n",
        "\n",
        "  # Review length (divided by average length) multiplied with avg treshold\n",
        "  doc_treshold = old_treshold * (review_length / average_length)\n",
        "\n",
        "  return math.ceil(doc_treshold)\n",
        "\n",
        "\n",
        "# Calculate all the review lengths\n",
        "all_review_lengths = [calc_review_length(review) for review in reviews]\n",
        "\n",
        "# Calculate the average review length\n",
        "average_length = sum(all_review_lengths) / len(all_review_lengths)"
      ]
    },
    {
      "cell_type": "code",
      "execution_count": null,
      "metadata": {
        "colab": {
          "background_save": true
        },
        "id": "ypIEvuJAI5nx",
        "outputId": "3a5bbdb4-c5a1-4ef6-bd9e-4732e8518519"
      },
      "outputs": [
        {
          "name": "stdout",
          "output_type": "stream",
          "text": [
            "Accuracy: 0.67\n"
          ]
        }
      ],
      "source": [
        "# Calculate the accuracy of using this new document specific treshold,\n",
        "# without using magnitude information\n",
        "\n",
        "# Initialize a list to store your predictions\n",
        "predicted_labels = []\n",
        "\n",
        "# For every review, make a positive or negative prediction\n",
        "for review in reviews:\n",
        "  # Calculate a reviews binary score\n",
        "  score_count = binary_score(review)\n",
        "\n",
        "  # Calculate review specific treshold based on the document length\n",
        "  review_length = calc_review_length(review)\n",
        "  treshold = treshold_factor(review_length, average_length)\n",
        "  \n",
        "  # Label the review 'POS' or 'NEG'\n",
        "  label = classification(score_count, treshold=treshold)\n",
        "\n",
        "  # Add the prediction to the prediction list\n",
        "  predicted_labels += [label]\n",
        "\n",
        "# True sentiments \n",
        "true_labels = true_sentiments(reviews)\n",
        "\n",
        "# Calculate the accuracy (document specific treshold, no magnitude info)\n",
        "new_nomag_results = token_list(true_labels, predicted_labels)\n",
        "new_nomag_accuracy = token_acc(new_nomag_results)\n",
        "\n",
        "print(\"Accuracy: %0.2f\" % new_nomag_accuracy)"
      ]
    },
    {
      "cell_type": "code",
      "execution_count": null,
      "metadata": {
        "colab": {
          "background_save": true
        },
        "id": "M9cV69SvMWSk",
        "outputId": "2a8a4ef7-b44e-43d0-c528-1fa2852ddabf"
      },
      "outputs": [
        {
          "name": "stdout",
          "output_type": "stream",
          "text": [
            "Accuracy: 0.70\n"
          ]
        }
      ],
      "source": [
        "# Calculate the accuracy of using this new document specific treshold,\n",
        "# without using magnitude information\n",
        "\n",
        "# Initialize a list to store your predictions\n",
        "predicted_labels = []\n",
        "\n",
        "# Calculate the basis treshold\n",
        "basis_treshold = new_treshold(reviews)\n",
        "\n",
        "for review in reviews:\n",
        "  # Calculate a reviews weighted binary score (using magnitude info)\n",
        "  score_count = weighted_binary_score(review)\n",
        "\n",
        "  # Calculate review specific treshold based on the document length\n",
        "  review_length = calc_review_length(review)\n",
        "  treshold = treshold_factor(review_length, average_length, basis_treshold)\n",
        "\n",
        "  # Label the review 'POS' or 'NEG' (with new treshold)\n",
        "  label = classification(score_count, treshold=treshold)\n",
        "\n",
        "  # Add the prediction to the prediction list\n",
        "  predicted_labels += [label]\n",
        "\n",
        "# Calculate the accuracy\n",
        "new_mag_results = token_list(true_labels, predicted_labels)\n",
        "new_mag_accuracy = token_acc(new_mag_results)\n",
        "print(\"Accuracy: %0.2f\" % new_mag_accuracy)"
      ]
    },
    {
      "cell_type": "code",
      "execution_count": null,
      "metadata": {
        "colab": {
          "background_save": true
        },
        "id": "423gUStAQ6-o",
        "outputId": "e9d57d98-0ddb-4321-df18-56654bb786e4"
      },
      "outputs": [
        {
          "name": "stdout",
          "output_type": "stream",
          "text": [
            "Accuracies of classifiers\u001b[1m not\u001b[0m using magnitude information:\n",
            "--------------------------------------\n",
            "Non-document specific treshold: 0.677\n",
            "Document specific treshold    : 0.674\n",
            "Accuracy improvement          : -0.003\n",
            "\n",
            "Accuracies of classifiers\u001b[1m using\u001b[0m magnitude information:\n",
            "--------------------------------------\n",
            "Non-document specific treshold: 0.696\n",
            "Document specific treshold    : 0.697\n",
            "Accuracy improvement          : 0.001\n"
          ]
        }
      ],
      "source": [
        "# Display all accuracies one last time:\n",
        "\n",
        "# Not using magnitude information\n",
        "print(\"Accuracies of classifiers\\033[1m not\\033[0m using magnitude information:\")\n",
        "print(\"--------------------------------------\")\n",
        "print(\"Non-document specific treshold: %0.3f\" % token_accuracy)\n",
        "print(\"Document specific treshold    : %0.3f\" % new_nomag_accuracy)\n",
        "print(\"Accuracy improvement          : %0.3f\" % (new_nomag_accuracy - token_accuracy))\n",
        "print(\"\")\n",
        "\n",
        "# Using magnitude information\n",
        "print(\"Accuracies of classifiers\\033[1m using\\033[0m magnitude information:\")\n",
        "print(\"--------------------------------------\")\n",
        "print(\"Non-document specific treshold: %0.3f\" % magnitude_accuracy)\n",
        "print(\"Document specific treshold    : %0.3f\" % new_mag_accuracy)\n",
        "print(\"Accuracy improvement          : %0.3f\" % (new_mag_accuracy - magnitude_accuracy))"
      ]
    },
    {
      "cell_type": "markdown",
      "metadata": {
        "id": "LibV4nR89BXb"
      },
      "source": [
        "# (2) Naive Bayes (9.5pts)"
      ]
    },
    {
      "cell_type": "markdown",
      "metadata": {
        "id": "fnF9adQnuwia"
      },
      "source": [
        "\n",
        "Your second task is to program a simple Machine Learning approach that operates\n",
        "on a simple Bag-of-Words (BoW) representation of the text data, as\n",
        "described by Pang et al. (2002). In this approach, the only features we\n",
        "will consider are the words in the text themselves, without bringing in\n",
        "external sources of information. The BoW model is a popular way of\n",
        "representing texts as vectors, making it\n",
        "easy to apply classical Machine Learning algorithms on NLP tasks.\n",
        "However, the BoW representation is also very crude, since it discards\n",
        "all information related to word order and grammatical structure in the\n",
        "original text—as the name suggests.\n",
        "\n",
        "## Writing your own classifier (4pts)\n",
        "\n",
        "Write your own code to implement the Naive Bayes (NB) classifier. As\n",
        "a reminder, the Naive Bayes classifier works according to the following\n",
        "equation:\n",
        "$$\\hat{c} = \\operatorname*{arg\\,max}_{c \\in C} P(c|\\bar{f}) = \\operatorname*{arg\\,max}_{c \\in C} P(c)\\prod^n_{i=1} P(f_i|c)$$\n",
        "where $C = \\{ \\text{POS}, \\text{NEG} \\}$ is the set of possible classes,\n",
        "$\\hat{c} \\in C$ is the most probable class, and $\\bar{f}$ is the feature\n",
        "vector. Remember that we use the log of these probabilities when making\n",
        "a prediction:\n",
        "$$\\hat{c} = \\operatorname*{arg\\,max}_{c \\in C} \\Big\\{\\log P(c) + \\sum^n_{i=1} \\log P(f_i|c)\\Big\\}$$\n",
        "\n",
        "You can find more details about Naive Bayes in [Jurafsky &\n",
        "Martin](https://web.stanford.edu/~jurafsky/slp3/). You can also look at\n",
        "this helpful\n",
        "[pseudo-code](https://nlp.stanford.edu/IR-book/html/htmledition/naive-bayes-text-classification-1.html).\n",
        "\n",
        "*Note: this section and the next aim to put you in a position to replicate\n",
        "    Pang et al.'s Naive Bayes results. However, your numerical results\n",
        "    will differ from theirs, as they used different data.*\n",
        "\n",
        "**You must write the Naive Bayes training and prediction code from\n",
        "scratch.** You will not be given credit for using off-the-shelf Machine\n",
        "Learning libraries.\n",
        "\n",
        "The data contains the text of the reviews, where each document consists\n",
        "of the sentences in the review, the sentiment of the review and an index\n",
        "(cv) that you will later use for cross-validation. The\n",
        "text has already been tokenised and POS-tagged for you. Your algorithm\n",
        "should read in the text, **lowercase it**, store the words and their\n",
        "frequencies in an appropriate data structure that allows for easy\n",
        "computation of the probabilities used in the Naive Bayes algorithm, and\n",
        "then make predictions for new instances.\n"
      ]
    },
    {
      "cell_type": "markdown",
      "metadata": {
        "id": "vEpyQSBSkb33"
      },
      "source": [
        "#### (Q2.1) Unseen words (1pt)\n",
        "The presence of words in the test dataset that\n",
        "have not been seen during training can cause probabilities in the Naive Bayes classifier to equal $0$.\n",
        "These can be words which are unseen in both positive and negative training reviews (case 1), but also words which are seen in reviews _of only one sentiment class_ in the training dataset (case 2). In both cases, **you should skip these words for both classes**.  What would be the problem instead with skipping words only for one class in case 2? "
      ]
    },
    {
      "cell_type": "markdown",
      "metadata": {
        "id": "BanFiYYnoxDW"
      },
      "source": [
        "**Answer Q2.1**\n",
        "\n",
        "The prediction of such samples in the test dataset might be wrong (biased), and the prediction is more likely to be the sentiment class where we have the unseen words. For example, if a test sample has unseen words in the 'positive' but not in the 'negative' sentiment class in the training dataset and we don't skip these words in the 'positive' sentiment class when predicting, the predicted class of this sample will be more likely be 'positive' sentiment, even if this review is clearly negative. We explain with the help of the following quation (which defines how our model works).\n",
        "\n",
        "$$\\hat{c} = \\operatorname*{arg\\,max}_{c \\in C} \\Big\\{\\log P(c) + \\sum^n_{i=1} \\log P(f_i|c)\\Big\\}$$\n",
        "\n",
        "In the summation, we notice that the log of the conditional probabilities of the words are summed. If we skip the zero probabilities (for unseen words), these probabilities are within (0, 1). We then know that the log of each probability is negative, so as the sum of them all. However, if we only skip the unseen words in one class in case 2, the log of the conditional probabilities of these unseen words will still be added for the class where these words are seen. This means more negative values are added for the class where the words are seen, which will make the target of this class in the argmax function more likely to be smaller than that of class where we skipped the unseen words. Then the prediction will more likely be the class where we skipped the unseen words."
      ]
    },
    {
      "cell_type": "markdown",
      "metadata": {
        "id": "gsZRhaI3WvzC"
      },
      "source": [
        "#### (Q2.2) Train your classifier on (positive and negative) reviews with cv-value 000-899, and test it on the remaining (positive and negative) reviews cv900–cv999.  Report results using classification accuracy as your evaluation metric. Your  features are the word vocabulary. The value of a feature is the count of that feature (word) in the document. (2pts)\n"
      ]
    },
    {
      "cell_type": "code",
      "execution_count": null,
      "metadata": {
        "colab": {
          "background_save": true
        },
        "id": "U68d5ICLOLvj"
      },
      "outputs": [],
      "source": [
        "# Function to devide the reviews into training and testing data\n",
        "def train_test_split(reviews, pos_split = 899, neg_split = 899):\n",
        "  train_reviews = []\n",
        "  test_reviews = []\n",
        "\n",
        "  for review in reviews:\n",
        "    if review['sentiment'] == 'POS' and review['cv'] <= pos_split:\n",
        "      train_reviews += [review]\n",
        "    elif review['sentiment'] == 'POS' and review['cv'] > pos_split:\n",
        "      test_reviews += [review]\n",
        "\n",
        "    elif review['sentiment'] == 'NEG' and review['cv'] <= neg_split:\n",
        "      train_reviews += [review]\n",
        "    else:\n",
        "      test_reviews += [review]\n",
        "\n",
        "  return train_reviews, test_reviews\n",
        "\n",
        "\n",
        "def generate_Ngrams(reviews, gram_order=1):\n",
        "  text = [token[0].lower() for review in reviews for sentence in review['content'] for token in sentence]\n",
        "  # because bigrams and trigrams should be generated w.r.t each sentence, we create this nested list\n",
        "  text_in_sentences = []\n",
        "  for review in reviews:\n",
        "    for sentence in review['content']:\n",
        "      s = []\n",
        "      for token in sentence:\n",
        "        s.append(token[0].lower())\n",
        "      text_in_sentences.append(s)\n",
        "  # generate bigrams/trigrams if asked to\n",
        "  if gram_order == 2:\n",
        "    bigram =  [' '.join(gram) for text in text_in_sentences for gram in ngrams(text, 2)]\n",
        "    text += bigram\n",
        "  elif gram_order == 3:\n",
        "    bigram =  [' '.join(gram) for text in text_in_sentences for gram in ngrams(text, 2)]\n",
        "    trigram = [' '.join(gram) for text in text_in_sentences for gram in ngrams(text, 3)]\n",
        "    text = text + bigram + trigram\n",
        "  elif gram_order != 1:\n",
        "    raise TypeError(\"gram_order must be 1, 2 or 3\")\n",
        "  \n",
        "  return text\n",
        "\n",
        "def create_vocabulary(reviews, gram_order=1):\n",
        "  \"\"\"\n",
        "  Create a vocabulary of all reviews and keep track of the counts of the\n",
        "  elements in that vocabulary.\n",
        "\n",
        "  Parameters\n",
        "  ----------\n",
        "  reviews: list\n",
        "    List containing all the 2000 reviews. Each element in the list is a dict\n",
        "    containing the information of a single review.\n",
        "\n",
        "  Returns\n",
        "  -------\n",
        "  vocabulary: dict\n",
        "    Returns a dictionary, where the keys are all the tokens present in the\n",
        "    reviews. The values are the count of how many times that token was seen\n",
        "    in a positive or negative review. \n",
        "    \n",
        "    For example:\n",
        "    Unigram: vocabulary['amazing'] = {'POS': 95, 'NEG': 55}\n",
        "    Bigram: vocabulary['very good'] = {'POS': 88, 'NEG': 47}\n",
        "    Trigram: vocabulary['not very good'] = {'POS': 2, 'NEG': 6}\n",
        "  \"\"\"\n",
        "  pos_reviews = [review for review in reviews if review['sentiment'] == 'POS']\n",
        "  neg_reviews = [review for review in reviews if review['sentiment'] == 'NEG']\n",
        "\n",
        "  pos_text =  generate_Ngrams(pos_reviews, gram_order)\n",
        "  neg_text = generate_Ngrams(neg_reviews, gram_order)\n",
        "\n",
        "  vocabulary = {}\n",
        "  # If the word is not yet in the vocabulary, initialize it\n",
        "  # count the frequencies of the grams in text\n",
        "  for gram in pos_text:\n",
        "    if gram not in vocabulary:\n",
        "      vocabulary[gram] = {'POS': 1, 'NEG': 0}\n",
        "    # Otherwise if already present, add 1 to the positive count\n",
        "    else:\n",
        "      vocabulary[gram]['POS'] += 1\n",
        "  for gram in neg_text:\n",
        "    if gram not in vocabulary:\n",
        "      vocabulary[gram] = {'POS': 0, 'NEG': 1}\n",
        "    # Otherwise if already present, add 1 to the positive count\n",
        "    else:\n",
        "      vocabulary[gram]['NEG']+= 1\n",
        "\n",
        "  return vocabulary\n",
        "\n",
        "\n",
        "def token_amounts(vocabulary, k=0):\n",
        "  # Calculate amount of tokens in 'POS' class and 'NEG' class\n",
        "  tokens_pos, tokens_neg = 0, 0\n",
        "\n",
        "  for word in vocabulary:\n",
        "    tokens_pos += vocabulary[word]['POS'] + k\n",
        "    tokens_neg += vocabulary[word]['NEG'] + k\n",
        "\n",
        "  # Store them in useful dictionary\n",
        "  token_counts = {'POS': tokens_pos, 'NEG': tokens_neg}\n",
        "\n",
        "  return token_counts\n",
        "\n",
        "\n",
        "# Function that retrieves the prior probabilities\n",
        "def retrieve_prior(train_reviews):\n",
        "  # Get a list of all the true labels\n",
        "  true_labels = true_sentiments(train_reviews)\n",
        "  N_reviews = len(train_reviews)\n",
        "\n",
        "  # Our classes can be positive or negative:\n",
        "  classes = ['POS', 'NEG']\n",
        "\n",
        "  # Also store the prior in an easy to use dictionary\n",
        "  prior = {'POS': 0, 'NEG': 0}\n",
        "\n",
        "  for current_class in classes:\n",
        "    # The prior is the amount of reviews of a class divided by the total amount\n",
        "    prior[current_class] = true_labels.count(current_class) / N_reviews\n",
        "\n",
        "  return prior\n",
        "\n",
        "\n",
        "# Function which retrieves the conditional probabilities\n",
        "def get_conditional_prob(vocabulary, k=0):\n",
        "  # Our classes can be positive or negative:\n",
        "  classes = ['POS', 'NEG']\n",
        "\n",
        "  cond_prob = {}\n",
        "\n",
        "  counts = token_amounts(vocabulary, k=k)\n",
        "\n",
        "  for word in vocabulary:\n",
        "    cond_prob[word] = {'POS': 0, 'NEG': 0}\n",
        "\n",
        "  for current_class in classes:\n",
        "    for word in vocabulary:\n",
        "      cond_prob[word][current_class] = (vocabulary[word][current_class] + k) / counts[current_class]\n",
        "\n",
        "  return cond_prob\n",
        "\n",
        "\n",
        "# Function that applies the multinomial as given by the pseudocode\n",
        "def apply_multinomialNB(review, vocabulary, prior, cond_prob, gram_order=1):\n",
        "  score = {'POS': 0, 'NEG': 0}\n",
        "\n",
        "  # Our classes are positive or negative\n",
        "  classes = ['POS', 'NEG']\n",
        "\n",
        "  for current_class in classes:\n",
        "    score[current_class] = np.log(prior[current_class])\n",
        "    text = generate_Ngrams([review], gram_order)\n",
        "    # Count the score\n",
        "    for word in text:\n",
        "      if word in cond_prob:\n",
        "        if cond_prob[word]['POS'] != 0 and cond_prob[word]['NEG'] != 0:\n",
        "          score[current_class] += np.log(cond_prob[word][current_class])\n",
        "\n",
        "  if score['POS'] > score['NEG']:\n",
        "    return 'POS'\n",
        "  else:\n",
        "    return 'NEG'\n",
        "\n",
        "\n",
        "# Global function that performs all the steps necessary to do the NaiveBayes\n",
        "def perform_NaiveBayes(train_reviews, test_reviews, k=0, gram_order=1):\n",
        "  # Create a vocabulary\n",
        "  vocabulary = create_vocabulary(train_reviews, gram_order)\n",
        "\n",
        "  # Calculate the prior\n",
        "  prior = retrieve_prior(train_reviews)\n",
        "\n",
        "  # Get the conditional probability\n",
        "  cond_prob = get_conditional_prob(vocabulary, k)\n",
        "\n",
        "  # Make your predictions using these variables\n",
        "  predictions = [apply_multinomialNB(review, vocabulary, prior, cond_prob, gram_order) \n",
        "                    for review in test_reviews]\n",
        "\n",
        "  # Get the true_labels\n",
        "  true_labels = true_sentiments(test_reviews)\n",
        "\n",
        "  # Get your results\n",
        "  results = token_list(true_labels, predictions)\n",
        "  accuracy = token_acc(results)\n",
        "\n",
        "  return predictions, accuracy"
      ]
    },
    {
      "cell_type": "code",
      "execution_count": null,
      "metadata": {
        "colab": {
          "background_save": true
        },
        "id": "ownvmzoR2Bn1",
        "outputId": "1064e801-d61b-48ce-d1cf-606f47e667c1"
      },
      "outputs": [
        {
          "name": "stdout",
          "output_type": "stream",
          "text": [
            "Naive Bayes Unigram Accuracy = 0.825\n"
          ]
        }
      ],
      "source": [
        "# Split the data\n",
        "train_reviews, test_reviews = train_test_split(reviews)\n",
        "\n",
        "# Perform the NaiveBayes\n",
        "NB_unigram_accuracy = perform_NaiveBayes(train_reviews, test_reviews, gram_order=1)[1]\n",
        "\n",
        "print(\"Naive Bayes Unigram Accuracy = %0.3f\" % NB_unigram_accuracy)"
      ]
    },
    {
      "cell_type": "markdown",
      "metadata": {
        "id": "0INK-PBoM6CB"
      },
      "source": [
        "#### (Q2.3) Would you consider accuracy to also be a good way to evaluate your classifier in a situation where 90% of your data instances are of positive movie reviews? (1pt)\n",
        "\n",
        "Simulate this scenario by keeping the positive reviews\n",
        "data unchanged, but only using negative reviews cv000–cv089 for\n",
        "training, and cv900–cv909 for testing. Calculate the classification\n",
        "accuracy, and explain what changed."
      ]
    },
    {
      "cell_type": "markdown",
      "metadata": {
        "id": "YiPkrfOXjhES"
      },
      "source": [
        "**Answer Q2.3**\n",
        "\n",
        "No, accuracy will not be a good way to evaluate largely imbalanced data since accuracy is only trustworthy on mostly balanced data. When 90% of the instances are of positive movie reviews, the accuracy will mostly reflect the model's performance on the positive reviews while the performance on the negative reveiws is negelected. This is because the accuracy only evaluates how many instances are predicted correctly but does not take into account which class the instance is from. As a result, an accuracy could be still very high when the model actually has very poor prediction performance on the negative reviews because the amount of negative reviews is too small to account for a representative portion in the accuracy. For example, asumming for a dataset where 90\\% of the instances are of positive sentiment, the model predicts 100\\% accurate for the positive sentiment class, but 0\\% accurate for the negative class. We can still have 90\\% accuracy in this example, but clearly this high accuracy does not fully evaluates the model's predictability since its poor performance for the negative class is not reflected.\n",
        "\n",
        "As requested, we simulate this scenario by training and testing our model using 90\\% positive reviews and 10\\% negative reviews. The accuracy is increased to 90\\% (with laplace adding one smoothing for more robust result, without smoothing it is 60\\% which is not very informative). In this case, the value of the accuracy is changed and mostly only presents the performance for the positive class, therefore, it is no longer a good performance metrics."
      ]
    },
    {
      "cell_type": "code",
      "execution_count": null,
      "metadata": {
        "colab": {
          "background_save": true
        },
        "id": "GWDkt5ZrrFGp",
        "outputId": "7873b17f-9458-48d8-f966-1e3342945d4e"
      },
      "outputs": [
        {
          "name": "stdout",
          "output_type": "stream",
          "text": [
            "Accuracy of classifier in unbalanced training dataset = 0.600\n",
            "Accuracy of classifier (with smoothing) in unbalanced training dataset = 0.909\n"
          ]
        }
      ],
      "source": [
        "# Split the data accurately\n",
        "train_reviews = [review for review in reviews if review['cv'] <= 899 and review['sentiment'] == 'POS'] + [review for review in reviews if review['cv'] <= 89 and review['sentiment'] == 'NEG']\n",
        "test_reviews = [review for review in reviews if review['cv'] > 899 and review['sentiment'] == 'POS'] + [review for review in reviews if review['cv'] >= 900 and review['cv'] < 910 and review['sentiment'] == 'NEG']\n",
        "\n",
        "# Perform the NaiveBayes\n",
        "accuracy = perform_NaiveBayes(train_reviews, test_reviews, k=0)[1]\n",
        "\n",
        "# Perform the NaiveBayes (with smoothing from later question)\n",
        "accuracy_smoothing = perform_NaiveBayes(train_reviews, test_reviews, k=1)[1]\n",
        "\n",
        "print(\"Accuracy of classifier in unbalanced training dataset = %0.3f\" % accuracy)\n",
        "print(\"Accuracy of classifier (with smoothing) in unbalanced training dataset = %0.3f\" % accuracy_smoothing)"
      ]
    },
    {
      "cell_type": "markdown",
      "metadata": {
        "id": "6wJzcHX3WUDm"
      },
      "source": [
        "## Smoothing (1pt)\n",
        "\n",
        "As mentioned above, the presence of words in the test dataset that\n",
        "have not been seen during training can cause probabilities in the Naive\n",
        "Bayes classifier to be $0$, thus making that particular test instance\n",
        "undecidable. The standard way to mitigate this effect (as well as to\n",
        "give more clout to rare words) is to use smoothing, in which the\n",
        "probability fraction\n",
        "$$\\frac{\\text{count}(w_i, c)}{\\sum\\limits_{w\\in V} \\text{count}(w, c)}$$ for a word\n",
        "$w_i$ becomes\n",
        "$$\\frac{\\text{count}(w_i, c) + \\text{smoothing}(w_i)}{\\sum\\limits_{w\\in V} \\text{count}(w, c) + \\sum\\limits_{w \\in V} \\text{smoothing}(w)}$$\n",
        "\n",
        "\n",
        "\n"
      ]
    },
    {
      "cell_type": "markdown",
      "metadata": {
        "id": "PBNIcbwUWphC"
      },
      "source": [
        "#### (Q2.4) Implement Laplace feature smoothing (1pt)\n",
        "Implement Laplace smoothing, i.e., smoothing with a constant value ($smoothing(w) = \\kappa, \\forall w \\in V$), in your Naive\n",
        "Bayes classifier’s code, and report the impact on performance. \n",
        "Use $\\kappa = 1$."
      ]
    },
    {
      "cell_type": "code",
      "execution_count": null,
      "metadata": {
        "colab": {
          "background_save": true
        },
        "id": "6mPEEJgM-w_W",
        "outputId": "f58dec48-cbae-4944-d479-44db4c407092"
      },
      "outputs": [
        {
          "name": "stdout",
          "output_type": "stream",
          "text": [
            "Naive Bayes unigram (with smoothing) accuracy = 0.825\n"
          ]
        }
      ],
      "source": [
        "# In the earlier functions at 2.2 an option to implement smoothing has been coded\n",
        "# in this function below, the smoothing is set to 1 by using k = 1\n",
        "\n",
        "# Split the data\n",
        "train_reviews, test_reviews = train_test_split(reviews)\n",
        "\n",
        "# Perform the NaiveBayes with smoothing\n",
        "NB_unigram_smoothing_acc = perform_NaiveBayes(train_reviews, test_reviews, k=1)[1]\n",
        "\n",
        "print(\"Naive Bayes unigram (with smoothing) accuracy = %0.3f\" % NB_unigram_smoothing_acc)"
      ]
    },
    {
      "cell_type": "markdown",
      "metadata": {
        "id": "ZiGcgwba87D5"
      },
      "source": [
        "## Cross-Validation (1.5pts)\n",
        "\n",
        "A serious danger in using Machine Learning on small datasets, with many\n",
        "iterations of slightly different versions of the algorithms, is ending up with Type III errors, also called the “testing hypotheses\n",
        "suggested by the data” errors. This type of error occurs when we make\n",
        "repeated improvements to our classifiers by playing with features and\n",
        "their processing, but we don’t get a fresh, never-before seen test\n",
        "dataset every time. Thus, we risk developing a classifier that gets better\n",
        "and better on our data, but only gets worse at generalizing to new, unseen data. In other words, we risk developping a classifier that overfits.\n",
        "\n",
        "A simple method to guard against Type III errors is to use\n",
        "Cross-Validation. In **N-fold Cross-Validation**, we divide the data into N\n",
        "distinct chunks, or folds. Then, we repeat the experiment N times: each\n",
        "time holding out one of the folds for testing, training our classifier\n",
        "on the remaining N - 1 data folds, and reporting performance on the\n",
        "held-out fold. We can use different strategies for dividing the data:\n",
        "\n",
        "-   Consecutive splitting:\n",
        "  - cv000–cv099 = Split 1\n",
        "  - cv100–cv199 = Split 2\n",
        "  - etc.\n",
        "  \n",
        "-   Round-robin splitting (mod 10):\n",
        "  - cv000, cv010, cv020, … = Split 1\n",
        "  - cv001, cv011, cv021, … = Split 2\n",
        "  - etc.\n",
        "\n",
        "-   Random sampling/splitting\n",
        "  - Not used here (but you may choose to split this way in a non-educational situation)\n",
        "\n"
      ]
    },
    {
      "cell_type": "markdown",
      "metadata": {
        "id": "8OeLcbSauGtR"
      },
      "source": [
        "#### (Q2.5) Write the code to implement 10-fold cross-validation using round-robin splitting for your Naive Bayes classifier from Q2.4 and compute the 10 accuracies. Report the final performance, which is the average of the performances per fold. If all splits perform equally well, this is a good sign. (1pt)"
      ]
    },
    {
      "cell_type": "code",
      "execution_count": null,
      "metadata": {
        "colab": {
          "background_save": true
        },
        "id": "3KeCGPa7Nuzx"
      },
      "outputs": [],
      "source": [
        "def RR_split(reviews, nr_folds):\n",
        "  N = len(reviews)\n",
        "  N_per_fold = N // nr_folds\n",
        "  splits = []\n",
        "  for i in range(10):\n",
        "    split = [reviews[i]]\n",
        "    for j in range(1, N_per_fold):\n",
        "      split.append(reviews[i+j*nr_folds])\n",
        "    splits.append(split)\n",
        "  return splits\n",
        "\n",
        "def cross_validation(reviews, nr_folds, k=0, gram_order=1):\n",
        "  splits = RR_split(reviews, nr_folds)\n",
        "\n",
        "\n",
        "  print(\"***Starting Cross-Validation Training***\")\n",
        "\n",
        "  accuracies = []\n",
        "  for i in range(nr_folds):\n",
        "    test_fold = splits[i]\n",
        "    train_folds = []\n",
        "    for j in range(nr_folds):\n",
        "      if j != i:\n",
        "        train_folds += splits[j]\n",
        "    # call the previously defined function, get the test accuracy\n",
        "    _, test_accuracy = perform_NaiveBayes(train_folds, test_fold, k, gram_order)\n",
        "    accuracies.append(test_accuracy)\n",
        "    print(f\"Fold {i+1}/{nr_folds} of the cross-validation training has been completed with {test_accuracy} accuracy!\")\n",
        "  \n",
        "  avg_test_accuracy = sum(accuracies)/nr_folds\n",
        "  var_accuracy = np.var(accuracies)\n",
        "\n",
        "  print(\"***Cross-Validation Training has finished!***\")\n",
        "  return avg_test_accuracy, var_accuracy"
      ]
    },
    {
      "cell_type": "code",
      "execution_count": null,
      "metadata": {
        "colab": {
          "background_save": true
        },
        "id": "pnlZfLLwRnb4",
        "outputId": "1d9bb597-953f-4dd7-b484-cf6a03cda163"
      },
      "outputs": [
        {
          "name": "stdout",
          "output_type": "stream",
          "text": [
            "***Starting Cross-Validation Training***\n",
            "Fold 1/10 of the cross-validation training has been completed with 0.775 accuracy!\n",
            "Fold 2/10 of the cross-validation training has been completed with 0.825 accuracy!\n",
            "Fold 3/10 of the cross-validation training has been completed with 0.805 accuracy!\n",
            "Fold 4/10 of the cross-validation training has been completed with 0.865 accuracy!\n",
            "Fold 5/10 of the cross-validation training has been completed with 0.78 accuracy!\n",
            "Fold 6/10 of the cross-validation training has been completed with 0.855 accuracy!\n",
            "Fold 7/10 of the cross-validation training has been completed with 0.81 accuracy!\n",
            "Fold 8/10 of the cross-validation training has been completed with 0.795 accuracy!\n",
            "Fold 9/10 of the cross-validation training has been completed with 0.825 accuracy!\n",
            "Fold 10/10 of the cross-validation training has been completed with 0.805 accuracy!\n",
            "***Cross-Validation Training has finished!***\n",
            "\n",
            "\u001b[1mResults:\u001b[0m\n",
            "The average accuracy of the cross-validation training = 0.814\n"
          ]
        }
      ],
      "source": [
        "# Perform the cross validation and retrieve the average accuracy and variance\n",
        "\n",
        "# This takes about 15 seconds to run\n",
        "cv_avg_acc, cv_var = cross_validation(reviews, 10)\n",
        "\n",
        "# Display the results somewhat nicely\n",
        "print(\"\")\n",
        "print(\"\\033[1mResults:\\033[0m\")\n",
        "print(\"The average accuracy of the cross-validation training = %0.3f\" % cv_avg_acc)"
      ]
    },
    {
      "cell_type": "markdown",
      "metadata": {
        "id": "otdlsDXBNyOa"
      },
      "source": [
        "#### (Q2.6) Report the variance of the 10 accuracy scores. (0.5pt)\n",
        "\n",
        "**Please report all future results using 10-fold cross-validation now\n",
        "(unless told to use the held-out test set).** Note: you're not allowed to use a library for computing the variance. "
      ]
    },
    {
      "cell_type": "code",
      "execution_count": null,
      "metadata": {
        "colab": {
          "background_save": true
        },
        "id": "ZoBQm1KuNzNR",
        "outputId": "1df54b9d-419b-4959-f2c6-4eb12aad7943"
      },
      "outputs": [
        {
          "name": "stdout",
          "output_type": "stream",
          "text": [
            "The variance of the 10 cross-validation accuracies = 0.000774\n"
          ]
        }
      ],
      "source": [
        "print(\"The variance of the 10 cross-validation accuracies = %0.6f\" % cv_var)"
      ]
    },
    {
      "cell_type": "markdown",
      "metadata": {
        "id": "s6A2zX9_BRKm"
      },
      "source": [
        "## Features, overfitting, and the curse of dimensionality\n",
        "\n",
        "In the Bag-of-Words model, ideally we would like each distinct word in\n",
        "the text to be mapped to its own dimension in the output vector\n",
        "representation. However, real world text is messy, and we need to decide\n",
        "on what we consider to be a word. For example, is “`word`\" different\n",
        "from “`Word`\", from “`word`”, or from “`words`\"? Too strict a\n",
        "definition, and the number of features explodes, while our algorithm\n",
        "fails to learn anything generalisable. Too lax, and we risk destroying\n",
        "our learning signal. In the following section, you will learn about\n",
        "confronting the feature sparsity and the overfitting problems as they\n",
        "occur in NLP classification tasks."
      ]
    },
    {
      "cell_type": "markdown",
      "metadata": {
        "id": "EKK8FNt8VtcZ"
      },
      "source": [
        "### Stemming (1.5pts)\n",
        "\n",
        "To make your algorithm more robust, use stemming and hash different inflections of a word to the same feature in the BoW vector space. Please use the [Porter stemming\n",
        "    algorithm](http://www.nltk.org/howto/stem.html) from NLTK.\n",
        "\n"
      ]
    },
    {
      "cell_type": "code",
      "execution_count": null,
      "metadata": {
        "colab": {
          "background_save": true
        },
        "id": "NxtCul1IrBi_"
      },
      "outputs": [],
      "source": [
        "# Import the libraries for the stemmer\n",
        "from nltk.stem import *\n",
        "from nltk.stem.porter import *\n",
        "\n",
        "# Import copy to make a copy of all the reviews \n",
        "import copy"
      ]
    },
    {
      "cell_type": "markdown",
      "metadata": {
        "id": "6SrJ1BeLXTnk"
      },
      "source": [
        "#### (Q2.7): How does the performance of your classifier change when you use stemming on your training and test datasets? (1pt)\n",
        "Use cross-validation to evaluate the classifier. \n"
      ]
    },
    {
      "cell_type": "code",
      "execution_count": null,
      "metadata": {
        "colab": {
          "background_save": true
        },
        "id": "25irZx-YZPIz"
      },
      "outputs": [],
      "source": [
        "# First copy the original reviews into a new variable\n",
        "stemmed_reviews = copy.deepcopy(reviews)\n",
        "\n",
        "# Call the stemmer\n",
        "stemmer = PorterStemmer()\n",
        "\n",
        "# For all the reviews, stem them using the stemmer\n",
        "# This takes about 1 minute\n",
        "for review in stemmed_reviews:\n",
        "  for sentence in review['content']:\n",
        "    for i in range(len(sentence)):\n",
        "      word = stemmer.stem(sentence[i][0].lower())\n",
        "      sentence[i][0] = word"
      ]
    },
    {
      "cell_type": "code",
      "execution_count": null,
      "metadata": {
        "colab": {
          "background_save": true
        },
        "id": "z9VERsyWZPRh",
        "outputId": "307d2c18-2428-4cfa-993c-9cc8f1946350"
      },
      "outputs": [
        {
          "name": "stdout",
          "output_type": "stream",
          "text": [
            "***Starting Cross-Validation Training***\n",
            "Fold 1/10 of the cross-validation training has been completed with 0.775 accuracy!\n",
            "Fold 2/10 of the cross-validation training has been completed with 0.835 accuracy!\n",
            "Fold 3/10 of the cross-validation training has been completed with 0.805 accuracy!\n",
            "Fold 4/10 of the cross-validation training has been completed with 0.865 accuracy!\n",
            "Fold 5/10 of the cross-validation training has been completed with 0.785 accuracy!\n",
            "Fold 6/10 of the cross-validation training has been completed with 0.845 accuracy!\n",
            "Fold 7/10 of the cross-validation training has been completed with 0.81 accuracy!\n",
            "Fold 8/10 of the cross-validation training has been completed with 0.79 accuracy!\n",
            "Fold 9/10 of the cross-validation training has been completed with 0.83 accuracy!\n",
            "Fold 10/10 of the cross-validation training has been completed with 0.815 accuracy!\n",
            "***Cross-Validation Training has finished!***\n",
            "\n",
            "\u001b[1mResults:\u001b[0m\n",
            "The average accuracy of the stemmed CV training = 0.816\n",
            "The variance of the 10 stemmed CV accuracies    = 0.001\n"
          ]
        }
      ],
      "source": [
        "# Perform the cross validation on the stemmed reviews (run time is about 20 seconds)\n",
        "stemmed_cv_acc, stemmed_cv_var = cross_validation(stemmed_reviews, 10)\n",
        "\n",
        "# Display the results\n",
        "print(\"\")\n",
        "print(\"\\033[1mResults:\\033[0m\")\n",
        "print(\"The average accuracy of the stemmed CV training = %0.3f\" % stemmed_cv_acc)\n",
        "print(\"The variance of the 10 stemmed CV accuracies    = %0.3f\" % stemmed_cv_var)"
      ]
    },
    {
      "cell_type": "markdown",
      "metadata": {
        "id": "JkDHVq_1XUVP"
      },
      "source": [
        "#### (Q2.8) What happens to the number of features (i.e., the size of the vocabulary) when using stemming as opposed to (Q2.4)? (0.5pt)\n",
        "Give actual numbers. You can use the held-out training set to determine these."
      ]
    },
    {
      "cell_type": "code",
      "execution_count": null,
      "metadata": {
        "colab": {
          "background_save": true
        },
        "id": "MA3vee5-rJyy",
        "outputId": "a05ef186-c849-4d8a-dcb8-776d5611f96c"
      },
      "outputs": [
        {
          "name": "stdout",
          "output_type": "stream",
          "text": [
            "The number of features when not using stemming:  45348\n",
            "The number of features when using stemming:  32404\n"
          ]
        }
      ],
      "source": [
        "# Retrieve the held-out training sets of the stemmed and unstemmed reviews\n",
        "\n",
        "# Unstemmed length\n",
        "train_reviews, test_reviews = train_test_split(reviews)\n",
        "len_unstemmed = len(create_vocabulary(train_reviews))\n",
        "\n",
        "# Stemmed length\n",
        "train_reviews_stemmed, test_reviews_stemmed = train_test_split(stemmed_reviews)\n",
        "len_stemmed = len(create_vocabulary(train_reviews_stemmed))\n",
        "\n",
        "# Display the results\n",
        "print(\"The number of features when not using stemming: \", len_unstemmed)\n",
        "print(\"The number of features when using stemming: \", len_stemmed)"
      ]
    },
    {
      "cell_type": "markdown",
      "metadata": {
        "id": "SoazfxbNV5Lq"
      },
      "source": [
        "### N-grams (1.5pts)\n",
        "\n",
        "A simple way of retaining some of the word\n",
        "order information when using bag-of-words representations is to use **n-gram** features. \n",
        "\n",
        "\n",
        "\n",
        "\n"
      ]
    },
    {
      "cell_type": "markdown",
      "metadata": {
        "id": "OHjy3I7-qWiu"
      },
      "source": [
        "#### (Q2.9) Retrain your classifier from (Q2.4) using **unigrams+bigrams** and **unigrams+bigrams+trigrams** as features. (1pt)\n",
        "Report accuracy and compare it with that of the approaches you have previously implemented. You are allowed to use NLTK to build n-grams from sentences."
      ]
    },
    {
      "cell_type": "code",
      "execution_count": null,
      "metadata": {
        "colab": {
          "background_save": true,
          "base_uri": "https://localhost:8080/"
        },
        "id": "8IEq5pC8ciSB",
        "outputId": "0f60e1db-1ee2-4111-842d-03a43614b2c2"
      },
      "outputs": [
        {
          "name": "stdout",
          "output_type": "stream",
          "text": [
            "Starting cross-validation for unigrams + bigrams\n",
            "\n",
            "***Starting Cross-Validation Training***\n",
            "Fold 1/10 of the cross-validation training has been completed with 0.785 accuracy!\n",
            "Fold 2/10 of the cross-validation training has been completed with 0.84 accuracy!\n",
            "Fold 3/10 of the cross-validation training has been completed with 0.84 accuracy!\n",
            "Fold 4/10 of the cross-validation training has been completed with 0.87 accuracy!\n",
            "Fold 5/10 of the cross-validation training has been completed with 0.8 accuracy!\n",
            "Fold 6/10 of the cross-validation training has been completed with 0.865 accuracy!\n",
            "Fold 7/10 of the cross-validation training has been completed with 0.845 accuracy!\n",
            "Fold 8/10 of the cross-validation training has been completed with 0.845 accuracy!\n",
            "Fold 9/10 of the cross-validation training has been completed with 0.845 accuracy!\n",
            "Fold 10/10 of the cross-validation training has been completed with 0.835 accuracy!\n",
            "***Cross-Validation Training has finished!***\n",
            "\n",
            "Starting cross-validation for unigrams + bigrams + trigrams\n",
            "\n",
            "***Starting Cross-Validation Training***\n",
            "Fold 1/10 of the cross-validation training has been completed with 0.805 accuracy!\n",
            "Fold 2/10 of the cross-validation training has been completed with 0.85 accuracy!\n",
            "Fold 3/10 of the cross-validation training has been completed with 0.835 accuracy!\n",
            "Fold 4/10 of the cross-validation training has been completed with 0.865 accuracy!\n",
            "Fold 5/10 of the cross-validation training has been completed with 0.825 accuracy!\n",
            "Fold 6/10 of the cross-validation training has been completed with 0.85 accuracy!\n",
            "Fold 7/10 of the cross-validation training has been completed with 0.86 accuracy!\n",
            "Fold 8/10 of the cross-validation training has been completed with 0.85 accuracy!\n",
            "Fold 9/10 of the cross-validation training has been completed with 0.855 accuracy!\n",
            "Fold 10/10 of the cross-validation training has been completed with 0.805 accuracy!\n",
            "***Cross-Validation Training has finished!***\n",
            "\n",
            "**Done training both!**\n",
            "\n",
            "\u001b[1mResults:\u001b[0m\n",
            "The unigram + bigram accuracy = 0.837 (0.000616 variance)\n",
            "The unig + big + tri accuracy = 0.840 (0.000425 variance)\n"
          ]
        }
      ],
      "source": [
        "# Retrain classifier from 2.4 (using smoothing but no stemming) with unigrams+\n",
        "# bigrams and unigrams+bigrams+trigrams (cell takes about 2 minutes)\n",
        "\n",
        "# In the original function an option had been given to give the gram_order\n",
        "\n",
        "# Unigrams + bigrams\n",
        "print(\"Starting cross-validation for unigrams + bigrams\")\n",
        "print(\"\")\n",
        "uni_bi_acc, uni_bi_var = cross_validation(reviews, 10, k=1, gram_order=2)\n",
        "\n",
        "# Unigrams + bigrams + trigrams\n",
        "print(\"\")\n",
        "print(\"Starting cross-validation for unigrams + bigrams + trigrams\")\n",
        "print(\"\")\n",
        "uni_bi_tri_acc, uni_bi_tri_var = cross_validation(reviews, 10, k=1, gram_order=3)\n",
        "\n",
        "# Printing our results in a somewhat neat way\n",
        "print(\"\")\n",
        "print(\"**Done training both!**\")\n",
        "print(\"\")\n",
        "print(\"\\033[1mResults:\\033[0m\")\n",
        "print(\"The unigram + bigram accuracy = %0.3f\" % uni_bi_acc, \"(%0.6f\" % uni_bi_var, \"variance)\")\n",
        "print(\"The unig + big + tri accuracy = %0.3f\" % uni_bi_tri_acc, \"(%0.6f\" % uni_bi_tri_var, \"variance)\")"
      ]
    },
    {
      "cell_type": "markdown",
      "metadata": {
        "id": "dVrGGArkrWoL"
      },
      "source": [
        "\n",
        "#### Q2.10: How many features does the BoW model have to take into account now? (0.5pt)\n",
        "How would you expect the number of features to increase theoretically (e.g., linear, square, cubed, exponential)? How does this number compare, in practice, to the number of features at (Q2.8)?\n",
        "\n",
        "Use the held-out training set once again for this.\n"
      ]
    },
    {
      "cell_type": "markdown",
      "metadata": {
        "id": "yEGZ9SV8pPaa"
      },
      "source": [
        "**Answer Q2.10**\n",
        "\n",
        "The number of features are 45348 in unigram model (Q2.8), 465262 in unigram+bigram model, 1346107 in unigram+bigram+trigram model.\n",
        "\n",
        "We notice that the number of features increases approximately exponentially with respect to the growth of the dimention of the grams."
      ]
    },
    {
      "cell_type": "code",
      "execution_count": null,
      "metadata": {
        "colab": {
          "background_save": true
        },
        "id": "_z8sAJeUrdtM",
        "outputId": "87802c0b-d1fb-4aa7-9cf4-1ebd6d4d07f7"
      },
      "outputs": [
        {
          "name": "stdout",
          "output_type": "stream",
          "text": [
            "Amount of features in unigram model               :  45348\n",
            "Amount of features in unigram+bigram model        :  465262\n",
            "Amount of features in unigram+bigram+trigram model:  1346107\n"
          ]
        }
      ],
      "source": [
        "# Retrieve the held out training set\n",
        "train_reviews, test_reviews = train_test_split(reviews)\n",
        "\n",
        "# Get the amount of features\n",
        "len_uni_bi = len(create_vocabulary(train_reviews, gram_order=2))\n",
        "len_uni_bi_tri = len(create_vocabulary(train_reviews, gram_order=3))\n",
        "\n",
        "# Print the amount of features\n",
        "print(\"Amount of features in unigram model               : \", len_unstemmed)\n",
        "print(\"Amount of features in unigram+bigram model        : \", len_uni_bi)\n",
        "print(\"Amount of features in unigram+bigram+trigram model: \", len_uni_bi_tri)"
      ]
    },
    {
      "cell_type": "markdown",
      "metadata": {
        "id": "CHWKDL3YV6vh"
      },
      "source": [
        "# (3) Support Vector Machines (4pts)"
      ]
    },
    {
      "cell_type": "markdown",
      "metadata": {
        "id": "hJSYhcVaoJGt"
      },
      "source": [
        "Though simple to understand, implement, and debug, one\n",
        "major problem with the Naive Bayes classifier is that its performance\n",
        "deteriorates (becomes skewed) when it is being used with features which\n",
        "are not independent (i.e., are correlated). Another popular classifier\n",
        "that doesn’t scale as well to big data, and is not as simple to debug as\n",
        "Naive Bayes, but that doesn’t assume feature independence is the Support\n",
        "Vector Machine (SVM) classifier.\n",
        "\n",
        "You can find more details about SVMs in Chapter 7 of Bishop: Pattern Recognition and Machine Learning.\n",
        "Other sources for learning SVM:\n",
        "* http://web.mit.edu/zoya/www/SVM.pdf\n",
        "* http://www.cs.columbia.edu/~kathy/cs4701/documents/jason_svm_tutorial.pdf\n",
        "* https://pythonprogramming.net/support-vector-machine-intro-machine-learning-tutorial/\n",
        "\n",
        "\n",
        "\n",
        "\n",
        "\n",
        "\n",
        "\n",
        "Use the scikit-learn implementation of \n",
        "[SVM](http://scikit-learn.org/stable/modules/svm.html) with the default parameters. (You are not expected to perform any hyperparameter tuning, but feel free to do it if you think it gives you good insights for the discussion in question 5.)\n",
        "\n"
      ]
    },
    {
      "cell_type": "markdown",
      "metadata": {
        "id": "0LnzNtQBV8gr"
      },
      "source": [
        "#### (Q3.1): Train SVM and compare to Naive Bayes (2pts)\n",
        "\n",
        "Train an SVM classifier (sklearn.svm.LinearSVC) using the features collected for Naive Bayes. Compare the\n",
        "classification performance of the SVM classifier to that of the Naive\n",
        "Bayes classifier with smoothing.\n",
        "Use cross-validation to evaluate the performance of the classifiers.\n",
        "\n"
      ]
    },
    {
      "cell_type": "code",
      "execution_count": null,
      "metadata": {
        "colab": {
          "background_save": true
        },
        "id": "H7xQc0c7V0uw"
      },
      "outputs": [],
      "source": [
        "from sklearn.svm import LinearSVC as SVM\n",
        "\n",
        "def create_SVM_vocabulary(reviews, gram_order=1, POS='No'):\n",
        "  '''create an empty vocabulary dict with all grams in the training data as the keys'''\n",
        "  vocabulary = {}\n",
        "  # If the word is not yet in the vocabulary, initialize it\n",
        "  # generate an empty vocabulary with all possible keys\n",
        "  if POS == 'No':\n",
        "    # keys of vocabulary will be each unique word\n",
        "    text =  generate_Ngrams(reviews, gram_order)\n",
        "  elif POS == 'All':\n",
        "    # keys of vocabulary will be [word, POS]\n",
        "    text = [(token[0].lower(), token[1]) for review in reviews for sentence in review['content'] for token in sentence]\n",
        "  elif POS == 'Filter':\n",
        "    keep = ['JJ', 'JJR', 'JJS', 'NN', 'NNS', 'NNP', 'NNPS', 'RB', 'RBR', 'RBS', 'VB', 'VBD', 'VBG', 'VBN', 'VBP', 'VBZ']\n",
        "    text = [(token[0].lower(), token[1]) for review in reviews for sentence in review['content'] for token in sentence if token[1] in keep]\n",
        "  else:\n",
        "    raise TypeError(\"POS type can only be 'No', 'All' or 'Filter'! \")\n",
        "  for item in text:\n",
        "    if item not in vocabulary:\n",
        "      vocabulary[item] = 0\n",
        "  return vocabulary\n",
        "\n",
        "def generate_SVM_data(reviews, vocabulary, gram_order=1, POS='No'):\n",
        "  '''generate training data for SVM classifier'''\n",
        "  # re-save the reviews in new structures for easier computing\n",
        "  if POS == 'No':\n",
        "    # only save the words in all reviews in nested lists\n",
        "    pos_reviews = [generate_Ngrams([review], gram_order) for review in reviews if review['sentiment'] == 'POS']\n",
        "    neg_reviews = [generate_Ngrams([review], gram_order) for review in reviews if review['sentiment'] == 'NEG']\n",
        "  else:\n",
        "    # save the tokens for each review in nested lists (pos and neg)\n",
        "    pos_reviews = []\n",
        "    neg_reviews = []\n",
        "    for review in reviews:\n",
        "      r = []\n",
        "      for sentence in review['content']:\n",
        "        for token in sentence:\n",
        "          r.append((token[0].lower(), token[1]))\n",
        "      if review['sentiment'] == 'POS':\n",
        "        pos_reviews.append(r)\n",
        "      else:\n",
        "        neg_reviews.append(r)\n",
        "\n",
        "  # generate labels\n",
        "  pos_labels = np.ones(len(pos_reviews))\n",
        "  neg_labels = np.zeros(len(neg_reviews))\n",
        "  labels = np.concatenate((pos_labels, neg_labels), axis=None)\n",
        "\n",
        "  # generate features\n",
        "  features = []\n",
        "  for review in pos_reviews + neg_reviews:\n",
        "    # make sure the values in vocabulary dict is always 0 at the beginning\n",
        "    for key in vocabulary:\n",
        "      vocabulary[key] = 0\n",
        "    for item in review:\n",
        "      if item in vocabulary:\n",
        "        vocabulary[item] += 1\n",
        "    features.append(list(vocabulary.values()))\n",
        "  features = np.array(features)\n",
        "  return features, labels \n",
        "\n",
        "def SVM_cross_validation(reviews, nr_folds, gram_order=1, POS='No'):\n",
        "  splits = RR_split(reviews, nr_folds)\n",
        "  accuracies = []\n",
        "  for i in range(nr_folds):\n",
        "    test_fold = splits[i]\n",
        "    train_folds = []\n",
        "    for j in range(nr_folds):\n",
        "      if j != i:\n",
        "        train_folds += splits[j]\n",
        "    \n",
        "    # generate data for SVM model respectively\n",
        "    vocabulary = create_SVM_vocabulary(train_folds, gram_order, POS)\n",
        "    xtrain, ytrain = generate_SVM_data(train_folds, vocabulary, gram_order, POS)\n",
        "    xtest, ytest = generate_SVM_data(test_fold, vocabulary, gram_order, POS)\n",
        "    \n",
        "    # train SVM model and get test accuracy\n",
        "    SVM_model = SVM(verbose=0, dual=False)\n",
        "    SVM_model.fit(xtrain, ytrain)\n",
        "    test_accuracy = SVM_model.score(xtest, ytest)\n",
        "    accuracies.append(test_accuracy)\n",
        "    print(f\"Did {i+1}'th round of CV\")\n",
        "    print(f'test accuracy of current round is {test_accuracy}\\n')\n",
        "  \n",
        "  avg_test_accuracy = sum(accuracies)/nr_folds\n",
        "  var_accuracy = np.var(accuracies)\n",
        "  return avg_test_accuracy, var_accuracy"
      ]
    },
    {
      "cell_type": "code",
      "execution_count": null,
      "metadata": {
        "colab": {
          "background_save": true
        },
        "id": "fdoMQebPD_a8",
        "outputId": "af81f1b8-e94f-4f8c-c4f5-b2e726f815d1"
      },
      "outputs": [
        {
          "name": "stdout",
          "output_type": "stream",
          "text": [
            "Did 1'th round of CV\n",
            "test accuracy of current round is 0.82\n",
            "\n",
            "Did 2'th round of CV\n",
            "test accuracy of current round is 0.825\n",
            "\n",
            "Did 3'th round of CV\n",
            "test accuracy of current round is 0.825\n",
            "\n",
            "Did 4'th round of CV\n",
            "test accuracy of current round is 0.875\n",
            "\n",
            "Did 5'th round of CV\n",
            "test accuracy of current round is 0.86\n",
            "\n",
            "Did 6'th round of CV\n",
            "test accuracy of current round is 0.815\n",
            "\n",
            "Did 7'th round of CV\n",
            "test accuracy of current round is 0.85\n",
            "\n",
            "Did 8'th round of CV\n",
            "test accuracy of current round is 0.85\n",
            "\n",
            "Did 9'th round of CV\n",
            "test accuracy of current round is 0.855\n",
            "\n",
            "Did 10'th round of CV\n",
            "test accuracy of current round is 0.835\n",
            "\n",
            "Using features for NB, SVM average accuracy with 10-fold CV is 0.841, variance of the accracy is 0.0003540000000000007\n",
            "The accuracy of the Laplace smoothing as found in question 2.4 = 0.825\n"
          ]
        }
      ],
      "source": [
        "# takes 3 minutes to finish\n",
        "acc0, var0 = SVM_cross_validation(reviews, nr_folds=10, gram_order=1)\n",
        "print(f'Using features for NB, SVM average accuracy with 10-fold CV is {acc0}, variance of the accracy is {var0}')\n",
        "print(f'The accuracy of the Laplace smoothing as found in question 2.4 = {NB_unigram_smoothing_acc}')"
      ]
    },
    {
      "cell_type": "markdown",
      "metadata": {
        "id": "ifXVWcK0V9qY"
      },
      "source": [
        "### POS disambiguation (2pts)\n",
        "\n",
        "Now add in part-of-speech features. You will find the\n",
        "movie review dataset has already been POS-tagged for you ([here](https://catalog.ldc.upenn.edu/docs/LDC99T42/tagguid1.pdf) you find the tagset). Try to\n",
        "replicate the results obtained by Pang et al. (2002).\n",
        "\n"
      ]
    },
    {
      "cell_type": "markdown",
      "metadata": {
        "id": "xA3I82o4oWGu"
      },
      "source": [
        "####(Q3.2) Replace your features with word+POS features, and report performance with the SVM. Use cross-validation to evaluate the classifier and compare the results with (Q3.1). Does part-of-speech information help? Explain why this may be the case. (1pt)\n"
      ]
    },
    {
      "cell_type": "code",
      "execution_count": null,
      "metadata": {
        "colab": {
          "background_save": true
        },
        "id": "NOvjYe-t2Br6",
        "outputId": "915b9598-3eee-4530-fc8e-dd462906925f"
      },
      "outputs": [
        {
          "name": "stdout",
          "output_type": "stream",
          "text": [
            "Did 1'th round of CV\n",
            "test accuracy of current round is 0.82\n",
            "\n",
            "Did 2'th round of CV\n",
            "test accuracy of current round is 0.8\n",
            "\n",
            "Did 3'th round of CV\n",
            "test accuracy of current round is 0.82\n",
            "\n",
            "Did 4'th round of CV\n",
            "test accuracy of current round is 0.845\n",
            "\n",
            "Did 5'th round of CV\n",
            "test accuracy of current round is 0.855\n",
            "\n",
            "Did 6'th round of CV\n",
            "test accuracy of current round is 0.85\n",
            "\n",
            "Did 7'th round of CV\n",
            "test accuracy of current round is 0.875\n",
            "\n",
            "Did 8'th round of CV\n",
            "test accuracy of current round is 0.87\n",
            "\n",
            "Did 9'th round of CV\n",
            "test accuracy of current round is 0.875\n",
            "\n",
            "Did 10'th round of CV\n",
            "test accuracy of current round is 0.84\n",
            "\n",
            "Using words + POS, SVM average accuracy with 10-fold CV is 0.8450000000000001, variance of the accracy is 0.000585\n"
          ]
        }
      ],
      "source": [
        "# takes about 5 minutes to finish\n",
        "acc1, var1 = SVM_cross_validation(reviews, nr_folds=10, gram_order=1, POS='All')\n",
        "print(f'Using words + POS, SVM average accuracy with 10-fold CV is {acc1}, variance of the accracy is {var1}')"
      ]
    },
    {
      "cell_type": "markdown",
      "metadata": {
        "id": "L0dt_oQupUNe"
      },
      "source": [
        "**Answer Q3.2**\n",
        "\n",
        "The test accuracy is only increased by less than 1\\%, which is not a significant change. This means the POS information does not help much. One potential reason for this is that most of the words have related/similar meanings and therefore similar sentiment even when used as different POS types. Adding the POS tags to the features will not drastically change the feature space and decision boundary of the SVM."
      ]
    },
    {
      "cell_type": "markdown",
      "metadata": {
        "id": "Su-3w87eMW0w"
      },
      "source": [
        "#### (Q3.3) Discard all closed-class words from your data (keep only nouns, verbs, adjectives, and adverbs), and report performance. Does this help? Use cross-validation to evaluate the classifier and compare the results with (Q3.2). Are closed-class words detrimental to the classifier? Explain why this may be the case. (1pt)"
      ]
    },
    {
      "cell_type": "code",
      "execution_count": null,
      "metadata": {
        "colab": {
          "background_save": true
        },
        "id": "CCUPlPozCYUX",
        "outputId": "ee7eceda-9f07-484f-c79f-8e3f5eb2abb9"
      },
      "outputs": [
        {
          "name": "stderr",
          "output_type": "stream",
          "text": [
            "/usr/local/lib/python3.7/dist-packages/sklearn/svm/_base.py:1208: ConvergenceWarning: Liblinear failed to converge, increase the number of iterations.\n",
            "  ConvergenceWarning,\n"
          ]
        },
        {
          "name": "stdout",
          "output_type": "stream",
          "text": [
            "Did 1'th round of CV\n",
            "test accuracy of current round is 0.83\n",
            "\n"
          ]
        },
        {
          "name": "stderr",
          "output_type": "stream",
          "text": [
            "/usr/local/lib/python3.7/dist-packages/sklearn/svm/_base.py:1208: ConvergenceWarning: Liblinear failed to converge, increase the number of iterations.\n",
            "  ConvergenceWarning,\n"
          ]
        },
        {
          "name": "stdout",
          "output_type": "stream",
          "text": [
            "Did 2'th round of CV\n",
            "test accuracy of current round is 0.82\n",
            "\n"
          ]
        },
        {
          "name": "stderr",
          "output_type": "stream",
          "text": [
            "/usr/local/lib/python3.7/dist-packages/sklearn/svm/_base.py:1208: ConvergenceWarning: Liblinear failed to converge, increase the number of iterations.\n",
            "  ConvergenceWarning,\n"
          ]
        },
        {
          "name": "stdout",
          "output_type": "stream",
          "text": [
            "Did 3'th round of CV\n",
            "test accuracy of current round is 0.825\n",
            "\n",
            "Did 4'th round of CV\n",
            "test accuracy of current round is 0.85\n",
            "\n"
          ]
        },
        {
          "name": "stderr",
          "output_type": "stream",
          "text": [
            "/usr/local/lib/python3.7/dist-packages/sklearn/svm/_base.py:1208: ConvergenceWarning: Liblinear failed to converge, increase the number of iterations.\n",
            "  ConvergenceWarning,\n"
          ]
        },
        {
          "name": "stdout",
          "output_type": "stream",
          "text": [
            "Did 5'th round of CV\n",
            "test accuracy of current round is 0.845\n",
            "\n",
            "Did 6'th round of CV\n",
            "test accuracy of current round is 0.845\n",
            "\n"
          ]
        },
        {
          "name": "stderr",
          "output_type": "stream",
          "text": [
            "/usr/local/lib/python3.7/dist-packages/sklearn/svm/_base.py:1208: ConvergenceWarning: Liblinear failed to converge, increase the number of iterations.\n",
            "  ConvergenceWarning,\n"
          ]
        },
        {
          "name": "stdout",
          "output_type": "stream",
          "text": [
            "Did 7'th round of CV\n",
            "test accuracy of current round is 0.88\n",
            "\n"
          ]
        },
        {
          "name": "stderr",
          "output_type": "stream",
          "text": [
            "/usr/local/lib/python3.7/dist-packages/sklearn/svm/_base.py:1208: ConvergenceWarning: Liblinear failed to converge, increase the number of iterations.\n",
            "  ConvergenceWarning,\n"
          ]
        },
        {
          "name": "stdout",
          "output_type": "stream",
          "text": [
            "Did 8'th round of CV\n",
            "test accuracy of current round is 0.84\n",
            "\n"
          ]
        },
        {
          "name": "stderr",
          "output_type": "stream",
          "text": [
            "/usr/local/lib/python3.7/dist-packages/sklearn/svm/_base.py:1208: ConvergenceWarning: Liblinear failed to converge, increase the number of iterations.\n",
            "  ConvergenceWarning,\n"
          ]
        },
        {
          "name": "stdout",
          "output_type": "stream",
          "text": [
            "Did 9'th round of CV\n",
            "test accuracy of current round is 0.865\n",
            "\n",
            "Did 10'th round of CV\n",
            "test accuracy of current round is 0.82\n",
            "\n",
            "when only keep all closed-class words, SVM average accuracy with 10-fold CV is 0.842, variance of the accracy is 0.00034600000000000066\n"
          ]
        }
      ],
      "source": [
        "# takes about 5 minutes to finish\n",
        "acc2, var2 = SVM_cross_validation(reviews, nr_folds=10, gram_order=1, POS='Filter')\n",
        "print(f'when only keep all closed-class words, SVM average accuracy with 10-fold CV is {acc2}, variance of the accracy is {var2}')"
      ]
    },
    {
      "cell_type": "markdown",
      "metadata": {
        "id": "YaxCVrs8pWSp"
      },
      "source": [
        "**Answer Q3.3**\n",
        "\n",
        "The test accuracy is almost remained unchanged (increased by less than 1\\%) compared to Q3.2. This is not a significant change. One potential reason is that the removed words do not contribute much to the prediction, so including them or excluding them won't make significant change to the training and therefore test accuracy. This is because of the fact that they are not the most meaningful and sensible words in terms of the sentiment in natural languagues, but just to complete the phrasing. "
      ]
    },
    {
      "cell_type": "markdown",
      "metadata": {
        "id": "nfwqOciAl2No"
      },
      "source": [
        "# (Q4) Discussion (max. 500 words). (5pts)\n",
        "\n",
        "> Based on your experiments, what are the effective features and techniques in sentiment analysis? What information do different features encode?\n",
        "Why is this important? What are the limitations of these features and techniques?\n",
        " \n"
      ]
    },
    {
      "cell_type": "markdown",
      "metadata": {
        "id": "ZYuse5WLmekZ"
      },
      "source": [
        "# **Discussion**\n",
        "\n",
        "In this practical we have executed a classic NLP classification task, namely sentiment analysis. We have attempted to detect the sentiment of movie reviews and classify them as either positive or negative as accurate as possible. This was done using three different machine learning approaches: Lexicon-based, Naive Bayes and Support Vector Machines. \n",
        "\n",
        "**1. Lexicon-based**\n",
        "\n",
        "The lexicon-based approach turned out to have the lowest accuracy of all the three implemented approaches, with a maximum accuracy of 69.7%. In this approach reviews were classified by looking at each specific word in a review and checking whether that word was positive or negative according to a given sentiment lexicon. \n",
        "\n",
        "In this approach we only look at a single word's sentiment information; word order and sentence structure are not considered, which, looking at the relatively low accuracy might be an explanation for why the algorithm performs suboptimal. Even when adding the computationally more expensive document specific treshold and magnitude information the accuracy did not improve significantly. Another negative aspect of this approach is the requirement of an external sentiment lexicon.\n",
        "\n",
        "\n",
        "**2. Naive-Bayes**\n",
        "\n",
        "The Naive Bayes approach was a lot more succesful, with a maximum accuracy of 84%! In this approach the only features considered where the words in the reviews themselves represented as a Bag-of-Words. A positive aspect of this is that no external sources or informations are needed, but a negative aspect is that in this vector-representation of the text all information such as word order and structure of the original text is discarded. In addition, it assumes an independence between features, which in reality is ofcourse not actually the case. \n",
        "\n",
        "Using a vocabulary made of unigrams the accuracy got to 82.5%, which remained the same after applying the so-called Laplace smoothing. However, in this method we were in danger of developing a classifier that overfits. To guard against these Type III errors cross_validation was implemented and the accuracy went down to 81.4%.\n",
        "\n",
        "It was also important to think about what counts as a specific feature; is 'dog' the same as 'DOG' or 'cat' the same as 'cats'. To confront this feature sparsity and overfitting problems stemming was introduced and the accuracy increased to 81.6%.\n",
        "\n",
        "Finally to retain some of the word order information that is lost in this Bag-of-Words representation, unigram, bigram and trigram models were introduced, with the accuracy going up to 84% for the trigram model, implying that the earlier mentioned loss of word order and sentence structure can be significantly limitating.\n",
        "\n",
        "**3. SVM**\n",
        "\n",
        "The SVM approach does not scale as well to big data as the Naive Bayes, but does end up having the highest accuracy of 84.5%. This method uses the features collected for the Naive Bayes method, but does **not** assume independence between features, which is a possible explanation for its significantly higher accuracy compared to the Naive Bayes classifier.\n",
        "\n",
        "In an effort to improve accuracy further, POS-tags were added to the features for the SVM, which increased the accuracy to the previously mentioned 84.5%! Discarding the closed-class words however did not increase the accuracy of our performance.\n",
        "\n",
        "In conclusion, the SVM approach had the highest accuracy. Word order and sentence structure can be important for sentiment analysis. An independence assumption is not beneficial for our models, however POS-tags can help increase our accuracy.\n",
        "\n",
        " \n",
        "\n",
        "\n"
      ]
    },
    {
      "cell_type": "markdown",
      "metadata": {
        "id": "iwaKwfWQhRk_"
      },
      "source": [
        "# Submission \n"
      ]
    },
    {
      "cell_type": "code",
      "execution_count": null,
      "metadata": {
        "colab": {
          "background_save": true
        },
        "id": "aOUeaET5ijk-"
      },
      "outputs": [],
      "source": [
        "# Write your names and student numbers here:\n",
        "# Tsatsral Mendsuren #14530775\n",
        "# Didier Merk #11037172"
      ]
    },
    {
      "cell_type": "markdown",
      "metadata": {
        "id": "3A9K-H6Tii3X"
      },
      "source": [
        "**That's it!**\n",
        "\n",
        "- Check if you answered all questions fully and correctly. \n",
        "- Download your completed notebook using `File -> Download .ipynb` \n",
        "- Check if your answers are all included in the file you submit.\n",
        "- Submit your .ipynb file via *Canvas*. One submission per group. "
      ]
    },
    {
      "cell_type": "code",
      "execution_count": null,
      "metadata": {
        "id": "YHslatYAKBrF"
      },
      "outputs": [],
      "source": []
    }
  ],
  "metadata": {
    "accelerator": "GPU",
    "colab": {
      "provenance": []
    },
    "gpuClass": "standard",
    "kernelspec": {
      "display_name": "Python 3",
      "name": "python3"
    }
  },
  "nbformat": 4,
  "nbformat_minor": 0
}
